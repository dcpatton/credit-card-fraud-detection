{
  "nbformat": 4,
  "nbformat_minor": 0,
  "metadata": {
    "colab": {
      "name": "credit_card_fraud.ipynb",
      "provenance": [],
      "authorship_tag": "ABX9TyM+0HPqtsiKP21aA35Zabdv",
      "include_colab_link": true
    },
    "kernelspec": {
      "name": "python3",
      "display_name": "Python 3"
    },
    "accelerator": "GPU"
  },
  "cells": [
    {
      "cell_type": "markdown",
      "metadata": {
        "id": "view-in-github",
        "colab_type": "text"
      },
      "source": [
        "<a href=\"https://colab.research.google.com/github/dcpatton/credit-card-fraud-detection/blob/master/credit_card_fraud.ipynb\" target=\"_parent\"><img src=\"https://colab.research.google.com/assets/colab-badge.svg\" alt=\"Open In Colab\"/></a>"
      ]
    },
    {
      "cell_type": "code",
      "metadata": {
        "id": "pSA8QWAabVoB",
        "colab": {
          "base_uri": "https://localhost:8080/"
        },
        "outputId": "a8f7c1d9-0976-40d4-c8dc-258b623f53cc"
      },
      "source": [
        "import tensorflow as tf\n",
        "import pandas as pd\n",
        "import random\n",
        "import warnings\n",
        "warnings.filterwarnings(\"ignore\")\n",
        "\n",
        "print(tf.__version__)\n",
        "\n",
        "seed = 53\n",
        "tf.random.set_seed(seed)\n",
        "random.seed(seed)"
      ],
      "execution_count": null,
      "outputs": [
        {
          "output_type": "stream",
          "name": "stdout",
          "text": [
            "2.8.2\n"
          ]
        }
      ]
    },
    {
      "cell_type": "markdown",
      "metadata": {
        "id": "tcCHaVUX3BIN"
      },
      "source": [
        "# Prep Data"
      ]
    },
    {
      "cell_type": "code",
      "metadata": {
        "id": "q-M09z2wcHKQ",
        "colab": {
          "resources": {
            "http://localhost:8080/nbextensions/google.colab/files.js": {
              "data": "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",
              "ok": true,
              "headers": [
                [
                  "content-type",
                  "application/javascript"
                ]
              ],
              "status": 200,
              "status_text": ""
            }
          },
          "base_uri": "https://localhost:8080/",
          "height": 73
        },
        "outputId": "83742055-2a9b-49ec-d258-62cfbdb7e7bf"
      },
      "source": [
        "from google.colab import files\n",
        "uploaded = files.upload()"
      ],
      "execution_count": null,
      "outputs": [
        {
          "output_type": "display_data",
          "data": {
            "text/plain": [
              "<IPython.core.display.HTML object>"
            ],
            "text/html": [
              "\n",
              "     <input type=\"file\" id=\"files-cf9ee89e-d792-45db-a5b0-e62860e6540f\" name=\"files[]\" multiple disabled\n",
              "        style=\"border:none\" />\n",
              "     <output id=\"result-cf9ee89e-d792-45db-a5b0-e62860e6540f\">\n",
              "      Upload widget is only available when the cell has been executed in the\n",
              "      current browser session. Please rerun this cell to enable.\n",
              "      </output>\n",
              "      <script src=\"/nbextensions/google.colab/files.js\"></script> "
            ]
          },
          "metadata": {}
        },
        {
          "output_type": "stream",
          "name": "stdout",
          "text": [
            "Saving kaggle.json to kaggle (1).json\n"
          ]
        }
      ]
    },
    {
      "cell_type": "code",
      "metadata": {
        "id": "gP2XvPXCcjZ7",
        "colab": {
          "base_uri": "https://localhost:8080/"
        },
        "outputId": "810319dd-04cd-4e8a-f558-9e3c252e4b79"
      },
      "source": [
        "!mkdir -p ~/.kaggle\n",
        "!cp kaggle.json ~/.kaggle/\n",
        "!pip install kaggle --upgrade -q\n",
        "!ls -l /root/.kaggle/kaggle.json\n",
        "!chmod 600 /root/.kaggle/kaggle.json"
      ],
      "execution_count": null,
      "outputs": [
        {
          "output_type": "stream",
          "name": "stdout",
          "text": [
            "-rw------- 1 root root 64 Jul 20 18:57 /root/.kaggle/kaggle.json\n"
          ]
        }
      ]
    },
    {
      "cell_type": "code",
      "metadata": {
        "id": "Q22giaVlcsiX",
        "colab": {
          "base_uri": "https://localhost:8080/"
        },
        "outputId": "44bcf033-1e13-4aaf-902b-79b40ebb4a6f"
      },
      "source": [
        "!kaggle datasets download mlg-ulb/creditcardfraud --unzip"
      ],
      "execution_count": null,
      "outputs": [
        {
          "output_type": "stream",
          "name": "stdout",
          "text": [
            "Downloading creditcardfraud.zip to /content\n",
            " 99% 65.0M/66.0M [00:00<00:00, 102MB/s] \n",
            "100% 66.0M/66.0M [00:00<00:00, 82.4MB/s]\n"
          ]
        }
      ]
    },
    {
      "cell_type": "code",
      "metadata": {
        "id": "-gTSjMaqeZmj",
        "colab": {
          "base_uri": "https://localhost:8080/",
          "height": 236
        },
        "outputId": "d0a880cd-79ca-4120-f0d1-d1ed8a7c6c2a"
      },
      "source": [
        "df = pd.read_csv('creditcard.csv')\n",
        "df.head()"
      ],
      "execution_count": null,
      "outputs": [
        {
          "output_type": "execute_result",
          "data": {
            "text/plain": [
              "   Time        V1        V2        V3        V4        V5        V6        V7  \\\n",
              "0   0.0 -1.359807 -0.072781  2.536347  1.378155 -0.338321  0.462388  0.239599   \n",
              "1   0.0  1.191857  0.266151  0.166480  0.448154  0.060018 -0.082361 -0.078803   \n",
              "2   1.0 -1.358354 -1.340163  1.773209  0.379780 -0.503198  1.800499  0.791461   \n",
              "3   1.0 -0.966272 -0.185226  1.792993 -0.863291 -0.010309  1.247203  0.237609   \n",
              "4   2.0 -1.158233  0.877737  1.548718  0.403034 -0.407193  0.095921  0.592941   \n",
              "\n",
              "         V8        V9  ...       V21       V22       V23       V24       V25  \\\n",
              "0  0.098698  0.363787  ... -0.018307  0.277838 -0.110474  0.066928  0.128539   \n",
              "1  0.085102 -0.255425  ... -0.225775 -0.638672  0.101288 -0.339846  0.167170   \n",
              "2  0.247676 -1.514654  ...  0.247998  0.771679  0.909412 -0.689281 -0.327642   \n",
              "3  0.377436 -1.387024  ... -0.108300  0.005274 -0.190321 -1.175575  0.647376   \n",
              "4 -0.270533  0.817739  ... -0.009431  0.798278 -0.137458  0.141267 -0.206010   \n",
              "\n",
              "        V26       V27       V28  Amount  Class  \n",
              "0 -0.189115  0.133558 -0.021053  149.62      0  \n",
              "1  0.125895 -0.008983  0.014724    2.69      0  \n",
              "2 -0.139097 -0.055353 -0.059752  378.66      0  \n",
              "3 -0.221929  0.062723  0.061458  123.50      0  \n",
              "4  0.502292  0.219422  0.215153   69.99      0  \n",
              "\n",
              "[5 rows x 31 columns]"
            ],
            "text/html": [
              "\n",
              "  <div id=\"df-02724e92-c458-4067-9f84-18f9b9215285\">\n",
              "    <div class=\"colab-df-container\">\n",
              "      <div>\n",
              "<style scoped>\n",
              "    .dataframe tbody tr th:only-of-type {\n",
              "        vertical-align: middle;\n",
              "    }\n",
              "\n",
              "    .dataframe tbody tr th {\n",
              "        vertical-align: top;\n",
              "    }\n",
              "\n",
              "    .dataframe thead th {\n",
              "        text-align: right;\n",
              "    }\n",
              "</style>\n",
              "<table border=\"1\" class=\"dataframe\">\n",
              "  <thead>\n",
              "    <tr style=\"text-align: right;\">\n",
              "      <th></th>\n",
              "      <th>Time</th>\n",
              "      <th>V1</th>\n",
              "      <th>V2</th>\n",
              "      <th>V3</th>\n",
              "      <th>V4</th>\n",
              "      <th>V5</th>\n",
              "      <th>V6</th>\n",
              "      <th>V7</th>\n",
              "      <th>V8</th>\n",
              "      <th>V9</th>\n",
              "      <th>...</th>\n",
              "      <th>V21</th>\n",
              "      <th>V22</th>\n",
              "      <th>V23</th>\n",
              "      <th>V24</th>\n",
              "      <th>V25</th>\n",
              "      <th>V26</th>\n",
              "      <th>V27</th>\n",
              "      <th>V28</th>\n",
              "      <th>Amount</th>\n",
              "      <th>Class</th>\n",
              "    </tr>\n",
              "  </thead>\n",
              "  <tbody>\n",
              "    <tr>\n",
              "      <th>0</th>\n",
              "      <td>0.0</td>\n",
              "      <td>-1.359807</td>\n",
              "      <td>-0.072781</td>\n",
              "      <td>2.536347</td>\n",
              "      <td>1.378155</td>\n",
              "      <td>-0.338321</td>\n",
              "      <td>0.462388</td>\n",
              "      <td>0.239599</td>\n",
              "      <td>0.098698</td>\n",
              "      <td>0.363787</td>\n",
              "      <td>...</td>\n",
              "      <td>-0.018307</td>\n",
              "      <td>0.277838</td>\n",
              "      <td>-0.110474</td>\n",
              "      <td>0.066928</td>\n",
              "      <td>0.128539</td>\n",
              "      <td>-0.189115</td>\n",
              "      <td>0.133558</td>\n",
              "      <td>-0.021053</td>\n",
              "      <td>149.62</td>\n",
              "      <td>0</td>\n",
              "    </tr>\n",
              "    <tr>\n",
              "      <th>1</th>\n",
              "      <td>0.0</td>\n",
              "      <td>1.191857</td>\n",
              "      <td>0.266151</td>\n",
              "      <td>0.166480</td>\n",
              "      <td>0.448154</td>\n",
              "      <td>0.060018</td>\n",
              "      <td>-0.082361</td>\n",
              "      <td>-0.078803</td>\n",
              "      <td>0.085102</td>\n",
              "      <td>-0.255425</td>\n",
              "      <td>...</td>\n",
              "      <td>-0.225775</td>\n",
              "      <td>-0.638672</td>\n",
              "      <td>0.101288</td>\n",
              "      <td>-0.339846</td>\n",
              "      <td>0.167170</td>\n",
              "      <td>0.125895</td>\n",
              "      <td>-0.008983</td>\n",
              "      <td>0.014724</td>\n",
              "      <td>2.69</td>\n",
              "      <td>0</td>\n",
              "    </tr>\n",
              "    <tr>\n",
              "      <th>2</th>\n",
              "      <td>1.0</td>\n",
              "      <td>-1.358354</td>\n",
              "      <td>-1.340163</td>\n",
              "      <td>1.773209</td>\n",
              "      <td>0.379780</td>\n",
              "      <td>-0.503198</td>\n",
              "      <td>1.800499</td>\n",
              "      <td>0.791461</td>\n",
              "      <td>0.247676</td>\n",
              "      <td>-1.514654</td>\n",
              "      <td>...</td>\n",
              "      <td>0.247998</td>\n",
              "      <td>0.771679</td>\n",
              "      <td>0.909412</td>\n",
              "      <td>-0.689281</td>\n",
              "      <td>-0.327642</td>\n",
              "      <td>-0.139097</td>\n",
              "      <td>-0.055353</td>\n",
              "      <td>-0.059752</td>\n",
              "      <td>378.66</td>\n",
              "      <td>0</td>\n",
              "    </tr>\n",
              "    <tr>\n",
              "      <th>3</th>\n",
              "      <td>1.0</td>\n",
              "      <td>-0.966272</td>\n",
              "      <td>-0.185226</td>\n",
              "      <td>1.792993</td>\n",
              "      <td>-0.863291</td>\n",
              "      <td>-0.010309</td>\n",
              "      <td>1.247203</td>\n",
              "      <td>0.237609</td>\n",
              "      <td>0.377436</td>\n",
              "      <td>-1.387024</td>\n",
              "      <td>...</td>\n",
              "      <td>-0.108300</td>\n",
              "      <td>0.005274</td>\n",
              "      <td>-0.190321</td>\n",
              "      <td>-1.175575</td>\n",
              "      <td>0.647376</td>\n",
              "      <td>-0.221929</td>\n",
              "      <td>0.062723</td>\n",
              "      <td>0.061458</td>\n",
              "      <td>123.50</td>\n",
              "      <td>0</td>\n",
              "    </tr>\n",
              "    <tr>\n",
              "      <th>4</th>\n",
              "      <td>2.0</td>\n",
              "      <td>-1.158233</td>\n",
              "      <td>0.877737</td>\n",
              "      <td>1.548718</td>\n",
              "      <td>0.403034</td>\n",
              "      <td>-0.407193</td>\n",
              "      <td>0.095921</td>\n",
              "      <td>0.592941</td>\n",
              "      <td>-0.270533</td>\n",
              "      <td>0.817739</td>\n",
              "      <td>...</td>\n",
              "      <td>-0.009431</td>\n",
              "      <td>0.798278</td>\n",
              "      <td>-0.137458</td>\n",
              "      <td>0.141267</td>\n",
              "      <td>-0.206010</td>\n",
              "      <td>0.502292</td>\n",
              "      <td>0.219422</td>\n",
              "      <td>0.215153</td>\n",
              "      <td>69.99</td>\n",
              "      <td>0</td>\n",
              "    </tr>\n",
              "  </tbody>\n",
              "</table>\n",
              "<p>5 rows × 31 columns</p>\n",
              "</div>\n",
              "      <button class=\"colab-df-convert\" onclick=\"convertToInteractive('df-02724e92-c458-4067-9f84-18f9b9215285')\"\n",
              "              title=\"Convert this dataframe to an interactive table.\"\n",
              "              style=\"display:none;\">\n",
              "        \n",
              "  <svg xmlns=\"http://www.w3.org/2000/svg\" height=\"24px\"viewBox=\"0 0 24 24\"\n",
              "       width=\"24px\">\n",
              "    <path d=\"M0 0h24v24H0V0z\" fill=\"none\"/>\n",
              "    <path d=\"M18.56 5.44l.94 2.06.94-2.06 2.06-.94-2.06-.94-.94-2.06-.94 2.06-2.06.94zm-11 1L8.5 8.5l.94-2.06 2.06-.94-2.06-.94L8.5 2.5l-.94 2.06-2.06.94zm10 10l.94 2.06.94-2.06 2.06-.94-2.06-.94-.94-2.06-.94 2.06-2.06.94z\"/><path d=\"M17.41 7.96l-1.37-1.37c-.4-.4-.92-.59-1.43-.59-.52 0-1.04.2-1.43.59L10.3 9.45l-7.72 7.72c-.78.78-.78 2.05 0 2.83L4 21.41c.39.39.9.59 1.41.59.51 0 1.02-.2 1.41-.59l7.78-7.78 2.81-2.81c.8-.78.8-2.07 0-2.86zM5.41 20L4 18.59l7.72-7.72 1.47 1.35L5.41 20z\"/>\n",
              "  </svg>\n",
              "      </button>\n",
              "      \n",
              "  <style>\n",
              "    .colab-df-container {\n",
              "      display:flex;\n",
              "      flex-wrap:wrap;\n",
              "      gap: 12px;\n",
              "    }\n",
              "\n",
              "    .colab-df-convert {\n",
              "      background-color: #E8F0FE;\n",
              "      border: none;\n",
              "      border-radius: 50%;\n",
              "      cursor: pointer;\n",
              "      display: none;\n",
              "      fill: #1967D2;\n",
              "      height: 32px;\n",
              "      padding: 0 0 0 0;\n",
              "      width: 32px;\n",
              "    }\n",
              "\n",
              "    .colab-df-convert:hover {\n",
              "      background-color: #E2EBFA;\n",
              "      box-shadow: 0px 1px 2px rgba(60, 64, 67, 0.3), 0px 1px 3px 1px rgba(60, 64, 67, 0.15);\n",
              "      fill: #174EA6;\n",
              "    }\n",
              "\n",
              "    [theme=dark] .colab-df-convert {\n",
              "      background-color: #3B4455;\n",
              "      fill: #D2E3FC;\n",
              "    }\n",
              "\n",
              "    [theme=dark] .colab-df-convert:hover {\n",
              "      background-color: #434B5C;\n",
              "      box-shadow: 0px 1px 3px 1px rgba(0, 0, 0, 0.15);\n",
              "      filter: drop-shadow(0px 1px 2px rgba(0, 0, 0, 0.3));\n",
              "      fill: #FFFFFF;\n",
              "    }\n",
              "  </style>\n",
              "\n",
              "      <script>\n",
              "        const buttonEl =\n",
              "          document.querySelector('#df-02724e92-c458-4067-9f84-18f9b9215285 button.colab-df-convert');\n",
              "        buttonEl.style.display =\n",
              "          google.colab.kernel.accessAllowed ? 'block' : 'none';\n",
              "\n",
              "        async function convertToInteractive(key) {\n",
              "          const element = document.querySelector('#df-02724e92-c458-4067-9f84-18f9b9215285');\n",
              "          const dataTable =\n",
              "            await google.colab.kernel.invokeFunction('convertToInteractive',\n",
              "                                                     [key], {});\n",
              "          if (!dataTable) return;\n",
              "\n",
              "          const docLinkHtml = 'Like what you see? Visit the ' +\n",
              "            '<a target=\"_blank\" href=https://colab.research.google.com/notebooks/data_table.ipynb>data table notebook</a>'\n",
              "            + ' to learn more about interactive tables.';\n",
              "          element.innerHTML = '';\n",
              "          dataTable['output_type'] = 'display_data';\n",
              "          await google.colab.output.renderOutput(dataTable, element);\n",
              "          const docLink = document.createElement('div');\n",
              "          docLink.innerHTML = docLinkHtml;\n",
              "          element.appendChild(docLink);\n",
              "        }\n",
              "      </script>\n",
              "    </div>\n",
              "  </div>\n",
              "  "
            ]
          },
          "metadata": {},
          "execution_count": 5
        }
      ]
    },
    {
      "cell_type": "code",
      "source": [
        "df.info()"
      ],
      "metadata": {
        "colab": {
          "base_uri": "https://localhost:8080/"
        },
        "id": "zNaf6CWTncY_",
        "outputId": "c723b828-6638-412b-cceb-70f12bed065f"
      },
      "execution_count": null,
      "outputs": [
        {
          "output_type": "stream",
          "name": "stdout",
          "text": [
            "<class 'pandas.core.frame.DataFrame'>\n",
            "RangeIndex: 284807 entries, 0 to 284806\n",
            "Data columns (total 31 columns):\n",
            " #   Column  Non-Null Count   Dtype  \n",
            "---  ------  --------------   -----  \n",
            " 0   Time    284807 non-null  float64\n",
            " 1   V1      284807 non-null  float64\n",
            " 2   V2      284807 non-null  float64\n",
            " 3   V3      284807 non-null  float64\n",
            " 4   V4      284807 non-null  float64\n",
            " 5   V5      284807 non-null  float64\n",
            " 6   V6      284807 non-null  float64\n",
            " 7   V7      284807 non-null  float64\n",
            " 8   V8      284807 non-null  float64\n",
            " 9   V9      284807 non-null  float64\n",
            " 10  V10     284807 non-null  float64\n",
            " 11  V11     284807 non-null  float64\n",
            " 12  V12     284807 non-null  float64\n",
            " 13  V13     284807 non-null  float64\n",
            " 14  V14     284807 non-null  float64\n",
            " 15  V15     284807 non-null  float64\n",
            " 16  V16     284807 non-null  float64\n",
            " 17  V17     284807 non-null  float64\n",
            " 18  V18     284807 non-null  float64\n",
            " 19  V19     284807 non-null  float64\n",
            " 20  V20     284807 non-null  float64\n",
            " 21  V21     284807 non-null  float64\n",
            " 22  V22     284807 non-null  float64\n",
            " 23  V23     284807 non-null  float64\n",
            " 24  V24     284807 non-null  float64\n",
            " 25  V25     284807 non-null  float64\n",
            " 26  V26     284807 non-null  float64\n",
            " 27  V27     284807 non-null  float64\n",
            " 28  V28     284807 non-null  float64\n",
            " 29  Amount  284807 non-null  float64\n",
            " 30  Class   284807 non-null  int64  \n",
            "dtypes: float64(30), int64(1)\n",
            "memory usage: 67.4 MB\n"
          ]
        }
      ]
    },
    {
      "cell_type": "code",
      "source": [
        "df.Class.value_counts()"
      ],
      "metadata": {
        "colab": {
          "base_uri": "https://localhost:8080/"
        },
        "id": "iDDFtdmynqw0",
        "outputId": "9c544d73-9e0c-46cf-eeff-1b1b61b8e44c"
      },
      "execution_count": null,
      "outputs": [
        {
          "output_type": "execute_result",
          "data": {
            "text/plain": [
              "0    284315\n",
              "1       492\n",
              "Name: Class, dtype: int64"
            ]
          },
          "metadata": {},
          "execution_count": 7
        }
      ]
    },
    {
      "cell_type": "code",
      "source": [
        "# 0.17 % are fraudulent transactions\n",
        "(492/(492+284315)) * 100"
      ],
      "metadata": {
        "colab": {
          "base_uri": "https://localhost:8080/"
        },
        "id": "URtaiurfnwZf",
        "outputId": "eb002bfa-aa9e-43c3-b4e8-4749d89e653f"
      },
      "execution_count": null,
      "outputs": [
        {
          "output_type": "execute_result",
          "data": {
            "text/plain": [
              "0.1727485630620034"
            ]
          },
          "metadata": {},
          "execution_count": 8
        }
      ]
    },
    {
      "cell_type": "markdown",
      "metadata": {
        "id": "WvVyuY2l6lB1"
      },
      "source": [
        "Assuming the features were scaled before PCA. What type of scaling was used?"
      ]
    },
    {
      "cell_type": "code",
      "metadata": {
        "id": "-v7xbBnGD2cW",
        "colab": {
          "base_uri": "https://localhost:8080/"
        },
        "outputId": "a6971d89-6f65-4c19-facd-b9a30542c5d6"
      },
      "source": [
        "from sklearn.model_selection import train_test_split\n",
        "train, test = train_test_split(df, stratify=df['Class'], test_size=0.1, random_state=seed)\n",
        "train, val = train_test_split(train, stratify=train['Class'], test_size=0.1, random_state=seed)\n",
        "train.shape, val.shape, test.shape"
      ],
      "execution_count": null,
      "outputs": [
        {
          "output_type": "execute_result",
          "data": {
            "text/plain": [
              "((230693, 31), (25633, 31), (28481, 31))"
            ]
          },
          "metadata": {},
          "execution_count": 9
        }
      ]
    },
    {
      "cell_type": "code",
      "source": [
        "from sklearn.preprocessing import StandardScaler\n",
        "scaler = StandardScaler()\n",
        "\n",
        "def prep_data(fit=False):\n",
        "  x_train = train.drop(['Class'], axis='columns')\n",
        "  x_val = val.drop(['Class'], axis='columns')\n",
        "  x_test = test.drop(['Class'], axis='columns')\n",
        "  if fit==True:\n",
        "    x_train = scaler.fit_transform(x_train)\n",
        "  else:\n",
        "    x_train = scaler.transform(x_train)\n",
        "  x_val = scaler.transform(x_val)\n",
        "  x_test = scaler.transform(x_test)\n",
        "  y_train = train['Class'].values\n",
        "  y_val = val['Class'].values\n",
        "  y_test = test['Class'].values\n",
        "  return x_train, y_train, x_val, y_val, x_test, y_test"
      ],
      "metadata": {
        "id": "73ODy-vT4gmI"
      },
      "execution_count": null,
      "outputs": []
    },
    {
      "cell_type": "code",
      "metadata": {
        "id": "6dqMIl4C6cNx"
      },
      "source": [
        "x_train, y_train, x_val, y_val, x_test, y_test = prep_data(fit=True)"
      ],
      "execution_count": null,
      "outputs": []
    },
    {
      "cell_type": "code",
      "metadata": {
        "id": "wxCJ_-M2AzZL"
      },
      "source": [
        "from numpy import bincount\n",
        "neg, pos = bincount(y_train)\n",
        "total = neg + pos"
      ],
      "execution_count": null,
      "outputs": []
    },
    {
      "cell_type": "code",
      "metadata": {
        "id": "zkLBJ26em9Bp"
      },
      "source": [
        "def compute_metrics(y_true, y_pred):\n",
        "  tp = tf.keras.metrics.TruePositives()\n",
        "  tp.update_state(y_true, y_pred)\n",
        "  tp = int(tp.result().numpy())\n",
        "  fp = tf.keras.metrics.FalsePositives()\n",
        "  fp.update_state(y_true, y_pred)\n",
        "  fp = int(fp.result().numpy())\n",
        "  tn = tf.keras.metrics.TrueNegatives()\n",
        "  tn.update_state(y_true, y_pred)\n",
        "  tn = int(tn.result().numpy())\n",
        "  fn = tf.keras.metrics.FalseNegatives()\n",
        "  fn.update_state(y_true, y_pred)\n",
        "  fn = int(fn.result().numpy())\n",
        "  return [tp, fn, fp, tn]"
      ],
      "execution_count": null,
      "outputs": []
    },
    {
      "cell_type": "code",
      "metadata": {
        "id": "dKSkqamV74Fz"
      },
      "source": [
        "tp_df = pd.DataFrame()\n",
        "fn_df = pd.DataFrame()\n",
        "fp_df = pd.DataFrame()\n",
        "tn_df = pd.DataFrame()"
      ],
      "execution_count": null,
      "outputs": []
    },
    {
      "cell_type": "code",
      "metadata": {
        "id": "y3A8OJWdQTfo"
      },
      "source": [
        "def print_metrics(metrics):\n",
        "  print('Fraudulent Transactions Detected (True Positives): ' + str(metrics[0]))\n",
        "  print('Fraudulent Transactions Missed (False Negatives): ' + str(metrics[1]))\n",
        "  print('Legitimate Transactions Incorrectly Detected (False Positives): ' + str(metrics[2]))\n",
        "  print('Legitimate Transactions Detected (True Negatives): ' + str(metrics[3]))"
      ],
      "execution_count": null,
      "outputs": []
    },
    {
      "cell_type": "markdown",
      "metadata": {
        "id": "bol4rBNm2778"
      },
      "source": [
        "# Baseline"
      ]
    },
    {
      "cell_type": "code",
      "metadata": {
        "id": "mv8gRv3agKUB",
        "colab": {
          "base_uri": "https://localhost:8080/"
        },
        "outputId": "805fd9a7-05ff-453f-8366-47d774750f6f"
      },
      "source": [
        "%%time\n",
        "from sklearn.ensemble import RandomForestClassifier\n",
        "classifier = RandomForestClassifier(n_estimators=100, n_jobs=-1, random_state=seed)\n",
        "classifier.fit(x_train, y_train)"
      ],
      "execution_count": null,
      "outputs": [
        {
          "output_type": "stream",
          "name": "stdout",
          "text": [
            "CPU times: user 4min 23s, sys: 14.9 ms, total: 4min 23s\n",
            "Wall time: 2min 30s\n"
          ]
        }
      ]
    },
    {
      "cell_type": "code",
      "metadata": {
        "id": "HeD85Wh-OUI1",
        "colab": {
          "base_uri": "https://localhost:8080/"
        },
        "outputId": "3e43d4e0-2ff6-4c1b-e9ed-df3ca990c7b9"
      },
      "source": [
        "y_pred = classifier.predict(x_test)\n",
        "auprc = tf.keras.metrics.AUC(curve='PR')\n",
        "auprc.update_state(y_test, y_pred)\n",
        "RF_AUPRC = auprc.result().numpy()\n",
        "RF_AUPRC"
      ],
      "execution_count": null,
      "outputs": [
        {
          "output_type": "execute_result",
          "data": {
            "text/plain": [
              "0.8183924"
            ]
          },
          "metadata": {},
          "execution_count": 17
        }
      ]
    },
    {
      "cell_type": "code",
      "metadata": {
        "id": "UNIJcd6zQnZf",
        "colab": {
          "base_uri": "https://localhost:8080/"
        },
        "outputId": "194c9ecb-456a-4469-a035-a705e2b0c7e2"
      },
      "source": [
        "RF_metrics = compute_metrics(y_test, y_pred)\n",
        "print_metrics(RF_metrics)"
      ],
      "execution_count": null,
      "outputs": [
        {
          "output_type": "stream",
          "name": "stdout",
          "text": [
            "Fraudulent Transactions Detected (True Positives): 41\n",
            "Fraudulent Transactions Missed (False Negatives): 8\n",
            "Legitimate Transactions Incorrectly Detected (False Positives): 1\n",
            "Legitimate Transactions Detected (True Negatives): 28431\n"
          ]
        }
      ]
    },
    {
      "cell_type": "code",
      "metadata": {
        "id": "-59FrMjz-Yw2",
        "colab": {
          "base_uri": "https://localhost:8080/"
        },
        "outputId": "8781d256-4fed-42e5-bc4d-f92baaef4cd9"
      },
      "source": [
        "%%time\n",
        "from xgboost import XGBClassifier\n",
        "\n",
        "xgbc = XGBClassifier(objective='binary:logistic', seed=seed, eval_metric='aucpr')\n",
        "xgbc.fit(x_train, y_train, eval_set=[(x_train, y_train), (x_val, y_val)])"
      ],
      "execution_count": null,
      "outputs": [
        {
          "output_type": "stream",
          "name": "stdout",
          "text": [
            "[0]\tvalidation_0-aucpr:0.744072\tvalidation_1-aucpr:0.64036\n",
            "[1]\tvalidation_0-aucpr:0.782313\tvalidation_1-aucpr:0.66218\n",
            "[2]\tvalidation_0-aucpr:0.781829\tvalidation_1-aucpr:0.66218\n",
            "[3]\tvalidation_0-aucpr:0.783152\tvalidation_1-aucpr:0.66218\n",
            "[4]\tvalidation_0-aucpr:0.786693\tvalidation_1-aucpr:0.67477\n",
            "[5]\tvalidation_0-aucpr:0.791586\tvalidation_1-aucpr:0.67401\n",
            "[6]\tvalidation_0-aucpr:0.797849\tvalidation_1-aucpr:0.67765\n",
            "[7]\tvalidation_0-aucpr:0.805159\tvalidation_1-aucpr:0.701834\n",
            "[8]\tvalidation_0-aucpr:0.810457\tvalidation_1-aucpr:0.701825\n",
            "[9]\tvalidation_0-aucpr:0.811394\tvalidation_1-aucpr:0.701265\n",
            "[10]\tvalidation_0-aucpr:0.818708\tvalidation_1-aucpr:0.72255\n",
            "[11]\tvalidation_0-aucpr:0.819028\tvalidation_1-aucpr:0.724171\n",
            "[12]\tvalidation_0-aucpr:0.819069\tvalidation_1-aucpr:0.723691\n",
            "[13]\tvalidation_0-aucpr:0.822008\tvalidation_1-aucpr:0.743557\n",
            "[14]\tvalidation_0-aucpr:0.823022\tvalidation_1-aucpr:0.737261\n",
            "[15]\tvalidation_0-aucpr:0.825033\tvalidation_1-aucpr:0.739812\n",
            "[16]\tvalidation_0-aucpr:0.827242\tvalidation_1-aucpr:0.742285\n",
            "[17]\tvalidation_0-aucpr:0.831377\tvalidation_1-aucpr:0.757008\n",
            "[18]\tvalidation_0-aucpr:0.831869\tvalidation_1-aucpr:0.759883\n",
            "[19]\tvalidation_0-aucpr:0.833236\tvalidation_1-aucpr:0.75996\n",
            "[20]\tvalidation_0-aucpr:0.833694\tvalidation_1-aucpr:0.759294\n",
            "[21]\tvalidation_0-aucpr:0.833782\tvalidation_1-aucpr:0.760383\n",
            "[22]\tvalidation_0-aucpr:0.833964\tvalidation_1-aucpr:0.75778\n",
            "[23]\tvalidation_0-aucpr:0.835552\tvalidation_1-aucpr:0.756261\n",
            "[24]\tvalidation_0-aucpr:0.83555\tvalidation_1-aucpr:0.756261\n",
            "[25]\tvalidation_0-aucpr:0.835578\tvalidation_1-aucpr:0.757178\n",
            "[26]\tvalidation_0-aucpr:0.837195\tvalidation_1-aucpr:0.756869\n",
            "[27]\tvalidation_0-aucpr:0.838746\tvalidation_1-aucpr:0.757893\n",
            "[28]\tvalidation_0-aucpr:0.844931\tvalidation_1-aucpr:0.758924\n",
            "[29]\tvalidation_0-aucpr:0.845988\tvalidation_1-aucpr:0.763666\n",
            "[30]\tvalidation_0-aucpr:0.846512\tvalidation_1-aucpr:0.765832\n",
            "[31]\tvalidation_0-aucpr:0.847771\tvalidation_1-aucpr:0.772424\n",
            "[32]\tvalidation_0-aucpr:0.848569\tvalidation_1-aucpr:0.771518\n",
            "[33]\tvalidation_0-aucpr:0.849586\tvalidation_1-aucpr:0.777615\n",
            "[34]\tvalidation_0-aucpr:0.852401\tvalidation_1-aucpr:0.779176\n",
            "[35]\tvalidation_0-aucpr:0.852654\tvalidation_1-aucpr:0.781083\n",
            "[36]\tvalidation_0-aucpr:0.853532\tvalidation_1-aucpr:0.787295\n",
            "[37]\tvalidation_0-aucpr:0.853567\tvalidation_1-aucpr:0.787295\n",
            "[38]\tvalidation_0-aucpr:0.854096\tvalidation_1-aucpr:0.788524\n",
            "[39]\tvalidation_0-aucpr:0.854137\tvalidation_1-aucpr:0.789109\n",
            "[40]\tvalidation_0-aucpr:0.854738\tvalidation_1-aucpr:0.792894\n",
            "[41]\tvalidation_0-aucpr:0.855181\tvalidation_1-aucpr:0.79447\n",
            "[42]\tvalidation_0-aucpr:0.857866\tvalidation_1-aucpr:0.797281\n",
            "[43]\tvalidation_0-aucpr:0.85883\tvalidation_1-aucpr:0.799822\n",
            "[44]\tvalidation_0-aucpr:0.859483\tvalidation_1-aucpr:0.800963\n",
            "[45]\tvalidation_0-aucpr:0.862415\tvalidation_1-aucpr:0.805406\n",
            "[46]\tvalidation_0-aucpr:0.863657\tvalidation_1-aucpr:0.808035\n",
            "[47]\tvalidation_0-aucpr:0.864352\tvalidation_1-aucpr:0.811154\n",
            "[48]\tvalidation_0-aucpr:0.865282\tvalidation_1-aucpr:0.814535\n",
            "[49]\tvalidation_0-aucpr:0.866625\tvalidation_1-aucpr:0.815988\n",
            "[50]\tvalidation_0-aucpr:0.867598\tvalidation_1-aucpr:0.81711\n",
            "[51]\tvalidation_0-aucpr:0.869031\tvalidation_1-aucpr:0.816196\n",
            "[52]\tvalidation_0-aucpr:0.870151\tvalidation_1-aucpr:0.816539\n",
            "[53]\tvalidation_0-aucpr:0.871384\tvalidation_1-aucpr:0.815704\n",
            "[54]\tvalidation_0-aucpr:0.872355\tvalidation_1-aucpr:0.816889\n",
            "[55]\tvalidation_0-aucpr:0.873148\tvalidation_1-aucpr:0.819088\n",
            "[56]\tvalidation_0-aucpr:0.874009\tvalidation_1-aucpr:0.81937\n",
            "[57]\tvalidation_0-aucpr:0.875172\tvalidation_1-aucpr:0.820339\n",
            "[58]\tvalidation_0-aucpr:0.876086\tvalidation_1-aucpr:0.821374\n",
            "[59]\tvalidation_0-aucpr:0.876895\tvalidation_1-aucpr:0.820429\n",
            "[60]\tvalidation_0-aucpr:0.877982\tvalidation_1-aucpr:0.818862\n",
            "[61]\tvalidation_0-aucpr:0.878609\tvalidation_1-aucpr:0.817374\n",
            "[62]\tvalidation_0-aucpr:0.878964\tvalidation_1-aucpr:0.814128\n",
            "[63]\tvalidation_0-aucpr:0.879792\tvalidation_1-aucpr:0.813152\n",
            "[64]\tvalidation_0-aucpr:0.880012\tvalidation_1-aucpr:0.813896\n",
            "[65]\tvalidation_0-aucpr:0.880281\tvalidation_1-aucpr:0.813552\n",
            "[66]\tvalidation_0-aucpr:0.881344\tvalidation_1-aucpr:0.814838\n",
            "[67]\tvalidation_0-aucpr:0.881868\tvalidation_1-aucpr:0.815105\n",
            "[68]\tvalidation_0-aucpr:0.882629\tvalidation_1-aucpr:0.81554\n",
            "[69]\tvalidation_0-aucpr:0.883348\tvalidation_1-aucpr:0.816317\n",
            "[70]\tvalidation_0-aucpr:0.884252\tvalidation_1-aucpr:0.815928\n",
            "[71]\tvalidation_0-aucpr:0.884798\tvalidation_1-aucpr:0.817814\n",
            "[72]\tvalidation_0-aucpr:0.885333\tvalidation_1-aucpr:0.818843\n",
            "[73]\tvalidation_0-aucpr:0.886275\tvalidation_1-aucpr:0.818132\n",
            "[74]\tvalidation_0-aucpr:0.886805\tvalidation_1-aucpr:0.818381\n",
            "[75]\tvalidation_0-aucpr:0.887136\tvalidation_1-aucpr:0.818347\n",
            "[76]\tvalidation_0-aucpr:0.888148\tvalidation_1-aucpr:0.820121\n",
            "[77]\tvalidation_0-aucpr:0.889053\tvalidation_1-aucpr:0.82\n",
            "[78]\tvalidation_0-aucpr:0.89047\tvalidation_1-aucpr:0.821822\n",
            "[79]\tvalidation_0-aucpr:0.891396\tvalidation_1-aucpr:0.821962\n",
            "[80]\tvalidation_0-aucpr:0.891759\tvalidation_1-aucpr:0.821041\n",
            "[81]\tvalidation_0-aucpr:0.892817\tvalidation_1-aucpr:0.82125\n",
            "[82]\tvalidation_0-aucpr:0.893037\tvalidation_1-aucpr:0.820808\n",
            "[83]\tvalidation_0-aucpr:0.894152\tvalidation_1-aucpr:0.821432\n",
            "[84]\tvalidation_0-aucpr:0.895205\tvalidation_1-aucpr:0.821856\n",
            "[85]\tvalidation_0-aucpr:0.895787\tvalidation_1-aucpr:0.821676\n",
            "[86]\tvalidation_0-aucpr:0.897084\tvalidation_1-aucpr:0.822023\n",
            "[87]\tvalidation_0-aucpr:0.897945\tvalidation_1-aucpr:0.821968\n",
            "[88]\tvalidation_0-aucpr:0.898774\tvalidation_1-aucpr:0.82166\n",
            "[89]\tvalidation_0-aucpr:0.899301\tvalidation_1-aucpr:0.821348\n",
            "[90]\tvalidation_0-aucpr:0.900182\tvalidation_1-aucpr:0.821808\n",
            "[91]\tvalidation_0-aucpr:0.90161\tvalidation_1-aucpr:0.82214\n",
            "[92]\tvalidation_0-aucpr:0.902537\tvalidation_1-aucpr:0.822266\n",
            "[93]\tvalidation_0-aucpr:0.903126\tvalidation_1-aucpr:0.8222\n",
            "[94]\tvalidation_0-aucpr:0.905568\tvalidation_1-aucpr:0.822275\n",
            "[95]\tvalidation_0-aucpr:0.905869\tvalidation_1-aucpr:0.823267\n",
            "[96]\tvalidation_0-aucpr:0.906716\tvalidation_1-aucpr:0.822293\n",
            "[97]\tvalidation_0-aucpr:0.908692\tvalidation_1-aucpr:0.823066\n",
            "[98]\tvalidation_0-aucpr:0.909878\tvalidation_1-aucpr:0.824215\n",
            "[99]\tvalidation_0-aucpr:0.910982\tvalidation_1-aucpr:0.822425\n",
            "CPU times: user 53.4 s, sys: 231 ms, total: 53.6 s\n",
            "Wall time: 53.2 s\n"
          ]
        }
      ]
    },
    {
      "cell_type": "code",
      "metadata": {
        "id": "GwmiTJdeO7Wt",
        "colab": {
          "base_uri": "https://localhost:8080/"
        },
        "outputId": "d544d450-bb62-4f88-8ca7-6be91add7020"
      },
      "source": [
        "y_pred = xgbc.predict(x_test)\n",
        "auprc = tf.keras.metrics.AUC(curve='PR')\n",
        "auprc.update_state(y_test, y_pred)\n",
        "XGB_AUPRC = auprc.result().numpy()\n",
        "XGB_AUPRC"
      ],
      "execution_count": null,
      "outputs": [
        {
          "output_type": "execute_result",
          "data": {
            "text/plain": [
              "0.7611093"
            ]
          },
          "metadata": {},
          "execution_count": 20
        }
      ]
    },
    {
      "cell_type": "code",
      "metadata": {
        "id": "dEEFPjbY-6N2",
        "colab": {
          "base_uri": "https://localhost:8080/"
        },
        "outputId": "8144e16d-f254-40c3-9b78-3f9c61c4a456"
      },
      "source": [
        "XGB_metrics = compute_metrics(y_test, y_pred)\n",
        "print_metrics(XGB_metrics)"
      ],
      "execution_count": null,
      "outputs": [
        {
          "output_type": "stream",
          "name": "stdout",
          "text": [
            "Fraudulent Transactions Detected (True Positives): 40\n",
            "Fraudulent Transactions Missed (False Negatives): 9\n",
            "Legitimate Transactions Incorrectly Detected (False Positives): 3\n",
            "Legitimate Transactions Detected (True Negatives): 28429\n"
          ]
        }
      ]
    },
    {
      "cell_type": "code",
      "metadata": {
        "id": "U97MIXy7kSLB",
        "colab": {
          "base_uri": "https://localhost:8080/"
        },
        "outputId": "fefe848e-81a8-4073-8113-20e61f728a4a"
      },
      "source": [
        "from tensorflow.keras.layers import Dense, Input, ELU, Dropout, BatchNormalization\n",
        "from tensorflow.keras.optimizers import Adam\n",
        "from tensorflow.keras.models import Model\n",
        "\n",
        "def create_model():\n",
        "  tf.keras.backend.clear_session()\n",
        "  input1 = Input(shape=(x_train.shape[1],), name='input1')\n",
        "  x = Dense(96)(input1)\n",
        "  x = BatchNormalization()(x)\n",
        "  x = ELU()(x)\n",
        "  x = Dropout(0.33)(x)\n",
        "  x = Dense(96)(x)\n",
        "  x = BatchNormalization()(x)\n",
        "  x = ELU()(x)\n",
        "  x = Dropout(0.33)(x)\n",
        "  x = Dense(96)(x)\n",
        "  x = BatchNormalization()(x)\n",
        "  x = ELU()(x)\n",
        "  x = Dropout(0.33)(x)\n",
        "  out = Dense(1, activation='sigmoid', name='out')(x)\n",
        "\n",
        "  _model = Model(inputs=[input1], outputs=[out])\n",
        "  _model.summary()\n",
        "\n",
        "  _model.compile(optimizer=Adam(), loss='binary_crossentropy', \n",
        "                 metrics=[tf.keras.metrics.AUC(curve='ROC', name='auroc'), \n",
        "                          tf.keras.metrics.AUC(curve='PR', name='auprc')])\n",
        "  return _model\n",
        "\n",
        "model = create_model()"
      ],
      "execution_count": null,
      "outputs": [
        {
          "output_type": "stream",
          "name": "stdout",
          "text": [
            "Model: \"model\"\n",
            "_________________________________________________________________\n",
            " Layer (type)                Output Shape              Param #   \n",
            "=================================================================\n",
            " input1 (InputLayer)         [(None, 30)]              0         \n",
            "                                                                 \n",
            " dense (Dense)               (None, 96)                2976      \n",
            "                                                                 \n",
            " batch_normalization (BatchN  (None, 96)               384       \n",
            " ormalization)                                                   \n",
            "                                                                 \n",
            " elu (ELU)                   (None, 96)                0         \n",
            "                                                                 \n",
            " dropout (Dropout)           (None, 96)                0         \n",
            "                                                                 \n",
            " dense_1 (Dense)             (None, 96)                9312      \n",
            "                                                                 \n",
            " batch_normalization_1 (Batc  (None, 96)               384       \n",
            " hNormalization)                                                 \n",
            "                                                                 \n",
            " elu_1 (ELU)                 (None, 96)                0         \n",
            "                                                                 \n",
            " dropout_1 (Dropout)         (None, 96)                0         \n",
            "                                                                 \n",
            " dense_2 (Dense)             (None, 96)                9312      \n",
            "                                                                 \n",
            " batch_normalization_2 (Batc  (None, 96)               384       \n",
            " hNormalization)                                                 \n",
            "                                                                 \n",
            " elu_2 (ELU)                 (None, 96)                0         \n",
            "                                                                 \n",
            " dropout_2 (Dropout)         (None, 96)                0         \n",
            "                                                                 \n",
            " out (Dense)                 (None, 1)                 97        \n",
            "                                                                 \n",
            "=================================================================\n",
            "Total params: 22,849\n",
            "Trainable params: 22,273\n",
            "Non-trainable params: 576\n",
            "_________________________________________________________________\n"
          ]
        }
      ]
    },
    {
      "cell_type": "code",
      "metadata": {
        "id": "AuGdJHj5tdxU"
      },
      "source": [
        "BATCH_SIZE=256"
      ],
      "execution_count": null,
      "outputs": []
    },
    {
      "cell_type": "code",
      "metadata": {
        "id": "r4soqHXMm-V9",
        "colab": {
          "base_uri": "https://localhost:8080/"
        },
        "outputId": "6854165e-12f8-4fb5-eab7-c941f63f9918"
      },
      "source": [
        "from tensorflow.keras.callbacks import EarlyStopping\n",
        "\n",
        "es = EarlyStopping(monitor='val_auprc', patience=10, verbose=1, mode='max',\n",
        "                   restore_best_weights=True)\n",
        "\n",
        "history = model.fit(x_train, y_train, epochs=200, verbose=2, callbacks=[es], \n",
        "                    validation_data=(x_val, y_val), batch_size=BATCH_SIZE)"
      ],
      "execution_count": null,
      "outputs": [
        {
          "output_type": "stream",
          "name": "stdout",
          "text": [
            "Epoch 1/200\n",
            "902/902 - 6s - loss: 0.0603 - auroc: 0.8316 - auprc: 0.3092 - val_loss: 0.0079 - val_auroc: 0.9306 - val_auprc: 0.6650 - 6s/epoch - 7ms/step\n",
            "Epoch 2/200\n",
            "902/902 - 4s - loss: 0.0065 - auroc: 0.9042 - auprc: 0.6277 - val_loss: 0.0064 - val_auroc: 0.9088 - val_auprc: 0.6470 - 4s/epoch - 5ms/step\n",
            "Epoch 3/200\n",
            "902/902 - 4s - loss: 0.0052 - auroc: 0.9115 - auprc: 0.6556 - val_loss: 0.0061 - val_auroc: 0.9202 - val_auprc: 0.6553 - 4s/epoch - 5ms/step\n",
            "Epoch 4/200\n",
            "902/902 - 4s - loss: 0.0045 - auroc: 0.9215 - auprc: 0.7172 - val_loss: 0.0053 - val_auroc: 0.9087 - val_auprc: 0.6475 - 4s/epoch - 5ms/step\n",
            "Epoch 5/200\n",
            "902/902 - 5s - loss: 0.0041 - auroc: 0.9307 - auprc: 0.7157 - val_loss: 0.0044 - val_auroc: 0.9201 - val_auprc: 0.7153 - 5s/epoch - 5ms/step\n",
            "Epoch 6/200\n",
            "902/902 - 4s - loss: 0.0039 - auroc: 0.9334 - auprc: 0.7322 - val_loss: 0.0043 - val_auroc: 0.9200 - val_auprc: 0.6827 - 4s/epoch - 5ms/step\n",
            "Epoch 7/200\n",
            "902/902 - 4s - loss: 0.0036 - auroc: 0.9299 - auprc: 0.7535 - val_loss: 0.0037 - val_auroc: 0.9428 - val_auprc: 0.7828 - 4s/epoch - 5ms/step\n",
            "Epoch 8/200\n",
            "902/902 - 4s - loss: 0.0033 - auroc: 0.9401 - auprc: 0.7780 - val_loss: 0.0038 - val_auroc: 0.9427 - val_auprc: 0.7710 - 4s/epoch - 5ms/step\n",
            "Epoch 9/200\n",
            "902/902 - 5s - loss: 0.0034 - auroc: 0.9438 - auprc: 0.7631 - val_loss: 0.0033 - val_auroc: 0.9540 - val_auprc: 0.8264 - 5s/epoch - 5ms/step\n",
            "Epoch 10/200\n",
            "902/902 - 4s - loss: 0.0033 - auroc: 0.9477 - auprc: 0.7822 - val_loss: 0.0033 - val_auroc: 0.9429 - val_auprc: 0.8279 - 4s/epoch - 5ms/step\n",
            "Epoch 11/200\n",
            "902/902 - 4s - loss: 0.0031 - auroc: 0.9540 - auprc: 0.7979 - val_loss: 0.0038 - val_auroc: 0.9426 - val_auprc: 0.8167 - 4s/epoch - 5ms/step\n",
            "Epoch 12/200\n",
            "902/902 - 4s - loss: 0.0031 - auroc: 0.9465 - auprc: 0.7990 - val_loss: 0.0030 - val_auroc: 0.9540 - val_auprc: 0.8409 - 4s/epoch - 5ms/step\n",
            "Epoch 13/200\n",
            "902/902 - 4s - loss: 0.0031 - auroc: 0.9502 - auprc: 0.7989 - val_loss: 0.0030 - val_auroc: 0.9541 - val_auprc: 0.8485 - 4s/epoch - 5ms/step\n",
            "Epoch 14/200\n",
            "902/902 - 4s - loss: 0.0028 - auroc: 0.9516 - auprc: 0.8144 - val_loss: 0.0031 - val_auroc: 0.9430 - val_auprc: 0.8392 - 4s/epoch - 5ms/step\n",
            "Epoch 15/200\n",
            "902/902 - 4s - loss: 0.0029 - auroc: 0.9503 - auprc: 0.8229 - val_loss: 0.0030 - val_auroc: 0.9542 - val_auprc: 0.8496 - 4s/epoch - 5ms/step\n",
            "Epoch 16/200\n",
            "902/902 - 4s - loss: 0.0028 - auroc: 0.9542 - auprc: 0.8256 - val_loss: 0.0030 - val_auroc: 0.9428 - val_auprc: 0.8334 - 4s/epoch - 5ms/step\n",
            "Epoch 17/200\n",
            "902/902 - 4s - loss: 0.0029 - auroc: 0.9554 - auprc: 0.8166 - val_loss: 0.0033 - val_auroc: 0.9541 - val_auprc: 0.8357 - 4s/epoch - 5ms/step\n",
            "Epoch 18/200\n",
            "902/902 - 4s - loss: 0.0026 - auroc: 0.9555 - auprc: 0.8438 - val_loss: 0.0028 - val_auroc: 0.9316 - val_auprc: 0.8260 - 4s/epoch - 5ms/step\n",
            "Epoch 19/200\n",
            "902/902 - 4s - loss: 0.0027 - auroc: 0.9593 - auprc: 0.8356 - val_loss: 0.0033 - val_auroc: 0.9542 - val_auprc: 0.8484 - 4s/epoch - 5ms/step\n",
            "Epoch 20/200\n",
            "902/902 - 4s - loss: 0.0026 - auroc: 0.9530 - auprc: 0.8367 - val_loss: 0.0027 - val_auroc: 0.9542 - val_auprc: 0.8481 - 4s/epoch - 5ms/step\n",
            "Epoch 21/200\n",
            "902/902 - 4s - loss: 0.0025 - auroc: 0.9517 - auprc: 0.8456 - val_loss: 0.0033 - val_auroc: 0.9655 - val_auprc: 0.8469 - 4s/epoch - 5ms/step\n",
            "Epoch 22/200\n",
            "902/902 - 4s - loss: 0.0026 - auroc: 0.9567 - auprc: 0.8375 - val_loss: 0.0031 - val_auroc: 0.9541 - val_auprc: 0.8499 - 4s/epoch - 5ms/step\n",
            "Epoch 23/200\n",
            "902/902 - 4s - loss: 0.0025 - auroc: 0.9606 - auprc: 0.8443 - val_loss: 0.0026 - val_auroc: 0.9543 - val_auprc: 0.8603 - 4s/epoch - 5ms/step\n",
            "Epoch 24/200\n",
            "902/902 - 4s - loss: 0.0024 - auroc: 0.9593 - auprc: 0.8541 - val_loss: 0.0029 - val_auroc: 0.9430 - val_auprc: 0.8422 - 4s/epoch - 5ms/step\n",
            "Epoch 25/200\n",
            "902/902 - 4s - loss: 0.0025 - auroc: 0.9555 - auprc: 0.8471 - val_loss: 0.0033 - val_auroc: 0.9428 - val_auprc: 0.8358 - 4s/epoch - 5ms/step\n",
            "Epoch 26/200\n",
            "902/902 - 4s - loss: 0.0025 - auroc: 0.9581 - auprc: 0.8464 - val_loss: 0.0027 - val_auroc: 0.9542 - val_auprc: 0.8548 - 4s/epoch - 5ms/step\n",
            "Epoch 27/200\n",
            "902/902 - 4s - loss: 0.0025 - auroc: 0.9580 - auprc: 0.8520 - val_loss: 0.0029 - val_auroc: 0.9542 - val_auprc: 0.8479 - 4s/epoch - 5ms/step\n",
            "Epoch 28/200\n",
            "902/902 - 4s - loss: 0.0023 - auroc: 0.9631 - auprc: 0.8602 - val_loss: 0.0028 - val_auroc: 0.9654 - val_auprc: 0.8557 - 4s/epoch - 5ms/step\n",
            "Epoch 29/200\n",
            "902/902 - 5s - loss: 0.0023 - auroc: 0.9668 - auprc: 0.8645 - val_loss: 0.0028 - val_auroc: 0.9540 - val_auprc: 0.8482 - 5s/epoch - 5ms/step\n",
            "Epoch 30/200\n",
            "902/902 - 4s - loss: 0.0023 - auroc: 0.9594 - auprc: 0.8608 - val_loss: 0.0027 - val_auroc: 0.9543 - val_auprc: 0.8573 - 4s/epoch - 5ms/step\n",
            "Epoch 31/200\n",
            "902/902 - 4s - loss: 0.0023 - auroc: 0.9630 - auprc: 0.8636 - val_loss: 0.0027 - val_auroc: 0.9543 - val_auprc: 0.8569 - 4s/epoch - 5ms/step\n",
            "Epoch 32/200\n",
            "902/902 - 4s - loss: 0.0023 - auroc: 0.9594 - auprc: 0.8616 - val_loss: 0.0026 - val_auroc: 0.9542 - val_auprc: 0.8593 - 4s/epoch - 5ms/step\n",
            "Epoch 33/200\n",
            "Restoring model weights from the end of the best epoch: 23.\n",
            "902/902 - 4s - loss: 0.0023 - auroc: 0.9581 - auprc: 0.8676 - val_loss: 0.0028 - val_auroc: 0.9429 - val_auprc: 0.8439 - 4s/epoch - 5ms/step\n",
            "Epoch 33: early stopping\n"
          ]
        }
      ]
    },
    {
      "cell_type": "code",
      "metadata": {
        "id": "nad8-F-Vs9ob",
        "colab": {
          "base_uri": "https://localhost:8080/"
        },
        "outputId": "2d6438b9-e2f8-4e5d-a0e8-0ce14d0176f0"
      },
      "source": [
        "model.evaluate(x_test, y_test)"
      ],
      "execution_count": null,
      "outputs": [
        {
          "output_type": "stream",
          "name": "stdout",
          "text": [
            "891/891 [==============================] - 3s 3ms/step - loss: 0.0028 - auroc: 0.9283 - auprc: 0.8535\n"
          ]
        },
        {
          "output_type": "execute_result",
          "data": {
            "text/plain": [
              "[0.0027969060465693474, 0.9282847046852112, 0.8535040020942688]"
            ]
          },
          "metadata": {},
          "execution_count": 25
        }
      ]
    },
    {
      "cell_type": "code",
      "metadata": {
        "id": "jpLYVEnlr10c",
        "colab": {
          "base_uri": "https://localhost:8080/",
          "height": 839
        },
        "outputId": "df34d83c-f9e5-4637-cce2-cca72fc65ab6"
      },
      "source": [
        "import matplotlib.pyplot as plt\n",
        "import seaborn as sns\n",
        "\n",
        "history = history.history\n",
        "\n",
        "fig, (ax1, ax2) = plt.subplots(2, 1, sharex='col', figsize=(20, 14))\n",
        "\n",
        "ax1.plot(history['loss'], label='Train loss')\n",
        "ax1.plot(history['val_loss'], label='Validation loss')\n",
        "ax1.legend(loc='best')\n",
        "ax1.set_title('Loss')\n",
        "\n",
        "ax2.plot(history['auprc'], label='Train accuracy')\n",
        "ax2.plot(history['val_auprc'], label='Validation accuracy')\n",
        "ax2.legend(loc='best')\n",
        "ax2.set_title('AUPRC')\n",
        "\n",
        "plt.xlabel('Epochs')\n",
        "sns.despine()\n",
        "plt.show()"
      ],
      "execution_count": null,
      "outputs": [
        {
          "output_type": "display_data",
          "data": {
            "text/plain": [
              "<Figure size 1440x1008 with 2 Axes>"
            ],
            "image/png": "[encoded data removed]"
          },
          "metadata": {
            "needs_background": "light"
          }
        }
      ]
    },
    {
      "cell_type": "code",
      "metadata": {
        "id": "qQu3-HoNNLpd",
        "colab": {
          "base_uri": "https://localhost:8080/"
        },
        "outputId": "070efba6-9088-486d-86f2-e262068195f3"
      },
      "source": [
        "y_pred = model.predict(x_test)\n",
        "auprc = tf.keras.metrics.AUC(curve='PR')\n",
        "auprc.update_state(y_test, y_pred)\n",
        "TF_Model_AUPRC = auprc.result().numpy()\n",
        "TF_Model_AUPRC"
      ],
      "execution_count": null,
      "outputs": [
        {
          "output_type": "execute_result",
          "data": {
            "text/plain": [
              "0.853504"
            ]
          },
          "metadata": {},
          "execution_count": 27
        }
      ]
    },
    {
      "cell_type": "code",
      "metadata": {
        "id": "i7x0-fgh9zVX",
        "colab": {
          "base_uri": "https://localhost:8080/"
        },
        "outputId": "e967f881-2e02-43b0-b792-a28b016e7fdb"
      },
      "source": [
        "TF_Model_metrics = compute_metrics(y_test, y_pred)\n",
        "print_metrics(TF_Model_metrics)"
      ],
      "execution_count": null,
      "outputs": [
        {
          "output_type": "stream",
          "name": "stdout",
          "text": [
            "Fraudulent Transactions Detected (True Positives): 40\n",
            "Fraudulent Transactions Missed (False Negatives): 9\n",
            "Legitimate Transactions Incorrectly Detected (False Positives): 4\n",
            "Legitimate Transactions Detected (True Negatives): 28428\n"
          ]
        }
      ]
    },
    {
      "cell_type": "code",
      "metadata": {
        "id": "eOlIYi0kqcP-",
        "colab": {
          "base_uri": "https://localhost:8080/"
        },
        "outputId": "11037881-29b9-4656-adde-9719d3b2f130"
      },
      "source": [
        "print('Random Forest ********************')\n",
        "print_metrics(RF_metrics)\n",
        "print('XGBoost **************************')\n",
        "print_metrics(XGB_metrics)\n",
        "print('TensorFlow DNN Model *************')\n",
        "print_metrics(TF_Model_metrics)"
      ],
      "execution_count": null,
      "outputs": [
        {
          "output_type": "stream",
          "name": "stdout",
          "text": [
            "Random Forest ********************\n",
            "Fraudulent Transactions Detected (True Positives): 41\n",
            "Fraudulent Transactions Missed (False Negatives): 8\n",
            "Legitimate Transactions Incorrectly Detected (False Positives): 1\n",
            "Legitimate Transactions Detected (True Negatives): 28431\n",
            "XGBoost **************************\n",
            "Fraudulent Transactions Detected (True Positives): 40\n",
            "Fraudulent Transactions Missed (False Negatives): 9\n",
            "Legitimate Transactions Incorrectly Detected (False Positives): 3\n",
            "Legitimate Transactions Detected (True Negatives): 28429\n",
            "TensorFlow DNN Model *************\n",
            "Fraudulent Transactions Detected (True Positives): 40\n",
            "Fraudulent Transactions Missed (False Negatives): 9\n",
            "Legitimate Transactions Incorrectly Detected (False Positives): 4\n",
            "Legitimate Transactions Detected (True Negatives): 28428\n"
          ]
        }
      ]
    },
    {
      "cell_type": "code",
      "metadata": {
        "id": "3dcaLZMH8gq7"
      },
      "source": [
        "models = ['RandomForest', 'XGBoost', 'TensorFlow DNN']\n",
        "tp_df['Model'] = models\n",
        "results = [RF_metrics[0], XGB_metrics[0], TF_Model_metrics[0]]\n",
        "tp_df['baseline'] = results\n",
        "fn_df['Model'] = models\n",
        "results = [RF_metrics[1], XGB_metrics[1], TF_Model_metrics[1]]\n",
        "fn_df['baseline'] = results\n",
        "fp_df['Model'] = models\n",
        "results = [RF_metrics[2], XGB_metrics[2], TF_Model_metrics[2]]\n",
        "fp_df['baseline'] = results\n",
        "tn_df['Model'] = models\n",
        "results = [RF_metrics[3], XGB_metrics[3], TF_Model_metrics[3]]\n",
        "tn_df['baseline'] = results"
      ],
      "execution_count": null,
      "outputs": []
    },
    {
      "cell_type": "code",
      "metadata": {
        "id": "CuPFW6HjiXJS"
      },
      "source": [
        "auprc_df = pd.DataFrame()\n",
        "results = [RF_AUPRC, XGB_AUPRC, TF_Model_AUPRC]\n",
        "auprc_df['Model'] = models\n",
        "auprc_df['baseline'] = results"
      ],
      "execution_count": null,
      "outputs": []
    },
    {
      "cell_type": "markdown",
      "metadata": {
        "id": "cWOidcNr_jN7"
      },
      "source": [
        "# Class Weighting\n",
        "Try to improve this by having our loss function focus more on the minority class. We will do this with class weights during model fitting."
      ]
    },
    {
      "cell_type": "code",
      "metadata": {
        "id": "PzC9W3Yoqg93",
        "colab": {
          "base_uri": "https://localhost:8080/"
        },
        "outputId": "cfffe585-a4d3-4836-c38f-853cfb5884f1"
      },
      "source": [
        "# The “balanced” mode uses the values of y to automatically adjust weights inversely proportional to class frequencies in the input data as \n",
        "# n_samples / (n_classes * np.bincount(y))\n",
        "\n",
        "# The “balanced_subsample” mode is the same as “balanced” except that weights are computed based on the bootstrap sample for every tree grown.\n",
        "\n",
        "classifier = RandomForestClassifier(n_estimators=100, class_weight='balanced', n_jobs=-1, random_state=seed)\n",
        "classifier.fit(x_train, y_train)"
      ],
      "execution_count": null,
      "outputs": [
        {
          "output_type": "execute_result",
          "data": {
            "text/plain": [
              "RandomForestClassifier(class_weight='balanced', n_jobs=-1, random_state=53)"
            ]
          },
          "metadata": {},
          "execution_count": 32
        }
      ]
    },
    {
      "cell_type": "code",
      "metadata": {
        "id": "hneiMXwsreu3",
        "colab": {
          "base_uri": "https://localhost:8080/"
        },
        "outputId": "e5892702-d4e8-4c26-cca8-759ea10eca00"
      },
      "source": [
        "y_pred = classifier.predict(x_test)\n",
        "auprc = tf.keras.metrics.AUC(curve='PR')\n",
        "auprc.update_state(y_test, y_pred)\n",
        "RF_AUPRC = auprc.result().numpy()\n",
        "RF_AUPRC"
      ],
      "execution_count": null,
      "outputs": [
        {
          "output_type": "execute_result",
          "data": {
            "text/plain": [
              "0.77792966"
            ]
          },
          "metadata": {},
          "execution_count": 33
        }
      ]
    },
    {
      "cell_type": "code",
      "metadata": {
        "id": "0MPeHqKtrgMX",
        "colab": {
          "base_uri": "https://localhost:8080/"
        },
        "outputId": "68dcf2d9-ccaa-4c03-d214-5a6b7f8ea890"
      },
      "source": [
        "RF_metrics = compute_metrics(y_test, y_pred)\n",
        "print_metrics(RF_metrics)"
      ],
      "execution_count": null,
      "outputs": [
        {
          "output_type": "stream",
          "name": "stdout",
          "text": [
            "Fraudulent Transactions Detected (True Positives): 39\n",
            "Fraudulent Transactions Missed (False Negatives): 10\n",
            "Legitimate Transactions Incorrectly Detected (False Positives): 1\n",
            "Legitimate Transactions Detected (True Negatives): 28431\n"
          ]
        }
      ]
    },
    {
      "cell_type": "code",
      "metadata": {
        "id": "pxoOhVNfrlE3",
        "colab": {
          "base_uri": "https://localhost:8080/"
        },
        "outputId": "332ca3f9-1694-49f7-b14f-d1a4edcc3215"
      },
      "source": [
        "from math import sqrt\n",
        "scale_pos_weight = sqrt(neg/pos) \n",
        "\n",
        "xgbc = XGBClassifier(objective='binary:logistic', seed=seed, eval_metric='aucpr',\n",
        "                     scale_pos_weight=scale_pos_weight)\n",
        "xgbc.fit(x_train, y_train)"
      ],
      "execution_count": null,
      "outputs": [
        {
          "output_type": "execute_result",
          "data": {
            "text/plain": [
              "XGBClassifier(eval_metric='aucpr', scale_pos_weight=24.02452798416975, seed=53)"
            ]
          },
          "metadata": {},
          "execution_count": 35
        }
      ]
    },
    {
      "cell_type": "code",
      "metadata": {
        "id": "-yhA0mXXrtko",
        "colab": {
          "base_uri": "https://localhost:8080/"
        },
        "outputId": "3a32b30b-0d69-4255-de84-3557cf099451"
      },
      "source": [
        "y_pred = xgbc.predict(x_test)\n",
        "auprc = tf.keras.metrics.AUC(curve='PR')\n",
        "auprc.update_state(y_test, y_pred)\n",
        "XGB_AUPRC = auprc.result().numpy()\n",
        "XGB_AUPRC"
      ],
      "execution_count": null,
      "outputs": [
        {
          "output_type": "execute_result",
          "data": {
            "text/plain": [
              "0.60337055"
            ]
          },
          "metadata": {},
          "execution_count": 36
        }
      ]
    },
    {
      "cell_type": "code",
      "metadata": {
        "id": "l5e4jl58r1dD",
        "colab": {
          "base_uri": "https://localhost:8080/"
        },
        "outputId": "1b2e1b32-fc50-4b19-a6ad-e733fa37c07f"
      },
      "source": [
        "XGB_metrics = compute_metrics(y_test, y_pred)\n",
        "print_metrics(XGB_metrics)"
      ],
      "execution_count": null,
      "outputs": [
        {
          "output_type": "stream",
          "name": "stdout",
          "text": [
            "Fraudulent Transactions Detected (True Positives): 41\n",
            "Fraudulent Transactions Missed (False Negatives): 8\n",
            "Legitimate Transactions Incorrectly Detected (False Positives): 16\n",
            "Legitimate Transactions Detected (True Negatives): 28416\n"
          ]
        }
      ]
    },
    {
      "cell_type": "code",
      "metadata": {
        "id": "jnZBsoFh__kE",
        "colab": {
          "base_uri": "https://localhost:8080/"
        },
        "outputId": "5e417ee9-f1d6-4133-c096-aaf755d514e4"
      },
      "source": [
        "# Scaling by total/2 helps keep the loss to a similar magnitude.\n",
        "# The sum of the weights of all examples stays the same.\n",
        "weight_for_0 = (1 / neg)*(total)/2.0 \n",
        "weight_for_1 = (1 / pos)*(total)/2.0\n",
        "print('Weight for class 0: {:.2f}'.format(weight_for_0))\n",
        "print('Weight for class 1: {:.2f}'.format(weight_for_1))\n",
        "\n",
        "class_weight = {0: weight_for_0, 1: weight_for_1}\n",
        "\n",
        "model = create_model()"
      ],
      "execution_count": null,
      "outputs": [
        {
          "output_type": "stream",
          "name": "stdout",
          "text": [
            "Weight for class 0: 0.50\n",
            "Weight for class 1: 289.09\n",
            "Model: \"model\"\n",
            "_________________________________________________________________\n",
            " Layer (type)                Output Shape              Param #   \n",
            "=================================================================\n",
            " input1 (InputLayer)         [(None, 30)]              0         \n",
            "                                                                 \n",
            " dense (Dense)               (None, 96)                2976      \n",
            "                                                                 \n",
            " batch_normalization (BatchN  (None, 96)               384       \n",
            " ormalization)                                                   \n",
            "                                                                 \n",
            " elu (ELU)                   (None, 96)                0         \n",
            "                                                                 \n",
            " dropout (Dropout)           (None, 96)                0         \n",
            "                                                                 \n",
            " dense_1 (Dense)             (None, 96)                9312      \n",
            "                                                                 \n",
            " batch_normalization_1 (Batc  (None, 96)               384       \n",
            " hNormalization)                                                 \n",
            "                                                                 \n",
            " elu_1 (ELU)                 (None, 96)                0         \n",
            "                                                                 \n",
            " dropout_1 (Dropout)         (None, 96)                0         \n",
            "                                                                 \n",
            " dense_2 (Dense)             (None, 96)                9312      \n",
            "                                                                 \n",
            " batch_normalization_2 (Batc  (None, 96)               384       \n",
            " hNormalization)                                                 \n",
            "                                                                 \n",
            " elu_2 (ELU)                 (None, 96)                0         \n",
            "                                                                 \n",
            " dropout_2 (Dropout)         (None, 96)                0         \n",
            "                                                                 \n",
            " out (Dense)                 (None, 1)                 97        \n",
            "                                                                 \n",
            "=================================================================\n",
            "Total params: 22,849\n",
            "Trainable params: 22,273\n",
            "Non-trainable params: 576\n",
            "_________________________________________________________________\n"
          ]
        }
      ]
    },
    {
      "cell_type": "code",
      "metadata": {
        "id": "tmZnTaHHBORk",
        "colab": {
          "base_uri": "https://localhost:8080/"
        },
        "outputId": "eb89e83f-7885-4149-8ba1-98c175da1f0a"
      },
      "source": [
        "es = EarlyStopping(monitor='val_auprc', patience=30, verbose=1, mode='max',\n",
        "                   restore_best_weights=True)\n",
        "\n",
        "history = model.fit(x_train, y_train, epochs=200, verbose=2, callbacks=[es], \n",
        "                    validation_data=(x_val, y_val), class_weight=class_weight, \n",
        "                    batch_size=BATCH_SIZE)"
      ],
      "execution_count": null,
      "outputs": [
        {
          "output_type": "stream",
          "name": "stdout",
          "text": [
            "Epoch 1/200\n",
            "902/902 - 6s - loss: 0.2843 - auroc: 0.9487 - auprc: 0.3165 - val_loss: 0.1441 - val_auroc: 0.9819 - val_auprc: 0.4293 - 6s/epoch - 7ms/step\n",
            "Epoch 2/200\n",
            "902/902 - 5s - loss: 0.1992 - auroc: 0.9694 - auprc: 0.3579 - val_loss: 0.1075 - val_auroc: 0.9873 - val_auprc: 0.6035 - 5s/epoch - 5ms/step\n",
            "Epoch 3/200\n",
            "902/902 - 5s - loss: 0.1788 - auroc: 0.9767 - auprc: 0.4339 - val_loss: 0.1836 - val_auroc: 0.9896 - val_auprc: 0.4385 - 5s/epoch - 5ms/step\n",
            "Epoch 4/200\n",
            "902/902 - 5s - loss: 0.1881 - auroc: 0.9762 - auprc: 0.4589 - val_loss: 0.0960 - val_auroc: 0.9815 - val_auprc: 0.6014 - 5s/epoch - 5ms/step\n",
            "Epoch 5/200\n",
            "902/902 - 5s - loss: 0.1711 - auroc: 0.9775 - auprc: 0.6034 - val_loss: 0.1120 - val_auroc: 0.9846 - val_auprc: 0.6158 - 5s/epoch - 5ms/step\n",
            "Epoch 6/200\n",
            "902/902 - 5s - loss: 0.1463 - auroc: 0.9844 - auprc: 0.5926 - val_loss: 0.0973 - val_auroc: 0.9883 - val_auprc: 0.6616 - 5s/epoch - 5ms/step\n",
            "Epoch 7/200\n",
            "902/902 - 5s - loss: 0.1403 - auroc: 0.9865 - auprc: 0.5675 - val_loss: 0.1009 - val_auroc: 0.9871 - val_auprc: 0.6803 - 5s/epoch - 5ms/step\n",
            "Epoch 8/200\n",
            "902/902 - 4s - loss: 0.1555 - auroc: 0.9839 - auprc: 0.5293 - val_loss: 0.1276 - val_auroc: 0.9828 - val_auprc: 0.6406 - 4s/epoch - 5ms/step\n",
            "Epoch 9/200\n",
            "902/902 - 5s - loss: 0.1383 - auroc: 0.9859 - auprc: 0.6392 - val_loss: 0.1206 - val_auroc: 0.9902 - val_auprc: 0.6222 - 5s/epoch - 5ms/step\n",
            "Epoch 10/200\n",
            "902/902 - 5s - loss: 0.1308 - auroc: 0.9882 - auprc: 0.6128 - val_loss: 0.0804 - val_auroc: 0.9829 - val_auprc: 0.6810 - 5s/epoch - 5ms/step\n",
            "Epoch 11/200\n",
            "902/902 - 5s - loss: 0.1280 - auroc: 0.9885 - auprc: 0.6711 - val_loss: 0.0887 - val_auroc: 0.9874 - val_auprc: 0.6695 - 5s/epoch - 5ms/step\n",
            "Epoch 12/200\n",
            "902/902 - 4s - loss: 0.1326 - auroc: 0.9868 - auprc: 0.6636 - val_loss: 0.0758 - val_auroc: 0.9843 - val_auprc: 0.6874 - 4s/epoch - 5ms/step\n",
            "Epoch 13/200\n",
            "902/902 - 5s - loss: 0.1238 - auroc: 0.9878 - auprc: 0.6698 - val_loss: 0.0806 - val_auroc: 0.9853 - val_auprc: 0.6673 - 5s/epoch - 5ms/step\n",
            "Epoch 14/200\n",
            "902/902 - 5s - loss: 0.1159 - auroc: 0.9900 - auprc: 0.6275 - val_loss: 0.0473 - val_auroc: 0.9782 - val_auprc: 0.6962 - 5s/epoch - 5ms/step\n",
            "Epoch 15/200\n",
            "902/902 - 5s - loss: 0.1088 - auroc: 0.9920 - auprc: 0.6995 - val_loss: 0.0750 - val_auroc: 0.9801 - val_auprc: 0.6857 - 5s/epoch - 5ms/step\n",
            "Epoch 16/200\n",
            "902/902 - 5s - loss: 0.1124 - auroc: 0.9911 - auprc: 0.6405 - val_loss: 0.0814 - val_auroc: 0.9851 - val_auprc: 0.6723 - 5s/epoch - 5ms/step\n",
            "Epoch 17/200\n",
            "902/902 - 5s - loss: 0.1188 - auroc: 0.9899 - auprc: 0.6032 - val_loss: 0.0965 - val_auroc: 0.9749 - val_auprc: 0.6628 - 5s/epoch - 5ms/step\n",
            "Epoch 18/200\n",
            "902/902 - 5s - loss: 0.1127 - auroc: 0.9922 - auprc: 0.6238 - val_loss: 0.0686 - val_auroc: 0.9764 - val_auprc: 0.6959 - 5s/epoch - 5ms/step\n",
            "Epoch 19/200\n",
            "902/902 - 5s - loss: 0.1159 - auroc: 0.9894 - auprc: 0.7081 - val_loss: 0.0895 - val_auroc: 0.9799 - val_auprc: 0.6938 - 5s/epoch - 5ms/step\n",
            "Epoch 20/200\n",
            "902/902 - 5s - loss: 0.1028 - auroc: 0.9928 - auprc: 0.6091 - val_loss: 0.0738 - val_auroc: 0.9801 - val_auprc: 0.6994 - 5s/epoch - 5ms/step\n",
            "Epoch 21/200\n",
            "902/902 - 5s - loss: 0.0999 - auroc: 0.9936 - auprc: 0.6455 - val_loss: 0.0768 - val_auroc: 0.9750 - val_auprc: 0.6998 - 5s/epoch - 5ms/step\n",
            "Epoch 22/200\n",
            "902/902 - 4s - loss: 0.0948 - auroc: 0.9947 - auprc: 0.6238 - val_loss: 0.0757 - val_auroc: 0.9789 - val_auprc: 0.6510 - 4s/epoch - 5ms/step\n",
            "Epoch 23/200\n",
            "902/902 - 4s - loss: 0.1041 - auroc: 0.9920 - auprc: 0.6434 - val_loss: 0.0841 - val_auroc: 0.9825 - val_auprc: 0.6858 - 4s/epoch - 5ms/step\n",
            "Epoch 24/200\n",
            "902/902 - 4s - loss: 0.1038 - auroc: 0.9929 - auprc: 0.6470 - val_loss: 0.0695 - val_auroc: 0.9726 - val_auprc: 0.6972 - 4s/epoch - 5ms/step\n",
            "Epoch 25/200\n",
            "902/902 - 5s - loss: 0.0860 - auroc: 0.9957 - auprc: 0.6497 - val_loss: 0.0559 - val_auroc: 0.9769 - val_auprc: 0.6703 - 5s/epoch - 5ms/step\n",
            "Epoch 26/200\n",
            "902/902 - 4s - loss: 0.0990 - auroc: 0.9935 - auprc: 0.6302 - val_loss: 0.0735 - val_auroc: 0.9719 - val_auprc: 0.6835 - 4s/epoch - 5ms/step\n",
            "Epoch 27/200\n",
            "902/902 - 4s - loss: 0.0925 - auroc: 0.9947 - auprc: 0.6624 - val_loss: 0.0756 - val_auroc: 0.9739 - val_auprc: 0.6491 - 4s/epoch - 5ms/step\n",
            "Epoch 28/200\n",
            "902/902 - 5s - loss: 0.0896 - auroc: 0.9950 - auprc: 0.6248 - val_loss: 0.0859 - val_auroc: 0.9788 - val_auprc: 0.5871 - 5s/epoch - 5ms/step\n",
            "Epoch 29/200\n",
            "902/902 - 5s - loss: 0.0903 - auroc: 0.9947 - auprc: 0.6121 - val_loss: 0.0893 - val_auroc: 0.9751 - val_auprc: 0.5753 - 5s/epoch - 5ms/step\n",
            "Epoch 30/200\n",
            "902/902 - 5s - loss: 0.0931 - auroc: 0.9939 - auprc: 0.6456 - val_loss: 0.0646 - val_auroc: 0.9662 - val_auprc: 0.5934 - 5s/epoch - 5ms/step\n",
            "Epoch 31/200\n",
            "902/902 - 5s - loss: 0.0926 - auroc: 0.9946 - auprc: 0.6380 - val_loss: 0.0384 - val_auroc: 0.9674 - val_auprc: 0.6995 - 5s/epoch - 5ms/step\n",
            "Epoch 32/200\n",
            "902/902 - 5s - loss: 0.0937 - auroc: 0.9947 - auprc: 0.6310 - val_loss: 0.0676 - val_auroc: 0.9674 - val_auprc: 0.6354 - 5s/epoch - 5ms/step\n",
            "Epoch 33/200\n",
            "902/902 - 5s - loss: 0.0915 - auroc: 0.9943 - auprc: 0.6521 - val_loss: 0.0596 - val_auroc: 0.9660 - val_auprc: 0.6857 - 5s/epoch - 5ms/step\n",
            "Epoch 34/200\n",
            "902/902 - 5s - loss: 0.0799 - auroc: 0.9960 - auprc: 0.6265 - val_loss: 0.0476 - val_auroc: 0.9670 - val_auprc: 0.6887 - 5s/epoch - 5ms/step\n",
            "Epoch 35/200\n",
            "902/902 - 5s - loss: 0.0834 - auroc: 0.9953 - auprc: 0.6038 - val_loss: 0.0592 - val_auroc: 0.9675 - val_auprc: 0.6335 - 5s/epoch - 5ms/step\n",
            "Epoch 36/200\n",
            "902/902 - 5s - loss: 0.0900 - auroc: 0.9946 - auprc: 0.6607 - val_loss: 0.0596 - val_auroc: 0.9672 - val_auprc: 0.6653 - 5s/epoch - 5ms/step\n",
            "Epoch 37/200\n",
            "902/902 - 5s - loss: 0.0802 - auroc: 0.9951 - auprc: 0.6621 - val_loss: 0.0860 - val_auroc: 0.9759 - val_auprc: 0.5430 - 5s/epoch - 5ms/step\n",
            "Epoch 38/200\n",
            "902/902 - 5s - loss: 0.0809 - auroc: 0.9959 - auprc: 0.6084 - val_loss: 0.0431 - val_auroc: 0.9694 - val_auprc: 0.6678 - 5s/epoch - 5ms/step\n",
            "Epoch 39/200\n",
            "902/902 - 5s - loss: 0.0808 - auroc: 0.9956 - auprc: 0.6305 - val_loss: 0.0743 - val_auroc: 0.9675 - val_auprc: 0.6535 - 5s/epoch - 5ms/step\n",
            "Epoch 40/200\n",
            "902/902 - 4s - loss: 0.0811 - auroc: 0.9961 - auprc: 0.6486 - val_loss: 0.0479 - val_auroc: 0.9689 - val_auprc: 0.6553 - 4s/epoch - 5ms/step\n",
            "Epoch 41/200\n",
            "902/902 - 5s - loss: 0.0832 - auroc: 0.9956 - auprc: 0.6218 - val_loss: 0.0794 - val_auroc: 0.9678 - val_auprc: 0.5917 - 5s/epoch - 5ms/step\n",
            "Epoch 42/200\n",
            "902/902 - 4s - loss: 0.0666 - auroc: 0.9973 - auprc: 0.6363 - val_loss: 0.0550 - val_auroc: 0.9701 - val_auprc: 0.6041 - 4s/epoch - 5ms/step\n",
            "Epoch 43/200\n",
            "902/902 - 5s - loss: 0.0660 - auroc: 0.9972 - auprc: 0.6168 - val_loss: 0.0735 - val_auroc: 0.9697 - val_auprc: 0.5172 - 5s/epoch - 5ms/step\n",
            "Epoch 44/200\n",
            "902/902 - 5s - loss: 0.0805 - auroc: 0.9957 - auprc: 0.6051 - val_loss: 0.1080 - val_auroc: 0.9772 - val_auprc: 0.4335 - 5s/epoch - 5ms/step\n",
            "Epoch 45/200\n",
            "902/902 - 4s - loss: 0.0761 - auroc: 0.9961 - auprc: 0.6128 - val_loss: 0.0663 - val_auroc: 0.9689 - val_auprc: 0.6734 - 4s/epoch - 5ms/step\n",
            "Epoch 46/200\n",
            "902/902 - 5s - loss: 0.0740 - auroc: 0.9965 - auprc: 0.6197 - val_loss: 0.0565 - val_auroc: 0.9695 - val_auprc: 0.6334 - 5s/epoch - 5ms/step\n",
            "Epoch 47/200\n",
            "902/902 - 5s - loss: 0.0657 - auroc: 0.9973 - auprc: 0.6175 - val_loss: 0.0567 - val_auroc: 0.9699 - val_auprc: 0.6219 - 5s/epoch - 5ms/step\n",
            "Epoch 48/200\n",
            "902/902 - 4s - loss: 0.0695 - auroc: 0.9970 - auprc: 0.5773 - val_loss: 0.0457 - val_auroc: 0.9707 - val_auprc: 0.6511 - 4s/epoch - 5ms/step\n",
            "Epoch 49/200\n",
            "902/902 - 5s - loss: 0.0776 - auroc: 0.9956 - auprc: 0.5952 - val_loss: 0.0537 - val_auroc: 0.9699 - val_auprc: 0.6413 - 5s/epoch - 5ms/step\n",
            "Epoch 50/200\n",
            "902/902 - 4s - loss: 0.0681 - auroc: 0.9960 - auprc: 0.6193 - val_loss: 0.0544 - val_auroc: 0.9698 - val_auprc: 0.6426 - 4s/epoch - 5ms/step\n",
            "Epoch 51/200\n",
            "Restoring model weights from the end of the best epoch: 21.\n",
            "902/902 - 5s - loss: 0.0746 - auroc: 0.9966 - auprc: 0.6439 - val_loss: 0.0563 - val_auroc: 0.9696 - val_auprc: 0.6249 - 5s/epoch - 5ms/step\n",
            "Epoch 51: early stopping\n"
          ]
        }
      ]
    },
    {
      "cell_type": "code",
      "metadata": {
        "id": "384UfdIOGKlb",
        "colab": {
          "base_uri": "https://localhost:8080/"
        },
        "outputId": "2ba49085-252e-4eb0-cda9-7da3ae4940db"
      },
      "source": [
        "model.evaluate(x_test, y_test)"
      ],
      "execution_count": null,
      "outputs": [
        {
          "output_type": "stream",
          "name": "stdout",
          "text": [
            "891/891 [==============================] - 3s 3ms/step - loss: 0.0762 - auroc: 0.9888 - auprc: 0.6846\n"
          ]
        },
        {
          "output_type": "execute_result",
          "data": {
            "text/plain": [
              "[0.07616373151540756, 0.9888150691986084, 0.6846405863761902]"
            ]
          },
          "metadata": {},
          "execution_count": 40
        }
      ]
    },
    {
      "cell_type": "code",
      "metadata": {
        "id": "kOsVDA61Cyed",
        "colab": {
          "base_uri": "https://localhost:8080/",
          "height": 839
        },
        "outputId": "f831681b-3fec-456d-d89f-4e5b571b13c8"
      },
      "source": [
        "import matplotlib.pyplot as plt\n",
        "import seaborn as sns\n",
        "\n",
        "history = history.history\n",
        "\n",
        "fig, (ax1, ax2) = plt.subplots(2, 1, sharex='col', figsize=(20, 14))\n",
        "\n",
        "ax1.plot(history['loss'], label='Train loss')\n",
        "ax1.plot(history['val_loss'], label='Validation loss')\n",
        "ax1.legend(loc='best')\n",
        "ax1.set_title('Loss')\n",
        "\n",
        "ax2.plot(history['auprc'], label='Train accuracy')\n",
        "ax2.plot(history['val_auprc'], label='Validation accuracy')\n",
        "ax2.legend(loc='best')\n",
        "ax2.set_title('AUPRC')\n",
        "\n",
        "plt.xlabel('Epochs')\n",
        "sns.despine()\n",
        "plt.show()"
      ],
      "execution_count": null,
      "outputs": [
        {
          "output_type": "display_data",
          "data": {
            "text/plain": [
              "<Figure size 1440x1008 with 2 Axes>"
            ],
            "image/png": "[encoded data removed]"
          },
          "metadata": {
            "needs_background": "light"
          }
        }
      ]
    },
    {
      "cell_type": "code",
      "metadata": {
        "id": "LMxNdSAVDBCv",
        "colab": {
          "base_uri": "https://localhost:8080/"
        },
        "outputId": "00baf13c-e419-4960-89c1-965ae252a995"
      },
      "source": [
        "y_pred = model.predict(x_test)\n",
        "auprc = tf.keras.metrics.AUC(curve='PR')\n",
        "auprc.update_state(y_test, y_pred)\n",
        "TF_Model_AUPRC = auprc.result().numpy()\n",
        "TF_Model_AUPRC"
      ],
      "execution_count": null,
      "outputs": [
        {
          "output_type": "execute_result",
          "data": {
            "text/plain": [
              "0.6846406"
            ]
          },
          "metadata": {},
          "execution_count": 42
        }
      ]
    },
    {
      "cell_type": "code",
      "metadata": {
        "id": "ZGB6txm8DFRB",
        "colab": {
          "base_uri": "https://localhost:8080/"
        },
        "outputId": "0543833e-864d-4628-ad30-e608efb82c24"
      },
      "source": [
        "TF_Model_metrics = compute_metrics(y_test, y_pred)\n",
        "print_metrics(TF_Model_metrics)"
      ],
      "execution_count": null,
      "outputs": [
        {
          "output_type": "stream",
          "name": "stdout",
          "text": [
            "Fraudulent Transactions Detected (True Positives): 43\n",
            "Fraudulent Transactions Missed (False Negatives): 6\n",
            "Legitimate Transactions Incorrectly Detected (False Positives): 690\n",
            "Legitimate Transactions Detected (True Negatives): 27742\n"
          ]
        }
      ]
    },
    {
      "cell_type": "code",
      "metadata": {
        "id": "EEXM5WWALe54",
        "colab": {
          "base_uri": "https://localhost:8080/"
        },
        "outputId": "33f4b689-2dbc-48e4-f139-2d006f9753b3"
      },
      "source": [
        "print('RF_AUPRC: ' + str(RF_AUPRC))\n",
        "print('XGB_AUPRC: ' + str(XGB_AUPRC))\n",
        "print('TF_Model_AUPRC: ' + str(TF_Model_AUPRC))"
      ],
      "execution_count": null,
      "outputs": [
        {
          "output_type": "stream",
          "name": "stdout",
          "text": [
            "RF_AUPRC: 0.77792966\n",
            "XGB_AUPRC: 0.60337055\n",
            "TF_Model_AUPRC: 0.6846406\n"
          ]
        }
      ]
    },
    {
      "cell_type": "code",
      "metadata": {
        "id": "ScVq6r8Fplej",
        "colab": {
          "base_uri": "https://localhost:8080/"
        },
        "outputId": "7f3a7b68-2955-4099-da9e-963f56de08cb"
      },
      "source": [
        "print('Random Forest ********************')\n",
        "print_metrics(RF_metrics)\n",
        "print('XGBoost **************************')\n",
        "print_metrics(XGB_metrics)\n",
        "print('TensorFlow DNN Model ************')\n",
        "print_metrics(TF_Model_metrics)\n"
      ],
      "execution_count": null,
      "outputs": [
        {
          "output_type": "stream",
          "name": "stdout",
          "text": [
            "Random Forest ********************\n",
            "Fraudulent Transactions Detected (True Positives): 39\n",
            "Fraudulent Transactions Missed (False Negatives): 10\n",
            "Legitimate Transactions Incorrectly Detected (False Positives): 1\n",
            "Legitimate Transactions Detected (True Negatives): 28431\n",
            "XGBoost **************************\n",
            "Fraudulent Transactions Detected (True Positives): 41\n",
            "Fraudulent Transactions Missed (False Negatives): 8\n",
            "Legitimate Transactions Incorrectly Detected (False Positives): 16\n",
            "Legitimate Transactions Detected (True Negatives): 28416\n",
            "TensorFlow DNN Model ************\n",
            "Fraudulent Transactions Detected (True Positives): 43\n",
            "Fraudulent Transactions Missed (False Negatives): 6\n",
            "Legitimate Transactions Incorrectly Detected (False Positives): 690\n",
            "Legitimate Transactions Detected (True Negatives): 27742\n"
          ]
        }
      ]
    },
    {
      "cell_type": "markdown",
      "metadata": {
        "id": "FY33WTB9sk8J"
      },
      "source": [
        "So we are improving on Recall, but worse on Precision\n",
        "\n"
      ]
    },
    {
      "cell_type": "code",
      "metadata": {
        "id": "bJ6p-ZDl-GG6"
      },
      "source": [
        "tp_df['Model'] = models\n",
        "results = [RF_metrics[0], XGB_metrics[0], TF_Model_metrics[0]]\n",
        "tp_df['class weighted'] = results\n",
        "fn_df['Model'] = models\n",
        "results = [RF_metrics[1], XGB_metrics[1], TF_Model_metrics[1]]\n",
        "fn_df['class weighted'] = results\n",
        "fp_df['Model'] = models\n",
        "results = [RF_metrics[2], XGB_metrics[2], TF_Model_metrics[2]]\n",
        "fp_df['class weighted'] = results\n",
        "tn_df['Model'] = models\n",
        "results = [RF_metrics[3], XGB_metrics[3], TF_Model_metrics[3]]\n",
        "tn_df['class weighted'] = results"
      ],
      "execution_count": null,
      "outputs": []
    },
    {
      "cell_type": "code",
      "metadata": {
        "id": "fAfdynsljQOV"
      },
      "source": [
        "results = [RF_AUPRC, XGB_AUPRC, TF_Model_AUPRC]\n",
        "auprc_df['class weighted'] = results"
      ],
      "execution_count": null,
      "outputs": []
    },
    {
      "cell_type": "markdown",
      "metadata": {
        "id": "lA0S-o19BxTg"
      },
      "source": [
        "# Undersampling (Random)"
      ]
    },
    {
      "cell_type": "code",
      "source": [
        "import imblearn\n",
        "imblearn.__version__"
      ],
      "metadata": {
        "colab": {
          "base_uri": "https://localhost:8080/",
          "height": 35
        },
        "id": "djLWDZrLISQs",
        "outputId": "95dbd360-aa4f-4d49-8276-9621c4d40d4d"
      },
      "execution_count": null,
      "outputs": [
        {
          "output_type": "execute_result",
          "data": {
            "text/plain": [
              "'0.8.1'"
            ],
            "application/vnd.google.colaboratory.intrinsic+json": {
              "type": "string"
            }
          },
          "metadata": {},
          "execution_count": 48
        }
      ]
    },
    {
      "cell_type": "code",
      "metadata": {
        "id": "gY26G8__B0NQ",
        "colab": {
          "base_uri": "https://localhost:8080/"
        },
        "outputId": "e8f06d9d-1636-47c4-ea26-b1e6ef85ed73"
      },
      "source": [
        "x_train, y_train, x_val, y_val, x_test, y_test = prep_data()\n",
        "\n",
        "from numpy import bincount\n",
        "neg, pos = bincount(y_train)\n",
        "print('Original balance: ' + str(neg) + ' non-fraud, ' + str(pos) + ' fraud')\n",
        "\n",
        "from imblearn.under_sampling import RandomUnderSampler\n",
        "rus = RandomUnderSampler(random_state=seed)\n",
        "x_train, y_train = rus.fit_resample(x_train, y_train)\n",
        "\n",
        "neg, pos = bincount(y_train)\n",
        "print('New balance: ' + str(neg) + ' non-fraud, ' + str(pos) + ' fraud')"
      ],
      "execution_count": null,
      "outputs": [
        {
          "output_type": "stream",
          "name": "stdout",
          "text": [
            "Original balance: 230294 non-fraud, 399 fraud\n",
            "New balance: 399 non-fraud, 399 fraud\n"
          ]
        }
      ]
    },
    {
      "cell_type": "code",
      "metadata": {
        "id": "bSecjdVZCq5n",
        "colab": {
          "base_uri": "https://localhost:8080/"
        },
        "outputId": "110e0315-4d90-47c4-a58b-a36bbc98df72"
      },
      "source": [
        "classifier = RandomForestClassifier(n_estimators=100, n_jobs=-1, random_state=seed)\n",
        "classifier.fit(x_train, y_train)"
      ],
      "execution_count": null,
      "outputs": [
        {
          "output_type": "execute_result",
          "data": {
            "text/plain": [
              "RandomForestClassifier(n_jobs=-1, random_state=53)"
            ]
          },
          "metadata": {},
          "execution_count": 50
        }
      ]
    },
    {
      "cell_type": "code",
      "metadata": {
        "id": "1pAVtFnMkbgm",
        "colab": {
          "base_uri": "https://localhost:8080/"
        },
        "outputId": "b2047707-fb24-42ac-eee8-56ad99dbe2e5"
      },
      "source": [
        "columns = train.columns.to_list()\n",
        "columns.remove('Class')\n",
        "print(\"The Features Importance are: \")  \n",
        "for feature, value in zip(columns, classifier.feature_importances_):\n",
        "        print(feature, value)"
      ],
      "execution_count": null,
      "outputs": [
        {
          "output_type": "stream",
          "name": "stdout",
          "text": [
            "The Features Importance are: \n",
            "Time 0.0036744282872588465\n",
            "V1 0.007721844196486206\n",
            "V2 0.023750228094047237\n",
            "V3 0.0529755975469737\n",
            "V4 0.10828660894422383\n",
            "V5 0.007884729475438931\n",
            "V6 0.018611606108049294\n",
            "V7 0.0614997715755408\n",
            "V8 0.01042431099576732\n",
            "V9 0.015386858574537017\n",
            "V10 0.09851057050191539\n",
            "V11 0.047926039024779286\n",
            "V12 0.08958684626640849\n",
            "V13 0.008488036727374778\n",
            "V14 0.21881762621259132\n",
            "V15 0.006919781369908638\n",
            "V16 0.050807560582725744\n",
            "V17 0.06812601430249592\n",
            "V18 0.006204462223725774\n",
            "V19 0.015814475289194087\n",
            "V20 0.008065364814657243\n",
            "V21 0.011489096091259397\n",
            "V22 0.004456756122211701\n",
            "V23 0.0077402561434883055\n",
            "V24 0.006252842805145676\n",
            "V25 0.006771086117338083\n",
            "V26 0.006634546881595723\n",
            "V27 0.006409502767302248\n",
            "V28 0.00870776046151028\n",
            "Amount 0.012055391496048774\n"
          ]
        }
      ]
    },
    {
      "cell_type": "code",
      "metadata": {
        "id": "AuQrgf4RCu7u",
        "colab": {
          "base_uri": "https://localhost:8080/"
        },
        "outputId": "be0caf12-7953-40db-d66c-70776e3d0e0d"
      },
      "source": [
        "y_pred = classifier.predict(x_test)\n",
        "auprc = tf.keras.metrics.AUC(curve='PR')\n",
        "auprc.update_state(y_test, y_pred)\n",
        "RF_AUPRC = auprc.result().numpy()\n",
        "RF_AUPRC"
      ],
      "execution_count": null,
      "outputs": [
        {
          "output_type": "execute_result",
          "data": {
            "text/plain": [
              "0.043756925"
            ]
          },
          "metadata": {},
          "execution_count": 52
        }
      ]
    },
    {
      "cell_type": "code",
      "metadata": {
        "id": "Ud7bVvKDCyaJ",
        "colab": {
          "base_uri": "https://localhost:8080/"
        },
        "outputId": "48e4f336-49dc-478e-f21d-cb56c862f8a9"
      },
      "source": [
        "RF_metrics = compute_metrics(y_test, y_pred)\n",
        "print_metrics(RF_metrics)"
      ],
      "execution_count": null,
      "outputs": [
        {
          "output_type": "stream",
          "name": "stdout",
          "text": [
            "Fraudulent Transactions Detected (True Positives): 44\n",
            "Fraudulent Transactions Missed (False Negatives): 5\n",
            "Legitimate Transactions Incorrectly Detected (False Positives): 871\n",
            "Legitimate Transactions Detected (True Negatives): 27561\n"
          ]
        }
      ]
    },
    {
      "cell_type": "code",
      "metadata": {
        "id": "wUga9j9mCyj4",
        "colab": {
          "base_uri": "https://localhost:8080/"
        },
        "outputId": "147e0eaf-0146-4799-f516-b9387c9e0829"
      },
      "source": [
        "xgbc = XGBClassifier(objective='binary:logistic', seed=seed, eval_metric='aucpr')\n",
        "xgbc.fit(x_train, y_train)"
      ],
      "execution_count": null,
      "outputs": [
        {
          "output_type": "execute_result",
          "data": {
            "text/plain": [
              "XGBClassifier(eval_metric='aucpr', seed=53)"
            ]
          },
          "metadata": {},
          "execution_count": 54
        }
      ]
    },
    {
      "cell_type": "code",
      "metadata": {
        "id": "JFIkPD1qC_UG",
        "colab": {
          "base_uri": "https://localhost:8080/"
        },
        "outputId": "2d2ac144-0a36-4994-862f-530b20cb4e14"
      },
      "source": [
        "y_pred = xgbc.predict(x_test)\n",
        "auprc = tf.keras.metrics.AUC(curve='PR')\n",
        "auprc.update_state(y_test, y_pred)\n",
        "XGB_AUPRC = auprc.result().numpy()\n",
        "XGB_AUPRC"
      ],
      "execution_count": null,
      "outputs": [
        {
          "output_type": "execute_result",
          "data": {
            "text/plain": [
              "0.034514435"
            ]
          },
          "metadata": {},
          "execution_count": 55
        }
      ]
    },
    {
      "cell_type": "code",
      "metadata": {
        "id": "QZspvlUPDEr5",
        "colab": {
          "base_uri": "https://localhost:8080/"
        },
        "outputId": "2a6bc3ff-0d01-4541-f57f-588a71e870d9"
      },
      "source": [
        "XGB_metrics = compute_metrics(y_test, y_pred)\n",
        "print_metrics(XGB_metrics)"
      ],
      "execution_count": null,
      "outputs": [
        {
          "output_type": "stream",
          "name": "stdout",
          "text": [
            "Fraudulent Transactions Detected (True Positives): 44\n",
            "Fraudulent Transactions Missed (False Negatives): 5\n",
            "Legitimate Transactions Incorrectly Detected (False Positives): 1119\n",
            "Legitimate Transactions Detected (True Negatives): 27313\n"
          ]
        }
      ]
    },
    {
      "cell_type": "code",
      "metadata": {
        "id": "8VtBMoWPDIZy",
        "colab": {
          "base_uri": "https://localhost:8080/"
        },
        "outputId": "8e9ca1fa-2dbb-415a-b283-0a0d0a68b7e9"
      },
      "source": [
        "model = create_model()"
      ],
      "execution_count": null,
      "outputs": [
        {
          "output_type": "stream",
          "name": "stdout",
          "text": [
            "Model: \"model\"\n",
            "_________________________________________________________________\n",
            " Layer (type)                Output Shape              Param #   \n",
            "=================================================================\n",
            " input1 (InputLayer)         [(None, 30)]              0         \n",
            "                                                                 \n",
            " dense (Dense)               (None, 96)                2976      \n",
            "                                                                 \n",
            " batch_normalization (BatchN  (None, 96)               384       \n",
            " ormalization)                                                   \n",
            "                                                                 \n",
            " elu (ELU)                   (None, 96)                0         \n",
            "                                                                 \n",
            " dropout (Dropout)           (None, 96)                0         \n",
            "                                                                 \n",
            " dense_1 (Dense)             (None, 96)                9312      \n",
            "                                                                 \n",
            " batch_normalization_1 (Batc  (None, 96)               384       \n",
            " hNormalization)                                                 \n",
            "                                                                 \n",
            " elu_1 (ELU)                 (None, 96)                0         \n",
            "                                                                 \n",
            " dropout_1 (Dropout)         (None, 96)                0         \n",
            "                                                                 \n",
            " dense_2 (Dense)             (None, 96)                9312      \n",
            "                                                                 \n",
            " batch_normalization_2 (Batc  (None, 96)               384       \n",
            " hNormalization)                                                 \n",
            "                                                                 \n",
            " elu_2 (ELU)                 (None, 96)                0         \n",
            "                                                                 \n",
            " dropout_2 (Dropout)         (None, 96)                0         \n",
            "                                                                 \n",
            " out (Dense)                 (None, 1)                 97        \n",
            "                                                                 \n",
            "=================================================================\n",
            "Total params: 22,849\n",
            "Trainable params: 22,273\n",
            "Non-trainable params: 576\n",
            "_________________________________________________________________\n"
          ]
        }
      ]
    },
    {
      "cell_type": "code",
      "metadata": {
        "id": "QS3moq6eDOHW",
        "colab": {
          "base_uri": "https://localhost:8080/"
        },
        "outputId": "6417be57-fc3a-4125-9747-9d2e0350067b"
      },
      "source": [
        "es = EarlyStopping(monitor='val_auprc', patience=30, verbose=1, mode='max',\n",
        "                   restore_best_weights=True)\n",
        "history = model.fit(x_train, y_train, epochs=200, verbose=2, callbacks=[es], \n",
        "                    validation_data=(x_val, y_val), batch_size=8)"
      ],
      "execution_count": null,
      "outputs": [
        {
          "output_type": "stream",
          "name": "stdout",
          "text": [
            "Epoch 1/200\n",
            "100/100 - 10s - loss: 0.4269 - auroc: 0.8894 - auprc: 0.9173 - val_loss: 0.1081 - val_auroc: 0.9774 - val_auprc: 0.5597 - 10s/epoch - 101ms/step\n",
            "Epoch 2/200\n",
            "100/100 - 11s - loss: 0.3306 - auroc: 0.9279 - auprc: 0.9466 - val_loss: 0.0628 - val_auroc: 0.9716 - val_auprc: 0.4490 - 11s/epoch - 107ms/step\n",
            "Epoch 3/200\n",
            "100/100 - 11s - loss: 0.2982 - auroc: 0.9451 - auprc: 0.9541 - val_loss: 0.0385 - val_auroc: 0.9763 - val_auprc: 0.5682 - 11s/epoch - 107ms/step\n",
            "Epoch 4/200\n",
            "100/100 - 11s - loss: 0.3105 - auroc: 0.9380 - auprc: 0.9527 - val_loss: 0.0635 - val_auroc: 0.9781 - val_auprc: 0.5934 - 11s/epoch - 107ms/step\n",
            "Epoch 5/200\n",
            "100/100 - 11s - loss: 0.2878 - auroc: 0.9445 - auprc: 0.9575 - val_loss: 0.0650 - val_auroc: 0.9800 - val_auprc: 0.6546 - 11s/epoch - 107ms/step\n",
            "Epoch 6/200\n",
            "100/100 - 11s - loss: 0.3107 - auroc: 0.9396 - auprc: 0.9504 - val_loss: 0.0836 - val_auroc: 0.9831 - val_auprc: 0.6319 - 11s/epoch - 107ms/step\n",
            "Epoch 7/200\n",
            "100/100 - 11s - loss: 0.2646 - auroc: 0.9508 - auprc: 0.9639 - val_loss: 0.0919 - val_auroc: 0.9817 - val_auprc: 0.5884 - 11s/epoch - 107ms/step\n",
            "Epoch 8/200\n",
            "100/100 - 11s - loss: 0.2807 - auroc: 0.9505 - auprc: 0.9556 - val_loss: 0.0662 - val_auroc: 0.9773 - val_auprc: 0.6275 - 11s/epoch - 107ms/step\n",
            "Epoch 9/200\n",
            "100/100 - 11s - loss: 0.2240 - auroc: 0.9650 - auprc: 0.9746 - val_loss: 0.0623 - val_auroc: 0.9786 - val_auprc: 0.6357 - 11s/epoch - 107ms/step\n",
            "Epoch 10/200\n",
            "100/100 - 11s - loss: 0.2358 - auroc: 0.9607 - auprc: 0.9695 - val_loss: 0.0817 - val_auroc: 0.9849 - val_auprc: 0.5935 - 11s/epoch - 107ms/step\n",
            "Epoch 11/200\n",
            "100/100 - 8s - loss: 0.2703 - auroc: 0.9524 - auprc: 0.9635 - val_loss: 0.1009 - val_auroc: 0.9839 - val_auprc: 0.6111 - 8s/epoch - 84ms/step\n",
            "Epoch 12/200\n",
            "100/100 - 11s - loss: 0.2586 - auroc: 0.9546 - auprc: 0.9608 - val_loss: 0.0719 - val_auroc: 0.9858 - val_auprc: 0.5094 - 11s/epoch - 107ms/step\n",
            "Epoch 13/200\n",
            "100/100 - 11s - loss: 0.2553 - auroc: 0.9571 - auprc: 0.9654 - val_loss: 0.0890 - val_auroc: 0.9812 - val_auprc: 0.5724 - 11s/epoch - 107ms/step\n",
            "Epoch 14/200\n",
            "100/100 - 11s - loss: 0.2512 - auroc: 0.9584 - auprc: 0.9653 - val_loss: 0.0657 - val_auroc: 0.9811 - val_auprc: 0.6014 - 11s/epoch - 107ms/step\n",
            "Epoch 15/200\n",
            "100/100 - 8s - loss: 0.2438 - auroc: 0.9594 - auprc: 0.9682 - val_loss: 0.0610 - val_auroc: 0.9846 - val_auprc: 0.6465 - 8s/epoch - 83ms/step\n",
            "Epoch 16/200\n",
            "100/100 - 8s - loss: 0.2600 - auroc: 0.9542 - auprc: 0.9611 - val_loss: 0.0935 - val_auroc: 0.9829 - val_auprc: 0.6643 - 8s/epoch - 84ms/step\n",
            "Epoch 17/200\n",
            "100/100 - 11s - loss: 0.2615 - auroc: 0.9524 - auprc: 0.9646 - val_loss: 0.0787 - val_auroc: 0.9843 - val_auprc: 0.6592 - 11s/epoch - 107ms/step\n",
            "Epoch 18/200\n",
            "100/100 - 11s - loss: 0.2893 - auroc: 0.9410 - auprc: 0.9560 - val_loss: 0.1117 - val_auroc: 0.9858 - val_auprc: 0.6531 - 11s/epoch - 107ms/step\n",
            "Epoch 19/200\n",
            "100/100 - 11s - loss: 0.2653 - auroc: 0.9528 - auprc: 0.9638 - val_loss: 0.0906 - val_auroc: 0.9836 - val_auprc: 0.5777 - 11s/epoch - 107ms/step\n",
            "Epoch 20/200\n",
            "100/100 - 11s - loss: 0.2651 - auroc: 0.9559 - auprc: 0.9589 - val_loss: 0.0976 - val_auroc: 0.9810 - val_auprc: 0.5781 - 11s/epoch - 107ms/step\n",
            "Epoch 21/200\n",
            "100/100 - 8s - loss: 0.2757 - auroc: 0.9525 - auprc: 0.9600 - val_loss: 0.0669 - val_auroc: 0.9818 - val_auprc: 0.5676 - 8s/epoch - 83ms/step\n",
            "Epoch 22/200\n",
            "100/100 - 11s - loss: 0.2447 - auroc: 0.9561 - auprc: 0.9667 - val_loss: 0.0913 - val_auroc: 0.9798 - val_auprc: 0.5599 - 11s/epoch - 107ms/step\n",
            "Epoch 23/200\n",
            "100/100 - 11s - loss: 0.2553 - auroc: 0.9533 - auprc: 0.9640 - val_loss: 0.1202 - val_auroc: 0.9825 - val_auprc: 0.5090 - 11s/epoch - 107ms/step\n",
            "Epoch 24/200\n",
            "100/100 - 11s - loss: 0.2496 - auroc: 0.9533 - auprc: 0.9655 - val_loss: 0.0779 - val_auroc: 0.9835 - val_auprc: 0.5595 - 11s/epoch - 107ms/step\n",
            "Epoch 25/200\n",
            "100/100 - 11s - loss: 0.2661 - auroc: 0.9553 - auprc: 0.9609 - val_loss: 0.1016 - val_auroc: 0.9835 - val_auprc: 0.5424 - 11s/epoch - 107ms/step\n",
            "Epoch 26/200\n",
            "100/100 - 11s - loss: 0.2600 - auroc: 0.9537 - auprc: 0.9637 - val_loss: 0.1085 - val_auroc: 0.9841 - val_auprc: 0.5851 - 11s/epoch - 107ms/step\n",
            "Epoch 27/200\n",
            "100/100 - 11s - loss: 0.2267 - auroc: 0.9666 - auprc: 0.9714 - val_loss: 0.0840 - val_auroc: 0.9839 - val_auprc: 0.5664 - 11s/epoch - 107ms/step\n",
            "Epoch 28/200\n",
            "100/100 - 11s - loss: 0.2464 - auroc: 0.9588 - auprc: 0.9678 - val_loss: 0.0834 - val_auroc: 0.9836 - val_auprc: 0.6319 - 11s/epoch - 107ms/step\n",
            "Epoch 29/200\n",
            "100/100 - 11s - loss: 0.2748 - auroc: 0.9495 - auprc: 0.9602 - val_loss: 0.0979 - val_auroc: 0.9817 - val_auprc: 0.6251 - 11s/epoch - 107ms/step\n",
            "Epoch 30/200\n",
            "100/100 - 8s - loss: 0.2442 - auroc: 0.9585 - auprc: 0.9681 - val_loss: 0.0944 - val_auroc: 0.9819 - val_auprc: 0.6448 - 8s/epoch - 83ms/step\n",
            "Epoch 31/200\n",
            "100/100 - 11s - loss: 0.2913 - auroc: 0.9415 - auprc: 0.9546 - val_loss: 0.0933 - val_auroc: 0.9815 - val_auprc: 0.6727 - 11s/epoch - 107ms/step\n",
            "Epoch 32/200\n",
            "100/100 - 11s - loss: 0.2626 - auroc: 0.9557 - auprc: 0.9573 - val_loss: 0.1270 - val_auroc: 0.9815 - val_auprc: 0.6440 - 11s/epoch - 107ms/step\n",
            "Epoch 33/200\n",
            "100/100 - 11s - loss: 0.2353 - auroc: 0.9627 - auprc: 0.9666 - val_loss: 0.0851 - val_auroc: 0.9806 - val_auprc: 0.6604 - 11s/epoch - 107ms/step\n",
            "Epoch 34/200\n",
            "100/100 - 11s - loss: 0.2383 - auroc: 0.9605 - auprc: 0.9604 - val_loss: 0.0763 - val_auroc: 0.9794 - val_auprc: 0.6568 - 11s/epoch - 107ms/step\n",
            "Epoch 35/200\n",
            "100/100 - 8s - loss: 0.2453 - auroc: 0.9600 - auprc: 0.9643 - val_loss: 0.1100 - val_auroc: 0.9810 - val_auprc: 0.6280 - 8s/epoch - 84ms/step\n",
            "Epoch 36/200\n",
            "100/100 - 8s - loss: 0.2211 - auroc: 0.9656 - auprc: 0.9731 - val_loss: 0.0956 - val_auroc: 0.9802 - val_auprc: 0.5859 - 8s/epoch - 83ms/step\n",
            "Epoch 37/200\n",
            "100/100 - 11s - loss: 0.2525 - auroc: 0.9574 - auprc: 0.9654 - val_loss: 0.1269 - val_auroc: 0.9812 - val_auprc: 0.6089 - 11s/epoch - 107ms/step\n",
            "Epoch 38/200\n",
            "100/100 - 11s - loss: 0.2742 - auroc: 0.9496 - auprc: 0.9537 - val_loss: 0.0935 - val_auroc: 0.9806 - val_auprc: 0.6190 - 11s/epoch - 107ms/step\n",
            "Epoch 39/200\n",
            "100/100 - 11s - loss: 0.2292 - auroc: 0.9647 - auprc: 0.9717 - val_loss: 0.0866 - val_auroc: 0.9805 - val_auprc: 0.6184 - 11s/epoch - 107ms/step\n",
            "Epoch 40/200\n",
            "100/100 - 8s - loss: 0.2402 - auroc: 0.9621 - auprc: 0.9695 - val_loss: 0.1385 - val_auroc: 0.9800 - val_auprc: 0.4941 - 8s/epoch - 85ms/step\n",
            "Epoch 41/200\n",
            "100/100 - 8s - loss: 0.2408 - auroc: 0.9597 - auprc: 0.9602 - val_loss: 0.1022 - val_auroc: 0.9812 - val_auprc: 0.5900 - 8s/epoch - 83ms/step\n",
            "Epoch 42/200\n",
            "100/100 - 11s - loss: 0.2409 - auroc: 0.9623 - auprc: 0.9587 - val_loss: 0.0984 - val_auroc: 0.9806 - val_auprc: 0.5955 - 11s/epoch - 107ms/step\n",
            "Epoch 43/200\n",
            "100/100 - 11s - loss: 0.2350 - auroc: 0.9595 - auprc: 0.9689 - val_loss: 0.1091 - val_auroc: 0.9838 - val_auprc: 0.5582 - 11s/epoch - 107ms/step\n",
            "Epoch 44/200\n",
            "100/100 - 11s - loss: 0.2454 - auroc: 0.9598 - auprc: 0.9659 - val_loss: 0.0985 - val_auroc: 0.9824 - val_auprc: 0.5241 - 11s/epoch - 107ms/step\n",
            "Epoch 45/200\n",
            "100/100 - 11s - loss: 0.2344 - auroc: 0.9602 - auprc: 0.9702 - val_loss: 0.1119 - val_auroc: 0.9816 - val_auprc: 0.5045 - 11s/epoch - 107ms/step\n",
            "Epoch 46/200\n",
            "100/100 - 8s - loss: 0.2471 - auroc: 0.9580 - auprc: 0.9627 - val_loss: 0.1187 - val_auroc: 0.9856 - val_auprc: 0.5646 - 8s/epoch - 83ms/step\n",
            "Epoch 47/200\n",
            "100/100 - 8s - loss: 0.2176 - auroc: 0.9683 - auprc: 0.9747 - val_loss: 0.0896 - val_auroc: 0.9841 - val_auprc: 0.5157 - 8s/epoch - 83ms/step\n",
            "Epoch 48/200\n",
            "100/100 - 11s - loss: 0.2421 - auroc: 0.9580 - auprc: 0.9678 - val_loss: 0.0931 - val_auroc: 0.9852 - val_auprc: 0.5527 - 11s/epoch - 107ms/step\n",
            "Epoch 49/200\n",
            "100/100 - 11s - loss: 0.2229 - auroc: 0.9677 - auprc: 0.9748 - val_loss: 0.0897 - val_auroc: 0.9842 - val_auprc: 0.6359 - 11s/epoch - 107ms/step\n",
            "Epoch 50/200\n",
            "100/100 - 11s - loss: 0.2129 - auroc: 0.9697 - auprc: 0.9763 - val_loss: 0.0859 - val_auroc: 0.9818 - val_auprc: 0.6268 - 11s/epoch - 107ms/step\n",
            "Epoch 51/200\n",
            "100/100 - 11s - loss: 0.1955 - auroc: 0.9724 - auprc: 0.9789 - val_loss: 0.0857 - val_auroc: 0.9844 - val_auprc: 0.5571 - 11s/epoch - 107ms/step\n",
            "Epoch 52/200\n",
            "100/100 - 8s - loss: 0.2197 - auroc: 0.9647 - auprc: 0.9730 - val_loss: 0.0853 - val_auroc: 0.9797 - val_auprc: 0.5978 - 8s/epoch - 83ms/step\n",
            "Epoch 53/200\n",
            "100/100 - 11s - loss: 0.1847 - auroc: 0.9759 - auprc: 0.9810 - val_loss: 0.1092 - val_auroc: 0.9809 - val_auprc: 0.5619 - 11s/epoch - 107ms/step\n",
            "Epoch 54/200\n",
            "100/100 - 8s - loss: 0.2512 - auroc: 0.9617 - auprc: 0.9609 - val_loss: 0.1202 - val_auroc: 0.9822 - val_auprc: 0.5278 - 8s/epoch - 84ms/step\n",
            "Epoch 55/200\n",
            "100/100 - 8s - loss: 0.2232 - auroc: 0.9664 - auprc: 0.9735 - val_loss: 0.1283 - val_auroc: 0.9825 - val_auprc: 0.4752 - 8s/epoch - 83ms/step\n",
            "Epoch 56/200\n",
            "100/100 - 11s - loss: 0.2067 - auroc: 0.9692 - auprc: 0.9771 - val_loss: 0.0937 - val_auroc: 0.9818 - val_auprc: 0.5764 - 11s/epoch - 107ms/step\n",
            "Epoch 57/200\n",
            "100/100 - 8s - loss: 0.2208 - auroc: 0.9650 - auprc: 0.9744 - val_loss: 0.1037 - val_auroc: 0.9817 - val_auprc: 0.5584 - 8s/epoch - 83ms/step\n",
            "Epoch 58/200\n",
            "100/100 - 11s - loss: 0.2123 - auroc: 0.9671 - auprc: 0.9751 - val_loss: 0.1470 - val_auroc: 0.9823 - val_auprc: 0.5218 - 11s/epoch - 107ms/step\n",
            "Epoch 59/200\n",
            "100/100 - 11s - loss: 0.2108 - auroc: 0.9661 - auprc: 0.9745 - val_loss: 0.0769 - val_auroc: 0.9812 - val_auprc: 0.5707 - 11s/epoch - 107ms/step\n",
            "Epoch 60/200\n",
            "100/100 - 11s - loss: 0.2241 - auroc: 0.9633 - auprc: 0.9699 - val_loss: 0.0917 - val_auroc: 0.9812 - val_auprc: 0.5912 - 11s/epoch - 107ms/step\n",
            "Epoch 61/200\n",
            "Restoring model weights from the end of the best epoch: 31.\n",
            "100/100 - 11s - loss: 0.2446 - auroc: 0.9591 - auprc: 0.9652 - val_loss: 0.0688 - val_auroc: 0.9822 - val_auprc: 0.5619 - 11s/epoch - 107ms/step\n",
            "Epoch 61: early stopping\n"
          ]
        }
      ]
    },
    {
      "cell_type": "code",
      "metadata": {
        "id": "6dQH-LjBDVAd",
        "colab": {
          "base_uri": "https://localhost:8080/"
        },
        "outputId": "c5abd3d1-e3d7-4c4d-de57-0895881ab894"
      },
      "source": [
        "model.evaluate(x_test, y_test)"
      ],
      "execution_count": null,
      "outputs": [
        {
          "output_type": "stream",
          "name": "stdout",
          "text": [
            "891/891 [==============================] - 3s 3ms/step - loss: 0.0941 - auroc: 0.9820 - auprc: 0.6410\n"
          ]
        },
        {
          "output_type": "execute_result",
          "data": {
            "text/plain": [
              "[0.09405727684497833, 0.9819669127464294, 0.6409993171691895]"
            ]
          },
          "metadata": {},
          "execution_count": 59
        }
      ]
    },
    {
      "cell_type": "code",
      "metadata": {
        "id": "VsV8lzN6DZTq",
        "colab": {
          "base_uri": "https://localhost:8080/",
          "height": 839
        },
        "outputId": "c08bdf6d-33b4-40a1-fdb3-824b1f2d0f1c"
      },
      "source": [
        "import matplotlib.pyplot as plt\n",
        "import seaborn as sns\n",
        "\n",
        "history = history.history\n",
        "\n",
        "fig, (ax1, ax2) = plt.subplots(2, 1, sharex='col', figsize=(20, 14))\n",
        "\n",
        "ax1.plot(history['loss'], label='Train loss')\n",
        "ax1.plot(history['val_loss'], label='Validation loss')\n",
        "ax1.legend(loc='best')\n",
        "ax1.set_title('Loss')\n",
        "\n",
        "ax2.plot(history['auprc'], label='Train accuracy')\n",
        "ax2.plot(history['val_auprc'], label='Validation accuracy')\n",
        "ax2.legend(loc='best')\n",
        "ax2.set_title('AUPRC')\n",
        "\n",
        "plt.xlabel('Epochs')\n",
        "sns.despine()\n",
        "plt.show()"
      ],
      "execution_count": null,
      "outputs": [
        {
          "output_type": "display_data",
          "data": {
            "text/plain": [
              "<Figure size 1440x1008 with 2 Axes>"
            ],
            "image/png": "[encoded data removed]"
          },
          "metadata": {
            "needs_background": "light"
          }
        }
      ]
    },
    {
      "cell_type": "code",
      "metadata": {
        "id": "7WuUFE1zDhMa",
        "colab": {
          "base_uri": "https://localhost:8080/"
        },
        "outputId": "e46ae051-0bd2-4668-80d3-3705c7d3bb06"
      },
      "source": [
        "y_pred = model.predict(x_test)\n",
        "auprc = tf.keras.metrics.AUC(curve='PR')\n",
        "auprc.update_state(y_test, y_pred)\n",
        "TF_Model_AUPRC = auprc.result().numpy()\n",
        "TF_Model_AUPRC"
      ],
      "execution_count": null,
      "outputs": [
        {
          "output_type": "execute_result",
          "data": {
            "text/plain": [
              "0.6409993"
            ]
          },
          "metadata": {},
          "execution_count": 61
        }
      ]
    },
    {
      "cell_type": "code",
      "metadata": {
        "id": "TDxmzv_mDn_s",
        "colab": {
          "base_uri": "https://localhost:8080/"
        },
        "outputId": "913b165e-eb67-4523-fd33-eb8103aabf4a"
      },
      "source": [
        "TF_Model_metrics = compute_metrics(y_test, y_pred)\n",
        "print_metrics(TF_Model_metrics)"
      ],
      "execution_count": null,
      "outputs": [
        {
          "output_type": "stream",
          "name": "stdout",
          "text": [
            "Fraudulent Transactions Detected (True Positives): 43\n",
            "Fraudulent Transactions Missed (False Negatives): 6\n",
            "Legitimate Transactions Incorrectly Detected (False Positives): 333\n",
            "Legitimate Transactions Detected (True Negatives): 28099\n"
          ]
        }
      ]
    },
    {
      "cell_type": "code",
      "metadata": {
        "id": "PFy_iMruDuZW",
        "colab": {
          "base_uri": "https://localhost:8080/"
        },
        "outputId": "96fac60a-5d12-4f16-c1d3-3f5f7f663137"
      },
      "source": [
        "print('RF_AUPRC: ' + str(RF_AUPRC))\n",
        "print('XGB_AUPRC: ' + str(XGB_AUPRC))\n",
        "print('TF_Model_AUPRC: ' + str(TF_Model_AUPRC))"
      ],
      "execution_count": null,
      "outputs": [
        {
          "output_type": "stream",
          "name": "stdout",
          "text": [
            "RF_AUPRC: 0.043756925\n",
            "XGB_AUPRC: 0.034514435\n",
            "TF_Model_AUPRC: 0.6409993\n"
          ]
        }
      ]
    },
    {
      "cell_type": "code",
      "metadata": {
        "id": "kpJbb5xLD8NR",
        "colab": {
          "base_uri": "https://localhost:8080/"
        },
        "outputId": "8ec1333a-5ac0-4452-8c7b-55ec1525f79e"
      },
      "source": [
        "print('Random Forest ********************')\n",
        "print_metrics(RF_metrics)\n",
        "print('XGBoost **************************')\n",
        "print_metrics(XGB_metrics)\n",
        "print('TensorFlow DNN Model1 ************')\n",
        "print_metrics(TF_Model_metrics)"
      ],
      "execution_count": null,
      "outputs": [
        {
          "output_type": "stream",
          "name": "stdout",
          "text": [
            "Random Forest ********************\n",
            "Fraudulent Transactions Detected (True Positives): 44\n",
            "Fraudulent Transactions Missed (False Negatives): 5\n",
            "Legitimate Transactions Incorrectly Detected (False Positives): 871\n",
            "Legitimate Transactions Detected (True Negatives): 27561\n",
            "XGBoost **************************\n",
            "Fraudulent Transactions Detected (True Positives): 44\n",
            "Fraudulent Transactions Missed (False Negatives): 5\n",
            "Legitimate Transactions Incorrectly Detected (False Positives): 1119\n",
            "Legitimate Transactions Detected (True Negatives): 27313\n",
            "TensorFlow DNN Model1 ************\n",
            "Fraudulent Transactions Detected (True Positives): 43\n",
            "Fraudulent Transactions Missed (False Negatives): 6\n",
            "Legitimate Transactions Incorrectly Detected (False Positives): 333\n",
            "Legitimate Transactions Detected (True Negatives): 28099\n"
          ]
        }
      ]
    },
    {
      "cell_type": "code",
      "metadata": {
        "id": "pLr8pMHLEBkc"
      },
      "source": [
        "tp_df['Model'] = models\n",
        "results = [RF_metrics[0], XGB_metrics[0], TF_Model_metrics[0]]\n",
        "tp_df['Undersampling (Random)'] = results\n",
        "fn_df['Model'] = models\n",
        "results = [RF_metrics[1], XGB_metrics[1], TF_Model_metrics[1]]\n",
        "fn_df['Undersampling (Random)'] = results\n",
        "fp_df['Model'] = models\n",
        "results = [RF_metrics[2], XGB_metrics[2], TF_Model_metrics[2]]\n",
        "fp_df['Undersampling (Random)'] = results\n",
        "tn_df['Model'] = models\n",
        "results = [RF_metrics[3], XGB_metrics[3], TF_Model_metrics[3]]\n",
        "tn_df['Undersampling (Random)'] = results"
      ],
      "execution_count": null,
      "outputs": []
    },
    {
      "cell_type": "code",
      "metadata": {
        "id": "2yuOXgCnEBvG"
      },
      "source": [
        "results = [RF_AUPRC, XGB_AUPRC, TF_Model_AUPRC]\n",
        "auprc_df['Undersampling (Random)'] = results"
      ],
      "execution_count": null,
      "outputs": []
    },
    {
      "cell_type": "markdown",
      "metadata": {
        "id": "AY2nwevjD9OI"
      },
      "source": [
        "# Undersampling (NearMiss)"
      ]
    },
    {
      "cell_type": "code",
      "metadata": {
        "id": "ED8Gmhpo79yw",
        "colab": {
          "base_uri": "https://localhost:8080/"
        },
        "outputId": "c66c161e-0f46-454d-c149-932b8b4043f4"
      },
      "source": [
        "x_train, y_train, x_val, y_val, x_test, y_test = prep_data()\n",
        "\n",
        "from numpy import bincount\n",
        "neg, pos = bincount(y_train)\n",
        "print('Original balance: ' + str(neg) + ' non-fraud, ' + str(pos) + ' fraud')\n",
        "\n",
        "from imblearn.under_sampling import NearMiss\n",
        "nm1 = NearMiss(version=1)\n",
        "x_train, y_train = nm1.fit_resample(x_train, y_train)\n",
        "\n",
        "neg, pos = bincount(y_train)\n",
        "print('New balance: ' + str(neg) + ' non-fraud, ' + str(pos) + ' fraud')"
      ],
      "execution_count": null,
      "outputs": [
        {
          "output_type": "stream",
          "name": "stdout",
          "text": [
            "Original balance: 230294 non-fraud, 399 fraud\n",
            "New balance: 399 non-fraud, 399 fraud\n"
          ]
        }
      ]
    },
    {
      "cell_type": "code",
      "metadata": {
        "id": "8cBHCvWqEKIF"
      },
      "source": [
        "# fraud_df = train_df.loc[df['Class'] == 1]\n",
        "# non_fraud_df = train_df.loc[df['Class'] == 0][:len(fraud_df)]\n",
        "\n",
        "# balanced_df = pd.concat([fraud_df, non_fraud_df])\n",
        "\n",
        "# # Shuffle\n",
        "# balanced_df = balanced_df.sample(frac=1, random_state=seed).reset_index(drop=True)\n",
        "\n",
        "# balanced_df.head()"
      ],
      "execution_count": null,
      "outputs": []
    },
    {
      "cell_type": "code",
      "metadata": {
        "id": "QHfN06l5bitC"
      },
      "source": [
        "# y_train = balanced_df['Class'].values\n",
        "# x_train = balanced_df.drop(['Class'], axis='columns')\n",
        "# x_train = x_train.values"
      ],
      "execution_count": null,
      "outputs": []
    },
    {
      "cell_type": "code",
      "metadata": {
        "id": "oJqgVritb5zU",
        "colab": {
          "base_uri": "https://localhost:8080/"
        },
        "outputId": "c8ad52d3-eb21-4189-8a51-59c7e71f35ce"
      },
      "source": [
        "classifier = RandomForestClassifier(n_estimators=100, n_jobs=-1, random_state=seed)\n",
        "classifier.fit(x_train, y_train)"
      ],
      "execution_count": null,
      "outputs": [
        {
          "output_type": "execute_result",
          "data": {
            "text/plain": [
              "RandomForestClassifier(n_jobs=-1, random_state=53)"
            ]
          },
          "metadata": {},
          "execution_count": 70
        }
      ]
    },
    {
      "cell_type": "code",
      "metadata": {
        "id": "gfw-jhPnb9jy",
        "colab": {
          "base_uri": "https://localhost:8080/"
        },
        "outputId": "ffaa20e9-549e-4adc-97f7-70cb6a6aabde"
      },
      "source": [
        "y_pred = classifier.predict(x_test)\n",
        "auprc = tf.keras.metrics.AUC(curve='PR')\n",
        "auprc.update_state(y_test, y_pred)\n",
        "RF_AUPRC = auprc.result().numpy()\n",
        "RF_AUPRC"
      ],
      "execution_count": null,
      "outputs": [
        {
          "output_type": "execute_result",
          "data": {
            "text/plain": [
              "0.001687999"
            ]
          },
          "metadata": {},
          "execution_count": 71
        }
      ]
    },
    {
      "cell_type": "code",
      "metadata": {
        "id": "Dw4n6GnFcUUs",
        "colab": {
          "base_uri": "https://localhost:8080/"
        },
        "outputId": "7adfe4a0-3941-4564-bfb9-4b44f6af77dc"
      },
      "source": [
        "RF_metrics = compute_metrics(y_test, y_pred)\n",
        "print_metrics(RF_metrics)"
      ],
      "execution_count": null,
      "outputs": [
        {
          "output_type": "stream",
          "name": "stdout",
          "text": [
            "Fraudulent Transactions Detected (True Positives): 46\n",
            "Fraudulent Transactions Missed (False Negatives): 3\n",
            "Legitimate Transactions Incorrectly Detected (False Positives): 27222\n",
            "Legitimate Transactions Detected (True Negatives): 1210\n"
          ]
        }
      ]
    },
    {
      "cell_type": "code",
      "metadata": {
        "id": "L7D_oCmW1Z4w",
        "colab": {
          "base_uri": "https://localhost:8080/"
        },
        "outputId": "5a50ea96-c147-415a-f8d9-31cfa9010de7"
      },
      "source": [
        "xgbc = XGBClassifier(objective='binary:logistic', seed=seed, eval_metric='aucpr')\n",
        "xgbc.fit(x_train, y_train)"
      ],
      "execution_count": null,
      "outputs": [
        {
          "output_type": "execute_result",
          "data": {
            "text/plain": [
              "XGBClassifier(eval_metric='aucpr', seed=53)"
            ]
          },
          "metadata": {},
          "execution_count": 73
        }
      ]
    },
    {
      "cell_type": "code",
      "metadata": {
        "id": "GUGhxaXA13iS",
        "colab": {
          "base_uri": "https://localhost:8080/"
        },
        "outputId": "64ce36d1-0081-4941-fef0-61d1238785d7"
      },
      "source": [
        "y_pred = xgbc.predict(x_test)\n",
        "auprc = tf.keras.metrics.AUC(curve='PR')\n",
        "auprc.update_state(y_test, y_pred)\n",
        "XGB_AUPRC = auprc.result().numpy()\n",
        "XGB_AUPRC"
      ],
      "execution_count": null,
      "outputs": [
        {
          "output_type": "execute_result",
          "data": {
            "text/plain": [
              "0.0019576792"
            ]
          },
          "metadata": {},
          "execution_count": 74
        }
      ]
    },
    {
      "cell_type": "code",
      "metadata": {
        "id": "qN8dpvU414MS",
        "colab": {
          "base_uri": "https://localhost:8080/"
        },
        "outputId": "df6c4bab-e248-4e3b-ec6d-9b36b996ed1e"
      },
      "source": [
        "XGB_metrics = compute_metrics(y_test, y_pred)\n",
        "print_metrics(XGB_metrics)"
      ],
      "execution_count": null,
      "outputs": [
        {
          "output_type": "stream",
          "name": "stdout",
          "text": [
            "Fraudulent Transactions Detected (True Positives): 47\n",
            "Fraudulent Transactions Missed (False Negatives): 2\n",
            "Legitimate Transactions Incorrectly Detected (False Positives): 23897\n",
            "Legitimate Transactions Detected (True Negatives): 4535\n"
          ]
        }
      ]
    },
    {
      "cell_type": "code",
      "metadata": {
        "id": "3RNbt26P2YgN",
        "colab": {
          "base_uri": "https://localhost:8080/"
        },
        "outputId": "9ba163cf-5bdb-40f5-ba4f-d5f5b05d46f7"
      },
      "source": [
        "model = create_model()"
      ],
      "execution_count": null,
      "outputs": [
        {
          "output_type": "stream",
          "name": "stdout",
          "text": [
            "Model: \"model\"\n",
            "_________________________________________________________________\n",
            " Layer (type)                Output Shape              Param #   \n",
            "=================================================================\n",
            " input1 (InputLayer)         [(None, 30)]              0         \n",
            "                                                                 \n",
            " dense (Dense)               (None, 96)                2976      \n",
            "                                                                 \n",
            " batch_normalization (BatchN  (None, 96)               384       \n",
            " ormalization)                                                   \n",
            "                                                                 \n",
            " elu (ELU)                   (None, 96)                0         \n",
            "                                                                 \n",
            " dropout (Dropout)           (None, 96)                0         \n",
            "                                                                 \n",
            " dense_1 (Dense)             (None, 96)                9312      \n",
            "                                                                 \n",
            " batch_normalization_1 (Batc  (None, 96)               384       \n",
            " hNormalization)                                                 \n",
            "                                                                 \n",
            " elu_1 (ELU)                 (None, 96)                0         \n",
            "                                                                 \n",
            " dropout_1 (Dropout)         (None, 96)                0         \n",
            "                                                                 \n",
            " dense_2 (Dense)             (None, 96)                9312      \n",
            "                                                                 \n",
            " batch_normalization_2 (Batc  (None, 96)               384       \n",
            " hNormalization)                                                 \n",
            "                                                                 \n",
            " elu_2 (ELU)                 (None, 96)                0         \n",
            "                                                                 \n",
            " dropout_2 (Dropout)         (None, 96)                0         \n",
            "                                                                 \n",
            " out (Dense)                 (None, 1)                 97        \n",
            "                                                                 \n",
            "=================================================================\n",
            "Total params: 22,849\n",
            "Trainable params: 22,273\n",
            "Non-trainable params: 576\n",
            "_________________________________________________________________\n"
          ]
        }
      ]
    },
    {
      "cell_type": "code",
      "metadata": {
        "id": "yovLE0lw2het",
        "colab": {
          "base_uri": "https://localhost:8080/"
        },
        "outputId": "e9717a0b-bcf2-471e-cf6b-e537797ae785"
      },
      "source": [
        "es = EarlyStopping(monitor='val_auprc', patience=30, verbose=1, mode='max',\n",
        "                   restore_best_weights=True)\n",
        "history = model.fit(x_train, y_train, epochs=200, verbose=2, callbacks=[es], \n",
        "                    validation_data=(x_val, y_val), batch_size=8)"
      ],
      "execution_count": null,
      "outputs": [
        {
          "output_type": "stream",
          "name": "stdout",
          "text": [
            "Epoch 1/200\n",
            "100/100 - 10s - loss: 0.3906 - auroc: 0.9098 - auprc: 0.9175 - val_loss: 0.1395 - val_auroc: 0.9666 - val_auprc: 0.4718 - 10s/epoch - 104ms/step\n",
            "Epoch 2/200\n",
            "100/100 - 8s - loss: 0.2943 - auroc: 0.9452 - auprc: 0.9494 - val_loss: 0.1591 - val_auroc: 0.9403 - val_auprc: 0.2761 - 8s/epoch - 85ms/step\n",
            "Epoch 3/200\n",
            "100/100 - 8s - loss: 0.2496 - auroc: 0.9623 - auprc: 0.9652 - val_loss: 0.1599 - val_auroc: 0.9424 - val_auprc: 0.2468 - 8s/epoch - 83ms/step\n",
            "Epoch 4/200\n",
            "100/100 - 11s - loss: 0.2599 - auroc: 0.9581 - auprc: 0.9610 - val_loss: 0.3934 - val_auroc: 0.9224 - val_auprc: 0.1086 - 11s/epoch - 107ms/step\n",
            "Epoch 5/200\n",
            "100/100 - 9s - loss: 0.2386 - auroc: 0.9623 - auprc: 0.9688 - val_loss: 0.2718 - val_auroc: 0.9335 - val_auprc: 0.1844 - 9s/epoch - 85ms/step\n",
            "Epoch 6/200\n",
            "100/100 - 11s - loss: 0.3063 - auroc: 0.9449 - auprc: 0.9530 - val_loss: 0.3504 - val_auroc: 0.9334 - val_auprc: 0.1328 - 11s/epoch - 107ms/step\n",
            "Epoch 7/200\n",
            "100/100 - 11s - loss: 0.2552 - auroc: 0.9549 - auprc: 0.9583 - val_loss: 0.4783 - val_auroc: 0.9285 - val_auprc: 0.0880 - 11s/epoch - 107ms/step\n",
            "Epoch 8/200\n",
            "100/100 - 8s - loss: 0.2211 - auroc: 0.9686 - auprc: 0.9717 - val_loss: 0.4143 - val_auroc: 0.9146 - val_auprc: 0.1609 - 8s/epoch - 84ms/step\n",
            "Epoch 9/200\n",
            "100/100 - 11s - loss: 0.2029 - auroc: 0.9714 - auprc: 0.9704 - val_loss: 0.3218 - val_auroc: 0.9327 - val_auprc: 0.1915 - 11s/epoch - 107ms/step\n",
            "Epoch 10/200\n",
            "100/100 - 8s - loss: 0.2215 - auroc: 0.9684 - auprc: 0.9708 - val_loss: 0.4572 - val_auroc: 0.9112 - val_auprc: 0.1239 - 8s/epoch - 83ms/step\n",
            "Epoch 11/200\n",
            "100/100 - 8s - loss: 0.2168 - auroc: 0.9701 - auprc: 0.9742 - val_loss: 0.4808 - val_auroc: 0.9132 - val_auprc: 0.0921 - 8s/epoch - 84ms/step\n",
            "Epoch 12/200\n",
            "100/100 - 11s - loss: 0.2416 - auroc: 0.9620 - auprc: 0.9649 - val_loss: 0.4670 - val_auroc: 0.9166 - val_auprc: 0.1345 - 11s/epoch - 107ms/step\n",
            "Epoch 13/200\n",
            "100/100 - 11s - loss: 0.2429 - auroc: 0.9623 - auprc: 0.9662 - val_loss: 0.5280 - val_auroc: 0.9073 - val_auprc: 0.1125 - 11s/epoch - 107ms/step\n",
            "Epoch 14/200\n",
            "100/100 - 8s - loss: 0.2292 - auroc: 0.9666 - auprc: 0.9718 - val_loss: 0.3887 - val_auroc: 0.9263 - val_auprc: 0.1348 - 8s/epoch - 84ms/step\n",
            "Epoch 15/200\n",
            "100/100 - 11s - loss: 0.2077 - auroc: 0.9688 - auprc: 0.9725 - val_loss: 0.6091 - val_auroc: 0.9079 - val_auprc: 0.0702 - 11s/epoch - 107ms/step\n",
            "Epoch 16/200\n",
            "100/100 - 11s - loss: 0.2271 - auroc: 0.9653 - auprc: 0.9680 - val_loss: 0.6055 - val_auroc: 0.9125 - val_auprc: 0.0641 - 11s/epoch - 107ms/step\n",
            "Epoch 17/200\n",
            "100/100 - 11s - loss: 0.2213 - auroc: 0.9648 - auprc: 0.9656 - val_loss: 0.5945 - val_auroc: 0.9055 - val_auprc: 0.0722 - 11s/epoch - 107ms/step\n",
            "Epoch 18/200\n",
            "100/100 - 11s - loss: 0.2505 - auroc: 0.9548 - auprc: 0.9620 - val_loss: 0.6014 - val_auroc: 0.9080 - val_auprc: 0.0664 - 11s/epoch - 107ms/step\n",
            "Epoch 19/200\n",
            "100/100 - 8s - loss: 0.2253 - auroc: 0.9654 - auprc: 0.9714 - val_loss: 0.6501 - val_auroc: 0.8954 - val_auprc: 0.0659 - 8s/epoch - 83ms/step\n",
            "Epoch 20/200\n",
            "100/100 - 11s - loss: 0.2225 - auroc: 0.9676 - auprc: 0.9710 - val_loss: 0.4993 - val_auroc: 0.9143 - val_auprc: 0.0933 - 11s/epoch - 107ms/step\n",
            "Epoch 21/200\n",
            "100/100 - 11s - loss: 0.2335 - auroc: 0.9644 - auprc: 0.9703 - val_loss: 0.5578 - val_auroc: 0.9040 - val_auprc: 0.0877 - 11s/epoch - 107ms/step\n",
            "Epoch 22/200\n",
            "100/100 - 11s - loss: 0.2004 - auroc: 0.9719 - auprc: 0.9773 - val_loss: 0.7167 - val_auroc: 0.8854 - val_auprc: 0.0530 - 11s/epoch - 107ms/step\n",
            "Epoch 23/200\n",
            "100/100 - 11s - loss: 0.2070 - auroc: 0.9703 - auprc: 0.9766 - val_loss: 0.6460 - val_auroc: 0.9053 - val_auprc: 0.0551 - 11s/epoch - 107ms/step\n",
            "Epoch 24/200\n",
            "100/100 - 11s - loss: 0.1852 - auroc: 0.9751 - auprc: 0.9806 - val_loss: 0.5696 - val_auroc: 0.9012 - val_auprc: 0.0675 - 11s/epoch - 107ms/step\n",
            "Epoch 25/200\n",
            "100/100 - 8s - loss: 0.2051 - auroc: 0.9730 - auprc: 0.9727 - val_loss: 0.7279 - val_auroc: 0.8913 - val_auprc: 0.0554 - 8s/epoch - 83ms/step\n",
            "Epoch 26/200\n",
            "100/100 - 11s - loss: 0.2089 - auroc: 0.9686 - auprc: 0.9729 - val_loss: 0.9600 - val_auroc: 0.8719 - val_auprc: 0.0337 - 11s/epoch - 107ms/step\n",
            "Epoch 27/200\n",
            "100/100 - 8s - loss: 0.1896 - auroc: 0.9770 - auprc: 0.9739 - val_loss: 0.8645 - val_auroc: 0.8955 - val_auprc: 0.0469 - 8s/epoch - 83ms/step\n",
            "Epoch 28/200\n",
            "100/100 - 8s - loss: 0.2268 - auroc: 0.9671 - auprc: 0.9685 - val_loss: 0.7896 - val_auroc: 0.9015 - val_auprc: 0.0593 - 8s/epoch - 82ms/step\n",
            "Epoch 29/200\n",
            "100/100 - 11s - loss: 0.2248 - auroc: 0.9688 - auprc: 0.9722 - val_loss: 0.7812 - val_auroc: 0.8804 - val_auprc: 0.0446 - 11s/epoch - 107ms/step\n",
            "Epoch 30/200\n",
            "100/100 - 8s - loss: 0.1686 - auroc: 0.9806 - auprc: 0.9846 - val_loss: 0.7939 - val_auroc: 0.8896 - val_auprc: 0.0616 - 8s/epoch - 83ms/step\n",
            "Epoch 31/200\n",
            "Restoring model weights from the end of the best epoch: 1.\n",
            "100/100 - 8s - loss: 0.2403 - auroc: 0.9622 - auprc: 0.9674 - val_loss: 0.7510 - val_auroc: 0.8877 - val_auprc: 0.0557 - 8s/epoch - 84ms/step\n",
            "Epoch 31: early stopping\n"
          ]
        }
      ]
    },
    {
      "cell_type": "code",
      "metadata": {
        "id": "yZG9_iie2n7a",
        "colab": {
          "base_uri": "https://localhost:8080/"
        },
        "outputId": "bc468c24-ff1a-4b91-e4da-bee5bc7daa85"
      },
      "source": [
        "model.evaluate(x_test, y_test)"
      ],
      "execution_count": null,
      "outputs": [
        {
          "output_type": "stream",
          "name": "stdout",
          "text": [
            "891/891 [==============================] - 3s 3ms/step - loss: 0.1401 - auroc: 0.9516 - auprc: 0.4986\n"
          ]
        },
        {
          "output_type": "execute_result",
          "data": {
            "text/plain": [
              "[0.14005695283412933, 0.9515675902366638, 0.49857357144355774]"
            ]
          },
          "metadata": {},
          "execution_count": 78
        }
      ]
    },
    {
      "cell_type": "code",
      "metadata": {
        "id": "aWTtRqSD2sGH",
        "colab": {
          "base_uri": "https://localhost:8080/",
          "height": 839
        },
        "outputId": "f542d76c-8a05-47cc-be02-ba696f6ac42d"
      },
      "source": [
        "import matplotlib.pyplot as plt\n",
        "import seaborn as sns\n",
        "\n",
        "history = history.history\n",
        "\n",
        "fig, (ax1, ax2) = plt.subplots(2, 1, sharex='col', figsize=(20, 14))\n",
        "\n",
        "ax1.plot(history['loss'], label='Train loss')\n",
        "ax1.plot(history['val_loss'], label='Validation loss')\n",
        "ax1.legend(loc='best')\n",
        "ax1.set_title('Loss')\n",
        "\n",
        "ax2.plot(history['auprc'], label='Train accuracy')\n",
        "ax2.plot(history['val_auprc'], label='Validation accuracy')\n",
        "ax2.legend(loc='best')\n",
        "ax2.set_title('AUPRC')\n",
        "\n",
        "plt.xlabel('Epochs')\n",
        "sns.despine()\n",
        "plt.show()"
      ],
      "execution_count": null,
      "outputs": [
        {
          "output_type": "display_data",
          "data": {
            "text/plain": [
              "<Figure size 1440x1008 with 2 Axes>"
            ],
            "image/png": "[encoded data removed]"
          },
          "metadata": {
            "needs_background": "light"
          }
        }
      ]
    },
    {
      "cell_type": "code",
      "metadata": {
        "id": "0Uo1Aptt2svJ",
        "colab": {
          "base_uri": "https://localhost:8080/"
        },
        "outputId": "107d21d6-d615-4f00-b770-153fcc218b7f"
      },
      "source": [
        "y_pred = model.predict(x_test)\n",
        "auprc = tf.keras.metrics.AUC(curve='PR')\n",
        "auprc.update_state(y_test, y_pred)\n",
        "TF_Model_AUPRC = auprc.result().numpy()\n",
        "TF_Model_AUPRC"
      ],
      "execution_count": null,
      "outputs": [
        {
          "output_type": "execute_result",
          "data": {
            "text/plain": [
              "0.49857357"
            ]
          },
          "metadata": {},
          "execution_count": 80
        }
      ]
    },
    {
      "cell_type": "code",
      "metadata": {
        "id": "KhG2VqJg288f",
        "colab": {
          "base_uri": "https://localhost:8080/"
        },
        "outputId": "4c04fbe7-65cd-4a66-8a12-889fa2538d3b"
      },
      "source": [
        "TF_Model_metrics = compute_metrics(y_test, y_pred)\n",
        "print_metrics(TF_Model_metrics)"
      ],
      "execution_count": null,
      "outputs": [
        {
          "output_type": "stream",
          "name": "stdout",
          "text": [
            "Fraudulent Transactions Detected (True Positives): 43\n",
            "Fraudulent Transactions Missed (False Negatives): 6\n",
            "Legitimate Transactions Incorrectly Detected (False Positives): 455\n",
            "Legitimate Transactions Detected (True Negatives): 27977\n"
          ]
        }
      ]
    },
    {
      "cell_type": "code",
      "metadata": {
        "id": "_ND7eYNf3FKq",
        "colab": {
          "base_uri": "https://localhost:8080/"
        },
        "outputId": "fc2f9696-bec3-4122-fe92-b17f7475b52b"
      },
      "source": [
        "print('RF_AUPRC: ' + str(RF_AUPRC))\n",
        "print('XGB_AUPRC: ' + str(XGB_AUPRC))\n",
        "print('TF_Model_AUPRC: ' + str(TF_Model_AUPRC))"
      ],
      "execution_count": null,
      "outputs": [
        {
          "output_type": "stream",
          "name": "stdout",
          "text": [
            "RF_AUPRC: 0.001687999\n",
            "XGB_AUPRC: 0.0019576792\n",
            "TF_Model_AUPRC: 0.49857357\n"
          ]
        }
      ]
    },
    {
      "cell_type": "code",
      "metadata": {
        "id": "9zuJQXcP3MR3",
        "colab": {
          "base_uri": "https://localhost:8080/"
        },
        "outputId": "3f9e5faf-63a4-43a6-b5ce-b380ce405d6f"
      },
      "source": [
        "print('Random Forest ********************')\n",
        "print_metrics(RF_metrics)\n",
        "print('XGBoost **************************')\n",
        "print_metrics(XGB_metrics)\n",
        "print('TensorFlow DNN Model1 ************')\n",
        "print_metrics(TF_Model_metrics)"
      ],
      "execution_count": null,
      "outputs": [
        {
          "output_type": "stream",
          "name": "stdout",
          "text": [
            "Random Forest ********************\n",
            "Fraudulent Transactions Detected (True Positives): 46\n",
            "Fraudulent Transactions Missed (False Negatives): 3\n",
            "Legitimate Transactions Incorrectly Detected (False Positives): 27222\n",
            "Legitimate Transactions Detected (True Negatives): 1210\n",
            "XGBoost **************************\n",
            "Fraudulent Transactions Detected (True Positives): 47\n",
            "Fraudulent Transactions Missed (False Negatives): 2\n",
            "Legitimate Transactions Incorrectly Detected (False Positives): 23897\n",
            "Legitimate Transactions Detected (True Negatives): 4535\n",
            "TensorFlow DNN Model1 ************\n",
            "Fraudulent Transactions Detected (True Positives): 43\n",
            "Fraudulent Transactions Missed (False Negatives): 6\n",
            "Legitimate Transactions Incorrectly Detected (False Positives): 455\n",
            "Legitimate Transactions Detected (True Negatives): 27977\n"
          ]
        }
      ]
    },
    {
      "cell_type": "code",
      "metadata": {
        "id": "Yz-Mi8Dp-UQz"
      },
      "source": [
        "tp_df['Model'] = models\n",
        "results = [RF_metrics[0], XGB_metrics[0], TF_Model_metrics[0]]\n",
        "tp_df['Undersampling (NearMiss)'] = results\n",
        "fn_df['Model'] = models\n",
        "results = [RF_metrics[1], XGB_metrics[1], TF_Model_metrics[1]]\n",
        "fn_df['Undersampling (NearMiss)'] = results\n",
        "fp_df['Model'] = models\n",
        "results = [RF_metrics[2], XGB_metrics[2], TF_Model_metrics[2]]\n",
        "fp_df['Undersampling (NearMiss)'] = results\n",
        "tn_df['Model'] = models\n",
        "results = [RF_metrics[3], XGB_metrics[3], TF_Model_metrics[3]]\n",
        "tn_df['Undersampling (NearMiss)'] = results"
      ],
      "execution_count": null,
      "outputs": []
    },
    {
      "cell_type": "code",
      "metadata": {
        "id": "hawpcF_vjfGm"
      },
      "source": [
        "results = [RF_AUPRC, XGB_AUPRC, TF_Model_AUPRC]\n",
        "auprc_df['Undersampling (NearMiss)'] = results"
      ],
      "execution_count": null,
      "outputs": []
    },
    {
      "cell_type": "markdown",
      "metadata": {
        "id": "3JCCifUOjU9a"
      },
      "source": [
        "# Oversampling (ADASYN)"
      ]
    },
    {
      "cell_type": "code",
      "metadata": {
        "id": "cHyMelhwR3u1"
      },
      "source": [
        "x_train, y_train, x_val, y_val, x_test, y_test = prep_data()"
      ],
      "execution_count": null,
      "outputs": []
    },
    {
      "cell_type": "code",
      "metadata": {
        "id": "W2Fm0q8WZR7d",
        "colab": {
          "base_uri": "https://localhost:8080/"
        },
        "outputId": "c8deec6c-e0dd-4f50-a180-f043e9df646c"
      },
      "source": [
        "neg, pos = bincount(y_train)\n",
        "print('Original balance: ' + str(neg) + ' non-fraud, ' + str(pos) + ' fraud')\n",
        "\n",
        "from imblearn.over_sampling import ADASYN\n",
        "ada = ADASYN(random_state=seed)\n",
        "x_train, y_train = ada.fit_resample(x_train, y_train)\n",
        "\n",
        "neg, pos = bincount(y_train)\n",
        "print('New balance: ' + str(neg) + ' non-fraud, ' + str(pos) + ' fraud')"
      ],
      "execution_count": null,
      "outputs": [
        {
          "output_type": "stream",
          "name": "stdout",
          "text": [
            "Original balance: 230294 non-fraud, 399 fraud\n",
            "New balance: 230294 non-fraud, 230263 fraud\n"
          ]
        }
      ]
    },
    {
      "cell_type": "code",
      "metadata": {
        "id": "k0cGp4iPZhSL",
        "colab": {
          "base_uri": "https://localhost:8080/"
        },
        "outputId": "0f45b091-27b2-4f1a-bc23-bf755dc54d86"
      },
      "source": [
        "classifier = RandomForestClassifier(n_estimators=100, n_jobs=-1, random_state=seed)\n",
        "classifier.fit(x_train, y_train)"
      ],
      "execution_count": null,
      "outputs": [
        {
          "output_type": "execute_result",
          "data": {
            "text/plain": [
              "RandomForestClassifier(n_jobs=-1, random_state=53)"
            ]
          },
          "metadata": {},
          "execution_count": 88
        }
      ]
    },
    {
      "cell_type": "code",
      "metadata": {
        "id": "OoYoYxmmZhZX",
        "colab": {
          "base_uri": "https://localhost:8080/"
        },
        "outputId": "787d87a1-dba9-4931-f3ae-57535775ebb3"
      },
      "source": [
        "y_pred = classifier.predict(x_test)\n",
        "auprc = tf.keras.metrics.AUC(curve='PR')\n",
        "auprc.update_state(y_test, y_pred)\n",
        "RF_AUPRC = auprc.result().numpy()\n",
        "RF_AUPRC"
      ],
      "execution_count": null,
      "outputs": [
        {
          "output_type": "execute_result",
          "data": {
            "text/plain": [
              "0.7639222"
            ]
          },
          "metadata": {},
          "execution_count": 89
        }
      ]
    },
    {
      "cell_type": "code",
      "metadata": {
        "id": "swhCWRrLZms8",
        "colab": {
          "base_uri": "https://localhost:8080/"
        },
        "outputId": "01495ea3-95a5-4b52-f023-721556087c12"
      },
      "source": [
        "RF_metrics = compute_metrics(y_test, y_pred)\n",
        "print_metrics(RF_metrics)"
      ],
      "execution_count": null,
      "outputs": [
        {
          "output_type": "stream",
          "name": "stdout",
          "text": [
            "Fraudulent Transactions Detected (True Positives): 41\n",
            "Fraudulent Transactions Missed (False Negatives): 8\n",
            "Legitimate Transactions Incorrectly Detected (False Positives): 4\n",
            "Legitimate Transactions Detected (True Negatives): 28428\n"
          ]
        }
      ]
    },
    {
      "cell_type": "code",
      "metadata": {
        "id": "Kr4xfPShZrFT",
        "colab": {
          "base_uri": "https://localhost:8080/"
        },
        "outputId": "eca017a4-732a-4d66-aa67-830dbc731fc2"
      },
      "source": [
        "xgbc = XGBClassifier(objective='binary:logistic', seed=seed, eval_metric='aucpr')\n",
        "xgbc.fit(x_train, y_train)"
      ],
      "execution_count": null,
      "outputs": [
        {
          "output_type": "execute_result",
          "data": {
            "text/plain": [
              "XGBClassifier(eval_metric='aucpr', seed=53)"
            ]
          },
          "metadata": {},
          "execution_count": 91
        }
      ]
    },
    {
      "cell_type": "code",
      "metadata": {
        "id": "WIFacEvVZrMN",
        "colab": {
          "base_uri": "https://localhost:8080/"
        },
        "outputId": "4545fdd5-dafd-47b7-b88e-34358444cff2"
      },
      "source": [
        "y_pred = xgbc.predict(x_test)\n",
        "auprc = tf.keras.metrics.AUC(curve='PR')\n",
        "auprc.update_state(y_test, y_pred)\n",
        "XGB_AUPRC = auprc.result().numpy()\n",
        "XGB_AUPRC"
      ],
      "execution_count": null,
      "outputs": [
        {
          "output_type": "execute_result",
          "data": {
            "text/plain": [
              "0.03585368"
            ]
          },
          "metadata": {},
          "execution_count": 92
        }
      ]
    },
    {
      "cell_type": "code",
      "metadata": {
        "id": "2cEyhokJZv1b",
        "colab": {
          "base_uri": "https://localhost:8080/"
        },
        "outputId": "61237f4c-6f65-46f7-decb-8c7b7d34b12e"
      },
      "source": [
        "XGB_metrics = compute_metrics(y_test, y_pred)\n",
        "print_metrics(XGB_metrics)"
      ],
      "execution_count": null,
      "outputs": [
        {
          "output_type": "stream",
          "name": "stdout",
          "text": [
            "Fraudulent Transactions Detected (True Positives): 43\n",
            "Fraudulent Transactions Missed (False Negatives): 6\n",
            "Legitimate Transactions Incorrectly Detected (False Positives): 1029\n",
            "Legitimate Transactions Detected (True Negatives): 27403\n"
          ]
        }
      ]
    },
    {
      "cell_type": "code",
      "metadata": {
        "id": "qr7b5JVEZv8m",
        "colab": {
          "base_uri": "https://localhost:8080/"
        },
        "outputId": "e0c1fc18-555d-42b5-d2fe-7b85cc908024"
      },
      "source": [
        "model = create_model()"
      ],
      "execution_count": null,
      "outputs": [
        {
          "output_type": "stream",
          "name": "stdout",
          "text": [
            "Model: \"model\"\n",
            "_________________________________________________________________\n",
            " Layer (type)                Output Shape              Param #   \n",
            "=================================================================\n",
            " input1 (InputLayer)         [(None, 30)]              0         \n",
            "                                                                 \n",
            " dense (Dense)               (None, 96)                2976      \n",
            "                                                                 \n",
            " batch_normalization (BatchN  (None, 96)               384       \n",
            " ormalization)                                                   \n",
            "                                                                 \n",
            " elu (ELU)                   (None, 96)                0         \n",
            "                                                                 \n",
            " dropout (Dropout)           (None, 96)                0         \n",
            "                                                                 \n",
            " dense_1 (Dense)             (None, 96)                9312      \n",
            "                                                                 \n",
            " batch_normalization_1 (Batc  (None, 96)               384       \n",
            " hNormalization)                                                 \n",
            "                                                                 \n",
            " elu_1 (ELU)                 (None, 96)                0         \n",
            "                                                                 \n",
            " dropout_1 (Dropout)         (None, 96)                0         \n",
            "                                                                 \n",
            " dense_2 (Dense)             (None, 96)                9312      \n",
            "                                                                 \n",
            " batch_normalization_2 (Batc  (None, 96)               384       \n",
            " hNormalization)                                                 \n",
            "                                                                 \n",
            " elu_2 (ELU)                 (None, 96)                0         \n",
            "                                                                 \n",
            " dropout_2 (Dropout)         (None, 96)                0         \n",
            "                                                                 \n",
            " out (Dense)                 (None, 1)                 97        \n",
            "                                                                 \n",
            "=================================================================\n",
            "Total params: 22,849\n",
            "Trainable params: 22,273\n",
            "Non-trainable params: 576\n",
            "_________________________________________________________________\n"
          ]
        }
      ]
    },
    {
      "cell_type": "code",
      "metadata": {
        "id": "_zC05CsGZmya",
        "colab": {
          "base_uri": "https://localhost:8080/"
        },
        "outputId": "846d4b2f-3f83-4e5a-c79c-2ad3b8485c29"
      },
      "source": [
        "es = EarlyStopping(monitor='val_auprc', patience=30, verbose=1, mode='max',\n",
        "                   restore_best_weights=True)\n",
        "history = model.fit(x_train, y_train, epochs=200, verbose=2, callbacks=[es], \n",
        "                    validation_data=(x_val, y_val), batch_size=BATCH_SIZE)"
      ],
      "execution_count": null,
      "outputs": [
        {
          "output_type": "stream",
          "name": "stdout",
          "text": [
            "Epoch 1/200\n",
            "1800/1800 - 10s - loss: 0.1507 - auroc: 0.9858 - auprc: 0.9840 - val_loss: 0.0681 - val_auroc: 0.9579 - val_auprc: 0.4851 - 10s/epoch - 6ms/step\n",
            "Epoch 2/200\n",
            "1800/1800 - 8s - loss: 0.0579 - auroc: 0.9969 - auprc: 0.9956 - val_loss: 0.0580 - val_auroc: 0.9610 - val_auprc: 0.4207 - 8s/epoch - 5ms/step\n",
            "Epoch 3/200\n",
            "1800/1800 - 8s - loss: 0.0410 - auroc: 0.9981 - auprc: 0.9972 - val_loss: 0.0373 - val_auroc: 0.9744 - val_auprc: 0.5254 - 8s/epoch - 5ms/step\n",
            "Epoch 4/200\n",
            "1800/1800 - 8s - loss: 0.0329 - auroc: 0.9986 - auprc: 0.9978 - val_loss: 0.0393 - val_auroc: 0.9628 - val_auprc: 0.4440 - 8s/epoch - 5ms/step\n",
            "Epoch 5/200\n",
            "1800/1800 - 8s - loss: 0.0288 - auroc: 0.9988 - auprc: 0.9979 - val_loss: 0.0327 - val_auroc: 0.9752 - val_auprc: 0.5348 - 8s/epoch - 5ms/step\n",
            "Epoch 6/200\n",
            "1800/1800 - 8s - loss: 0.0254 - auroc: 0.9989 - auprc: 0.9982 - val_loss: 0.0238 - val_auroc: 0.9755 - val_auprc: 0.5613 - 8s/epoch - 5ms/step\n",
            "Epoch 7/200\n",
            "1800/1800 - 8s - loss: 0.0218 - auroc: 0.9991 - auprc: 0.9985 - val_loss: 0.0272 - val_auroc: 0.9758 - val_auprc: 0.5342 - 8s/epoch - 5ms/step\n",
            "Epoch 8/200\n",
            "1800/1800 - 8s - loss: 0.0207 - auroc: 0.9992 - auprc: 0.9987 - val_loss: 0.0240 - val_auroc: 0.9758 - val_auprc: 0.5465 - 8s/epoch - 5ms/step\n",
            "Epoch 9/200\n",
            "1800/1800 - 8s - loss: 0.0183 - auroc: 0.9992 - auprc: 0.9987 - val_loss: 0.0224 - val_auroc: 0.9759 - val_auprc: 0.5486 - 8s/epoch - 5ms/step\n",
            "Epoch 10/200\n",
            "1800/1800 - 8s - loss: 0.0165 - auroc: 0.9993 - auprc: 0.9989 - val_loss: 0.0203 - val_auroc: 0.9648 - val_auprc: 0.5858 - 8s/epoch - 5ms/step\n",
            "Epoch 11/200\n",
            "1800/1800 - 8s - loss: 0.0155 - auroc: 0.9994 - auprc: 0.9989 - val_loss: 0.0170 - val_auroc: 0.9650 - val_auprc: 0.6106 - 8s/epoch - 5ms/step\n",
            "Epoch 12/200\n",
            "1800/1800 - 8s - loss: 0.0145 - auroc: 0.9994 - auprc: 0.9990 - val_loss: 0.0208 - val_auroc: 0.9759 - val_auprc: 0.5426 - 8s/epoch - 5ms/step\n",
            "Epoch 13/200\n",
            "1800/1800 - 8s - loss: 0.0142 - auroc: 0.9994 - auprc: 0.9990 - val_loss: 0.0241 - val_auroc: 0.9756 - val_auprc: 0.4769 - 8s/epoch - 5ms/step\n",
            "Epoch 14/200\n",
            "1800/1800 - 8s - loss: 0.0138 - auroc: 0.9995 - auprc: 0.9991 - val_loss: 0.0183 - val_auroc: 0.9760 - val_auprc: 0.5586 - 8s/epoch - 5ms/step\n",
            "Epoch 15/200\n",
            "1800/1800 - 8s - loss: 0.0129 - auroc: 0.9994 - auprc: 0.9990 - val_loss: 0.0181 - val_auroc: 0.9650 - val_auprc: 0.6009 - 8s/epoch - 5ms/step\n",
            "Epoch 16/200\n",
            "1800/1800 - 9s - loss: 0.0124 - auroc: 0.9995 - auprc: 0.9991 - val_loss: 0.0164 - val_auroc: 0.9650 - val_auprc: 0.6056 - 9s/epoch - 5ms/step\n",
            "Epoch 17/200\n",
            "1800/1800 - 8s - loss: 0.0123 - auroc: 0.9995 - auprc: 0.9991 - val_loss: 0.0174 - val_auroc: 0.9650 - val_auprc: 0.5821 - 8s/epoch - 5ms/step\n",
            "Epoch 18/200\n",
            "1800/1800 - 8s - loss: 0.0114 - auroc: 0.9996 - auprc: 0.9992 - val_loss: 0.0168 - val_auroc: 0.9651 - val_auprc: 0.5987 - 8s/epoch - 5ms/step\n",
            "Epoch 19/200\n",
            "1800/1800 - 8s - loss: 0.0110 - auroc: 0.9995 - auprc: 0.9992 - val_loss: 0.0172 - val_auroc: 0.9650 - val_auprc: 0.5682 - 8s/epoch - 5ms/step\n",
            "Epoch 20/200\n",
            "1800/1800 - 8s - loss: 0.0112 - auroc: 0.9995 - auprc: 0.9992 - val_loss: 0.0165 - val_auroc: 0.9763 - val_auprc: 0.5789 - 8s/epoch - 5ms/step\n",
            "Epoch 21/200\n",
            "1800/1800 - 8s - loss: 0.0109 - auroc: 0.9996 - auprc: 0.9993 - val_loss: 0.0179 - val_auroc: 0.9762 - val_auprc: 0.5705 - 8s/epoch - 5ms/step\n",
            "Epoch 22/200\n",
            "1800/1800 - 8s - loss: 0.0103 - auroc: 0.9996 - auprc: 0.9993 - val_loss: 0.0160 - val_auroc: 0.9763 - val_auprc: 0.5886 - 8s/epoch - 5ms/step\n",
            "Epoch 23/200\n",
            "1800/1800 - 8s - loss: 0.0106 - auroc: 0.9996 - auprc: 0.9993 - val_loss: 0.0145 - val_auroc: 0.9651 - val_auprc: 0.5898 - 8s/epoch - 5ms/step\n",
            "Epoch 24/200\n",
            "1800/1800 - 8s - loss: 0.0105 - auroc: 0.9996 - auprc: 0.9993 - val_loss: 0.0167 - val_auroc: 0.9651 - val_auprc: 0.5913 - 8s/epoch - 5ms/step\n",
            "Epoch 25/200\n",
            "1800/1800 - 8s - loss: 0.0094 - auroc: 0.9996 - auprc: 0.9993 - val_loss: 0.0153 - val_auroc: 0.9651 - val_auprc: 0.5692 - 8s/epoch - 5ms/step\n",
            "Epoch 26/200\n",
            "1800/1800 - 8s - loss: 0.0094 - auroc: 0.9996 - auprc: 0.9993 - val_loss: 0.0163 - val_auroc: 0.9650 - val_auprc: 0.5668 - 8s/epoch - 5ms/step\n",
            "Epoch 27/200\n",
            "1800/1800 - 8s - loss: 0.0094 - auroc: 0.9996 - auprc: 0.9993 - val_loss: 0.0139 - val_auroc: 0.9652 - val_auprc: 0.6264 - 8s/epoch - 5ms/step\n",
            "Epoch 28/200\n",
            "1800/1800 - 8s - loss: 0.0090 - auroc: 0.9996 - auprc: 0.9994 - val_loss: 0.0166 - val_auroc: 0.9651 - val_auprc: 0.5816 - 8s/epoch - 5ms/step\n",
            "Epoch 29/200\n",
            "1800/1800 - 8s - loss: 0.0092 - auroc: 0.9996 - auprc: 0.9993 - val_loss: 0.0153 - val_auroc: 0.9650 - val_auprc: 0.5707 - 8s/epoch - 5ms/step\n",
            "Epoch 30/200\n",
            "1800/1800 - 8s - loss: 0.0090 - auroc: 0.9996 - auprc: 0.9993 - val_loss: 0.0142 - val_auroc: 0.9652 - val_auprc: 0.5984 - 8s/epoch - 5ms/step\n",
            "Epoch 31/200\n",
            "1800/1800 - 8s - loss: 0.0084 - auroc: 0.9996 - auprc: 0.9993 - val_loss: 0.0150 - val_auroc: 0.9651 - val_auprc: 0.5899 - 8s/epoch - 5ms/step\n",
            "Epoch 32/200\n",
            "1800/1800 - 8s - loss: 0.0087 - auroc: 0.9997 - auprc: 0.9994 - val_loss: 0.0145 - val_auroc: 0.9652 - val_auprc: 0.5986 - 8s/epoch - 5ms/step\n",
            "Epoch 33/200\n",
            "1800/1800 - 8s - loss: 0.0080 - auroc: 0.9997 - auprc: 0.9994 - val_loss: 0.0153 - val_auroc: 0.9652 - val_auprc: 0.5885 - 8s/epoch - 5ms/step\n",
            "Epoch 34/200\n",
            "1800/1800 - 8s - loss: 0.0079 - auroc: 0.9997 - auprc: 0.9994 - val_loss: 0.0132 - val_auroc: 0.9651 - val_auprc: 0.6166 - 8s/epoch - 5ms/step\n",
            "Epoch 35/200\n",
            "1800/1800 - 8s - loss: 0.0077 - auroc: 0.9997 - auprc: 0.9994 - val_loss: 0.0151 - val_auroc: 0.9651 - val_auprc: 0.6052 - 8s/epoch - 5ms/step\n",
            "Epoch 36/200\n",
            "1800/1800 - 8s - loss: 0.0079 - auroc: 0.9997 - auprc: 0.9995 - val_loss: 0.0138 - val_auroc: 0.9652 - val_auprc: 0.5983 - 8s/epoch - 5ms/step\n",
            "Epoch 37/200\n",
            "1800/1800 - 8s - loss: 0.0077 - auroc: 0.9997 - auprc: 0.9994 - val_loss: 0.0128 - val_auroc: 0.9652 - val_auprc: 0.6312 - 8s/epoch - 5ms/step\n",
            "Epoch 38/200\n",
            "1800/1800 - 8s - loss: 0.0069 - auroc: 0.9997 - auprc: 0.9995 - val_loss: 0.0142 - val_auroc: 0.9651 - val_auprc: 0.5795 - 8s/epoch - 5ms/step\n",
            "Epoch 39/200\n",
            "1800/1800 - 8s - loss: 0.0073 - auroc: 0.9997 - auprc: 0.9994 - val_loss: 0.0144 - val_auroc: 0.9651 - val_auprc: 0.5872 - 8s/epoch - 5ms/step\n",
            "Epoch 40/200\n",
            "1800/1800 - 8s - loss: 0.0075 - auroc: 0.9997 - auprc: 0.9994 - val_loss: 0.0146 - val_auroc: 0.9651 - val_auprc: 0.5930 - 8s/epoch - 5ms/step\n",
            "Epoch 41/200\n",
            "1800/1800 - 8s - loss: 0.0073 - auroc: 0.9997 - auprc: 0.9994 - val_loss: 0.0144 - val_auroc: 0.9652 - val_auprc: 0.5881 - 8s/epoch - 5ms/step\n",
            "Epoch 42/200\n",
            "1800/1800 - 8s - loss: 0.0071 - auroc: 0.9997 - auprc: 0.9994 - val_loss: 0.0148 - val_auroc: 0.9651 - val_auprc: 0.5668 - 8s/epoch - 5ms/step\n",
            "Epoch 43/200\n",
            "1800/1800 - 9s - loss: 0.0071 - auroc: 0.9997 - auprc: 0.9995 - val_loss: 0.0138 - val_auroc: 0.9653 - val_auprc: 0.6083 - 9s/epoch - 5ms/step\n",
            "Epoch 44/200\n",
            "1800/1800 - 9s - loss: 0.0068 - auroc: 0.9997 - auprc: 0.9995 - val_loss: 0.0139 - val_auroc: 0.9652 - val_auprc: 0.5707 - 9s/epoch - 5ms/step\n",
            "Epoch 45/200\n",
            "1800/1800 - 9s - loss: 0.0067 - auroc: 0.9997 - auprc: 0.9995 - val_loss: 0.0138 - val_auroc: 0.9651 - val_auprc: 0.5937 - 9s/epoch - 5ms/step\n",
            "Epoch 46/200\n",
            "1800/1800 - 8s - loss: 0.0071 - auroc: 0.9997 - auprc: 0.9995 - val_loss: 0.0140 - val_auroc: 0.9652 - val_auprc: 0.6055 - 8s/epoch - 5ms/step\n",
            "Epoch 47/200\n",
            "1800/1800 - 8s - loss: 0.0069 - auroc: 0.9997 - auprc: 0.9995 - val_loss: 0.0139 - val_auroc: 0.9652 - val_auprc: 0.5920 - 8s/epoch - 5ms/step\n",
            "Epoch 48/200\n",
            "1800/1800 - 8s - loss: 0.0064 - auroc: 0.9997 - auprc: 0.9995 - val_loss: 0.0157 - val_auroc: 0.9651 - val_auprc: 0.5744 - 8s/epoch - 5ms/step\n",
            "Epoch 49/200\n",
            "1800/1800 - 8s - loss: 0.0065 - auroc: 0.9997 - auprc: 0.9995 - val_loss: 0.0139 - val_auroc: 0.9652 - val_auprc: 0.5913 - 8s/epoch - 5ms/step\n",
            "Epoch 50/200\n",
            "1800/1800 - 8s - loss: 0.0066 - auroc: 0.9997 - auprc: 0.9995 - val_loss: 0.0137 - val_auroc: 0.9652 - val_auprc: 0.6095 - 8s/epoch - 5ms/step\n",
            "Epoch 51/200\n",
            "1800/1800 - 8s - loss: 0.0067 - auroc: 0.9997 - auprc: 0.9995 - val_loss: 0.0144 - val_auroc: 0.9538 - val_auprc: 0.5744 - 8s/epoch - 5ms/step\n",
            "Epoch 52/200\n",
            "1800/1800 - 8s - loss: 0.0064 - auroc: 0.9997 - auprc: 0.9995 - val_loss: 0.0133 - val_auroc: 0.9539 - val_auprc: 0.6012 - 8s/epoch - 5ms/step\n",
            "Epoch 53/200\n",
            "1800/1800 - 8s - loss: 0.0059 - auroc: 0.9997 - auprc: 0.9995 - val_loss: 0.0146 - val_auroc: 0.9651 - val_auprc: 0.5779 - 8s/epoch - 5ms/step\n",
            "Epoch 54/200\n",
            "1800/1800 - 8s - loss: 0.0064 - auroc: 0.9997 - auprc: 0.9995 - val_loss: 0.0132 - val_auroc: 0.9652 - val_auprc: 0.6187 - 8s/epoch - 5ms/step\n",
            "Epoch 55/200\n",
            "1800/1800 - 8s - loss: 0.0067 - auroc: 0.9997 - auprc: 0.9995 - val_loss: 0.0125 - val_auroc: 0.9652 - val_auprc: 0.6369 - 8s/epoch - 5ms/step\n",
            "Epoch 56/200\n",
            "1800/1800 - 8s - loss: 0.0062 - auroc: 0.9997 - auprc: 0.9995 - val_loss: 0.0155 - val_auroc: 0.9651 - val_auprc: 0.5813 - 8s/epoch - 5ms/step\n",
            "Epoch 57/200\n",
            "1800/1800 - 8s - loss: 0.0063 - auroc: 0.9997 - auprc: 0.9995 - val_loss: 0.0134 - val_auroc: 0.9652 - val_auprc: 0.5887 - 8s/epoch - 5ms/step\n",
            "Epoch 58/200\n",
            "1800/1800 - 8s - loss: 0.0059 - auroc: 0.9998 - auprc: 0.9995 - val_loss: 0.0123 - val_auroc: 0.9653 - val_auprc: 0.6318 - 8s/epoch - 5ms/step\n",
            "Epoch 59/200\n",
            "1800/1800 - 8s - loss: 0.0060 - auroc: 0.9997 - auprc: 0.9995 - val_loss: 0.0133 - val_auroc: 0.9652 - val_auprc: 0.6108 - 8s/epoch - 5ms/step\n",
            "Epoch 60/200\n",
            "1800/1800 - 8s - loss: 0.0063 - auroc: 0.9997 - auprc: 0.9995 - val_loss: 0.0126 - val_auroc: 0.9539 - val_auprc: 0.6235 - 8s/epoch - 5ms/step\n",
            "Epoch 61/200\n",
            "1800/1800 - 8s - loss: 0.0060 - auroc: 0.9998 - auprc: 0.9996 - val_loss: 0.0123 - val_auroc: 0.9652 - val_auprc: 0.6217 - 8s/epoch - 5ms/step\n",
            "Epoch 62/200\n",
            "1800/1800 - 8s - loss: 0.0059 - auroc: 0.9997 - auprc: 0.9995 - val_loss: 0.0128 - val_auroc: 0.9539 - val_auprc: 0.6082 - 8s/epoch - 5ms/step\n",
            "Epoch 63/200\n",
            "1800/1800 - 8s - loss: 0.0055 - auroc: 0.9998 - auprc: 0.9996 - val_loss: 0.0137 - val_auroc: 0.9539 - val_auprc: 0.6156 - 8s/epoch - 5ms/step\n",
            "Epoch 64/200\n",
            "1800/1800 - 8s - loss: 0.0058 - auroc: 0.9998 - auprc: 0.9996 - val_loss: 0.0122 - val_auroc: 0.9540 - val_auprc: 0.6366 - 8s/epoch - 5ms/step\n",
            "Epoch 65/200\n",
            "1800/1800 - 9s - loss: 0.0056 - auroc: 0.9997 - auprc: 0.9995 - val_loss: 0.0138 - val_auroc: 0.9425 - val_auprc: 0.5838 - 9s/epoch - 5ms/step\n",
            "Epoch 66/200\n",
            "1800/1800 - 8s - loss: 0.0055 - auroc: 0.9998 - auprc: 0.9995 - val_loss: 0.0142 - val_auroc: 0.9539 - val_auprc: 0.6075 - 8s/epoch - 5ms/step\n",
            "Epoch 67/200\n",
            "1800/1800 - 8s - loss: 0.0057 - auroc: 0.9998 - auprc: 0.9996 - val_loss: 0.0132 - val_auroc: 0.9539 - val_auprc: 0.6120 - 8s/epoch - 5ms/step\n",
            "Epoch 68/200\n",
            "1800/1800 - 8s - loss: 0.0058 - auroc: 0.9998 - auprc: 0.9996 - val_loss: 0.0141 - val_auroc: 0.9651 - val_auprc: 0.5680 - 8s/epoch - 5ms/step\n",
            "Epoch 69/200\n",
            "1800/1800 - 8s - loss: 0.0055 - auroc: 0.9997 - auprc: 0.9995 - val_loss: 0.0133 - val_auroc: 0.9653 - val_auprc: 0.6207 - 8s/epoch - 5ms/step\n",
            "Epoch 70/200\n",
            "1800/1800 - 8s - loss: 0.0055 - auroc: 0.9997 - auprc: 0.9995 - val_loss: 0.0124 - val_auroc: 0.9426 - val_auprc: 0.6337 - 8s/epoch - 5ms/step\n",
            "Epoch 71/200\n",
            "1800/1800 - 8s - loss: 0.0053 - auroc: 0.9998 - auprc: 0.9996 - val_loss: 0.0125 - val_auroc: 0.9539 - val_auprc: 0.6248 - 8s/epoch - 5ms/step\n",
            "Epoch 72/200\n",
            "1800/1800 - 8s - loss: 0.0052 - auroc: 0.9998 - auprc: 0.9996 - val_loss: 0.0128 - val_auroc: 0.9426 - val_auprc: 0.6114 - 8s/epoch - 5ms/step\n",
            "Epoch 73/200\n",
            "1800/1800 - 8s - loss: 0.0055 - auroc: 0.9998 - auprc: 0.9996 - val_loss: 0.0124 - val_auroc: 0.9540 - val_auprc: 0.6317 - 8s/epoch - 5ms/step\n",
            "Epoch 74/200\n",
            "1800/1800 - 8s - loss: 0.0051 - auroc: 0.9998 - auprc: 0.9996 - val_loss: 0.0138 - val_auroc: 0.9426 - val_auprc: 0.6241 - 8s/epoch - 5ms/step\n",
            "Epoch 75/200\n",
            "1800/1800 - 8s - loss: 0.0055 - auroc: 0.9998 - auprc: 0.9996 - val_loss: 0.0139 - val_auroc: 0.9539 - val_auprc: 0.6135 - 8s/epoch - 5ms/step\n",
            "Epoch 76/200\n",
            "1800/1800 - 8s - loss: 0.0053 - auroc: 0.9998 - auprc: 0.9995 - val_loss: 0.0122 - val_auroc: 0.9540 - val_auprc: 0.6279 - 8s/epoch - 5ms/step\n",
            "Epoch 77/200\n",
            "1800/1800 - 8s - loss: 0.0049 - auroc: 0.9998 - auprc: 0.9996 - val_loss: 0.0132 - val_auroc: 0.9426 - val_auprc: 0.6060 - 8s/epoch - 5ms/step\n",
            "Epoch 78/200\n",
            "1800/1800 - 8s - loss: 0.0051 - auroc: 0.9998 - auprc: 0.9996 - val_loss: 0.0131 - val_auroc: 0.9539 - val_auprc: 0.6036 - 8s/epoch - 5ms/step\n",
            "Epoch 79/200\n",
            "1800/1800 - 8s - loss: 0.0052 - auroc: 0.9998 - auprc: 0.9996 - val_loss: 0.0118 - val_auroc: 0.9540 - val_auprc: 0.6288 - 8s/epoch - 5ms/step\n",
            "Epoch 80/200\n",
            "1800/1800 - 8s - loss: 0.0052 - auroc: 0.9998 - auprc: 0.9996 - val_loss: 0.0127 - val_auroc: 0.9540 - val_auprc: 0.6232 - 8s/epoch - 5ms/step\n",
            "Epoch 81/200\n",
            "1800/1800 - 9s - loss: 0.0052 - auroc: 0.9998 - auprc: 0.9996 - val_loss: 0.0121 - val_auroc: 0.9540 - val_auprc: 0.6517 - 9s/epoch - 5ms/step\n",
            "Epoch 82/200\n",
            "1800/1800 - 8s - loss: 0.0047 - auroc: 0.9998 - auprc: 0.9997 - val_loss: 0.0114 - val_auroc: 0.9540 - val_auprc: 0.7067 - 8s/epoch - 5ms/step\n",
            "Epoch 83/200\n",
            "1800/1800 - 9s - loss: 0.0054 - auroc: 0.9997 - auprc: 0.9995 - val_loss: 0.0110 - val_auroc: 0.9427 - val_auprc: 0.6531 - 9s/epoch - 5ms/step\n",
            "Epoch 84/200\n",
            "1800/1800 - 8s - loss: 0.0053 - auroc: 0.9998 - auprc: 0.9996 - val_loss: 0.0119 - val_auroc: 0.9427 - val_auprc: 0.6536 - 8s/epoch - 5ms/step\n",
            "Epoch 85/200\n",
            "1800/1800 - 8s - loss: 0.0049 - auroc: 0.9998 - auprc: 0.9996 - val_loss: 0.0120 - val_auroc: 0.9426 - val_auprc: 0.6200 - 8s/epoch - 5ms/step\n",
            "Epoch 86/200\n",
            "1800/1800 - 8s - loss: 0.0048 - auroc: 0.9998 - auprc: 0.9996 - val_loss: 0.0122 - val_auroc: 0.9427 - val_auprc: 0.6424 - 8s/epoch - 5ms/step\n",
            "Epoch 87/200\n",
            "1800/1800 - 8s - loss: 0.0049 - auroc: 0.9998 - auprc: 0.9996 - val_loss: 0.0107 - val_auroc: 0.9427 - val_auprc: 0.6687 - 8s/epoch - 5ms/step\n",
            "Epoch 88/200\n",
            "1800/1800 - 8s - loss: 0.0049 - auroc: 0.9998 - auprc: 0.9997 - val_loss: 0.0107 - val_auroc: 0.9427 - val_auprc: 0.6600 - 8s/epoch - 5ms/step\n",
            "Epoch 89/200\n",
            "1800/1800 - 8s - loss: 0.0049 - auroc: 0.9998 - auprc: 0.9996 - val_loss: 0.0115 - val_auroc: 0.9426 - val_auprc: 0.6619 - 8s/epoch - 5ms/step\n",
            "Epoch 90/200\n",
            "1800/1800 - 8s - loss: 0.0051 - auroc: 0.9998 - auprc: 0.9996 - val_loss: 0.0116 - val_auroc: 0.9540 - val_auprc: 0.6436 - 8s/epoch - 5ms/step\n",
            "Epoch 91/200\n",
            "1800/1800 - 8s - loss: 0.0043 - auroc: 0.9998 - auprc: 0.9997 - val_loss: 0.0110 - val_auroc: 0.9427 - val_auprc: 0.6862 - 8s/epoch - 5ms/step\n",
            "Epoch 92/200\n",
            "1800/1800 - 8s - loss: 0.0047 - auroc: 0.9998 - auprc: 0.9996 - val_loss: 0.0127 - val_auroc: 0.9427 - val_auprc: 0.6336 - 8s/epoch - 5ms/step\n",
            "Epoch 93/200\n",
            "1800/1800 - 8s - loss: 0.0044 - auroc: 0.9998 - auprc: 0.9996 - val_loss: 0.0119 - val_auroc: 0.9541 - val_auprc: 0.6645 - 8s/epoch - 5ms/step\n",
            "Epoch 94/200\n",
            "1800/1800 - 8s - loss: 0.0051 - auroc: 0.9998 - auprc: 0.9996 - val_loss: 0.0116 - val_auroc: 0.9541 - val_auprc: 0.6726 - 8s/epoch - 5ms/step\n",
            "Epoch 95/200\n",
            "1800/1800 - 9s - loss: 0.0046 - auroc: 0.9998 - auprc: 0.9997 - val_loss: 0.0114 - val_auroc: 0.9427 - val_auprc: 0.6747 - 9s/epoch - 5ms/step\n",
            "Epoch 96/200\n",
            "1800/1800 - 8s - loss: 0.0047 - auroc: 0.9998 - auprc: 0.9997 - val_loss: 0.0114 - val_auroc: 0.9541 - val_auprc: 0.6776 - 8s/epoch - 5ms/step\n",
            "Epoch 97/200\n",
            "1800/1800 - 8s - loss: 0.0045 - auroc: 0.9998 - auprc: 0.9996 - val_loss: 0.0116 - val_auroc: 0.9427 - val_auprc: 0.6498 - 8s/epoch - 5ms/step\n",
            "Epoch 98/200\n",
            "1800/1800 - 8s - loss: 0.0043 - auroc: 0.9998 - auprc: 0.9997 - val_loss: 0.0124 - val_auroc: 0.9540 - val_auprc: 0.6600 - 8s/epoch - 5ms/step\n",
            "Epoch 99/200\n",
            "1800/1800 - 8s - loss: 0.0052 - auroc: 0.9998 - auprc: 0.9996 - val_loss: 0.0120 - val_auroc: 0.9540 - val_auprc: 0.6757 - 8s/epoch - 5ms/step\n",
            "Epoch 100/200\n",
            "1800/1800 - 8s - loss: 0.0047 - auroc: 0.9998 - auprc: 0.9997 - val_loss: 0.0122 - val_auroc: 0.9427 - val_auprc: 0.6394 - 8s/epoch - 5ms/step\n",
            "Epoch 101/200\n",
            "1800/1800 - 9s - loss: 0.0045 - auroc: 0.9998 - auprc: 0.9996 - val_loss: 0.0117 - val_auroc: 0.9427 - val_auprc: 0.6550 - 9s/epoch - 5ms/step\n",
            "Epoch 102/200\n",
            "1800/1800 - 8s - loss: 0.0050 - auroc: 0.9998 - auprc: 0.9997 - val_loss: 0.0121 - val_auroc: 0.9540 - val_auprc: 0.6745 - 8s/epoch - 5ms/step\n",
            "Epoch 103/200\n",
            "1800/1800 - 8s - loss: 0.0051 - auroc: 0.9998 - auprc: 0.9997 - val_loss: 0.0119 - val_auroc: 0.9540 - val_auprc: 0.6591 - 8s/epoch - 5ms/step\n",
            "Epoch 104/200\n",
            "1800/1800 - 8s - loss: 0.0045 - auroc: 0.9998 - auprc: 0.9997 - val_loss: 0.0121 - val_auroc: 0.9540 - val_auprc: 0.6710 - 8s/epoch - 5ms/step\n",
            "Epoch 105/200\n",
            "1800/1800 - 8s - loss: 0.0046 - auroc: 0.9998 - auprc: 0.9997 - val_loss: 0.0120 - val_auroc: 0.9540 - val_auprc: 0.6527 - 8s/epoch - 5ms/step\n",
            "Epoch 106/200\n",
            "1800/1800 - 8s - loss: 0.0044 - auroc: 0.9998 - auprc: 0.9996 - val_loss: 0.0122 - val_auroc: 0.9427 - val_auprc: 0.6543 - 8s/epoch - 5ms/step\n",
            "Epoch 107/200\n",
            "1800/1800 - 8s - loss: 0.0043 - auroc: 0.9998 - auprc: 0.9997 - val_loss: 0.0122 - val_auroc: 0.9427 - val_auprc: 0.6540 - 8s/epoch - 5ms/step\n",
            "Epoch 108/200\n",
            "1800/1800 - 8s - loss: 0.0045 - auroc: 0.9998 - auprc: 0.9996 - val_loss: 0.0119 - val_auroc: 0.9427 - val_auprc: 0.6539 - 8s/epoch - 5ms/step\n",
            "Epoch 109/200\n",
            "1800/1800 - 8s - loss: 0.0046 - auroc: 0.9998 - auprc: 0.9997 - val_loss: 0.0126 - val_auroc: 0.9426 - val_auprc: 0.6389 - 8s/epoch - 5ms/step\n",
            "Epoch 110/200\n",
            "1800/1800 - 8s - loss: 0.0043 - auroc: 0.9998 - auprc: 0.9997 - val_loss: 0.0119 - val_auroc: 0.9427 - val_auprc: 0.6608 - 8s/epoch - 5ms/step\n",
            "Epoch 111/200\n",
            "1800/1800 - 8s - loss: 0.0041 - auroc: 0.9998 - auprc: 0.9997 - val_loss: 0.0129 - val_auroc: 0.9540 - val_auprc: 0.6417 - 8s/epoch - 5ms/step\n",
            "Epoch 112/200\n",
            "Restoring model weights from the end of the best epoch: 82.\n",
            "1800/1800 - 8s - loss: 0.0041 - auroc: 0.9998 - auprc: 0.9997 - val_loss: 0.0130 - val_auroc: 0.9427 - val_auprc: 0.6347 - 8s/epoch - 5ms/step\n",
            "Epoch 112: early stopping\n"
          ]
        }
      ]
    },
    {
      "cell_type": "code",
      "metadata": {
        "id": "5c3tl3mYZ_6s",
        "colab": {
          "base_uri": "https://localhost:8080/"
        },
        "outputId": "f036d100-30c9-4f21-a3ad-4862c98a7405"
      },
      "source": [
        "model.evaluate(x_test, y_test)"
      ],
      "execution_count": null,
      "outputs": [
        {
          "output_type": "stream",
          "name": "stdout",
          "text": [
            "891/891 [==============================] - 3s 3ms/step - loss: 0.0156 - auroc: 0.9178 - auprc: 0.6365\n"
          ]
        },
        {
          "output_type": "execute_result",
          "data": {
            "text/plain": [
              "[0.015585700049996376, 0.9177827835083008, 0.6365436315536499]"
            ]
          },
          "metadata": {},
          "execution_count": 96
        }
      ]
    },
    {
      "cell_type": "code",
      "metadata": {
        "id": "KEKqURQ0aALJ",
        "colab": {
          "base_uri": "https://localhost:8080/",
          "height": 839
        },
        "outputId": "840a07ef-0281-47c5-d98a-fc8ca487e604"
      },
      "source": [
        "import matplotlib.pyplot as plt\n",
        "import seaborn as sns\n",
        "\n",
        "history = history.history\n",
        "\n",
        "fig, (ax1, ax2) = plt.subplots(2, 1, sharex='col', figsize=(20, 14))\n",
        "\n",
        "ax1.plot(history['loss'], label='Train loss')\n",
        "ax1.plot(history['val_loss'], label='Validation loss')\n",
        "ax1.legend(loc='best')\n",
        "ax1.set_title('Loss')\n",
        "\n",
        "ax2.plot(history['auprc'], label='Train accuracy')\n",
        "ax2.plot(history['val_auprc'], label='Validation accuracy')\n",
        "ax2.legend(loc='best')\n",
        "ax2.set_title('AUPRC')\n",
        "\n",
        "plt.xlabel('Epochs')\n",
        "sns.despine()\n",
        "plt.show()"
      ],
      "execution_count": null,
      "outputs": [
        {
          "output_type": "display_data",
          "data": {
            "text/plain": [
              "<Figure size 1440x1008 with 2 Axes>"
            ],
            "image/png": "[encoded data removed]"
          },
          "metadata": {
            "needs_background": "light"
          }
        }
      ]
    },
    {
      "cell_type": "code",
      "metadata": {
        "id": "5n2zYYwvZ6pe",
        "colab": {
          "base_uri": "https://localhost:8080/"
        },
        "outputId": "5fc6081a-f747-406d-ffc1-1284daba86bc"
      },
      "source": [
        "y_pred = model.predict(x_test)\n",
        "auprc = tf.keras.metrics.AUC(curve='PR')\n",
        "auprc.update_state(y_test, y_pred)\n",
        "TF_Model_AUPRC = auprc.result().numpy()\n",
        "TF_Model_AUPRC"
      ],
      "execution_count": null,
      "outputs": [
        {
          "output_type": "execute_result",
          "data": {
            "text/plain": [
              "0.63654363"
            ]
          },
          "metadata": {},
          "execution_count": 98
        }
      ]
    },
    {
      "cell_type": "code",
      "metadata": {
        "id": "x1HkR52_aK7q",
        "colab": {
          "base_uri": "https://localhost:8080/"
        },
        "outputId": "13195eff-40e3-4b44-9086-23d2fabaa216"
      },
      "source": [
        "TF_Model_metrics = compute_metrics(y_test, y_pred)\n",
        "print_metrics(TF_Model_metrics)"
      ],
      "execution_count": null,
      "outputs": [
        {
          "output_type": "stream",
          "name": "stdout",
          "text": [
            "Fraudulent Transactions Detected (True Positives): 41\n",
            "Fraudulent Transactions Missed (False Negatives): 8\n",
            "Legitimate Transactions Incorrectly Detected (False Positives): 52\n",
            "Legitimate Transactions Detected (True Negatives): 28380\n"
          ]
        }
      ]
    },
    {
      "cell_type": "code",
      "metadata": {
        "id": "Wr9D6l2oaSrl",
        "colab": {
          "base_uri": "https://localhost:8080/"
        },
        "outputId": "eecc258c-6c70-4ac5-830c-7a6791f6f67f"
      },
      "source": [
        "print('RF_AUPRC: ' + str(RF_AUPRC))\n",
        "print('XGB_AUPRC: ' + str(XGB_AUPRC))\n",
        "print('TF_Model_AUPRC: ' + str(TF_Model_AUPRC))"
      ],
      "execution_count": null,
      "outputs": [
        {
          "output_type": "stream",
          "name": "stdout",
          "text": [
            "RF_AUPRC: 0.7639222\n",
            "XGB_AUPRC: 0.03585368\n",
            "TF_Model_AUPRC: 0.63654363\n"
          ]
        }
      ]
    },
    {
      "cell_type": "code",
      "metadata": {
        "id": "Tnqq5OQdaWw9",
        "colab": {
          "base_uri": "https://localhost:8080/"
        },
        "outputId": "b6a258a9-853f-48aa-964d-614027929354"
      },
      "source": [
        "print('Random Forest ********************')\n",
        "print_metrics(RF_metrics)\n",
        "print('XGBoost **************************')\n",
        "print_metrics(XGB_metrics)\n",
        "print('TensorFlow DNN Model ************')\n",
        "print_metrics(TF_Model_metrics)"
      ],
      "execution_count": null,
      "outputs": [
        {
          "output_type": "stream",
          "name": "stdout",
          "text": [
            "Random Forest ********************\n",
            "Fraudulent Transactions Detected (True Positives): 41\n",
            "Fraudulent Transactions Missed (False Negatives): 8\n",
            "Legitimate Transactions Incorrectly Detected (False Positives): 4\n",
            "Legitimate Transactions Detected (True Negatives): 28428\n",
            "XGBoost **************************\n",
            "Fraudulent Transactions Detected (True Positives): 43\n",
            "Fraudulent Transactions Missed (False Negatives): 6\n",
            "Legitimate Transactions Incorrectly Detected (False Positives): 1029\n",
            "Legitimate Transactions Detected (True Negatives): 27403\n",
            "TensorFlow DNN Model ************\n",
            "Fraudulent Transactions Detected (True Positives): 41\n",
            "Fraudulent Transactions Missed (False Negatives): 8\n",
            "Legitimate Transactions Incorrectly Detected (False Positives): 52\n",
            "Legitimate Transactions Detected (True Negatives): 28380\n"
          ]
        }
      ]
    },
    {
      "cell_type": "code",
      "metadata": {
        "id": "ZpsMl0T2-31r"
      },
      "source": [
        "tp_df['Model'] = models\n",
        "results = [RF_metrics[0], XGB_metrics[0], TF_Model_metrics[0]]\n",
        "tp_df['ADASYN'] = results\n",
        "fn_df['Model'] = models\n",
        "results = [RF_metrics[1], XGB_metrics[1], TF_Model_metrics[1]]\n",
        "fn_df['ADASYN'] = results\n",
        "fp_df['Model'] = models\n",
        "results = [RF_metrics[2], XGB_metrics[2], TF_Model_metrics[2]]\n",
        "fp_df['ADASYN'] = results\n",
        "tn_df['Model'] = models\n",
        "results = [RF_metrics[3], XGB_metrics[3], TF_Model_metrics[3]]\n",
        "tn_df['ADASYN'] = results"
      ],
      "execution_count": null,
      "outputs": []
    },
    {
      "cell_type": "code",
      "metadata": {
        "id": "M2KgL09Cc_HA"
      },
      "source": [
        "results = [RF_AUPRC, XGB_AUPRC, TF_Model_AUPRC]\n",
        "auprc_df['Oversampling ADASYN'] = results"
      ],
      "execution_count": null,
      "outputs": []
    },
    {
      "cell_type": "markdown",
      "metadata": {
        "id": "RpzINGbmEBp-"
      },
      "source": [
        "# Combo (SMOTEENN)\n",
        " over-sampling using SMOTE (Synthetic Minority Over-sampling Technique) and cleaning using ENN (EditedNearestNeighbours) "
      ]
    },
    {
      "cell_type": "code",
      "metadata": {
        "id": "cdJdZt8zerIf"
      },
      "source": [
        "x_train, y_train, x_val, y_val, x_test, y_test = prep_data()"
      ],
      "execution_count": null,
      "outputs": []
    },
    {
      "cell_type": "code",
      "metadata": {
        "id": "jehcOgnecD0d",
        "colab": {
          "base_uri": "https://localhost:8080/"
        },
        "outputId": "970d68b9-ec6e-4fba-f658-42d977a38bbf"
      },
      "source": [
        "%%time \n",
        "neg, pos = bincount(y_train)\n",
        "print('Original balance: ' + str(neg) + ' non-fraud, ' + str(pos) + ' fraud')\n",
        "\n",
        "from imblearn.combine import SMOTEENN\n",
        "smote_enn = SMOTEENN(random_state=seed)\n",
        "x_train, y_train = smote_enn.fit_resample(x_train, y_train)\n",
        "\n",
        "neg, pos = bincount(y_train)\n",
        "print('New balance: ' + str(neg) + ' non-fraud, ' + str(pos) + ' fraud')\n"
      ],
      "execution_count": null,
      "outputs": [
        {
          "output_type": "stream",
          "name": "stdout",
          "text": [
            "Original balance: 230294 non-fraud, 399 fraud\n",
            "New balance: 229893 non-fraud, 230294 fraud\n",
            "CPU times: user 57min 31s, sys: 3min 31s, total: 1h 1min 3s\n",
            "Wall time: 50min 40s\n"
          ]
        }
      ]
    },
    {
      "cell_type": "code",
      "metadata": {
        "id": "y1gicfv0feIC",
        "colab": {
          "base_uri": "https://localhost:8080/"
        },
        "outputId": "b4297608-af0e-470d-b6d6-49637af56de1"
      },
      "source": [
        "classifier = RandomForestClassifier(n_estimators=100, n_jobs=-1, random_state=seed)\n",
        "classifier.fit(x_train, y_train)"
      ],
      "execution_count": null,
      "outputs": [
        {
          "output_type": "execute_result",
          "data": {
            "text/plain": [
              "RandomForestClassifier(n_jobs=-1, random_state=53)"
            ]
          },
          "metadata": {},
          "execution_count": 106
        }
      ]
    },
    {
      "cell_type": "code",
      "metadata": {
        "id": "nYLErCE-feTR",
        "colab": {
          "base_uri": "https://localhost:8080/"
        },
        "outputId": "1dca0cfa-aff5-4242-db7e-020d3c87297d"
      },
      "source": [
        "y_pred = classifier.predict(x_test)\n",
        "auprc = tf.keras.metrics.AUC(curve='PR')\n",
        "auprc.update_state(y_test, y_pred)\n",
        "RF_AUPRC = auprc.result().numpy()\n",
        "RF_AUPRC"
      ],
      "execution_count": null,
      "outputs": [
        {
          "output_type": "execute_result",
          "data": {
            "text/plain": [
              "0.7360719"
            ]
          },
          "metadata": {},
          "execution_count": 107
        }
      ]
    },
    {
      "cell_type": "code",
      "metadata": {
        "id": "rTxcJnP-fsut",
        "colab": {
          "base_uri": "https://localhost:8080/"
        },
        "outputId": "1e254436-9509-43d9-ac82-d54a4c8fc223"
      },
      "source": [
        "RF_metrics = compute_metrics(y_test, y_pred)\n",
        "print_metrics(RF_metrics)"
      ],
      "execution_count": null,
      "outputs": [
        {
          "output_type": "stream",
          "name": "stdout",
          "text": [
            "Fraudulent Transactions Detected (True Positives): 42\n",
            "Fraudulent Transactions Missed (False Negatives): 7\n",
            "Legitimate Transactions Incorrectly Detected (False Positives): 7\n",
            "Legitimate Transactions Detected (True Negatives): 28425\n"
          ]
        }
      ]
    },
    {
      "cell_type": "code",
      "metadata": {
        "id": "eh6e09xhfxWP",
        "colab": {
          "base_uri": "https://localhost:8080/"
        },
        "outputId": "3cdd6ec8-56db-45f4-e688-51261c78254a"
      },
      "source": [
        "%%time\n",
        "xgbc = XGBClassifier(objective='binary:logistic', seed=seed, eval_metric='aucpr')\n",
        "xgbc.fit(x_train, y_train)"
      ],
      "execution_count": null,
      "outputs": [
        {
          "output_type": "stream",
          "name": "stdout",
          "text": [
            "CPU times: user 1min 44s, sys: 0 ns, total: 1min 44s\n",
            "Wall time: 1min 44s\n"
          ]
        }
      ]
    },
    {
      "cell_type": "code",
      "metadata": {
        "id": "e0SwYbshfs5h",
        "colab": {
          "base_uri": "https://localhost:8080/"
        },
        "outputId": "3a04c3b7-3e90-4435-e551-81019ee31b30"
      },
      "source": [
        "y_pred = xgbc.predict(x_test)\n",
        "auprc = tf.keras.metrics.AUC(curve='PR')\n",
        "auprc.update_state(y_test, y_pred)\n",
        "XGB_AUPRC = auprc.result().numpy()\n",
        "XGB_AUPRC"
      ],
      "execution_count": null,
      "outputs": [
        {
          "output_type": "execute_result",
          "data": {
            "text/plain": [
              "0.09986501"
            ]
          },
          "metadata": {},
          "execution_count": 110
        }
      ]
    },
    {
      "cell_type": "code",
      "metadata": {
        "id": "dR7oA_gwf4o3",
        "colab": {
          "base_uri": "https://localhost:8080/"
        },
        "outputId": "d7358061-c2d2-474e-ce83-49516d08e8eb"
      },
      "source": [
        "XGB_metrics = compute_metrics(y_test, y_pred)\n",
        "print_metrics(XGB_metrics)"
      ],
      "execution_count": null,
      "outputs": [
        {
          "output_type": "stream",
          "name": "stdout",
          "text": [
            "Fraudulent Transactions Detected (True Positives): 42\n",
            "Fraudulent Transactions Missed (False Negatives): 7\n",
            "Legitimate Transactions Incorrectly Detected (False Positives): 322\n",
            "Legitimate Transactions Detected (True Negatives): 28110\n"
          ]
        }
      ]
    },
    {
      "cell_type": "code",
      "metadata": {
        "id": "SI111Yi_f9HI",
        "colab": {
          "base_uri": "https://localhost:8080/"
        },
        "outputId": "29cbc3c5-377b-4b02-87e9-a6fe01604b64"
      },
      "source": [
        "model = create_model()"
      ],
      "execution_count": null,
      "outputs": [
        {
          "output_type": "stream",
          "name": "stdout",
          "text": [
            "Model: \"model\"\n",
            "_________________________________________________________________\n",
            " Layer (type)                Output Shape              Param #   \n",
            "=================================================================\n",
            " input1 (InputLayer)         [(None, 30)]              0         \n",
            "                                                                 \n",
            " dense (Dense)               (None, 96)                2976      \n",
            "                                                                 \n",
            " batch_normalization (BatchN  (None, 96)               384       \n",
            " ormalization)                                                   \n",
            "                                                                 \n",
            " elu (ELU)                   (None, 96)                0         \n",
            "                                                                 \n",
            " dropout (Dropout)           (None, 96)                0         \n",
            "                                                                 \n",
            " dense_1 (Dense)             (None, 96)                9312      \n",
            "                                                                 \n",
            " batch_normalization_1 (Batc  (None, 96)               384       \n",
            " hNormalization)                                                 \n",
            "                                                                 \n",
            " elu_1 (ELU)                 (None, 96)                0         \n",
            "                                                                 \n",
            " dropout_1 (Dropout)         (None, 96)                0         \n",
            "                                                                 \n",
            " dense_2 (Dense)             (None, 96)                9312      \n",
            "                                                                 \n",
            " batch_normalization_2 (Batc  (None, 96)               384       \n",
            " hNormalization)                                                 \n",
            "                                                                 \n",
            " elu_2 (ELU)                 (None, 96)                0         \n",
            "                                                                 \n",
            " dropout_2 (Dropout)         (None, 96)                0         \n",
            "                                                                 \n",
            " out (Dense)                 (None, 1)                 97        \n",
            "                                                                 \n",
            "=================================================================\n",
            "Total params: 22,849\n",
            "Trainable params: 22,273\n",
            "Non-trainable params: 576\n",
            "_________________________________________________________________\n"
          ]
        }
      ]
    },
    {
      "cell_type": "code",
      "metadata": {
        "id": "8NAGdJ7jftBu",
        "colab": {
          "base_uri": "https://localhost:8080/"
        },
        "outputId": "54b4062f-46ad-4bff-9eae-1e2b2fe76c1a"
      },
      "source": [
        "es = EarlyStopping(monitor='val_auprc', patience=30, verbose=1, mode='max',\n",
        "                   restore_best_weights=True)\n",
        "history = model.fit(x_train, y_train, epochs=200, verbose=2, callbacks=[es], \n",
        "                    validation_data=(x_val, y_val), batch_size=BATCH_SIZE)"
      ],
      "execution_count": null,
      "outputs": [
        {
          "output_type": "stream",
          "name": "stdout",
          "text": [
            "Epoch 1/200\n",
            "1798/1798 - 10s - loss: 0.1250 - auroc: 0.9892 - auprc: 0.9907 - val_loss: 0.0548 - val_auroc: 0.9767 - val_auprc: 0.6945 - 10s/epoch - 6ms/step\n",
            "Epoch 2/200\n",
            "1798/1798 - 8s - loss: 0.0695 - auroc: 0.9969 - auprc: 0.9968 - val_loss: 0.0389 - val_auroc: 0.9716 - val_auprc: 0.6877 - 8s/epoch - 5ms/step\n",
            "Epoch 3/200\n",
            "1798/1798 - 9s - loss: 0.0506 - auroc: 0.9983 - auprc: 0.9980 - val_loss: 0.0339 - val_auroc: 0.9730 - val_auprc: 0.6416 - 9s/epoch - 5ms/step\n",
            "Epoch 4/200\n",
            "1798/1798 - 9s - loss: 0.0405 - auroc: 0.9988 - auprc: 0.9985 - val_loss: 0.0279 - val_auroc: 0.9739 - val_auprc: 0.6702 - 9s/epoch - 5ms/step\n",
            "Epoch 5/200\n",
            "1798/1798 - 8s - loss: 0.0352 - auroc: 0.9990 - auprc: 0.9987 - val_loss: 0.0265 - val_auroc: 0.9741 - val_auprc: 0.6526 - 8s/epoch - 5ms/step\n",
            "Epoch 6/200\n",
            "1798/1798 - 8s - loss: 0.0298 - auroc: 0.9992 - auprc: 0.9989 - val_loss: 0.0233 - val_auroc: 0.9746 - val_auprc: 0.6535 - 8s/epoch - 5ms/step\n",
            "Epoch 7/200\n",
            "1798/1798 - 8s - loss: 0.0263 - auroc: 0.9993 - auprc: 0.9990 - val_loss: 0.0212 - val_auroc: 0.9751 - val_auprc: 0.6701 - 8s/epoch - 5ms/step\n",
            "Epoch 8/200\n",
            "1798/1798 - 8s - loss: 0.0238 - auroc: 0.9994 - auprc: 0.9991 - val_loss: 0.0226 - val_auroc: 0.9639 - val_auprc: 0.6532 - 8s/epoch - 5ms/step\n",
            "Epoch 9/200\n",
            "1798/1798 - 8s - loss: 0.0219 - auroc: 0.9995 - auprc: 0.9992 - val_loss: 0.0212 - val_auroc: 0.9754 - val_auprc: 0.6614 - 8s/epoch - 5ms/step\n",
            "Epoch 10/200\n",
            "1798/1798 - 8s - loss: 0.0200 - auroc: 0.9995 - auprc: 0.9993 - val_loss: 0.0205 - val_auroc: 0.9755 - val_auprc: 0.6718 - 8s/epoch - 5ms/step\n",
            "Epoch 11/200\n",
            "1798/1798 - 9s - loss: 0.0183 - auroc: 0.9995 - auprc: 0.9993 - val_loss: 0.0221 - val_auroc: 0.9753 - val_auprc: 0.6467 - 9s/epoch - 5ms/step\n",
            "Epoch 12/200\n",
            "1798/1798 - 9s - loss: 0.0175 - auroc: 0.9996 - auprc: 0.9993 - val_loss: 0.0209 - val_auroc: 0.9756 - val_auprc: 0.6609 - 9s/epoch - 5ms/step\n",
            "Epoch 13/200\n",
            "1798/1798 - 9s - loss: 0.0164 - auroc: 0.9996 - auprc: 0.9994 - val_loss: 0.0170 - val_auroc: 0.9647 - val_auprc: 0.6436 - 9s/epoch - 5ms/step\n",
            "Epoch 14/200\n",
            "1798/1798 - 9s - loss: 0.0156 - auroc: 0.9996 - auprc: 0.9994 - val_loss: 0.0182 - val_auroc: 0.9647 - val_auprc: 0.6536 - 9s/epoch - 5ms/step\n",
            "Epoch 15/200\n",
            "1798/1798 - 9s - loss: 0.0147 - auroc: 0.9996 - auprc: 0.9994 - val_loss: 0.0147 - val_auroc: 0.9649 - val_auprc: 0.6680 - 9s/epoch - 5ms/step\n",
            "Epoch 16/200\n",
            "1798/1798 - 8s - loss: 0.0134 - auroc: 0.9997 - auprc: 0.9995 - val_loss: 0.0179 - val_auroc: 0.9649 - val_auprc: 0.6641 - 8s/epoch - 5ms/step\n",
            "Epoch 17/200\n",
            "1798/1798 - 8s - loss: 0.0130 - auroc: 0.9997 - auprc: 0.9994 - val_loss: 0.0187 - val_auroc: 0.9646 - val_auprc: 0.6261 - 8s/epoch - 5ms/step\n",
            "Epoch 18/200\n",
            "1798/1798 - 8s - loss: 0.0125 - auroc: 0.9997 - auprc: 0.9995 - val_loss: 0.0162 - val_auroc: 0.9649 - val_auprc: 0.6408 - 8s/epoch - 5ms/step\n",
            "Epoch 19/200\n",
            "1798/1798 - 8s - loss: 0.0121 - auroc: 0.9997 - auprc: 0.9995 - val_loss: 0.0170 - val_auroc: 0.9649 - val_auprc: 0.6379 - 8s/epoch - 5ms/step\n",
            "Epoch 20/200\n",
            "1798/1798 - 9s - loss: 0.0115 - auroc: 0.9997 - auprc: 0.9995 - val_loss: 0.0187 - val_auroc: 0.9649 - val_auprc: 0.6495 - 9s/epoch - 5ms/step\n",
            "Epoch 21/200\n",
            "1798/1798 - 9s - loss: 0.0112 - auroc: 0.9997 - auprc: 0.9995 - val_loss: 0.0158 - val_auroc: 0.9650 - val_auprc: 0.6290 - 9s/epoch - 5ms/step\n",
            "Epoch 22/200\n",
            "1798/1798 - 9s - loss: 0.0110 - auroc: 0.9997 - auprc: 0.9996 - val_loss: 0.0168 - val_auroc: 0.9649 - val_auprc: 0.6358 - 9s/epoch - 5ms/step\n",
            "Epoch 23/200\n",
            "1798/1798 - 9s - loss: 0.0102 - auroc: 0.9998 - auprc: 0.9996 - val_loss: 0.0141 - val_auroc: 0.9651 - val_auprc: 0.6423 - 9s/epoch - 5ms/step\n",
            "Epoch 24/200\n",
            "1798/1798 - 9s - loss: 0.0103 - auroc: 0.9998 - auprc: 0.9996 - val_loss: 0.0161 - val_auroc: 0.9650 - val_auprc: 0.6188 - 9s/epoch - 5ms/step\n",
            "Epoch 25/200\n",
            "1798/1798 - 8s - loss: 0.0097 - auroc: 0.9998 - auprc: 0.9996 - val_loss: 0.0172 - val_auroc: 0.9648 - val_auprc: 0.6023 - 8s/epoch - 5ms/step\n",
            "Epoch 26/200\n",
            "1798/1798 - 8s - loss: 0.0096 - auroc: 0.9998 - auprc: 0.9996 - val_loss: 0.0146 - val_auroc: 0.9650 - val_auprc: 0.6298 - 8s/epoch - 5ms/step\n",
            "Epoch 27/200\n",
            "1798/1798 - 9s - loss: 0.0091 - auroc: 0.9998 - auprc: 0.9996 - val_loss: 0.0146 - val_auroc: 0.9651 - val_auprc: 0.6438 - 9s/epoch - 5ms/step\n",
            "Epoch 28/200\n",
            "1798/1798 - 9s - loss: 0.0092 - auroc: 0.9998 - auprc: 0.9996 - val_loss: 0.0141 - val_auroc: 0.9651 - val_auprc: 0.6344 - 9s/epoch - 5ms/step\n",
            "Epoch 29/200\n",
            "1798/1798 - 9s - loss: 0.0087 - auroc: 0.9998 - auprc: 0.9997 - val_loss: 0.0154 - val_auroc: 0.9651 - val_auprc: 0.6353 - 9s/epoch - 5ms/step\n",
            "Epoch 30/200\n",
            "1798/1798 - 9s - loss: 0.0088 - auroc: 0.9998 - auprc: 0.9996 - val_loss: 0.0146 - val_auroc: 0.9651 - val_auprc: 0.6230 - 9s/epoch - 5ms/step\n",
            "Epoch 31/200\n",
            "Restoring model weights from the end of the best epoch: 1.\n",
            "1798/1798 - 9s - loss: 0.0083 - auroc: 0.9998 - auprc: 0.9996 - val_loss: 0.0137 - val_auroc: 0.9652 - val_auprc: 0.6357 - 9s/epoch - 5ms/step\n",
            "Epoch 31: early stopping\n"
          ]
        }
      ]
    },
    {
      "cell_type": "code",
      "metadata": {
        "id": "yNAX0IhUgFrk",
        "colab": {
          "base_uri": "https://localhost:8080/"
        },
        "outputId": "d17022d3-c5c4-43be-da52-9631c4dabf97"
      },
      "source": [
        "model.evaluate(x_test, y_test)"
      ],
      "execution_count": null,
      "outputs": [
        {
          "output_type": "stream",
          "name": "stdout",
          "text": [
            "891/891 [==============================] - 3s 3ms/step - loss: 0.0558 - auroc: 0.9881 - auprc: 0.7004\n"
          ]
        },
        {
          "output_type": "execute_result",
          "data": {
            "text/plain": [
              "[0.055758997797966, 0.9881013035774231, 0.7004275918006897]"
            ]
          },
          "metadata": {},
          "execution_count": 114
        }
      ]
    },
    {
      "cell_type": "code",
      "metadata": {
        "id": "84vLiZiMfecn",
        "colab": {
          "base_uri": "https://localhost:8080/",
          "height": 839
        },
        "outputId": "01729b9f-5637-46a0-ec23-9b6c1b440950"
      },
      "source": [
        "import matplotlib.pyplot as plt\n",
        "import seaborn as sns\n",
        "\n",
        "history = history.history\n",
        "\n",
        "fig, (ax1, ax2) = plt.subplots(2, 1, sharex='col', figsize=(20, 14))\n",
        "\n",
        "ax1.plot(history['loss'], label='Train loss')\n",
        "ax1.plot(history['val_loss'], label='Validation loss')\n",
        "ax1.legend(loc='best')\n",
        "ax1.set_title('Loss')\n",
        "\n",
        "ax2.plot(history['auprc'], label='Train accuracy')\n",
        "ax2.plot(history['val_auprc'], label='Validation accuracy')\n",
        "ax2.legend(loc='best')\n",
        "ax2.set_title('AUPRC')\n",
        "\n",
        "plt.xlabel('Epochs')\n",
        "sns.despine()\n",
        "plt.show()"
      ],
      "execution_count": null,
      "outputs": [
        {
          "output_type": "display_data",
          "data": {
            "text/plain": [
              "<Figure size 1440x1008 with 2 Axes>"
            ],
            "image/png": "[encoded data removed]"
          },
          "metadata": {
            "needs_background": "light"
          }
        }
      ]
    },
    {
      "cell_type": "code",
      "metadata": {
        "id": "_7ZaAsEhgQ_3",
        "colab": {
          "base_uri": "https://localhost:8080/"
        },
        "outputId": "b4d1d8e2-17e6-4687-bf35-2d1828701f5c"
      },
      "source": [
        "y_pred = model.predict(x_test)\n",
        "auprc = tf.keras.metrics.AUC(curve='PR')\n",
        "auprc.update_state(y_test, y_pred)\n",
        "TF_Model_AUPRC = auprc.result().numpy()\n",
        "TF_Model_AUPRC"
      ],
      "execution_count": null,
      "outputs": [
        {
          "output_type": "execute_result",
          "data": {
            "text/plain": [
              "0.7004276"
            ]
          },
          "metadata": {},
          "execution_count": 116
        }
      ]
    },
    {
      "cell_type": "code",
      "metadata": {
        "id": "xoj3aYtogYMI",
        "colab": {
          "base_uri": "https://localhost:8080/"
        },
        "outputId": "0bddc259-2d85-45bd-889f-e221e7e638af"
      },
      "source": [
        "TF_Model_metrics = compute_metrics(y_test, y_pred)\n",
        "print_metrics(TF_Model_metrics)"
      ],
      "execution_count": null,
      "outputs": [
        {
          "output_type": "stream",
          "name": "stdout",
          "text": [
            "Fraudulent Transactions Detected (True Positives): 43\n",
            "Fraudulent Transactions Missed (False Negatives): 6\n",
            "Legitimate Transactions Incorrectly Detected (False Positives): 471\n",
            "Legitimate Transactions Detected (True Negatives): 27961\n"
          ]
        }
      ]
    },
    {
      "cell_type": "code",
      "metadata": {
        "id": "LKxnMvhigY2K",
        "colab": {
          "base_uri": "https://localhost:8080/"
        },
        "outputId": "557a11ad-433b-4aa7-cbf4-e24471b514b4"
      },
      "source": [
        "print('RF_AUPRC: ' + str(RF_AUPRC))\n",
        "print('XGB_AUPRC: ' + str(XGB_AUPRC))\n",
        "print('TF_Model_AUPRC: ' + str(TF_Model_AUPRC))"
      ],
      "execution_count": null,
      "outputs": [
        {
          "output_type": "stream",
          "name": "stdout",
          "text": [
            "RF_AUPRC: 0.7360719\n",
            "XGB_AUPRC: 0.09986501\n",
            "TF_Model_AUPRC: 0.7004276\n"
          ]
        }
      ]
    },
    {
      "cell_type": "code",
      "metadata": {
        "id": "vIlo0rIjgbn-",
        "colab": {
          "base_uri": "https://localhost:8080/"
        },
        "outputId": "c1ed935e-5625-4338-9345-2f175c4f0555"
      },
      "source": [
        "print('Random Forest ********************')\n",
        "print_metrics(RF_metrics)\n",
        "print('XGBoost **************************')\n",
        "print_metrics(XGB_metrics)\n",
        "print('TensorFlow DNN Model ************')\n",
        "print_metrics(TF_Model_metrics)"
      ],
      "execution_count": null,
      "outputs": [
        {
          "output_type": "stream",
          "name": "stdout",
          "text": [
            "Random Forest ********************\n",
            "Fraudulent Transactions Detected (True Positives): 42\n",
            "Fraudulent Transactions Missed (False Negatives): 7\n",
            "Legitimate Transactions Incorrectly Detected (False Positives): 7\n",
            "Legitimate Transactions Detected (True Negatives): 28425\n",
            "XGBoost **************************\n",
            "Fraudulent Transactions Detected (True Positives): 42\n",
            "Fraudulent Transactions Missed (False Negatives): 7\n",
            "Legitimate Transactions Incorrectly Detected (False Positives): 322\n",
            "Legitimate Transactions Detected (True Negatives): 28110\n",
            "TensorFlow DNN Model ************\n",
            "Fraudulent Transactions Detected (True Positives): 43\n",
            "Fraudulent Transactions Missed (False Negatives): 6\n",
            "Legitimate Transactions Incorrectly Detected (False Positives): 471\n",
            "Legitimate Transactions Detected (True Negatives): 27961\n"
          ]
        }
      ]
    },
    {
      "cell_type": "code",
      "metadata": {
        "id": "wKcxL0uJ-pNb"
      },
      "source": [
        "tp_df['Model'] = models\n",
        "results = [RF_metrics[0], XGB_metrics[0], TF_Model_metrics[0]]\n",
        "tp_df['SMOTEENN'] = results\n",
        "fn_df['Model'] = models\n",
        "results = [RF_metrics[1], XGB_metrics[1], TF_Model_metrics[1]]\n",
        "fn_df['SMOTEENN'] = results\n",
        "fp_df['Model'] = models\n",
        "results = [RF_metrics[2], XGB_metrics[2], TF_Model_metrics[2]]\n",
        "fp_df['SMOTEENN'] = results\n",
        "tn_df['Model'] = models\n",
        "results = [RF_metrics[3], XGB_metrics[3], TF_Model_metrics[3]]\n",
        "tn_df['SMOTEENN'] = results"
      ],
      "execution_count": null,
      "outputs": []
    },
    {
      "cell_type": "code",
      "metadata": {
        "id": "D3xooSZdjmzJ"
      },
      "source": [
        "results = [RF_AUPRC, XGB_AUPRC, TF_Model_AUPRC]\n",
        "auprc_df['Combo (SMOTEENN)'] = results"
      ],
      "execution_count": null,
      "outputs": []
    },
    {
      "cell_type": "markdown",
      "source": [
        "# AutoEncoder\n",
        "\n",
        "Use an autoencoder for anamoly detection"
      ],
      "metadata": {
        "id": "9OvD6he63-W-"
      }
    },
    {
      "cell_type": "code",
      "source": [
        "x_train, y_train, x_val, y_val, x_test, y_test = prep_data()\n",
        "\n",
        "temp = pd.DataFrame(x_train)\n",
        "temp['target'] = y_train\n",
        "train_f = temp[temp['target'] == 0]\n",
        "train_t = temp[temp['target'] == 1]\n",
        "\n",
        "temp = pd.DataFrame(x_val)\n",
        "temp['target'] = y_val\n",
        "val_f = temp[temp['target'] == 0]\n",
        "val_t = temp[temp['target'] == 1]\n",
        "\n",
        "temp = pd.DataFrame(x_test)\n",
        "temp['target'] = y_test\n",
        "test_f = temp[temp['target'] == 0]\n",
        "test_t = temp[temp['target'] == 1]\n",
        "\n",
        "x_train_f = train_f.drop('target', axis='columns').values\n",
        "x_train_t = train_t.drop('target', axis='columns').values\n",
        "x_val_f = val_f.drop('target', axis='columns').values\n",
        "x_val_t = val_t.drop('target', axis='columns').values\n",
        "x_test_f = test_f.drop('target', axis='columns').values\n",
        "x_test_t = test_t.drop('target', axis='columns').values"
      ],
      "metadata": {
        "id": "fpqDN1ua4F-4"
      },
      "execution_count": null,
      "outputs": []
    },
    {
      "cell_type": "code",
      "source": [
        "tf.keras.backend.clear_session()\n",
        "from tensorflow.keras import Model, Input\n",
        "from tensorflow.keras.layers import Dense\n",
        "\n",
        "inp = Input(shape=(x_train.shape[1],))\n",
        "x = Dense(64, activation='swish')(inp)\n",
        "x = Dense(32, activation='swish')(x)\n",
        "enc = Dense(25, activation='swish')(x)\n",
        "x = Dense(28, activation='swish')(enc)\n",
        "out = Dense(x_train.shape[1], activation='linear')(x)\n",
        "\n",
        "model = Model(inp, out)\n",
        "model.summary()"
      ],
      "metadata": {
        "colab": {
          "base_uri": "https://localhost:8080/"
        },
        "id": "IdG8knn64Ga-",
        "outputId": "da7317d8-4475-4de0-ad6a-4da1c8c38ed3"
      },
      "execution_count": null,
      "outputs": [
        {
          "output_type": "stream",
          "name": "stdout",
          "text": [
            "Model: \"model\"\n",
            "_________________________________________________________________\n",
            " Layer (type)                Output Shape              Param #   \n",
            "=================================================================\n",
            " input_1 (InputLayer)        [(None, 30)]              0         \n",
            "                                                                 \n",
            " dense (Dense)               (None, 64)                1984      \n",
            "                                                                 \n",
            " dense_1 (Dense)             (None, 32)                2080      \n",
            "                                                                 \n",
            " dense_2 (Dense)             (None, 25)                825       \n",
            "                                                                 \n",
            " dense_3 (Dense)             (None, 28)                728       \n",
            "                                                                 \n",
            " dense_4 (Dense)             (None, 30)                870       \n",
            "                                                                 \n",
            "=================================================================\n",
            "Total params: 6,487\n",
            "Trainable params: 6,487\n",
            "Non-trainable params: 0\n",
            "_________________________________________________________________\n"
          ]
        }
      ]
    },
    {
      "cell_type": "code",
      "source": [
        "model.compile(optimizer=tf.keras.optimizers.Adam(learning_rate=1e-3),\n",
        "              loss='mse', metrics=['mae'])\n",
        "es = tf.keras.callbacks.EarlyStopping(patience=9, verbose=2, restore_best_weights=True)\n",
        "history = model.fit(x_train_f, x_train_f, epochs=500, validation_data=(x_val_f, x_val_f),\n",
        "                    callbacks=[es])"
      ],
      "metadata": {
        "colab": {
          "base_uri": "https://localhost:8080/"
        },
        "id": "VTDYDn4T4Gd2",
        "outputId": "72b0a45d-8000-4b32-fa60-a6cfa6b95d4b"
      },
      "execution_count": null,
      "outputs": [
        {
          "output_type": "stream",
          "name": "stdout",
          "text": [
            "Epoch 1/500\n",
            "7197/7197 [==============================] - 22s 3ms/step - loss: 0.1818 - mae: 0.2474 - val_loss: 0.0642 - val_mae: 0.1557\n",
            "Epoch 2/500\n",
            "7197/7197 [==============================] - 22s 3ms/step - loss: 0.0417 - mae: 0.1184 - val_loss: 0.0353 - val_mae: 0.1085\n",
            "Epoch 3/500\n",
            "7197/7197 [==============================] - 22s 3ms/step - loss: 0.0361 - mae: 0.1048 - val_loss: 0.0316 - val_mae: 0.0992\n",
            "Epoch 4/500\n",
            "7197/7197 [==============================] - 23s 3ms/step - loss: 0.0338 - mae: 0.0988 - val_loss: 0.0309 - val_mae: 0.0935\n",
            "Epoch 5/500\n",
            "7197/7197 [==============================] - 22s 3ms/step - loss: 0.0306 - mae: 0.0946 - val_loss: 0.0358 - val_mae: 0.0995\n",
            "Epoch 6/500\n",
            "7197/7197 [==============================] - 22s 3ms/step - loss: 0.0299 - mae: 0.0937 - val_loss: 0.0328 - val_mae: 0.1013\n",
            "Epoch 7/500\n",
            "7197/7197 [==============================] - 22s 3ms/step - loss: 0.0292 - mae: 0.0918 - val_loss: 0.0405 - val_mae: 0.1190\n",
            "Epoch 8/500\n",
            "7197/7197 [==============================] - 22s 3ms/step - loss: 0.0276 - mae: 0.0891 - val_loss: 0.0263 - val_mae: 0.0805\n",
            "Epoch 9/500\n",
            "7197/7197 [==============================] - 22s 3ms/step - loss: 0.0289 - mae: 0.0906 - val_loss: 0.0273 - val_mae: 0.0853\n",
            "Epoch 10/500\n",
            "7197/7197 [==============================] - 22s 3ms/step - loss: 0.0277 - mae: 0.0888 - val_loss: 0.0255 - val_mae: 0.0765\n",
            "Epoch 11/500\n",
            "7197/7197 [==============================] - 22s 3ms/step - loss: 0.0280 - mae: 0.0877 - val_loss: 0.0394 - val_mae: 0.1190\n",
            "Epoch 12/500\n",
            "7197/7197 [==============================] - 22s 3ms/step - loss: 0.0288 - mae: 0.0887 - val_loss: 0.0242 - val_mae: 0.0739\n",
            "Epoch 13/500\n",
            "7197/7197 [==============================] - 22s 3ms/step - loss: 0.0268 - mae: 0.0861 - val_loss: 0.0236 - val_mae: 0.0712\n",
            "Epoch 14/500\n",
            "7197/7197 [==============================] - 22s 3ms/step - loss: 0.0518 - mae: 0.1045 - val_loss: 0.0631 - val_mae: 0.1115\n",
            "Epoch 15/500\n",
            "7197/7197 [==============================] - 22s 3ms/step - loss: 0.0470 - mae: 0.1062 - val_loss: 0.0269 - val_mae: 0.0858\n",
            "Epoch 16/500\n",
            "7197/7197 [==============================] - 22s 3ms/step - loss: 0.0279 - mae: 0.0900 - val_loss: 0.0251 - val_mae: 0.0781\n",
            "Epoch 17/500\n",
            "7197/7197 [==============================] - 22s 3ms/step - loss: 0.0605 - mae: 0.1547 - val_loss: 0.0286 - val_mae: 0.0884\n",
            "Epoch 18/500\n",
            "7197/7197 [==============================] - 23s 3ms/step - loss: 0.0295 - mae: 0.0908 - val_loss: 0.0261 - val_mae: 0.0758\n",
            "Epoch 19/500\n",
            "7197/7197 [==============================] - 22s 3ms/step - loss: 0.0427 - mae: 0.1204 - val_loss: 0.0578 - val_mae: 0.1492\n",
            "Epoch 20/500\n",
            "7197/7197 [==============================] - 22s 3ms/step - loss: 0.0349 - mae: 0.1018 - val_loss: 0.0281 - val_mae: 0.0856\n",
            "Epoch 21/500\n",
            "7197/7197 [==============================] - 22s 3ms/step - loss: 0.0292 - mae: 0.0889 - val_loss: 0.0233 - val_mae: 0.0713\n",
            "Epoch 22/500\n",
            "7197/7197 [==============================] - 22s 3ms/step - loss: 0.0289 - mae: 0.0881 - val_loss: 0.0433 - val_mae: 0.1248\n",
            "Epoch 23/500\n",
            "7197/7197 [==============================] - 22s 3ms/step - loss: 0.0257 - mae: 0.0844 - val_loss: 0.0252 - val_mae: 0.0742\n",
            "Epoch 24/500\n",
            "7197/7197 [==============================] - 22s 3ms/step - loss: 0.0253 - mae: 0.0831 - val_loss: 0.0285 - val_mae: 0.0924\n",
            "Epoch 25/500\n",
            "7197/7197 [==============================] - 22s 3ms/step - loss: 0.0258 - mae: 0.0841 - val_loss: 0.0227 - val_mae: 0.0690\n",
            "Epoch 26/500\n",
            "7197/7197 [==============================] - 22s 3ms/step - loss: 0.0266 - mae: 0.0837 - val_loss: 0.0234 - val_mae: 0.0708\n",
            "Epoch 27/500\n",
            "7197/7197 [==============================] - 22s 3ms/step - loss: 0.0300 - mae: 0.0934 - val_loss: 0.0240 - val_mae: 0.0744\n",
            "Epoch 28/500\n",
            "7197/7197 [==============================] - 22s 3ms/step - loss: 0.0395 - mae: 0.1081 - val_loss: 0.0279 - val_mae: 0.0850\n",
            "Epoch 29/500\n",
            "7197/7197 [==============================] - 22s 3ms/step - loss: 0.0244 - mae: 0.0814 - val_loss: 0.0247 - val_mae: 0.0767\n",
            "Epoch 30/500\n",
            "7197/7197 [==============================] - 22s 3ms/step - loss: 0.0241 - mae: 0.0810 - val_loss: 0.0232 - val_mae: 0.0728\n",
            "Epoch 31/500\n",
            "7197/7197 [==============================] - 22s 3ms/step - loss: 0.0280 - mae: 0.0873 - val_loss: 0.0516 - val_mae: 0.1148\n",
            "Epoch 32/500\n",
            "7197/7197 [==============================] - 22s 3ms/step - loss: 0.0242 - mae: 0.0808 - val_loss: 0.0400 - val_mae: 0.1018\n",
            "Epoch 33/500\n",
            "7197/7197 [==============================] - 22s 3ms/step - loss: 0.0225 - mae: 0.0786 - val_loss: 0.0189 - val_mae: 0.0616\n",
            "Epoch 34/500\n",
            "7197/7197 [==============================] - 22s 3ms/step - loss: 0.0179 - mae: 0.0666 - val_loss: 0.0157 - val_mae: 0.0510\n",
            "Epoch 35/500\n",
            "7197/7197 [==============================] - 22s 3ms/step - loss: 0.0282 - mae: 0.0878 - val_loss: 0.0249 - val_mae: 0.0742\n",
            "Epoch 36/500\n",
            "7197/7197 [==============================] - 22s 3ms/step - loss: 0.0172 - mae: 0.0636 - val_loss: 0.0144 - val_mae: 0.0425\n",
            "Epoch 37/500\n",
            "7197/7197 [==============================] - 22s 3ms/step - loss: 0.0168 - mae: 0.0609 - val_loss: 0.0145 - val_mae: 0.0496\n",
            "Epoch 38/500\n",
            "7197/7197 [==============================] - 22s 3ms/step - loss: 0.0148 - mae: 0.0562 - val_loss: 0.0178 - val_mae: 0.0634\n",
            "Epoch 39/500\n",
            "7197/7197 [==============================] - 22s 3ms/step - loss: 0.0142 - mae: 0.0560 - val_loss: 0.0156 - val_mae: 0.0501\n",
            "Epoch 40/500\n",
            "7197/7197 [==============================] - 22s 3ms/step - loss: 0.0144 - mae: 0.0547 - val_loss: 0.0147 - val_mae: 0.0500\n",
            "Epoch 41/500\n",
            "7197/7197 [==============================] - 22s 3ms/step - loss: 0.0145 - mae: 0.0547 - val_loss: 0.0130 - val_mae: 0.0389\n",
            "Epoch 42/500\n",
            "7197/7197 [==============================] - 22s 3ms/step - loss: 0.0148 - mae: 0.0554 - val_loss: 0.0148 - val_mae: 0.0521\n",
            "Epoch 43/500\n",
            "7197/7197 [==============================] - 22s 3ms/step - loss: 0.0148 - mae: 0.0543 - val_loss: 0.0153 - val_mae: 0.0471\n",
            "Epoch 44/500\n",
            "7197/7197 [==============================] - 22s 3ms/step - loss: 0.0139 - mae: 0.0523 - val_loss: 0.0143 - val_mae: 0.0435\n",
            "Epoch 45/500\n",
            "7197/7197 [==============================] - 22s 3ms/step - loss: 0.0145 - mae: 0.0540 - val_loss: 0.0137 - val_mae: 0.0445\n",
            "Epoch 46/500\n",
            "7197/7197 [==============================] - 22s 3ms/step - loss: 0.0148 - mae: 0.0533 - val_loss: 0.0136 - val_mae: 0.0456\n",
            "Epoch 47/500\n",
            "7197/7197 [==============================] - 22s 3ms/step - loss: 0.0138 - mae: 0.0525 - val_loss: 0.0129 - val_mae: 0.0425\n",
            "Epoch 48/500\n",
            "7197/7197 [==============================] - 22s 3ms/step - loss: 0.0136 - mae: 0.0508 - val_loss: 0.0144 - val_mae: 0.0442\n",
            "Epoch 49/500\n",
            "7197/7197 [==============================] - 22s 3ms/step - loss: 0.0137 - mae: 0.0515 - val_loss: 0.0131 - val_mae: 0.0422\n",
            "Epoch 50/500\n",
            "7197/7197 [==============================] - 22s 3ms/step - loss: 0.0130 - mae: 0.0510 - val_loss: 0.0153 - val_mae: 0.0513\n",
            "Epoch 51/500\n",
            "7197/7197 [==============================] - 22s 3ms/step - loss: 0.0136 - mae: 0.0514 - val_loss: 0.0144 - val_mae: 0.0406\n",
            "Epoch 52/500\n",
            "7197/7197 [==============================] - 22s 3ms/step - loss: 0.0138 - mae: 0.0519 - val_loss: 0.0174 - val_mae: 0.0564\n",
            "Epoch 53/500\n",
            "7197/7197 [==============================] - 22s 3ms/step - loss: 0.0135 - mae: 0.0511 - val_loss: 0.0122 - val_mae: 0.0355\n",
            "Epoch 54/500\n",
            "7197/7197 [==============================] - 22s 3ms/step - loss: 0.0132 - mae: 0.0500 - val_loss: 0.0149 - val_mae: 0.0487\n",
            "Epoch 55/500\n",
            "7197/7197 [==============================] - 22s 3ms/step - loss: 0.0127 - mae: 0.0496 - val_loss: 0.0136 - val_mae: 0.0441\n",
            "Epoch 56/500\n",
            "7197/7197 [==============================] - 22s 3ms/step - loss: 0.0139 - mae: 0.0528 - val_loss: 0.0119 - val_mae: 0.0346\n",
            "Epoch 57/500\n",
            "7197/7197 [==============================] - 22s 3ms/step - loss: 0.0139 - mae: 0.0511 - val_loss: 0.0242 - val_mae: 0.0775\n",
            "Epoch 58/500\n",
            "7197/7197 [==============================] - 22s 3ms/step - loss: 0.0123 - mae: 0.0484 - val_loss: 0.0654 - val_mae: 0.1289\n",
            "Epoch 59/500\n",
            "7197/7197 [==============================] - 22s 3ms/step - loss: 0.0137 - mae: 0.0501 - val_loss: 0.0123 - val_mae: 0.0390\n",
            "Epoch 60/500\n",
            "7197/7197 [==============================] - 22s 3ms/step - loss: 0.0126 - mae: 0.0484 - val_loss: 0.0123 - val_mae: 0.0378\n",
            "Epoch 61/500\n",
            "7197/7197 [==============================] - 22s 3ms/step - loss: 0.0130 - mae: 0.0487 - val_loss: 0.0141 - val_mae: 0.0436\n",
            "Epoch 62/500\n",
            "7197/7197 [==============================] - 22s 3ms/step - loss: 0.0158 - mae: 0.0554 - val_loss: 0.0268 - val_mae: 0.0920\n",
            "Epoch 63/500\n",
            "7197/7197 [==============================] - 22s 3ms/step - loss: 0.0120 - mae: 0.0482 - val_loss: 0.0164 - val_mae: 0.0536\n",
            "Epoch 64/500\n",
            "7197/7197 [==============================] - 22s 3ms/step - loss: 0.0131 - mae: 0.0498 - val_loss: 0.0163 - val_mae: 0.0563\n",
            "Epoch 65/500\n",
            "7197/7197 [==============================] - 22s 3ms/step - loss: 0.0120 - mae: 0.0479 - val_loss: 0.0118 - val_mae: 0.0348\n",
            "Epoch 66/500\n",
            "7197/7197 [==============================] - 22s 3ms/step - loss: 0.0137 - mae: 0.0498 - val_loss: 0.0136 - val_mae: 0.0449\n",
            "Epoch 67/500\n",
            "7197/7197 [==============================] - 22s 3ms/step - loss: 0.0124 - mae: 0.0479 - val_loss: 0.0127 - val_mae: 0.0367\n",
            "Epoch 68/500\n",
            "7197/7197 [==============================] - 22s 3ms/step - loss: 0.0129 - mae: 0.0492 - val_loss: 0.0151 - val_mae: 0.0467\n",
            "Epoch 69/500\n",
            "7197/7197 [==============================] - 22s 3ms/step - loss: 0.0125 - mae: 0.0487 - val_loss: 0.0118 - val_mae: 0.0362\n",
            "Epoch 70/500\n",
            "7197/7197 [==============================] - 22s 3ms/step - loss: 0.0129 - mae: 0.0485 - val_loss: 0.0125 - val_mae: 0.0390\n",
            "Epoch 71/500\n",
            "7197/7197 [==============================] - 22s 3ms/step - loss: 0.0125 - mae: 0.0485 - val_loss: 0.0177 - val_mae: 0.0694\n",
            "Epoch 72/500\n",
            "7197/7197 [==============================] - 22s 3ms/step - loss: 0.0121 - mae: 0.0475 - val_loss: 0.0194 - val_mae: 0.0743\n",
            "Epoch 73/500\n",
            "7197/7197 [==============================] - 22s 3ms/step - loss: 0.0123 - mae: 0.0465 - val_loss: 0.0125 - val_mae: 0.0393\n",
            "Epoch 74/500\n",
            "7195/7197 [============================>.] - ETA: 0s - loss: 0.0123 - mae: 0.0480Restoring model weights from the end of the best epoch: 65.\n",
            "7197/7197 [==============================] - 22s 3ms/step - loss: 0.0123 - mae: 0.0480 - val_loss: 0.0143 - val_mae: 0.0452\n",
            "Epoch 74: early stopping\n"
          ]
        }
      ]
    },
    {
      "cell_type": "code",
      "source": [
        "mf = model.evaluate(x_train_f, x_train_f)\n",
        "mt = model.evaluate(x_train_t, x_train_t)"
      ],
      "metadata": {
        "colab": {
          "base_uri": "https://localhost:8080/"
        },
        "id": "FLnKEzUE4Ggy",
        "outputId": "de0026fb-79ac-4bcc-f50d-4cb55acfb435"
      },
      "execution_count": null,
      "outputs": [
        {
          "output_type": "stream",
          "name": "stdout",
          "text": [
            "7197/7197 [==============================] - 15s 2ms/step - loss: 0.0088 - mae: 0.0345\n",
            "13/13 [==============================] - 0s 2ms/step - loss: 16.9229 - mae: 2.2305\n"
          ]
        }
      ]
    },
    {
      "cell_type": "markdown",
      "source": [
        "Determine what tolerance to use "
      ],
      "metadata": {
        "id": "ce3bT1mHoIFr"
      }
    },
    {
      "cell_type": "code",
      "source": [
        "mf = model.evaluate(x_val_f, x_val_f)\n",
        "mt = model.evaluate(x_val_t, x_val_t)"
      ],
      "metadata": {
        "colab": {
          "base_uri": "https://localhost:8080/"
        },
        "id": "iZfHrnFA-4Si",
        "outputId": "f4b3225e-f073-467b-fb02-1efe75ee88f4"
      },
      "execution_count": null,
      "outputs": [
        {
          "output_type": "stream",
          "name": "stdout",
          "text": [
            "800/800 [==============================] - 2s 2ms/step - loss: 0.0118 - mae: 0.0348\n",
            "2/2 [==============================] - 0s 7ms/step - loss: 18.9141 - mae: 2.3782\n"
          ]
        }
      ]
    },
    {
      "cell_type": "code",
      "source": [
        "reconstructions_f = model.predict(x_test_f)\n",
        "reconstructions_t = model.predict(x_test_t)"
      ],
      "metadata": {
        "id": "w8IgXROyNePp"
      },
      "execution_count": null,
      "outputs": []
    },
    {
      "cell_type": "code",
      "source": [
        "import numpy as np\n",
        "mse_f = np.mean(np.power(x_test_f - reconstructions_f, 2), axis=1)\n",
        "mse_t = np.mean(np.power(x_test_t - reconstructions_t, 2), axis=1)\n",
        "print(np.median(mse_f))\n",
        "print(np.median(mse_t))"
      ],
      "metadata": {
        "colab": {
          "base_uri": "https://localhost:8080/"
        },
        "id": "UgdTnPwAta9j",
        "outputId": "c78e45a7-4f08-4ddc-d206-ab17b9d109e5"
      },
      "execution_count": null,
      "outputs": [
        {
          "output_type": "stream",
          "name": "stdout",
          "text": [
            "0.001068795341363909\n",
            "7.686214866323981\n"
          ]
        }
      ]
    },
    {
      "cell_type": "code",
      "source": [
        "pd.Series(mse_f).hist()"
      ],
      "metadata": {
        "colab": {
          "base_uri": "https://localhost:8080/"
        },
        "id": "xSDF1kIu_IXW",
        "outputId": "7207020b-eca3-4d41-9c95-44c31b00d38b"
      },
      "execution_count": null,
      "outputs": [
        {
          "output_type": "execute_result",
          "data": {
            "text/plain": [
              "<matplotlib.axes._subplots.AxesSubplot at 0x7ff1ab2cd850>"
            ]
          },
          "metadata": {},
          "execution_count": 129
        },
        {
          "output_type": "display_data",
          "data": {
            "text/plain": [
              "<Figure size 432x288 with 1 Axes>"
            ],
            "image/png": "[encoded data removed]"
          },
          "metadata": {
            "needs_background": "light"
          }
        }
      ]
    },
    {
      "cell_type": "code",
      "source": [
        "pd.Series(mse_t).hist()"
      ],
      "metadata": {
        "colab": {
          "base_uri": "https://localhost:8080/"
        },
        "id": "DCQUaLhm_IpA",
        "outputId": "6aac90b0-d851-4fbc-bacc-3d43dcae797e"
      },
      "execution_count": null,
      "outputs": [
        {
          "output_type": "execute_result",
          "data": {
            "text/plain": [
              "<matplotlib.axes._subplots.AxesSubplot at 0x7ff1ab32c2d0>"
            ]
          },
          "metadata": {},
          "execution_count": 130
        },
        {
          "output_type": "display_data",
          "data": {
            "text/plain": [
              "<Figure size 432x288 with 1 Axes>"
            ],
            "image/png": "[encoded data removed]"
          },
          "metadata": {
            "needs_background": "light"
          }
        }
      ]
    },
    {
      "cell_type": "code",
      "source": [
        "x_preds = model.predict(x_test)\n",
        "mse = np.mean(np.power(x_test - x_preds, 2), axis=1)\n",
        "result = pd.DataFrame(mse, columns=['mse'])\n",
        "result['target'] = result['mse'] > 2.5\n",
        "y_pred = result.target.values"
      ],
      "metadata": {
        "id": "H8_wyrovVufi"
      },
      "execution_count": null,
      "outputs": []
    },
    {
      "cell_type": "code",
      "source": [
        "auprc = tf.keras.metrics.AUC(curve='PR')\n",
        "auprc.update_state(y_test, y_pred)\n",
        "TF_AutoEncoder_AUPRC = auprc.result().numpy()\n",
        "TF_AutoEncoder_AUPRC"
      ],
      "metadata": {
        "colab": {
          "base_uri": "https://localhost:8080/"
        },
        "id": "hSmTvdj8Xo8n",
        "outputId": "1f1aa3c8-36fc-4708-aaa8-2063aa5e7d6b"
      },
      "execution_count": null,
      "outputs": [
        {
          "output_type": "execute_result",
          "data": {
            "text/plain": [
              "0.6806069"
            ]
          },
          "metadata": {},
          "execution_count": 132
        }
      ]
    },
    {
      "cell_type": "code",
      "source": [
        "TF_AutoEncoder_metrics = compute_metrics(y_test, y_pred)\n",
        "print_metrics(TF_AutoEncoder_metrics)"
      ],
      "metadata": {
        "colab": {
          "base_uri": "https://localhost:8080/"
        },
        "id": "PH_aRv3YXwKl",
        "outputId": "ba1eae79-5f50-41c3-bcd7-8da9d95cf578"
      },
      "execution_count": null,
      "outputs": [
        {
          "output_type": "stream",
          "name": "stdout",
          "text": [
            "Fraudulent Transactions Detected (True Positives): 42\n",
            "Fraudulent Transactions Missed (False Negatives): 7\n",
            "Legitimate Transactions Incorrectly Detected (False Positives): 11\n",
            "Legitimate Transactions Detected (True Negatives): 28421\n"
          ]
        }
      ]
    },
    {
      "cell_type": "code",
      "source": [
        "results = [0., 0., TF_AutoEncoder_AUPRC]\n",
        "auprc_df['AutoEncoder'] = results"
      ],
      "metadata": {
        "id": "DfTQknViYjd6"
      },
      "execution_count": null,
      "outputs": []
    },
    {
      "cell_type": "markdown",
      "metadata": {
        "id": "enP2kva7vQZP"
      },
      "source": [
        "# Results Summary"
      ]
    },
    {
      "cell_type": "markdown",
      "metadata": {
        "id": "qoAyT6wNnBvn"
      },
      "source": [
        "Best resulting AUPRC was our baseline DNN model. \n",
        "\n"
      ]
    },
    {
      "cell_type": "code",
      "metadata": {
        "id": "IERE9JxF0ukk",
        "colab": {
          "base_uri": "https://localhost:8080/"
        },
        "outputId": "58dcde49-f59c-4358-c9bd-47cacb9f234c"
      },
      "source": [
        "neg, pos = bincount(y_test)\n",
        "print(str(neg) + ' non-fraud, ' + str(pos) + ' fraud')"
      ],
      "execution_count": null,
      "outputs": [
        {
          "output_type": "stream",
          "name": "stdout",
          "text": [
            "28432 non-fraud, 49 fraud\n"
          ]
        }
      ]
    },
    {
      "cell_type": "code",
      "metadata": {
        "id": "YRpU6JbIuPsa",
        "colab": {
          "base_uri": "https://localhost:8080/"
        },
        "outputId": "4c85a420-7d58-4294-80ab-2c30d9363bb3"
      },
      "source": [
        "a = auprc_df.copy(deep=True)\n",
        "a.index = a.Model\n",
        "a.drop(['Model'], axis='columns', inplace=True)\n",
        "a = a.T\n",
        "a['RandomForest'] = a['RandomForest']*100\n",
        "a['XGBoost'] = a['XGBoost']*100\n",
        "a['TensorFlow DNN'] = a['TensorFlow DNN']*100\n",
        "ax = a.plot.bar(rot=90, figsize=(18, 10), title='AUPRC')"
      ],
      "execution_count": null,
      "outputs": [
        {
          "output_type": "display_data",
          "data": {
            "text/plain": [
              "<Figure size 1296x720 with 1 Axes>"
            ],
            "image/png": "[encoded data removed]"
          },
          "metadata": {
            "needs_background": "light"
          }
        }
      ]
    },
    {
      "cell_type": "code",
      "metadata": {
        "id": "QINVVMCd-_ti",
        "colab": {
          "base_uri": "https://localhost:8080/"
        },
        "outputId": "079f1188-ee87-46c4-d705-7d9feb733420"
      },
      "source": [
        "a = tp_df.copy(deep=True)\n",
        "a.index = a.Model\n",
        "a.drop(['Model'], axis='columns', inplace=True)\n",
        "a = a.T\n",
        "a['RandomForest'] = a['RandomForest']\n",
        "a['XGBoost'] = a['XGBoost']\n",
        "a['TensorFlow DNN'] = a['TensorFlow DNN']\n",
        "ax = a.plot.bar(rot=90, figsize=(18, 10), title='Fraudulent Transactions Detected (True Positives)  98')"
      ],
      "execution_count": null,
      "outputs": [
        {
          "output_type": "display_data",
          "data": {
            "text/plain": [
              "<Figure size 1296x720 with 1 Axes>"
            ],
            "image/png": "[encoded data removed]"
          },
          "metadata": {
            "needs_background": "light"
          }
        }
      ]
    },
    {
      "cell_type": "code",
      "metadata": {
        "id": "pZ5BSTof_Kqc",
        "colab": {
          "base_uri": "https://localhost:8080/"
        },
        "outputId": "1508f7e0-a5ae-44b0-df35-bc0e41724625"
      },
      "source": [
        "a = fn_df.copy(deep=True)\n",
        "a.index = a.Model\n",
        "a.drop(['Model'], axis='columns', inplace=True)\n",
        "a = a.T\n",
        "a['RandomForest'] = a['RandomForest']\n",
        "a['XGBoost'] = a['XGBoost']\n",
        "a['TensorFlow DNN'] = a['TensorFlow DNN']\n",
        "ax = a.plot.bar(rot=90, figsize=(18, 10), title='Fraudulent Transactions Missed (False Negatives)   0')"
      ],
      "execution_count": null,
      "outputs": [
        {
          "output_type": "display_data",
          "data": {
            "text/plain": [
              "<Figure size 1296x720 with 1 Axes>"
            ],
            "image/png": "[encoded data removed]"
          },
          "metadata": {
            "needs_background": "light"
          }
        }
      ]
    },
    {
      "cell_type": "code",
      "metadata": {
        "id": "qI7HS1gJ_LmR",
        "colab": {
          "base_uri": "https://localhost:8080/"
        },
        "outputId": "a186a740-a207-4238-e326-22bee2ac8754"
      },
      "source": [
        "a = fp_df.copy(deep=True)\n",
        "a.index = a.Model\n",
        "a.drop(['Model'], axis='columns', inplace=True)\n",
        "a = a.T\n",
        "a['RandomForest'] = a['RandomForest']\n",
        "a['XGBoost'] = a['XGBoost']\n",
        "a['TensorFlow DNN'] = a['TensorFlow DNN']\n",
        "ax = a.plot.bar(rot=90, figsize=(18, 10), title='Legitimate Transactions Incorrectly Detected (False Positives)   0')"
      ],
      "execution_count": null,
      "outputs": [
        {
          "output_type": "display_data",
          "data": {
            "text/plain": [
              "<Figure size 1296x720 with 1 Axes>"
            ],
            "image/png": "[encoded data removed]"
          },
          "metadata": {
            "needs_background": "light"
          }
        }
      ]
    },
    {
      "cell_type": "code",
      "metadata": {
        "id": "dfNZ5dbY_Mt7",
        "colab": {
          "base_uri": "https://localhost:8080/"
        },
        "outputId": "88016949-1ce0-40df-e949-f4cd400f2df5"
      },
      "source": [
        "a = tn_df.copy(deep=True)\n",
        "a.index = a.Model\n",
        "a.drop(['Model'], axis='columns', inplace=True)\n",
        "a = a.T\n",
        "a['RandomForest'] = a['RandomForest']\n",
        "a['XGBoost'] = a['XGBoost']\n",
        "a['TensorFlow DNN'] = a['TensorFlow DNN']\n",
        "ax = a.plot.bar(rot=90, figsize=(18, 10), title='Legitimate Transactions Detected (True Negatives)    56864')"
      ],
      "execution_count": null,
      "outputs": [
        {
          "output_type": "display_data",
          "data": {
            "text/plain": [
              "<Figure size 1296x720 with 1 Axes>"
            ],
            "image/png": "[encoded data removed]"
          },
          "metadata": {
            "needs_background": "light"
          }
        }
      ]
    }
  ]
}