{
  "nbformat": 4,
  "nbformat_minor": 0,
  "metadata": {
    "colab": {
      "name": "credit_card_fraud.ipynb",
      "provenance": [],
      "toc_visible": true,
      "authorship_tag": "ABX9TyPSmWJuTPn7wPTZkKuh+Xow",
      "include_colab_link": true
    },
    "kernelspec": {
      "name": "python3",
      "display_name": "Python 3"
    },
    "accelerator": "GPU"
  },
  "cells": [
    {
      "cell_type": "markdown",
      "metadata": {
        "id": "view-in-github",
        "colab_type": "text"
      },
      "source": [
        "<a href=\"https://colab.research.google.com/github/dcpatton/credit-card-fraud-detection/blob/master/credit_card_fraud.ipynb\" target=\"_parent\"><img src=\"https://colab.research.google.com/assets/colab-badge.svg\" alt=\"Open In Colab\"/></a>"
      ]
    },
    {
      "cell_type": "code",
      "metadata": {
        "id": "pSA8QWAabVoB",
        "colab_type": "code",
        "colab": {
          "base_uri": "https://localhost:8080/",
          "height": 34
        },
        "outputId": "0a944eef-a6cb-449c-ee20-becb3cf166dd"
      },
      "source": [
        "import tensorflow as tf\n",
        "import pandas as pd\n",
        "import random\n",
        "import warnings\n",
        "warnings.filterwarnings(\"ignore\")\n",
        "\n",
        "print(tf.__version__)\n",
        "\n",
        "seed = 51\n",
        "tf.random.set_seed(seed)\n",
        "random.seed(seed)"
      ],
      "execution_count": 1,
      "outputs": [
        {
          "output_type": "stream",
          "text": [
            "2.3.0\n"
          ],
          "name": "stdout"
        }
      ]
    },
    {
      "cell_type": "markdown",
      "metadata": {
        "id": "tcCHaVUX3BIN",
        "colab_type": "text"
      },
      "source": [
        "# Prep Data"
      ]
    },
    {
      "cell_type": "code",
      "metadata": {
        "id": "q-M09z2wcHKQ",
        "colab_type": "code",
        "colab": {
          "resources": {
            "http://localhost:8080/nbextensions/google.colab/files.js": {
              "data": "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",
              "ok": true,
              "headers": [
                [
                  "content-type",
                  "application/javascript"
                ]
              ],
              "status": 200,
              "status_text": ""
            }
          },
          "base_uri": "https://localhost:8080/",
          "height": 72
        },
        "outputId": "17c18e2d-1d01-492b-cfc4-34d594256744"
      },
      "source": [
        "from google.colab import files\n",
        "uploaded = files.upload()"
      ],
      "execution_count": 2,
      "outputs": [
        {
          "output_type": "display_data",
          "data": {
            "text/html": [
              "\n",
              "     <input type=\"file\" id=\"files-60740fec-bfaa-41a1-b360-866b2977d51d\" name=\"files[]\" multiple disabled\n",
              "        style=\"border:none\" />\n",
              "     <output id=\"result-60740fec-bfaa-41a1-b360-866b2977d51d\">\n",
              "      Upload widget is only available when the cell has been executed in the\n",
              "      current browser session. Please rerun this cell to enable.\n",
              "      </output>\n",
              "      <script src=\"/nbextensions/google.colab/files.js\"></script> "
            ],
            "text/plain": [
              "<IPython.core.display.HTML object>"
            ]
          },
          "metadata": {
            "tags": []
          }
        },
        {
          "output_type": "stream",
          "text": [
            "Saving kaggle.json to kaggle.json\n"
          ],
          "name": "stdout"
        }
      ]
    },
    {
      "cell_type": "code",
      "metadata": {
        "id": "gP2XvPXCcjZ7",
        "colab_type": "code",
        "colab": {
          "base_uri": "https://localhost:8080/",
          "height": 34
        },
        "outputId": "8f40f7bd-2996-44a2-e1bd-7678c24efefb"
      },
      "source": [
        "!mkdir -p ~/.kaggle\n",
        "!cp kaggle.json ~/.kaggle/\n",
        "!pip install kaggle --upgrade -q\n",
        "!ls -l /root/.kaggle/kaggle.json\n",
        "!chmod 600 /root/.kaggle/kaggle.json"
      ],
      "execution_count": 3,
      "outputs": [
        {
          "output_type": "stream",
          "text": [
            "-rw-r--r-- 1 root root 64 Aug 17 18:12 /root/.kaggle/kaggle.json\n"
          ],
          "name": "stdout"
        }
      ]
    },
    {
      "cell_type": "code",
      "metadata": {
        "id": "Q22giaVlcsiX",
        "colab_type": "code",
        "colab": {
          "base_uri": "https://localhost:8080/",
          "height": 68
        },
        "outputId": "453a970b-6cf7-4af1-9f59-482096085535"
      },
      "source": [
        "!kaggle datasets download mlg-ulb/creditcardfraud --unzip"
      ],
      "execution_count": 4,
      "outputs": [
        {
          "output_type": "stream",
          "text": [
            "Downloading creditcardfraud.zip to /content\n",
            " 99% 65.0M/66.0M [00:00<00:00, 119MB/s] \n",
            "100% 66.0M/66.0M [00:00<00:00, 134MB/s]\n"
          ],
          "name": "stdout"
        }
      ]
    },
    {
      "cell_type": "code",
      "metadata": {
        "id": "-gTSjMaqeZmj",
        "colab_type": "code",
        "colab": {
          "base_uri": "https://localhost:8080/",
          "height": 224
        },
        "outputId": "6d5498bb-f1fc-4eee-b038-1449afef9f2d"
      },
      "source": [
        "df = pd.read_csv('creditcard.csv')\n",
        "df.head()"
      ],
      "execution_count": 5,
      "outputs": [
        {
          "output_type": "execute_result",
          "data": {
            "text/html": [
              "<div>\n",
              "<style scoped>\n",
              "    .dataframe tbody tr th:only-of-type {\n",
              "        vertical-align: middle;\n",
              "    }\n",
              "\n",
              "    .dataframe tbody tr th {\n",
              "        vertical-align: top;\n",
              "    }\n",
              "\n",
              "    .dataframe thead th {\n",
              "        text-align: right;\n",
              "    }\n",
              "</style>\n",
              "<table border=\"1\" class=\"dataframe\">\n",
              "  <thead>\n",
              "    <tr style=\"text-align: right;\">\n",
              "      <th></th>\n",
              "      <th>Time</th>\n",
              "      <th>V1</th>\n",
              "      <th>V2</th>\n",
              "      <th>V3</th>\n",
              "      <th>V4</th>\n",
              "      <th>V5</th>\n",
              "      <th>V6</th>\n",
              "      <th>V7</th>\n",
              "      <th>V8</th>\n",
              "      <th>V9</th>\n",
              "      <th>V10</th>\n",
              "      <th>V11</th>\n",
              "      <th>V12</th>\n",
              "      <th>V13</th>\n",
              "      <th>V14</th>\n",
              "      <th>V15</th>\n",
              "      <th>V16</th>\n",
              "      <th>V17</th>\n",
              "      <th>V18</th>\n",
              "      <th>V19</th>\n",
              "      <th>V20</th>\n",
              "      <th>V21</th>\n",
              "      <th>V22</th>\n",
              "      <th>V23</th>\n",
              "      <th>V24</th>\n",
              "      <th>V25</th>\n",
              "      <th>V26</th>\n",
              "      <th>V27</th>\n",
              "      <th>V28</th>\n",
              "      <th>Amount</th>\n",
              "      <th>Class</th>\n",
              "    </tr>\n",
              "  </thead>\n",
              "  <tbody>\n",
              "    <tr>\n",
              "      <th>0</th>\n",
              "      <td>0.0</td>\n",
              "      <td>-1.359807</td>\n",
              "      <td>-0.072781</td>\n",
              "      <td>2.536347</td>\n",
              "      <td>1.378155</td>\n",
              "      <td>-0.338321</td>\n",
              "      <td>0.462388</td>\n",
              "      <td>0.239599</td>\n",
              "      <td>0.098698</td>\n",
              "      <td>0.363787</td>\n",
              "      <td>0.090794</td>\n",
              "      <td>-0.551600</td>\n",
              "      <td>-0.617801</td>\n",
              "      <td>-0.991390</td>\n",
              "      <td>-0.311169</td>\n",
              "      <td>1.468177</td>\n",
              "      <td>-0.470401</td>\n",
              "      <td>0.207971</td>\n",
              "      <td>0.025791</td>\n",
              "      <td>0.403993</td>\n",
              "      <td>0.251412</td>\n",
              "      <td>-0.018307</td>\n",
              "      <td>0.277838</td>\n",
              "      <td>-0.110474</td>\n",
              "      <td>0.066928</td>\n",
              "      <td>0.128539</td>\n",
              "      <td>-0.189115</td>\n",
              "      <td>0.133558</td>\n",
              "      <td>-0.021053</td>\n",
              "      <td>149.62</td>\n",
              "      <td>0</td>\n",
              "    </tr>\n",
              "    <tr>\n",
              "      <th>1</th>\n",
              "      <td>0.0</td>\n",
              "      <td>1.191857</td>\n",
              "      <td>0.266151</td>\n",
              "      <td>0.166480</td>\n",
              "      <td>0.448154</td>\n",
              "      <td>0.060018</td>\n",
              "      <td>-0.082361</td>\n",
              "      <td>-0.078803</td>\n",
              "      <td>0.085102</td>\n",
              "      <td>-0.255425</td>\n",
              "      <td>-0.166974</td>\n",
              "      <td>1.612727</td>\n",
              "      <td>1.065235</td>\n",
              "      <td>0.489095</td>\n",
              "      <td>-0.143772</td>\n",
              "      <td>0.635558</td>\n",
              "      <td>0.463917</td>\n",
              "      <td>-0.114805</td>\n",
              "      <td>-0.183361</td>\n",
              "      <td>-0.145783</td>\n",
              "      <td>-0.069083</td>\n",
              "      <td>-0.225775</td>\n",
              "      <td>-0.638672</td>\n",
              "      <td>0.101288</td>\n",
              "      <td>-0.339846</td>\n",
              "      <td>0.167170</td>\n",
              "      <td>0.125895</td>\n",
              "      <td>-0.008983</td>\n",
              "      <td>0.014724</td>\n",
              "      <td>2.69</td>\n",
              "      <td>0</td>\n",
              "    </tr>\n",
              "    <tr>\n",
              "      <th>2</th>\n",
              "      <td>1.0</td>\n",
              "      <td>-1.358354</td>\n",
              "      <td>-1.340163</td>\n",
              "      <td>1.773209</td>\n",
              "      <td>0.379780</td>\n",
              "      <td>-0.503198</td>\n",
              "      <td>1.800499</td>\n",
              "      <td>0.791461</td>\n",
              "      <td>0.247676</td>\n",
              "      <td>-1.514654</td>\n",
              "      <td>0.207643</td>\n",
              "      <td>0.624501</td>\n",
              "      <td>0.066084</td>\n",
              "      <td>0.717293</td>\n",
              "      <td>-0.165946</td>\n",
              "      <td>2.345865</td>\n",
              "      <td>-2.890083</td>\n",
              "      <td>1.109969</td>\n",
              "      <td>-0.121359</td>\n",
              "      <td>-2.261857</td>\n",
              "      <td>0.524980</td>\n",
              "      <td>0.247998</td>\n",
              "      <td>0.771679</td>\n",
              "      <td>0.909412</td>\n",
              "      <td>-0.689281</td>\n",
              "      <td>-0.327642</td>\n",
              "      <td>-0.139097</td>\n",
              "      <td>-0.055353</td>\n",
              "      <td>-0.059752</td>\n",
              "      <td>378.66</td>\n",
              "      <td>0</td>\n",
              "    </tr>\n",
              "    <tr>\n",
              "      <th>3</th>\n",
              "      <td>1.0</td>\n",
              "      <td>-0.966272</td>\n",
              "      <td>-0.185226</td>\n",
              "      <td>1.792993</td>\n",
              "      <td>-0.863291</td>\n",
              "      <td>-0.010309</td>\n",
              "      <td>1.247203</td>\n",
              "      <td>0.237609</td>\n",
              "      <td>0.377436</td>\n",
              "      <td>-1.387024</td>\n",
              "      <td>-0.054952</td>\n",
              "      <td>-0.226487</td>\n",
              "      <td>0.178228</td>\n",
              "      <td>0.507757</td>\n",
              "      <td>-0.287924</td>\n",
              "      <td>-0.631418</td>\n",
              "      <td>-1.059647</td>\n",
              "      <td>-0.684093</td>\n",
              "      <td>1.965775</td>\n",
              "      <td>-1.232622</td>\n",
              "      <td>-0.208038</td>\n",
              "      <td>-0.108300</td>\n",
              "      <td>0.005274</td>\n",
              "      <td>-0.190321</td>\n",
              "      <td>-1.175575</td>\n",
              "      <td>0.647376</td>\n",
              "      <td>-0.221929</td>\n",
              "      <td>0.062723</td>\n",
              "      <td>0.061458</td>\n",
              "      <td>123.50</td>\n",
              "      <td>0</td>\n",
              "    </tr>\n",
              "    <tr>\n",
              "      <th>4</th>\n",
              "      <td>2.0</td>\n",
              "      <td>-1.158233</td>\n",
              "      <td>0.877737</td>\n",
              "      <td>1.548718</td>\n",
              "      <td>0.403034</td>\n",
              "      <td>-0.407193</td>\n",
              "      <td>0.095921</td>\n",
              "      <td>0.592941</td>\n",
              "      <td>-0.270533</td>\n",
              "      <td>0.817739</td>\n",
              "      <td>0.753074</td>\n",
              "      <td>-0.822843</td>\n",
              "      <td>0.538196</td>\n",
              "      <td>1.345852</td>\n",
              "      <td>-1.119670</td>\n",
              "      <td>0.175121</td>\n",
              "      <td>-0.451449</td>\n",
              "      <td>-0.237033</td>\n",
              "      <td>-0.038195</td>\n",
              "      <td>0.803487</td>\n",
              "      <td>0.408542</td>\n",
              "      <td>-0.009431</td>\n",
              "      <td>0.798278</td>\n",
              "      <td>-0.137458</td>\n",
              "      <td>0.141267</td>\n",
              "      <td>-0.206010</td>\n",
              "      <td>0.502292</td>\n",
              "      <td>0.219422</td>\n",
              "      <td>0.215153</td>\n",
              "      <td>69.99</td>\n",
              "      <td>0</td>\n",
              "    </tr>\n",
              "  </tbody>\n",
              "</table>\n",
              "</div>"
            ],
            "text/plain": [
              "   Time        V1        V2        V3  ...       V27       V28  Amount  Class\n",
              "0   0.0 -1.359807 -0.072781  2.536347  ...  0.133558 -0.021053  149.62      0\n",
              "1   0.0  1.191857  0.266151  0.166480  ... -0.008983  0.014724    2.69      0\n",
              "2   1.0 -1.358354 -1.340163  1.773209  ... -0.055353 -0.059752  378.66      0\n",
              "3   1.0 -0.966272 -0.185226  1.792993  ...  0.062723  0.061458  123.50      0\n",
              "4   2.0 -1.158233  0.877737  1.548718  ...  0.219422  0.215153   69.99      0\n",
              "\n",
              "[5 rows x 31 columns]"
            ]
          },
          "metadata": {
            "tags": []
          },
          "execution_count": 5
        }
      ]
    },
    {
      "cell_type": "markdown",
      "metadata": {
        "id": "WvVyuY2l6lB1",
        "colab_type": "text"
      },
      "source": [
        "Assuming the features were scaled before PCA. What type of scaling was used?\n",
        "\n",
        "**Also, this probably introduces leakage!**"
      ]
    },
    {
      "cell_type": "code",
      "metadata": {
        "id": "6dqMIl4C6cNx",
        "colab_type": "code",
        "colab": {}
      },
      "source": [
        "from sklearn.preprocessing import RobustScaler\n",
        "scaler = RobustScaler()\n",
        "\n",
        "df['scaled_amount'] = scaler.fit_transform(df['Amount'].values.reshape(-1,1))\n",
        "df['scaled_time'] = scaler.fit_transform(df['Time'].values.reshape(-1,1))\n",
        "\n",
        "df.drop(['Time','Amount'], axis=1, inplace=True)"
      ],
      "execution_count": 6,
      "outputs": []
    },
    {
      "cell_type": "code",
      "metadata": {
        "id": "-v7xbBnGD2cW",
        "colab_type": "code",
        "colab": {}
      },
      "source": [
        "from sklearn.model_selection import train_test_split\n",
        "train_df, test_df = train_test_split(df, stratify=df['Class'], test_size=0.2, random_state=seed)\n",
        "train_df, val_df = train_test_split(train_df, stratify=train_df['Class'], test_size=0.2, random_state=seed)"
      ],
      "execution_count": 7,
      "outputs": []
    },
    {
      "cell_type": "code",
      "metadata": {
        "id": "owKC3CTffCy9",
        "colab_type": "code",
        "colab": {}
      },
      "source": [
        "y_train = train_df['Class'].values\n",
        "y_val = val_df['Class'].values\n",
        "y_test = test_df['Class'].values\n",
        "x_train = train_df.drop(['Class'], axis='columns').values\n",
        "x_val = val_df.drop(['Class'], axis='columns').values\n",
        "x_test = test_df.drop(['Class'], axis='columns').values"
      ],
      "execution_count": 8,
      "outputs": []
    },
    {
      "cell_type": "code",
      "metadata": {
        "id": "wxCJ_-M2AzZL",
        "colab_type": "code",
        "colab": {}
      },
      "source": [
        "from numpy import bincount\n",
        "neg, pos = bincount(y_train)\n",
        "total = neg + pos"
      ],
      "execution_count": 9,
      "outputs": []
    },
    {
      "cell_type": "code",
      "metadata": {
        "id": "zkLBJ26em9Bp",
        "colab_type": "code",
        "colab": {}
      },
      "source": [
        "def compute_metrics(y_true, y_pred):\n",
        "  tp = tf.keras.metrics.TruePositives()\n",
        "  tp.update_state(y_true, y_pred)\n",
        "  tp = int(tp.result().numpy())\n",
        "  fp = tf.keras.metrics.FalsePositives()\n",
        "  fp.update_state(y_true, y_pred)\n",
        "  fp = int(fp.result().numpy())\n",
        "  tn = tf.keras.metrics.TrueNegatives()\n",
        "  tn.update_state(y_true, y_pred)\n",
        "  tn = int(tn.result().numpy())\n",
        "  fn = tf.keras.metrics.FalseNegatives()\n",
        "  fn.update_state(y_true, y_pred)\n",
        "  fn = int(fn.result().numpy())\n",
        "  return [tp, fn, fp, tn]"
      ],
      "execution_count": 10,
      "outputs": []
    },
    {
      "cell_type": "code",
      "metadata": {
        "id": "dKSkqamV74Fz",
        "colab_type": "code",
        "colab": {}
      },
      "source": [
        "tp_df = pd.DataFrame()\n",
        "fn_df = pd.DataFrame()\n",
        "fp_df = pd.DataFrame()\n",
        "tn_df = pd.DataFrame()"
      ],
      "execution_count": 11,
      "outputs": []
    },
    {
      "cell_type": "code",
      "metadata": {
        "id": "y3A8OJWdQTfo",
        "colab_type": "code",
        "colab": {}
      },
      "source": [
        "def print_metrics(metrics):\n",
        "  print('Fraudulent Transactions Detected (True Positives): ' + str(metrics[0]))\n",
        "  print('Fraudulent Transactions Missed (False Negatives): ' + str(metrics[1]))\n",
        "  print('Legitimate Transactions Incorrectly Detected (False Positives): ' + str(metrics[2]))\n",
        "  print('Legitimate Transactions Detected (True Negatives): ' + str(metrics[3]))"
      ],
      "execution_count": 12,
      "outputs": []
    },
    {
      "cell_type": "markdown",
      "metadata": {
        "id": "bol4rBNm2778",
        "colab_type": "text"
      },
      "source": [
        "# Baseline"
      ]
    },
    {
      "cell_type": "code",
      "metadata": {
        "id": "mv8gRv3agKUB",
        "colab_type": "code",
        "colab": {
          "base_uri": "https://localhost:8080/",
          "height": 51
        },
        "outputId": "575a193e-d031-4a90-c06f-805848d7a36b"
      },
      "source": [
        "%%time\n",
        "from sklearn.ensemble import RandomForestClassifier\n",
        "classifier = RandomForestClassifier(n_estimators=100, n_jobs=-1, random_state=seed)\n",
        "classifier.fit(x_train, y_train)"
      ],
      "execution_count": 13,
      "outputs": [
        {
          "output_type": "stream",
          "text": [
            "CPU times: user 3min, sys: 135 ms, total: 3min\n",
            "Wall time: 1min 32s\n"
          ],
          "name": "stdout"
        }
      ]
    },
    {
      "cell_type": "code",
      "metadata": {
        "id": "HeD85Wh-OUI1",
        "colab_type": "code",
        "colab": {
          "base_uri": "https://localhost:8080/",
          "height": 34
        },
        "outputId": "5b46ae7c-12a5-4dcf-97ec-a02ef6f5f9a0"
      },
      "source": [
        "y_pred = classifier.predict(x_test)\n",
        "auprc = tf.keras.metrics.AUC(curve='PR')\n",
        "auprc.update_state(y_test, y_pred)\n",
        "RF_AUPRC = auprc.result().numpy()\n",
        "RF_AUPRC"
      ],
      "execution_count": 14,
      "outputs": [
        {
          "output_type": "execute_result",
          "data": {
            "text/plain": [
              "0.70950973"
            ]
          },
          "metadata": {
            "tags": []
          },
          "execution_count": 14
        }
      ]
    },
    {
      "cell_type": "code",
      "metadata": {
        "id": "UNIJcd6zQnZf",
        "colab_type": "code",
        "colab": {
          "base_uri": "https://localhost:8080/",
          "height": 85
        },
        "outputId": "5387b8bc-acf5-4da9-ff18-f4efcce0d4b8"
      },
      "source": [
        "RF_metrics = compute_metrics(y_test, y_pred)\n",
        "print_metrics(RF_metrics)"
      ],
      "execution_count": 15,
      "outputs": [
        {
          "output_type": "stream",
          "text": [
            "Fraudulent Transactions Detected (True Positives): 74\n",
            "Fraudulent Transactions Missed (False Negatives): 24\n",
            "Legitimate Transactions Incorrectly Detected (False Positives): 5\n",
            "Legitimate Transactions Detected (True Negatives): 56859\n"
          ],
          "name": "stdout"
        }
      ]
    },
    {
      "cell_type": "code",
      "metadata": {
        "id": "-59FrMjz-Yw2",
        "colab_type": "code",
        "colab": {
          "base_uri": "https://localhost:8080/",
          "height": 51
        },
        "outputId": "73a54f24-6609-4f6f-a481-325b59666408"
      },
      "source": [
        "%%time\n",
        "from xgboost import XGBClassifier\n",
        "\n",
        "xgbc = XGBClassifier(objective='binary:logistic', seed=seed)\n",
        "xgbc.fit(x_train, y_train)"
      ],
      "execution_count": 16,
      "outputs": [
        {
          "output_type": "stream",
          "text": [
            "CPU times: user 36.4 s, sys: 128 ms, total: 36.5 s\n",
            "Wall time: 37.2 s\n"
          ],
          "name": "stdout"
        }
      ]
    },
    {
      "cell_type": "code",
      "metadata": {
        "id": "GwmiTJdeO7Wt",
        "colab_type": "code",
        "colab": {
          "base_uri": "https://localhost:8080/",
          "height": 34
        },
        "outputId": "69b85819-b554-463f-93be-9c11de1154bd"
      },
      "source": [
        "y_pred = xgbc.predict(x_test)\n",
        "auprc = tf.keras.metrics.AUC(curve='PR')\n",
        "auprc.update_state(y_test, y_pred)\n",
        "XGB_AUPRC = auprc.result().numpy()\n",
        "XGB_AUPRC"
      ],
      "execution_count": 17,
      "outputs": [
        {
          "output_type": "execute_result",
          "data": {
            "text/plain": [
              "0.6574006"
            ]
          },
          "metadata": {
            "tags": []
          },
          "execution_count": 17
        }
      ]
    },
    {
      "cell_type": "code",
      "metadata": {
        "id": "dEEFPjbY-6N2",
        "colab_type": "code",
        "colab": {
          "base_uri": "https://localhost:8080/",
          "height": 85
        },
        "outputId": "18bd13c5-e9ae-4ff5-d722-44dc918177a3"
      },
      "source": [
        "XGB_metrics = compute_metrics(y_test, y_pred)\n",
        "print_metrics(XGB_metrics)"
      ],
      "execution_count": 18,
      "outputs": [
        {
          "output_type": "stream",
          "text": [
            "Fraudulent Transactions Detected (True Positives): 73\n",
            "Fraudulent Transactions Missed (False Negatives): 25\n",
            "Legitimate Transactions Incorrectly Detected (False Positives): 10\n",
            "Legitimate Transactions Detected (True Negatives): 56854\n"
          ],
          "name": "stdout"
        }
      ]
    },
    {
      "cell_type": "code",
      "metadata": {
        "id": "U97MIXy7kSLB",
        "colab_type": "code",
        "colab": {
          "base_uri": "https://localhost:8080/",
          "height": 629
        },
        "outputId": "5b366fc2-9923-4e6a-83c2-2e1dfb9e4d5b"
      },
      "source": [
        "from tensorflow.keras.layers import Dense, Input, ELU, Dropout, BatchNormalization\n",
        "from tensorflow.keras.optimizers import Adam\n",
        "from tensorflow.keras.models import Model\n",
        "\n",
        "def create_model():\n",
        "  tf.keras.backend.clear_session()\n",
        "  input1 = Input(shape=(x_train.shape[1],), name='input1')\n",
        "  x = Dense(96)(input1)\n",
        "  x = BatchNormalization()(x)\n",
        "  x = ELU()(x)\n",
        "  x = Dropout(0.33)(x)\n",
        "  x = Dense(96)(x)\n",
        "  x = BatchNormalization()(x)\n",
        "  x = ELU()(x)\n",
        "  x = Dropout(0.33)(x)\n",
        "  x = Dense(96)(x)\n",
        "  x = BatchNormalization()(x)\n",
        "  x = ELU()(x)\n",
        "  x = Dropout(0.33)(x)\n",
        "  out = Dense(1, activation='sigmoid', name='out')(x)\n",
        "\n",
        "  _model = Model(inputs=[input1], outputs=[out])\n",
        "  _model.summary()\n",
        "\n",
        "  _model.compile(optimizer=Adam(), loss='binary_crossentropy', \n",
        "                 metrics=[tf.keras.metrics.AUC(curve='ROC', name='auroc'), \n",
        "                          tf.keras.metrics.AUC(curve='PR', name='auprc')])\n",
        "  return _model\n",
        "\n",
        "model = create_model()"
      ],
      "execution_count": 19,
      "outputs": [
        {
          "output_type": "stream",
          "text": [
            "Model: \"functional_1\"\n",
            "_________________________________________________________________\n",
            "Layer (type)                 Output Shape              Param #   \n",
            "=================================================================\n",
            "input1 (InputLayer)          [(None, 30)]              0         \n",
            "_________________________________________________________________\n",
            "dense (Dense)                (None, 96)                2976      \n",
            "_________________________________________________________________\n",
            "batch_normalization (BatchNo (None, 96)                384       \n",
            "_________________________________________________________________\n",
            "elu (ELU)                    (None, 96)                0         \n",
            "_________________________________________________________________\n",
            "dropout (Dropout)            (None, 96)                0         \n",
            "_________________________________________________________________\n",
            "dense_1 (Dense)              (None, 96)                9312      \n",
            "_________________________________________________________________\n",
            "batch_normalization_1 (Batch (None, 96)                384       \n",
            "_________________________________________________________________\n",
            "elu_1 (ELU)                  (None, 96)                0         \n",
            "_________________________________________________________________\n",
            "dropout_1 (Dropout)          (None, 96)                0         \n",
            "_________________________________________________________________\n",
            "dense_2 (Dense)              (None, 96)                9312      \n",
            "_________________________________________________________________\n",
            "batch_normalization_2 (Batch (None, 96)                384       \n",
            "_________________________________________________________________\n",
            "elu_2 (ELU)                  (None, 96)                0         \n",
            "_________________________________________________________________\n",
            "dropout_2 (Dropout)          (None, 96)                0         \n",
            "_________________________________________________________________\n",
            "out (Dense)                  (None, 1)                 97        \n",
            "=================================================================\n",
            "Total params: 22,849\n",
            "Trainable params: 22,273\n",
            "Non-trainable params: 576\n",
            "_________________________________________________________________\n"
          ],
          "name": "stdout"
        }
      ]
    },
    {
      "cell_type": "code",
      "metadata": {
        "id": "AuGdJHj5tdxU",
        "colab_type": "code",
        "colab": {}
      },
      "source": [
        "BATCH_SIZE=256"
      ],
      "execution_count": 20,
      "outputs": []
    },
    {
      "cell_type": "code",
      "metadata": {
        "id": "r4soqHXMm-V9",
        "colab_type": "code",
        "colab": {
          "base_uri": "https://localhost:8080/",
          "height": 1000
        },
        "outputId": "baeb9ffd-6e07-4663-951f-9d9e81d76a87"
      },
      "source": [
        "from tensorflow.keras.callbacks import ModelCheckpoint, EarlyStopping\n",
        "checkpoint_filepath = 'model.h5'\n",
        "mc = ModelCheckpoint(checkpoint_filepath, verbose=0, save_weights_only=True, \n",
        "                     monitor='val_auprc', mode='max', save_best_only=True)\n",
        "\n",
        "es = EarlyStopping(monitor='val_auprc', patience=10, verbose=1, mode='max')\n",
        "\n",
        "history = model.fit(x_train, y_train, epochs=200, verbose=2, callbacks=[es, mc], \n",
        "                    validation_data=(x_val, y_val), batch_size=BATCH_SIZE)"
      ],
      "execution_count": 21,
      "outputs": [
        {
          "output_type": "stream",
          "text": [
            "Epoch 1/200\n",
            "713/713 - 4s - loss: 0.0803 - auroc: 0.7907 - auprc: 0.1876 - val_loss: 0.0058 - val_auroc: 0.9484 - val_auprc: 0.7504\n",
            "Epoch 2/200\n",
            "713/713 - 4s - loss: 0.0080 - auroc: 0.8885 - auprc: 0.5591 - val_loss: 0.0046 - val_auroc: 0.9366 - val_auprc: 0.7588\n",
            "Epoch 3/200\n",
            "713/713 - 4s - loss: 0.0058 - auroc: 0.9190 - auprc: 0.6390 - val_loss: 0.0038 - val_auroc: 0.9429 - val_auprc: 0.7713\n",
            "Epoch 4/200\n",
            "713/713 - 4s - loss: 0.0049 - auroc: 0.9194 - auprc: 0.6826 - val_loss: 0.0037 - val_auroc: 0.9429 - val_auprc: 0.7773\n",
            "Epoch 5/200\n",
            "713/713 - 4s - loss: 0.0048 - auroc: 0.9138 - auprc: 0.6952 - val_loss: 0.0036 - val_auroc: 0.9490 - val_auprc: 0.7866\n",
            "Epoch 6/200\n",
            "713/713 - 4s - loss: 0.0042 - auroc: 0.9284 - auprc: 0.6869 - val_loss: 0.0030 - val_auroc: 0.9366 - val_auprc: 0.8122\n",
            "Epoch 7/200\n",
            "713/713 - 4s - loss: 0.0039 - auroc: 0.9319 - auprc: 0.7399 - val_loss: 0.0027 - val_auroc: 0.9428 - val_auprc: 0.8166\n",
            "Epoch 8/200\n",
            "713/713 - 4s - loss: 0.0038 - auroc: 0.9336 - auprc: 0.7519 - val_loss: 0.0024 - val_auroc: 0.9492 - val_auprc: 0.8625\n",
            "Epoch 9/200\n",
            "713/713 - 4s - loss: 0.0040 - auroc: 0.9321 - auprc: 0.7249 - val_loss: 0.0027 - val_auroc: 0.9615 - val_auprc: 0.8394\n",
            "Epoch 10/200\n",
            "713/713 - 4s - loss: 0.0036 - auroc: 0.9368 - auprc: 0.7533 - val_loss: 0.0028 - val_auroc: 0.9428 - val_auprc: 0.8250\n",
            "Epoch 11/200\n",
            "713/713 - 4s - loss: 0.0036 - auroc: 0.9481 - auprc: 0.7488 - val_loss: 0.0024 - val_auroc: 0.9678 - val_auprc: 0.8523\n",
            "Epoch 12/200\n",
            "713/713 - 4s - loss: 0.0034 - auroc: 0.9403 - auprc: 0.7620 - val_loss: 0.0028 - val_auroc: 0.9615 - val_auprc: 0.8421\n",
            "Epoch 13/200\n",
            "713/713 - 4s - loss: 0.0031 - auroc: 0.9451 - auprc: 0.7964 - val_loss: 0.0023 - val_auroc: 0.9618 - val_auprc: 0.8667\n",
            "Epoch 14/200\n",
            "713/713 - 4s - loss: 0.0033 - auroc: 0.9402 - auprc: 0.7798 - val_loss: 0.0024 - val_auroc: 0.9617 - val_auprc: 0.8678\n",
            "Epoch 15/200\n",
            "713/713 - 4s - loss: 0.0032 - auroc: 0.9355 - auprc: 0.7778 - val_loss: 0.0024 - val_auroc: 0.9427 - val_auprc: 0.8504\n",
            "Epoch 16/200\n",
            "713/713 - 4s - loss: 0.0030 - auroc: 0.9418 - auprc: 0.8080 - val_loss: 0.0025 - val_auroc: 0.9554 - val_auprc: 0.8588\n",
            "Epoch 17/200\n",
            "713/713 - 4s - loss: 0.0031 - auroc: 0.9404 - auprc: 0.7956 - val_loss: 0.0021 - val_auroc: 0.9490 - val_auprc: 0.8658\n",
            "Epoch 18/200\n",
            "713/713 - 4s - loss: 0.0029 - auroc: 0.9468 - auprc: 0.8284 - val_loss: 0.0022 - val_auroc: 0.9555 - val_auprc: 0.8831\n",
            "Epoch 19/200\n",
            "713/713 - 4s - loss: 0.0028 - auroc: 0.9516 - auprc: 0.8181 - val_loss: 0.0023 - val_auroc: 0.9617 - val_auprc: 0.8807\n",
            "Epoch 20/200\n",
            "713/713 - 4s - loss: 0.0028 - auroc: 0.9437 - auprc: 0.8152 - val_loss: 0.0026 - val_auroc: 0.9617 - val_auprc: 0.8615\n",
            "Epoch 21/200\n",
            "713/713 - 4s - loss: 0.0028 - auroc: 0.9627 - auprc: 0.8163 - val_loss: 0.0022 - val_auroc: 0.9618 - val_auprc: 0.8737\n",
            "Epoch 22/200\n",
            "713/713 - 4s - loss: 0.0026 - auroc: 0.9564 - auprc: 0.8379 - val_loss: 0.0023 - val_auroc: 0.9429 - val_auprc: 0.8601\n",
            "Epoch 23/200\n",
            "713/713 - 4s - loss: 0.0027 - auroc: 0.9469 - auprc: 0.8317 - val_loss: 0.0023 - val_auroc: 0.9492 - val_auprc: 0.8654\n",
            "Epoch 24/200\n",
            "713/713 - 4s - loss: 0.0027 - auroc: 0.9500 - auprc: 0.8195 - val_loss: 0.0021 - val_auroc: 0.9555 - val_auprc: 0.8720\n",
            "Epoch 25/200\n",
            "713/713 - 4s - loss: 0.0027 - auroc: 0.9500 - auprc: 0.8344 - val_loss: 0.0022 - val_auroc: 0.9680 - val_auprc: 0.8800\n",
            "Epoch 26/200\n",
            "713/713 - 4s - loss: 0.0029 - auroc: 0.9483 - auprc: 0.7974 - val_loss: 0.0022 - val_auroc: 0.9678 - val_auprc: 0.8815\n",
            "Epoch 27/200\n",
            "713/713 - 4s - loss: 0.0027 - auroc: 0.9548 - auprc: 0.8354 - val_loss: 0.0021 - val_auroc: 0.9617 - val_auprc: 0.8854\n",
            "Epoch 28/200\n",
            "713/713 - 4s - loss: 0.0026 - auroc: 0.9485 - auprc: 0.8350 - val_loss: 0.0023 - val_auroc: 0.9618 - val_auprc: 0.8840\n",
            "Epoch 29/200\n",
            "713/713 - 4s - loss: 0.0027 - auroc: 0.9548 - auprc: 0.8252 - val_loss: 0.0022 - val_auroc: 0.9618 - val_auprc: 0.8816\n",
            "Epoch 30/200\n",
            "713/713 - 4s - loss: 0.0025 - auroc: 0.9549 - auprc: 0.8492 - val_loss: 0.0022 - val_auroc: 0.9617 - val_auprc: 0.8865\n",
            "Epoch 31/200\n",
            "713/713 - 4s - loss: 0.0025 - auroc: 0.9581 - auprc: 0.8488 - val_loss: 0.0021 - val_auroc: 0.9618 - val_auprc: 0.8846\n",
            "Epoch 32/200\n",
            "713/713 - 4s - loss: 0.0025 - auroc: 0.9518 - auprc: 0.8466 - val_loss: 0.0022 - val_auroc: 0.9680 - val_auprc: 0.8883\n",
            "Epoch 33/200\n",
            "713/713 - 4s - loss: 0.0024 - auroc: 0.9596 - auprc: 0.8534 - val_loss: 0.0021 - val_auroc: 0.9616 - val_auprc: 0.8788\n",
            "Epoch 34/200\n",
            "713/713 - 4s - loss: 0.0025 - auroc: 0.9549 - auprc: 0.8442 - val_loss: 0.0022 - val_auroc: 0.9617 - val_auprc: 0.8794\n",
            "Epoch 35/200\n",
            "713/713 - 4s - loss: 0.0024 - auroc: 0.9533 - auprc: 0.8522 - val_loss: 0.0021 - val_auroc: 0.9681 - val_auprc: 0.8788\n",
            "Epoch 36/200\n",
            "713/713 - 4s - loss: 0.0025 - auroc: 0.9549 - auprc: 0.8388 - val_loss: 0.0021 - val_auroc: 0.9618 - val_auprc: 0.8846\n",
            "Epoch 37/200\n",
            "713/713 - 4s - loss: 0.0023 - auroc: 0.9644 - auprc: 0.8596 - val_loss: 0.0022 - val_auroc: 0.9618 - val_auprc: 0.8850\n",
            "Epoch 38/200\n",
            "713/713 - 4s - loss: 0.0025 - auroc: 0.9533 - auprc: 0.8475 - val_loss: 0.0021 - val_auroc: 0.9618 - val_auprc: 0.8826\n",
            "Epoch 39/200\n",
            "713/713 - 4s - loss: 0.0024 - auroc: 0.9532 - auprc: 0.8406 - val_loss: 0.0022 - val_auroc: 0.9618 - val_auprc: 0.8894\n",
            "Epoch 40/200\n",
            "713/713 - 4s - loss: 0.0023 - auroc: 0.9550 - auprc: 0.8612 - val_loss: 0.0023 - val_auroc: 0.9555 - val_auprc: 0.8655\n",
            "Epoch 41/200\n",
            "713/713 - 4s - loss: 0.0022 - auroc: 0.9613 - auprc: 0.8655 - val_loss: 0.0023 - val_auroc: 0.9555 - val_auprc: 0.8733\n",
            "Epoch 42/200\n",
            "713/713 - 4s - loss: 0.0023 - auroc: 0.9581 - auprc: 0.8547 - val_loss: 0.0022 - val_auroc: 0.9618 - val_auprc: 0.8861\n",
            "Epoch 43/200\n",
            "713/713 - 4s - loss: 0.0022 - auroc: 0.9550 - auprc: 0.8615 - val_loss: 0.0021 - val_auroc: 0.9679 - val_auprc: 0.8932\n",
            "Epoch 44/200\n",
            "713/713 - 4s - loss: 0.0023 - auroc: 0.9597 - auprc: 0.8550 - val_loss: 0.0022 - val_auroc: 0.9492 - val_auprc: 0.8647\n",
            "Epoch 45/200\n",
            "713/713 - 4s - loss: 0.0021 - auroc: 0.9597 - auprc: 0.8601 - val_loss: 0.0021 - val_auroc: 0.9681 - val_auprc: 0.8850\n",
            "Epoch 46/200\n",
            "713/713 - 4s - loss: 0.0025 - auroc: 0.9565 - auprc: 0.8427 - val_loss: 0.0021 - val_auroc: 0.9680 - val_auprc: 0.8895\n",
            "Epoch 47/200\n",
            "713/713 - 4s - loss: 0.0022 - auroc: 0.9645 - auprc: 0.8660 - val_loss: 0.0021 - val_auroc: 0.9681 - val_auprc: 0.8899\n",
            "Epoch 48/200\n",
            "713/713 - 4s - loss: 0.0022 - auroc: 0.9612 - auprc: 0.8638 - val_loss: 0.0021 - val_auroc: 0.9555 - val_auprc: 0.8759\n",
            "Epoch 49/200\n",
            "713/713 - 4s - loss: 0.0022 - auroc: 0.9598 - auprc: 0.8697 - val_loss: 0.0021 - val_auroc: 0.9681 - val_auprc: 0.8907\n",
            "Epoch 50/200\n",
            "713/713 - 4s - loss: 0.0023 - auroc: 0.9597 - auprc: 0.8642 - val_loss: 0.0021 - val_auroc: 0.9681 - val_auprc: 0.8888\n",
            "Epoch 51/200\n",
            "713/713 - 4s - loss: 0.0022 - auroc: 0.9581 - auprc: 0.8634 - val_loss: 0.0021 - val_auroc: 0.9680 - val_auprc: 0.8952\n",
            "Epoch 52/200\n",
            "713/713 - 4s - loss: 0.0021 - auroc: 0.9645 - auprc: 0.8682 - val_loss: 0.0021 - val_auroc: 0.9681 - val_auprc: 0.8922\n",
            "Epoch 53/200\n",
            "713/713 - 4s - loss: 0.0021 - auroc: 0.9740 - auprc: 0.8749 - val_loss: 0.0022 - val_auroc: 0.9555 - val_auprc: 0.8705\n",
            "Epoch 54/200\n",
            "713/713 - 4s - loss: 0.0022 - auroc: 0.9613 - auprc: 0.8668 - val_loss: 0.0021 - val_auroc: 0.9681 - val_auprc: 0.8833\n",
            "Epoch 55/200\n",
            "713/713 - 4s - loss: 0.0022 - auroc: 0.9661 - auprc: 0.8704 - val_loss: 0.0022 - val_auroc: 0.9680 - val_auprc: 0.8895\n",
            "Epoch 56/200\n",
            "713/713 - 4s - loss: 0.0022 - auroc: 0.9677 - auprc: 0.8643 - val_loss: 0.0021 - val_auroc: 0.9617 - val_auprc: 0.8872\n",
            "Epoch 57/200\n",
            "713/713 - 4s - loss: 0.0021 - auroc: 0.9693 - auprc: 0.8748 - val_loss: 0.0020 - val_auroc: 0.9681 - val_auprc: 0.8915\n",
            "Epoch 58/200\n",
            "713/713 - 4s - loss: 0.0022 - auroc: 0.9629 - auprc: 0.8702 - val_loss: 0.0022 - val_auroc: 0.9680 - val_auprc: 0.8791\n",
            "Epoch 59/200\n",
            "713/713 - 4s - loss: 0.0022 - auroc: 0.9629 - auprc: 0.8627 - val_loss: 0.0021 - val_auroc: 0.9681 - val_auprc: 0.8884\n",
            "Epoch 60/200\n",
            "713/713 - 4s - loss: 0.0020 - auroc: 0.9789 - auprc: 0.8847 - val_loss: 0.0021 - val_auroc: 0.9618 - val_auprc: 0.8810\n",
            "Epoch 61/200\n",
            "713/713 - 4s - loss: 0.0020 - auroc: 0.9709 - auprc: 0.8802 - val_loss: 0.0023 - val_auroc: 0.9681 - val_auprc: 0.8753\n",
            "Epoch 00061: early stopping\n"
          ],
          "name": "stdout"
        }
      ]
    },
    {
      "cell_type": "code",
      "metadata": {
        "id": "nad8-F-Vs9ob",
        "colab_type": "code",
        "colab": {
          "base_uri": "https://localhost:8080/",
          "height": 51
        },
        "outputId": "6c6b3304-bf9a-4b2e-fd55-05d69c4e97f7"
      },
      "source": [
        "model.load_weights(checkpoint_filepath)\n",
        "model.evaluate(x_test, y_test)"
      ],
      "execution_count": 22,
      "outputs": [
        {
          "output_type": "stream",
          "text": [
            "1781/1781 [==============================] - 5s 3ms/step - loss: 0.0037 - auroc: 0.9331 - auprc: 0.8223\n"
          ],
          "name": "stdout"
        },
        {
          "output_type": "execute_result",
          "data": {
            "text/plain": [
              "[0.003725312417373061, 0.9330689311027527, 0.8223409056663513]"
            ]
          },
          "metadata": {
            "tags": []
          },
          "execution_count": 22
        }
      ]
    },
    {
      "cell_type": "code",
      "metadata": {
        "id": "jpLYVEnlr10c",
        "colab_type": "code",
        "colab": {
          "base_uri": "https://localhost:8080/",
          "height": 738
        },
        "outputId": "7b18cde0-72a9-4440-8bd9-2a94a2f9f274"
      },
      "source": [
        "import matplotlib.pyplot as plt\n",
        "import seaborn as sns\n",
        "\n",
        "history = history.history\n",
        "\n",
        "fig, (ax1, ax2) = plt.subplots(2, 1, sharex='col', figsize=(20, 14))\n",
        "\n",
        "ax1.plot(history['loss'], label='Train loss')\n",
        "ax1.plot(history['val_loss'], label='Validation loss')\n",
        "ax1.legend(loc='best')\n",
        "ax1.set_title('Loss')\n",
        "\n",
        "ax2.plot(history['auprc'], label='Train accuracy')\n",
        "ax2.plot(history['val_auprc'], label='Validation accuracy')\n",
        "ax2.legend(loc='best')\n",
        "ax2.set_title('AUPRC')\n",
        "\n",
        "plt.xlabel('Epochs')\n",
        "sns.despine()\n",
        "plt.show()"
      ],
      "execution_count": 23,
      "outputs": [
        {
          "output_type": "display_data",
          "data": {
            "image/png": "[encoded data removed]",
            "text/plain": [
              "<Figure size 1440x1008 with 2 Axes>"
            ]
          },
          "metadata": {
            "tags": [],
            "needs_background": "light"
          }
        }
      ]
    },
    {
      "cell_type": "code",
      "metadata": {
        "id": "qQu3-HoNNLpd",
        "colab_type": "code",
        "colab": {
          "base_uri": "https://localhost:8080/",
          "height": 34
        },
        "outputId": "ce6103e9-6033-4e1a-9843-6d40c27498d5"
      },
      "source": [
        "y_pred = model.predict(x_test)\n",
        "auprc = tf.keras.metrics.AUC(curve='PR')\n",
        "auprc.update_state(y_test, y_pred)\n",
        "TF_Model_AUPRC = auprc.result().numpy()\n",
        "TF_Model_AUPRC"
      ],
      "execution_count": 24,
      "outputs": [
        {
          "output_type": "execute_result",
          "data": {
            "text/plain": [
              "0.8223409"
            ]
          },
          "metadata": {
            "tags": []
          },
          "execution_count": 24
        }
      ]
    },
    {
      "cell_type": "code",
      "metadata": {
        "id": "i7x0-fgh9zVX",
        "colab_type": "code",
        "colab": {
          "base_uri": "https://localhost:8080/",
          "height": 85
        },
        "outputId": "2dcd6225-ab33-4eaf-fa34-daa813a1ae84"
      },
      "source": [
        "TF_Model_metrics = compute_metrics(y_test, y_pred)\n",
        "print_metrics(TF_Model_metrics)"
      ],
      "execution_count": 25,
      "outputs": [
        {
          "output_type": "stream",
          "text": [
            "Fraudulent Transactions Detected (True Positives): 77\n",
            "Fraudulent Transactions Missed (False Negatives): 21\n",
            "Legitimate Transactions Incorrectly Detected (False Positives): 9\n",
            "Legitimate Transactions Detected (True Negatives): 56855\n"
          ],
          "name": "stdout"
        }
      ]
    },
    {
      "cell_type": "code",
      "metadata": {
        "id": "eOlIYi0kqcP-",
        "colab_type": "code",
        "colab": {
          "base_uri": "https://localhost:8080/",
          "height": 272
        },
        "outputId": "a49e0052-5161-40fb-bc4f-6e299c20e9d6"
      },
      "source": [
        "print('Random Forest ********************')\n",
        "print_metrics(RF_metrics)\n",
        "print('XGBoost **************************')\n",
        "print_metrics(XGB_metrics)\n",
        "print('TensorFlow DNN Model *************')\n",
        "print_metrics(TF_Model_metrics)"
      ],
      "execution_count": 26,
      "outputs": [
        {
          "output_type": "stream",
          "text": [
            "Random Forest ********************\n",
            "Fraudulent Transactions Detected (True Positives): 74\n",
            "Fraudulent Transactions Missed (False Negatives): 24\n",
            "Legitimate Transactions Incorrectly Detected (False Positives): 5\n",
            "Legitimate Transactions Detected (True Negatives): 56859\n",
            "XGBoost **************************\n",
            "Fraudulent Transactions Detected (True Positives): 73\n",
            "Fraudulent Transactions Missed (False Negatives): 25\n",
            "Legitimate Transactions Incorrectly Detected (False Positives): 10\n",
            "Legitimate Transactions Detected (True Negatives): 56854\n",
            "TensorFlow DNN Model *************\n",
            "Fraudulent Transactions Detected (True Positives): 77\n",
            "Fraudulent Transactions Missed (False Negatives): 21\n",
            "Legitimate Transactions Incorrectly Detected (False Positives): 9\n",
            "Legitimate Transactions Detected (True Negatives): 56855\n"
          ],
          "name": "stdout"
        }
      ]
    },
    {
      "cell_type": "code",
      "metadata": {
        "id": "3dcaLZMH8gq7",
        "colab_type": "code",
        "colab": {}
      },
      "source": [
        "models = ['RandomForest', 'XGBoost', 'TensorFlow DNN']\n",
        "tp_df['Model'] = models\n",
        "results = [RF_metrics[0], XGB_metrics[0], TF_Model_metrics[0]]\n",
        "tp_df['baseline'] = results\n",
        "fn_df['Model'] = models\n",
        "results = [RF_metrics[1], XGB_metrics[1], TF_Model_metrics[1]]\n",
        "fn_df['baseline'] = results\n",
        "fp_df['Model'] = models\n",
        "results = [RF_metrics[2], XGB_metrics[2], TF_Model_metrics[2]]\n",
        "fp_df['baseline'] = results\n",
        "tn_df['Model'] = models\n",
        "results = [RF_metrics[3], XGB_metrics[3], TF_Model_metrics[3]]\n",
        "tn_df['baseline'] = results"
      ],
      "execution_count": 27,
      "outputs": []
    },
    {
      "cell_type": "code",
      "metadata": {
        "id": "CuPFW6HjiXJS",
        "colab_type": "code",
        "colab": {}
      },
      "source": [
        "auprc_df = pd.DataFrame()\n",
        "results = [RF_AUPRC, XGB_AUPRC, TF_Model_AUPRC]\n",
        "auprc_df['Model'] = models\n",
        "auprc_df['baseline'] = results"
      ],
      "execution_count": 28,
      "outputs": []
    },
    {
      "cell_type": "markdown",
      "metadata": {
        "id": "cWOidcNr_jN7",
        "colab_type": "text"
      },
      "source": [
        "# Class Weighting\n",
        "Try to improve this by having our loss function focus more on the minority class. We will do this with class weights during model fitting."
      ]
    },
    {
      "cell_type": "code",
      "metadata": {
        "id": "PzC9W3Yoqg93",
        "colab_type": "code",
        "colab": {
          "base_uri": "https://localhost:8080/",
          "height": 153
        },
        "outputId": "3c4cbd93-11e1-4df5-8800-5a9cd9a0ab12"
      },
      "source": [
        "# The “balanced” mode uses the values of y to automatically adjust weights inversely proportional to class frequencies in the input data as \n",
        "# n_samples / (n_classes * np.bincount(y))\n",
        "\n",
        "# The “balanced_subsample” mode is the same as “balanced” except that weights are computed based on the bootstrap sample for every tree grown.\n",
        "\n",
        "classifier = RandomForestClassifier(n_estimators=100, class_weight='balanced', n_jobs=-1, random_state=seed)\n",
        "classifier.fit(x_train, y_train)"
      ],
      "execution_count": 29,
      "outputs": [
        {
          "output_type": "execute_result",
          "data": {
            "text/plain": [
              "RandomForestClassifier(bootstrap=True, ccp_alpha=0.0, class_weight='balanced',\n",
              "                       criterion='gini', max_depth=None, max_features='auto',\n",
              "                       max_leaf_nodes=None, max_samples=None,\n",
              "                       min_impurity_decrease=0.0, min_impurity_split=None,\n",
              "                       min_samples_leaf=1, min_samples_split=2,\n",
              "                       min_weight_fraction_leaf=0.0, n_estimators=100,\n",
              "                       n_jobs=-1, oob_score=False, random_state=51, verbose=0,\n",
              "                       warm_start=False)"
            ]
          },
          "metadata": {
            "tags": []
          },
          "execution_count": 29
        }
      ]
    },
    {
      "cell_type": "code",
      "metadata": {
        "id": "hneiMXwsreu3",
        "colab_type": "code",
        "colab": {
          "base_uri": "https://localhost:8080/",
          "height": 34
        },
        "outputId": "e4ec1545-fbd2-4247-c2c8-c2b63d0f3da3"
      },
      "source": [
        "y_pred = classifier.predict(x_test)\n",
        "auprc = tf.keras.metrics.AUC(curve='PR')\n",
        "auprc.update_state(y_test, y_pred)\n",
        "RF_AUPRC = auprc.result().numpy()\n",
        "RF_AUPRC"
      ],
      "execution_count": 30,
      "outputs": [
        {
          "output_type": "execute_result",
          "data": {
            "text/plain": [
              "0.6983687"
            ]
          },
          "metadata": {
            "tags": []
          },
          "execution_count": 30
        }
      ]
    },
    {
      "cell_type": "code",
      "metadata": {
        "id": "0MPeHqKtrgMX",
        "colab_type": "code",
        "colab": {
          "base_uri": "https://localhost:8080/",
          "height": 85
        },
        "outputId": "7774c4d8-c6fe-4083-889c-09dfd3b4abf1"
      },
      "source": [
        "RF_metrics = compute_metrics(y_test, y_pred)\n",
        "print_metrics(RF_metrics)"
      ],
      "execution_count": 31,
      "outputs": [
        {
          "output_type": "stream",
          "text": [
            "Fraudulent Transactions Detected (True Positives): 72\n",
            "Fraudulent Transactions Missed (False Negatives): 26\n",
            "Legitimate Transactions Incorrectly Detected (False Positives): 4\n",
            "Legitimate Transactions Detected (True Negatives): 56860\n"
          ],
          "name": "stdout"
        }
      ]
    },
    {
      "cell_type": "code",
      "metadata": {
        "id": "pxoOhVNfrlE3",
        "colab_type": "code",
        "colab": {
          "base_uri": "https://localhost:8080/",
          "height": 136
        },
        "outputId": "2329e8c4-16b3-4503-dde8-71670ee1b56f"
      },
      "source": [
        "from math import sqrt\n",
        "scale_pos_weight = sqrt(neg/pos) \n",
        "\n",
        "xgbc = XGBClassifier(objective='binary:logistic', seed=seed,\n",
        "                     scale_pos_weight=scale_pos_weight)\n",
        "xgbc.fit(x_train, y_train)"
      ],
      "execution_count": 32,
      "outputs": [
        {
          "output_type": "execute_result",
          "data": {
            "text/plain": [
              "XGBClassifier(base_score=0.5, booster='gbtree', colsample_bylevel=1,\n",
              "              colsample_bynode=1, colsample_bytree=1, gamma=0,\n",
              "              learning_rate=0.1, max_delta_step=0, max_depth=3,\n",
              "              min_child_weight=1, missing=None, n_estimators=100, n_jobs=1,\n",
              "              nthread=None, objective='binary:logistic', random_state=0,\n",
              "              reg_alpha=0, reg_lambda=1, scale_pos_weight=24.034432971342767,\n",
              "              seed=51, silent=None, subsample=1, verbosity=1)"
            ]
          },
          "metadata": {
            "tags": []
          },
          "execution_count": 32
        }
      ]
    },
    {
      "cell_type": "code",
      "metadata": {
        "id": "-yhA0mXXrtko",
        "colab_type": "code",
        "colab": {
          "base_uri": "https://localhost:8080/",
          "height": 34
        },
        "outputId": "42226044-6830-417a-89b6-25769c752849"
      },
      "source": [
        "y_pred = xgbc.predict(x_test)\n",
        "auprc = tf.keras.metrics.AUC(curve='PR')\n",
        "auprc.update_state(y_test, y_pred)\n",
        "XGB_AUPRC = auprc.result().numpy()\n",
        "XGB_AUPRC"
      ],
      "execution_count": 33,
      "outputs": [
        {
          "output_type": "execute_result",
          "data": {
            "text/plain": [
              "0.62893724"
            ]
          },
          "metadata": {
            "tags": []
          },
          "execution_count": 33
        }
      ]
    },
    {
      "cell_type": "code",
      "metadata": {
        "id": "l5e4jl58r1dD",
        "colab_type": "code",
        "colab": {
          "base_uri": "https://localhost:8080/",
          "height": 85
        },
        "outputId": "ffb4015d-09df-4d62-e869-87c966432d9b"
      },
      "source": [
        "XGB_metrics = compute_metrics(y_test, y_pred)\n",
        "print_metrics(XGB_metrics)"
      ],
      "execution_count": 34,
      "outputs": [
        {
          "output_type": "stream",
          "text": [
            "Fraudulent Transactions Detected (True Positives): 78\n",
            "Fraudulent Transactions Missed (False Negatives): 20\n",
            "Legitimate Transactions Incorrectly Detected (False Positives): 21\n",
            "Legitimate Transactions Detected (True Negatives): 56843\n"
          ],
          "name": "stdout"
        }
      ]
    },
    {
      "cell_type": "code",
      "metadata": {
        "id": "jnZBsoFh__kE",
        "colab_type": "code",
        "colab": {
          "base_uri": "https://localhost:8080/",
          "height": 663
        },
        "outputId": "068ebe71-3e30-464b-bbf0-eb420fe21953"
      },
      "source": [
        "# Scaling by total/2 helps keep the loss to a similar magnitude.\n",
        "# The sum of the weights of all examples stays the same.\n",
        "weight_for_0 = (1 / neg)*(total)/2.0 \n",
        "weight_for_1 = (1 / pos)*(total)/2.0\n",
        "print('Weight for class 0: {:.2f}'.format(weight_for_0))\n",
        "print('Weight for class 1: {:.2f}'.format(weight_for_1))\n",
        "\n",
        "class_weight = {0: weight_for_0, 1: weight_for_1}\n",
        "\n",
        "model = create_model()"
      ],
      "execution_count": 35,
      "outputs": [
        {
          "output_type": "stream",
          "text": [
            "Weight for class 0: 0.50\n",
            "Weight for class 1: 289.33\n",
            "Model: \"functional_1\"\n",
            "_________________________________________________________________\n",
            "Layer (type)                 Output Shape              Param #   \n",
            "=================================================================\n",
            "input1 (InputLayer)          [(None, 30)]              0         \n",
            "_________________________________________________________________\n",
            "dense (Dense)                (None, 96)                2976      \n",
            "_________________________________________________________________\n",
            "batch_normalization (BatchNo (None, 96)                384       \n",
            "_________________________________________________________________\n",
            "elu (ELU)                    (None, 96)                0         \n",
            "_________________________________________________________________\n",
            "dropout (Dropout)            (None, 96)                0         \n",
            "_________________________________________________________________\n",
            "dense_1 (Dense)              (None, 96)                9312      \n",
            "_________________________________________________________________\n",
            "batch_normalization_1 (Batch (None, 96)                384       \n",
            "_________________________________________________________________\n",
            "elu_1 (ELU)                  (None, 96)                0         \n",
            "_________________________________________________________________\n",
            "dropout_1 (Dropout)          (None, 96)                0         \n",
            "_________________________________________________________________\n",
            "dense_2 (Dense)              (None, 96)                9312      \n",
            "_________________________________________________________________\n",
            "batch_normalization_2 (Batch (None, 96)                384       \n",
            "_________________________________________________________________\n",
            "elu_2 (ELU)                  (None, 96)                0         \n",
            "_________________________________________________________________\n",
            "dropout_2 (Dropout)          (None, 96)                0         \n",
            "_________________________________________________________________\n",
            "out (Dense)                  (None, 1)                 97        \n",
            "=================================================================\n",
            "Total params: 22,849\n",
            "Trainable params: 22,273\n",
            "Non-trainable params: 576\n",
            "_________________________________________________________________\n"
          ],
          "name": "stdout"
        }
      ]
    },
    {
      "cell_type": "code",
      "metadata": {
        "id": "tmZnTaHHBORk",
        "colab_type": "code",
        "colab": {
          "base_uri": "https://localhost:8080/",
          "height": 1000
        },
        "outputId": "4468a944-09a7-44a0-fd8c-6c85e6e0a27d"
      },
      "source": [
        "checkpoint_filepath = 'model.h5'\n",
        "mc = ModelCheckpoint(checkpoint_filepath, verbose=0, save_weights_only=True, \n",
        "                     monitor='val_auprc', mode='max', save_best_only=True)\n",
        "\n",
        "es = EarlyStopping(monitor='val_auprc', patience=30, verbose=1, mode='max')\n",
        "\n",
        "history = model.fit(x_train, y_train, epochs=200, verbose=2, callbacks=[es, mc], \n",
        "                    validation_data=(x_val, y_val), class_weight=class_weight, \n",
        "                    batch_size=BATCH_SIZE)"
      ],
      "execution_count": 36,
      "outputs": [
        {
          "output_type": "stream",
          "text": [
            "Epoch 1/200\n",
            "713/713 - 4s - loss: 0.3090 - auroc: 0.9404 - auprc: 0.2735 - val_loss: 0.2275 - val_auroc: 0.9937 - val_auprc: 0.2849\n",
            "Epoch 2/200\n",
            "713/713 - 4s - loss: 0.2217 - auroc: 0.9666 - auprc: 0.2863 - val_loss: 0.1264 - val_auroc: 0.9717 - val_auprc: 0.7334\n",
            "Epoch 3/200\n",
            "713/713 - 4s - loss: 0.1972 - auroc: 0.9692 - auprc: 0.4878 - val_loss: 0.1169 - val_auroc: 0.9904 - val_auprc: 0.7528\n",
            "Epoch 4/200\n",
            "713/713 - 4s - loss: 0.1936 - auroc: 0.9714 - auprc: 0.5717 - val_loss: 0.1293 - val_auroc: 0.9927 - val_auprc: 0.7574\n",
            "Epoch 5/200\n",
            "713/713 - 4s - loss: 0.1549 - auroc: 0.9832 - auprc: 0.6072 - val_loss: 0.1186 - val_auroc: 0.9922 - val_auprc: 0.7761\n",
            "Epoch 6/200\n",
            "713/713 - 4s - loss: 0.1674 - auroc: 0.9809 - auprc: 0.5360 - val_loss: 0.0750 - val_auroc: 0.9831 - val_auprc: 0.7824\n",
            "Epoch 7/200\n",
            "713/713 - 4s - loss: 0.1403 - auroc: 0.9869 - auprc: 0.6176 - val_loss: 0.1162 - val_auroc: 0.9908 - val_auprc: 0.7590\n",
            "Epoch 8/200\n",
            "713/713 - 4s - loss: 0.1372 - auroc: 0.9876 - auprc: 0.5773 - val_loss: 0.0827 - val_auroc: 0.9860 - val_auprc: 0.7660\n",
            "Epoch 9/200\n",
            "713/713 - 4s - loss: 0.1462 - auroc: 0.9865 - auprc: 0.5179 - val_loss: 0.1049 - val_auroc: 0.9883 - val_auprc: 0.7530\n",
            "Epoch 10/200\n",
            "713/713 - 4s - loss: 0.1336 - auroc: 0.9878 - auprc: 0.6223 - val_loss: 0.0744 - val_auroc: 0.9932 - val_auprc: 0.7725\n",
            "Epoch 11/200\n",
            "713/713 - 4s - loss: 0.1287 - auroc: 0.9892 - auprc: 0.5734 - val_loss: 0.0884 - val_auroc: 0.9929 - val_auprc: 0.7467\n",
            "Epoch 12/200\n",
            "713/713 - 4s - loss: 0.1246 - auroc: 0.9907 - auprc: 0.5541 - val_loss: 0.0805 - val_auroc: 0.9877 - val_auprc: 0.7655\n",
            "Epoch 13/200\n",
            "713/713 - 4s - loss: 0.1196 - auroc: 0.9915 - auprc: 0.5872 - val_loss: 0.1052 - val_auroc: 0.9890 - val_auprc: 0.7576\n",
            "Epoch 14/200\n",
            "713/713 - 4s - loss: 0.1341 - auroc: 0.9873 - auprc: 0.6581 - val_loss: 0.1101 - val_auroc: 0.9865 - val_auprc: 0.7493\n",
            "Epoch 15/200\n",
            "713/713 - 4s - loss: 0.1248 - auroc: 0.9892 - auprc: 0.6424 - val_loss: 0.1088 - val_auroc: 0.9931 - val_auprc: 0.7740\n",
            "Epoch 16/200\n",
            "713/713 - 4s - loss: 0.1147 - auroc: 0.9921 - auprc: 0.6404 - val_loss: 0.0704 - val_auroc: 0.9919 - val_auprc: 0.7843\n",
            "Epoch 17/200\n",
            "713/713 - 4s - loss: 0.1112 - auroc: 0.9926 - auprc: 0.6585 - val_loss: 0.1029 - val_auroc: 0.9936 - val_auprc: 0.7794\n",
            "Epoch 18/200\n",
            "713/713 - 4s - loss: 0.1146 - auroc: 0.9917 - auprc: 0.6444 - val_loss: 0.0675 - val_auroc: 0.9890 - val_auprc: 0.7750\n",
            "Epoch 19/200\n",
            "713/713 - 4s - loss: 0.1098 - auroc: 0.9927 - auprc: 0.6778 - val_loss: 0.0682 - val_auroc: 0.9875 - val_auprc: 0.7889\n",
            "Epoch 20/200\n",
            "713/713 - 4s - loss: 0.1256 - auroc: 0.9892 - auprc: 0.6602 - val_loss: 0.0733 - val_auroc: 0.9917 - val_auprc: 0.7816\n",
            "Epoch 21/200\n",
            "713/713 - 4s - loss: 0.1000 - auroc: 0.9940 - auprc: 0.6826 - val_loss: 0.0742 - val_auroc: 0.9833 - val_auprc: 0.7704\n",
            "Epoch 22/200\n",
            "713/713 - 4s - loss: 0.1034 - auroc: 0.9924 - auprc: 0.6854 - val_loss: 0.0652 - val_auroc: 0.9889 - val_auprc: 0.7776\n",
            "Epoch 23/200\n",
            "713/713 - 4s - loss: 0.1008 - auroc: 0.9934 - auprc: 0.7077 - val_loss: 0.0678 - val_auroc: 0.9902 - val_auprc: 0.7647\n",
            "Epoch 24/200\n",
            "713/713 - 4s - loss: 0.1029 - auroc: 0.9936 - auprc: 0.6293 - val_loss: 0.0621 - val_auroc: 0.9850 - val_auprc: 0.7836\n",
            "Epoch 25/200\n",
            "713/713 - 4s - loss: 0.1017 - auroc: 0.9938 - auprc: 0.6270 - val_loss: 0.1107 - val_auroc: 0.9928 - val_auprc: 0.7614\n",
            "Epoch 26/200\n",
            "713/713 - 4s - loss: 0.0983 - auroc: 0.9940 - auprc: 0.6632 - val_loss: 0.0649 - val_auroc: 0.9915 - val_auprc: 0.7814\n",
            "Epoch 27/200\n",
            "713/713 - 4s - loss: 0.0922 - auroc: 0.9950 - auprc: 0.6640 - val_loss: 0.1136 - val_auroc: 0.9843 - val_auprc: 0.7140\n",
            "Epoch 28/200\n",
            "713/713 - 4s - loss: 0.0975 - auroc: 0.9941 - auprc: 0.6217 - val_loss: 0.0528 - val_auroc: 0.9837 - val_auprc: 0.7784\n",
            "Epoch 29/200\n",
            "713/713 - 4s - loss: 0.0941 - auroc: 0.9946 - auprc: 0.6209 - val_loss: 0.0727 - val_auroc: 0.9879 - val_auprc: 0.7654\n",
            "Epoch 30/200\n",
            "713/713 - 4s - loss: 0.1065 - auroc: 0.9920 - auprc: 0.5956 - val_loss: 0.0724 - val_auroc: 0.9866 - val_auprc: 0.7558\n",
            "Epoch 31/200\n",
            "713/713 - 4s - loss: 0.0857 - auroc: 0.9956 - auprc: 0.6373 - val_loss: 0.0890 - val_auroc: 0.9814 - val_auprc: 0.7346\n",
            "Epoch 32/200\n",
            "713/713 - 4s - loss: 0.0955 - auroc: 0.9945 - auprc: 0.6379 - val_loss: 0.1137 - val_auroc: 0.9876 - val_auprc: 0.7297\n",
            "Epoch 33/200\n",
            "713/713 - 4s - loss: 0.0936 - auroc: 0.9948 - auprc: 0.6801 - val_loss: 0.0884 - val_auroc: 0.9850 - val_auprc: 0.7680\n",
            "Epoch 34/200\n",
            "713/713 - 4s - loss: 0.1022 - auroc: 0.9929 - auprc: 0.6818 - val_loss: 0.0745 - val_auroc: 0.9855 - val_auprc: 0.7660\n",
            "Epoch 35/200\n",
            "713/713 - 4s - loss: 0.0846 - auroc: 0.9957 - auprc: 0.6671 - val_loss: 0.0528 - val_auroc: 0.9879 - val_auprc: 0.7664\n",
            "Epoch 36/200\n",
            "713/713 - 4s - loss: 0.0957 - auroc: 0.9933 - auprc: 0.6538 - val_loss: 0.0581 - val_auroc: 0.9884 - val_auprc: 0.7639\n",
            "Epoch 37/200\n",
            "713/713 - 4s - loss: 0.0759 - auroc: 0.9965 - auprc: 0.6678 - val_loss: 0.0587 - val_auroc: 0.9878 - val_auprc: 0.7533\n",
            "Epoch 38/200\n",
            "713/713 - 4s - loss: 0.0907 - auroc: 0.9948 - auprc: 0.6573 - val_loss: 0.0579 - val_auroc: 0.9880 - val_auprc: 0.7679\n",
            "Epoch 39/200\n",
            "713/713 - 4s - loss: 0.0827 - auroc: 0.9958 - auprc: 0.6868 - val_loss: 0.0635 - val_auroc: 0.9849 - val_auprc: 0.7640\n",
            "Epoch 40/200\n",
            "713/713 - 4s - loss: 0.0757 - auroc: 0.9965 - auprc: 0.6463 - val_loss: 0.0477 - val_auroc: 0.9881 - val_auprc: 0.7617\n",
            "Epoch 41/200\n",
            "713/713 - 4s - loss: 0.0896 - auroc: 0.9948 - auprc: 0.6901 - val_loss: 0.0533 - val_auroc: 0.9865 - val_auprc: 0.7674\n",
            "Epoch 42/200\n",
            "713/713 - 4s - loss: 0.0822 - auroc: 0.9957 - auprc: 0.6856 - val_loss: 0.0707 - val_auroc: 0.9851 - val_auprc: 0.7624\n",
            "Epoch 43/200\n",
            "713/713 - 4s - loss: 0.0869 - auroc: 0.9953 - auprc: 0.6794 - val_loss: 0.1123 - val_auroc: 0.9842 - val_auprc: 0.6597\n",
            "Epoch 44/200\n",
            "713/713 - 4s - loss: 0.0773 - auroc: 0.9963 - auprc: 0.6303 - val_loss: 0.0416 - val_auroc: 0.9860 - val_auprc: 0.7656\n",
            "Epoch 45/200\n",
            "713/713 - 4s - loss: 0.0755 - auroc: 0.9966 - auprc: 0.6875 - val_loss: 0.0442 - val_auroc: 0.9804 - val_auprc: 0.7594\n",
            "Epoch 46/200\n",
            "713/713 - 4s - loss: 0.0769 - auroc: 0.9962 - auprc: 0.6552 - val_loss: 0.0980 - val_auroc: 0.9829 - val_auprc: 0.7338\n",
            "Epoch 47/200\n",
            "713/713 - 4s - loss: 0.0714 - auroc: 0.9968 - auprc: 0.6733 - val_loss: 0.0457 - val_auroc: 0.9865 - val_auprc: 0.7715\n",
            "Epoch 48/200\n",
            "713/713 - 4s - loss: 0.0705 - auroc: 0.9970 - auprc: 0.6744 - val_loss: 0.0453 - val_auroc: 0.9853 - val_auprc: 0.7637\n",
            "Epoch 49/200\n",
            "713/713 - 4s - loss: 0.0863 - auroc: 0.9954 - auprc: 0.7017 - val_loss: 0.0487 - val_auroc: 0.9857 - val_auprc: 0.7751\n",
            "Epoch 00049: early stopping\n"
          ],
          "name": "stdout"
        }
      ]
    },
    {
      "cell_type": "code",
      "metadata": {
        "id": "384UfdIOGKlb",
        "colab_type": "code",
        "colab": {
          "base_uri": "https://localhost:8080/",
          "height": 51
        },
        "outputId": "5dc4a205-ef7f-4308-ce00-0a4ce95cc49e"
      },
      "source": [
        "model.load_weights(checkpoint_filepath)\n",
        "model.evaluate(x_test, y_test)"
      ],
      "execution_count": 37,
      "outputs": [
        {
          "output_type": "stream",
          "text": [
            "1781/1781 [==============================] - 5s 3ms/step - loss: 0.0697 - auroc: 0.9571 - auprc: 0.7124\n"
          ],
          "name": "stdout"
        },
        {
          "output_type": "execute_result",
          "data": {
            "text/plain": [
              "[0.06974510103464127, 0.957082211971283, 0.712368369102478]"
            ]
          },
          "metadata": {
            "tags": []
          },
          "execution_count": 37
        }
      ]
    },
    {
      "cell_type": "code",
      "metadata": {
        "id": "kOsVDA61Cyed",
        "colab_type": "code",
        "colab": {
          "base_uri": "https://localhost:8080/",
          "height": 738
        },
        "outputId": "b1dc02d8-4536-4009-e71c-849d95a61036"
      },
      "source": [
        "import matplotlib.pyplot as plt\n",
        "import seaborn as sns\n",
        "\n",
        "history = history.history\n",
        "\n",
        "fig, (ax1, ax2) = plt.subplots(2, 1, sharex='col', figsize=(20, 14))\n",
        "\n",
        "ax1.plot(history['loss'], label='Train loss')\n",
        "ax1.plot(history['val_loss'], label='Validation loss')\n",
        "ax1.legend(loc='best')\n",
        "ax1.set_title('Loss')\n",
        "\n",
        "ax2.plot(history['auprc'], label='Train accuracy')\n",
        "ax2.plot(history['val_auprc'], label='Validation accuracy')\n",
        "ax2.legend(loc='best')\n",
        "ax2.set_title('AUPRC')\n",
        "\n",
        "plt.xlabel('Epochs')\n",
        "sns.despine()\n",
        "plt.show()"
      ],
      "execution_count": 38,
      "outputs": [
        {
          "output_type": "display_data",
          "data": {
            "image/png": "[encoded data removed]",
            "text/plain": [
              "<Figure size 1440x1008 with 2 Axes>"
            ]
          },
          "metadata": {
            "tags": [],
            "needs_background": "light"
          }
        }
      ]
    },
    {
      "cell_type": "code",
      "metadata": {
        "id": "LMxNdSAVDBCv",
        "colab_type": "code",
        "colab": {
          "base_uri": "https://localhost:8080/",
          "height": 34
        },
        "outputId": "5a956eb8-236f-4e88-cb09-5d5d3ac93aee"
      },
      "source": [
        "y_pred = model.predict(x_test)\n",
        "auprc = tf.keras.metrics.AUC(curve='PR')\n",
        "auprc.update_state(y_test, y_pred)\n",
        "TF_Model_AUPRC = auprc.result().numpy()\n",
        "TF_Model_AUPRC"
      ],
      "execution_count": 39,
      "outputs": [
        {
          "output_type": "execute_result",
          "data": {
            "text/plain": [
              "0.71236837"
            ]
          },
          "metadata": {
            "tags": []
          },
          "execution_count": 39
        }
      ]
    },
    {
      "cell_type": "code",
      "metadata": {
        "id": "ZGB6txm8DFRB",
        "colab_type": "code",
        "colab": {
          "base_uri": "https://localhost:8080/",
          "height": 85
        },
        "outputId": "317dcf8b-86a2-499c-ad08-6acf71d28ac9"
      },
      "source": [
        "TF_Model_metrics = compute_metrics(y_test, y_pred)\n",
        "print_metrics(TF_Model_metrics)"
      ],
      "execution_count": 40,
      "outputs": [
        {
          "output_type": "stream",
          "text": [
            "Fraudulent Transactions Detected (True Positives): 86\n",
            "Fraudulent Transactions Missed (False Negatives): 12\n",
            "Legitimate Transactions Incorrectly Detected (False Positives): 1265\n",
            "Legitimate Transactions Detected (True Negatives): 55599\n"
          ],
          "name": "stdout"
        }
      ]
    },
    {
      "cell_type": "code",
      "metadata": {
        "id": "EEXM5WWALe54",
        "colab_type": "code",
        "colab": {
          "base_uri": "https://localhost:8080/",
          "height": 68
        },
        "outputId": "de203470-0f30-4b7f-9829-e344d385e47e"
      },
      "source": [
        "print('RF_AUPRC: ' + str(RF_AUPRC))\n",
        "print('XGB_AUPRC: ' + str(XGB_AUPRC))\n",
        "print('TF_Model_AUPRC: ' + str(TF_Model_AUPRC))"
      ],
      "execution_count": 41,
      "outputs": [
        {
          "output_type": "stream",
          "text": [
            "RF_AUPRC: 0.6983687\n",
            "XGB_AUPRC: 0.62893724\n",
            "TF_Model_AUPRC: 0.71236837\n"
          ],
          "name": "stdout"
        }
      ]
    },
    {
      "cell_type": "code",
      "metadata": {
        "id": "ScVq6r8Fplej",
        "colab_type": "code",
        "colab": {
          "base_uri": "https://localhost:8080/",
          "height": 272
        },
        "outputId": "0c40f16c-86e8-4ed0-c12e-98792da48b6e"
      },
      "source": [
        "print('Random Forest ********************')\n",
        "print_metrics(RF_metrics)\n",
        "print('XGBoost **************************')\n",
        "print_metrics(XGB_metrics)\n",
        "print('TensorFlow DNN Model ************')\n",
        "print_metrics(TF_Model_metrics)\n"
      ],
      "execution_count": 42,
      "outputs": [
        {
          "output_type": "stream",
          "text": [
            "Random Forest ********************\n",
            "Fraudulent Transactions Detected (True Positives): 72\n",
            "Fraudulent Transactions Missed (False Negatives): 26\n",
            "Legitimate Transactions Incorrectly Detected (False Positives): 4\n",
            "Legitimate Transactions Detected (True Negatives): 56860\n",
            "XGBoost **************************\n",
            "Fraudulent Transactions Detected (True Positives): 78\n",
            "Fraudulent Transactions Missed (False Negatives): 20\n",
            "Legitimate Transactions Incorrectly Detected (False Positives): 21\n",
            "Legitimate Transactions Detected (True Negatives): 56843\n",
            "TensorFlow DNN Model ************\n",
            "Fraudulent Transactions Detected (True Positives): 86\n",
            "Fraudulent Transactions Missed (False Negatives): 12\n",
            "Legitimate Transactions Incorrectly Detected (False Positives): 1265\n",
            "Legitimate Transactions Detected (True Negatives): 55599\n"
          ],
          "name": "stdout"
        }
      ]
    },
    {
      "cell_type": "markdown",
      "metadata": {
        "id": "FY33WTB9sk8J",
        "colab_type": "text"
      },
      "source": [
        "So we are improving on Recall, but worse on Precision\n",
        "\n"
      ]
    },
    {
      "cell_type": "code",
      "metadata": {
        "id": "bJ6p-ZDl-GG6",
        "colab_type": "code",
        "colab": {}
      },
      "source": [
        "tp_df['Model'] = models\n",
        "results = [RF_metrics[0], XGB_metrics[0], TF_Model_metrics[0]]\n",
        "tp_df['class weighted'] = results\n",
        "fn_df['Model'] = models\n",
        "results = [RF_metrics[1], XGB_metrics[1], TF_Model_metrics[1]]\n",
        "fn_df['class weighted'] = results\n",
        "fp_df['Model'] = models\n",
        "results = [RF_metrics[2], XGB_metrics[2], TF_Model_metrics[2]]\n",
        "fp_df['class weighted'] = results\n",
        "tn_df['Model'] = models\n",
        "results = [RF_metrics[3], XGB_metrics[3], TF_Model_metrics[3]]\n",
        "tn_df['class weighted'] = results"
      ],
      "execution_count": 43,
      "outputs": []
    },
    {
      "cell_type": "code",
      "metadata": {
        "id": "fAfdynsljQOV",
        "colab_type": "code",
        "colab": {}
      },
      "source": [
        "results = [RF_AUPRC, XGB_AUPRC, TF_Model_AUPRC]\n",
        "auprc_df['class weighted'] = results"
      ],
      "execution_count": 44,
      "outputs": []
    },
    {
      "cell_type": "markdown",
      "metadata": {
        "id": "lA0S-o19BxTg",
        "colab_type": "text"
      },
      "source": [
        "# Undersampling (Random)"
      ]
    },
    {
      "cell_type": "code",
      "metadata": {
        "id": "gY26G8__B0NQ",
        "colab_type": "code",
        "colab": {
          "base_uri": "https://localhost:8080/",
          "height": 51
        },
        "outputId": "8af357a0-25b5-429c-c26a-b578069a98f6"
      },
      "source": [
        "y_train = train_df['Class'].values\n",
        "x_train = train_df.drop(['Class'], axis='columns')\n",
        "x_train = x_train.values\n",
        "\n",
        "from numpy import bincount\n",
        "neg, pos = bincount(y_train)\n",
        "print('Original balance: ' + str(neg) + ' non-fraud, ' + str(pos) + ' fraud')\n",
        "\n",
        "from imblearn.under_sampling import RandomUnderSampler\n",
        "rus = RandomUnderSampler(random_state=seed)\n",
        "x_train, y_train = rus.fit_resample(x_train, y_train)\n",
        "\n",
        "neg, pos = bincount(y_train)\n",
        "print('New balance: ' + str(neg) + ' non-fraud, ' + str(pos) + ' fraud')"
      ],
      "execution_count": 45,
      "outputs": [
        {
          "output_type": "stream",
          "text": [
            "Original balance: 181961 non-fraud, 315 fraud\n",
            "New balance: 315 non-fraud, 315 fraud\n"
          ],
          "name": "stdout"
        }
      ]
    },
    {
      "cell_type": "code",
      "metadata": {
        "id": "bSecjdVZCq5n",
        "colab_type": "code",
        "colab": {
          "base_uri": "https://localhost:8080/",
          "height": 153
        },
        "outputId": "46d6ac24-571e-457d-e4f8-778d7f64472f"
      },
      "source": [
        "classifier = RandomForestClassifier(n_estimators=100, n_jobs=-1, random_state=seed)\n",
        "classifier.fit(x_train, y_train)"
      ],
      "execution_count": 46,
      "outputs": [
        {
          "output_type": "execute_result",
          "data": {
            "text/plain": [
              "RandomForestClassifier(bootstrap=True, ccp_alpha=0.0, class_weight=None,\n",
              "                       criterion='gini', max_depth=None, max_features='auto',\n",
              "                       max_leaf_nodes=None, max_samples=None,\n",
              "                       min_impurity_decrease=0.0, min_impurity_split=None,\n",
              "                       min_samples_leaf=1, min_samples_split=2,\n",
              "                       min_weight_fraction_leaf=0.0, n_estimators=100,\n",
              "                       n_jobs=-1, oob_score=False, random_state=51, verbose=0,\n",
              "                       warm_start=False)"
            ]
          },
          "metadata": {
            "tags": []
          },
          "execution_count": 46
        }
      ]
    },
    {
      "cell_type": "code",
      "metadata": {
        "id": "1pAVtFnMkbgm",
        "colab_type": "code",
        "colab": {
          "base_uri": "https://localhost:8080/",
          "height": 544
        },
        "outputId": "fa875d6d-7ab9-475f-a60a-c49502bc6acb"
      },
      "source": [
        "columns = train_df.columns.to_list()\n",
        "columns.remove('Class')\n",
        "print(\"The Features Importance are: \")  \n",
        "for feature, value in zip(columns, classifier.feature_importances_):\n",
        "        print(feature, value)"
      ],
      "execution_count": 47,
      "outputs": [
        {
          "output_type": "stream",
          "text": [
            "The Features Importance are: \n",
            "V1 0.010242805437496571\n",
            "V2 0.029972801456962\n",
            "V3 0.0488391169759337\n",
            "V4 0.0697577595806733\n",
            "V5 0.010669791130335752\n",
            "V6 0.01220296211897637\n",
            "V7 0.0398848692439779\n",
            "V8 0.010964789762678328\n",
            "V9 0.011211050369447017\n",
            "V10 0.12226522588489386\n",
            "V11 0.09766139591859441\n",
            "V12 0.10028689562279718\n",
            "V13 0.008382218163270162\n",
            "V14 0.18196254904360698\n",
            "V15 0.010662022815996108\n",
            "V16 0.06967422143627304\n",
            "V17 0.061742989941040674\n",
            "V18 0.01006538695986429\n",
            "V19 0.00946532836177493\n",
            "V20 0.010444993408954233\n",
            "V21 0.01477344650522887\n",
            "V22 0.005686859926775454\n",
            "V23 0.006265633198594381\n",
            "V24 0.006249596112205176\n",
            "V25 0.004172839013130712\n",
            "V26 0.004793648120522799\n",
            "V27 0.00802949297658804\n",
            "V28 0.008128716095879548\n",
            "scaled_amount 0.010452160141903914\n",
            "scaled_time 0.005088434275624461\n"
          ],
          "name": "stdout"
        }
      ]
    },
    {
      "cell_type": "code",
      "metadata": {
        "id": "AuQrgf4RCu7u",
        "colab_type": "code",
        "colab": {
          "base_uri": "https://localhost:8080/",
          "height": 34
        },
        "outputId": "b1017742-7dee-4b13-faca-f048844de1f1"
      },
      "source": [
        "y_pred = classifier.predict(x_test)\n",
        "auprc = tf.keras.metrics.AUC(curve='PR')\n",
        "auprc.update_state(y_test, y_pred)\n",
        "RF_AUPRC = auprc.result().numpy()\n",
        "RF_AUPRC"
      ],
      "execution_count": 48,
      "outputs": [
        {
          "output_type": "execute_result",
          "data": {
            "text/plain": [
              "0.047769353"
            ]
          },
          "metadata": {
            "tags": []
          },
          "execution_count": 48
        }
      ]
    },
    {
      "cell_type": "code",
      "metadata": {
        "id": "Ud7bVvKDCyaJ",
        "colab_type": "code",
        "colab": {
          "base_uri": "https://localhost:8080/",
          "height": 85
        },
        "outputId": "38dbe3a3-29d9-434e-c784-5090c75990fb"
      },
      "source": [
        "RF_metrics = compute_metrics(y_test, y_pred)\n",
        "print_metrics(RF_metrics)"
      ],
      "execution_count": 49,
      "outputs": [
        {
          "output_type": "stream",
          "text": [
            "Fraudulent Transactions Detected (True Positives): 87\n",
            "Fraudulent Transactions Missed (False Negatives): 11\n",
            "Legitimate Transactions Incorrectly Detected (False Positives): 1552\n",
            "Legitimate Transactions Detected (True Negatives): 55312\n"
          ],
          "name": "stdout"
        }
      ]
    },
    {
      "cell_type": "code",
      "metadata": {
        "id": "wUga9j9mCyj4",
        "colab_type": "code",
        "colab": {
          "base_uri": "https://localhost:8080/",
          "height": 136
        },
        "outputId": "3acb22ab-16cf-4fdf-a760-8dd9a24ca3cb"
      },
      "source": [
        "xgbc = XGBClassifier(objective='binary:logistic', seed=seed)\n",
        "xgbc.fit(x_train, y_train, eval_metric='aucpr')"
      ],
      "execution_count": 50,
      "outputs": [
        {
          "output_type": "execute_result",
          "data": {
            "text/plain": [
              "XGBClassifier(base_score=0.5, booster='gbtree', colsample_bylevel=1,\n",
              "              colsample_bynode=1, colsample_bytree=1, gamma=0,\n",
              "              learning_rate=0.1, max_delta_step=0, max_depth=3,\n",
              "              min_child_weight=1, missing=None, n_estimators=100, n_jobs=1,\n",
              "              nthread=None, objective='binary:logistic', random_state=0,\n",
              "              reg_alpha=0, reg_lambda=1, scale_pos_weight=1, seed=51,\n",
              "              silent=None, subsample=1, verbosity=1)"
            ]
          },
          "metadata": {
            "tags": []
          },
          "execution_count": 50
        }
      ]
    },
    {
      "cell_type": "code",
      "metadata": {
        "id": "JFIkPD1qC_UG",
        "colab_type": "code",
        "colab": {
          "base_uri": "https://localhost:8080/",
          "height": 34
        },
        "outputId": "eba1171e-c576-42c7-d437-d5b6d31e39e3"
      },
      "source": [
        "y_pred = xgbc.predict(x_test)\n",
        "auprc = tf.keras.metrics.AUC(curve='PR')\n",
        "auprc.update_state(y_test, y_pred)\n",
        "XGB_AUPRC = auprc.result().numpy()\n",
        "XGB_AUPRC"
      ],
      "execution_count": 51,
      "outputs": [
        {
          "output_type": "execute_result",
          "data": {
            "text/plain": [
              "0.04445454"
            ]
          },
          "metadata": {
            "tags": []
          },
          "execution_count": 51
        }
      ]
    },
    {
      "cell_type": "code",
      "metadata": {
        "id": "QZspvlUPDEr5",
        "colab_type": "code",
        "colab": {
          "base_uri": "https://localhost:8080/",
          "height": 85
        },
        "outputId": "b6d3110f-465d-4622-f145-3833688d3cbe"
      },
      "source": [
        "XGB_metrics = compute_metrics(y_test, y_pred)\n",
        "print_metrics(XGB_metrics)"
      ],
      "execution_count": 52,
      "outputs": [
        {
          "output_type": "stream",
          "text": [
            "Fraudulent Transactions Detected (True Positives): 88\n",
            "Fraudulent Transactions Missed (False Negatives): 10\n",
            "Legitimate Transactions Incorrectly Detected (False Positives): 1713\n",
            "Legitimate Transactions Detected (True Negatives): 55151\n"
          ],
          "name": "stdout"
        }
      ]
    },
    {
      "cell_type": "code",
      "metadata": {
        "id": "8VtBMoWPDIZy",
        "colab_type": "code",
        "colab": {
          "base_uri": "https://localhost:8080/",
          "height": 629
        },
        "outputId": "2ce6861e-e1ee-4d3a-a001-1953b5b6224b"
      },
      "source": [
        "model = create_model()"
      ],
      "execution_count": 53,
      "outputs": [
        {
          "output_type": "stream",
          "text": [
            "Model: \"functional_1\"\n",
            "_________________________________________________________________\n",
            "Layer (type)                 Output Shape              Param #   \n",
            "=================================================================\n",
            "input1 (InputLayer)          [(None, 30)]              0         \n",
            "_________________________________________________________________\n",
            "dense (Dense)                (None, 96)                2976      \n",
            "_________________________________________________________________\n",
            "batch_normalization (BatchNo (None, 96)                384       \n",
            "_________________________________________________________________\n",
            "elu (ELU)                    (None, 96)                0         \n",
            "_________________________________________________________________\n",
            "dropout (Dropout)            (None, 96)                0         \n",
            "_________________________________________________________________\n",
            "dense_1 (Dense)              (None, 96)                9312      \n",
            "_________________________________________________________________\n",
            "batch_normalization_1 (Batch (None, 96)                384       \n",
            "_________________________________________________________________\n",
            "elu_1 (ELU)                  (None, 96)                0         \n",
            "_________________________________________________________________\n",
            "dropout_1 (Dropout)          (None, 96)                0         \n",
            "_________________________________________________________________\n",
            "dense_2 (Dense)              (None, 96)                9312      \n",
            "_________________________________________________________________\n",
            "batch_normalization_2 (Batch (None, 96)                384       \n",
            "_________________________________________________________________\n",
            "elu_2 (ELU)                  (None, 96)                0         \n",
            "_________________________________________________________________\n",
            "dropout_2 (Dropout)          (None, 96)                0         \n",
            "_________________________________________________________________\n",
            "out (Dense)                  (None, 1)                 97        \n",
            "=================================================================\n",
            "Total params: 22,849\n",
            "Trainable params: 22,273\n",
            "Non-trainable params: 576\n",
            "_________________________________________________________________\n"
          ],
          "name": "stdout"
        }
      ]
    },
    {
      "cell_type": "code",
      "metadata": {
        "id": "QS3moq6eDOHW",
        "colab_type": "code",
        "colab": {
          "base_uri": "https://localhost:8080/",
          "height": 1000
        },
        "outputId": "68794471-2398-4528-a961-df9b06e454d1"
      },
      "source": [
        "checkpoint_filepath = 'model.h5'\n",
        "mc = ModelCheckpoint(checkpoint_filepath, verbose=0, save_weights_only=True, \n",
        "                     monitor='val_auprc', mode='max', save_best_only=True)\n",
        "\n",
        "es = EarlyStopping(monitor='val_auprc', patience=30, verbose=1, mode='max')\n",
        "history = model.fit(x_train, y_train, epochs=200, verbose=2, callbacks=[es, mc], \n",
        "                    validation_data=(x_val, y_val), batch_size=8)"
      ],
      "execution_count": 54,
      "outputs": [
        {
          "output_type": "stream",
          "text": [
            "Epoch 1/200\n",
            "79/79 - 15s - loss: 0.4373 - auroc: 0.8868 - auprc: 0.9017 - val_loss: 0.1750 - val_auroc: 0.9890 - val_auprc: 0.5312\n",
            "Epoch 2/200\n",
            "79/79 - 15s - loss: 0.3760 - auroc: 0.9125 - auprc: 0.9271 - val_loss: 0.0844 - val_auroc: 0.9909 - val_auprc: 0.6103\n",
            "Epoch 3/200\n",
            "79/79 - 15s - loss: 0.3065 - auroc: 0.9365 - auprc: 0.9512 - val_loss: 0.0722 - val_auroc: 0.9903 - val_auprc: 0.5924\n",
            "Epoch 4/200\n",
            "79/79 - 15s - loss: 0.2845 - auroc: 0.9435 - auprc: 0.9573 - val_loss: 0.0668 - val_auroc: 0.9904 - val_auprc: 0.6221\n",
            "Epoch 5/200\n",
            "79/79 - 15s - loss: 0.2926 - auroc: 0.9411 - auprc: 0.9569 - val_loss: 0.0592 - val_auroc: 0.9909 - val_auprc: 0.6812\n",
            "Epoch 6/200\n",
            "79/79 - 15s - loss: 0.2862 - auroc: 0.9452 - auprc: 0.9585 - val_loss: 0.0719 - val_auroc: 0.9908 - val_auprc: 0.7257\n",
            "Epoch 7/200\n",
            "79/79 - 15s - loss: 0.2803 - auroc: 0.9460 - auprc: 0.9607 - val_loss: 0.0491 - val_auroc: 0.9909 - val_auprc: 0.7108\n",
            "Epoch 8/200\n",
            "79/79 - 15s - loss: 0.2652 - auroc: 0.9536 - auprc: 0.9589 - val_loss: 0.0662 - val_auroc: 0.9910 - val_auprc: 0.7088\n",
            "Epoch 9/200\n",
            "79/79 - 16s - loss: 0.2647 - auroc: 0.9515 - auprc: 0.9632 - val_loss: 0.0691 - val_auroc: 0.9905 - val_auprc: 0.6972\n",
            "Epoch 10/200\n",
            "79/79 - 15s - loss: 0.3036 - auroc: 0.9400 - auprc: 0.9490 - val_loss: 0.1124 - val_auroc: 0.9908 - val_auprc: 0.7019\n",
            "Epoch 11/200\n",
            "79/79 - 15s - loss: 0.2477 - auroc: 0.9567 - auprc: 0.9670 - val_loss: 0.0621 - val_auroc: 0.9918 - val_auprc: 0.7337\n",
            "Epoch 12/200\n",
            "79/79 - 15s - loss: 0.2219 - auroc: 0.9643 - auprc: 0.9693 - val_loss: 0.0830 - val_auroc: 0.9912 - val_auprc: 0.6541\n",
            "Epoch 13/200\n",
            "79/79 - 15s - loss: 0.2660 - auroc: 0.9539 - auprc: 0.9589 - val_loss: 0.1039 - val_auroc: 0.9901 - val_auprc: 0.6851\n",
            "Epoch 14/200\n",
            "79/79 - 15s - loss: 0.2525 - auroc: 0.9560 - auprc: 0.9671 - val_loss: 0.0763 - val_auroc: 0.9907 - val_auprc: 0.7000\n",
            "Epoch 15/200\n",
            "79/79 - 15s - loss: 0.2894 - auroc: 0.9438 - auprc: 0.9567 - val_loss: 0.1127 - val_auroc: 0.9892 - val_auprc: 0.7447\n",
            "Epoch 16/200\n",
            "79/79 - 15s - loss: 0.2630 - auroc: 0.9539 - auprc: 0.9591 - val_loss: 0.0991 - val_auroc: 0.9921 - val_auprc: 0.7383\n",
            "Epoch 17/200\n",
            "79/79 - 15s - loss: 0.2993 - auroc: 0.9373 - auprc: 0.9515 - val_loss: 0.0969 - val_auroc: 0.9914 - val_auprc: 0.7089\n",
            "Epoch 18/200\n",
            "79/79 - 15s - loss: 0.2389 - auroc: 0.9604 - auprc: 0.9693 - val_loss: 0.0783 - val_auroc: 0.9915 - val_auprc: 0.7024\n",
            "Epoch 19/200\n",
            "79/79 - 15s - loss: 0.2529 - auroc: 0.9547 - auprc: 0.9659 - val_loss: 0.0651 - val_auroc: 0.9910 - val_auprc: 0.7374\n",
            "Epoch 20/200\n",
            "79/79 - 15s - loss: 0.1976 - auroc: 0.9757 - auprc: 0.9789 - val_loss: 0.0847 - val_auroc: 0.9920 - val_auprc: 0.6373\n",
            "Epoch 21/200\n",
            "79/79 - 15s - loss: 0.2689 - auroc: 0.9501 - auprc: 0.9628 - val_loss: 0.1206 - val_auroc: 0.9914 - val_auprc: 0.7121\n",
            "Epoch 22/200\n",
            "79/79 - 15s - loss: 0.2562 - auroc: 0.9571 - auprc: 0.9645 - val_loss: 0.0795 - val_auroc: 0.9921 - val_auprc: 0.7563\n",
            "Epoch 23/200\n",
            "79/79 - 15s - loss: 0.2864 - auroc: 0.9479 - auprc: 0.9589 - val_loss: 0.0905 - val_auroc: 0.9913 - val_auprc: 0.6833\n",
            "Epoch 24/200\n",
            "79/79 - 15s - loss: 0.2446 - auroc: 0.9625 - auprc: 0.9666 - val_loss: 0.0969 - val_auroc: 0.9913 - val_auprc: 0.7400\n",
            "Epoch 25/200\n",
            "79/79 - 15s - loss: 0.2578 - auroc: 0.9530 - auprc: 0.9644 - val_loss: 0.0980 - val_auroc: 0.9921 - val_auprc: 0.7717\n",
            "Epoch 26/200\n",
            "79/79 - 15s - loss: 0.2598 - auroc: 0.9527 - auprc: 0.9645 - val_loss: 0.0849 - val_auroc: 0.9913 - val_auprc: 0.7740\n",
            "Epoch 27/200\n",
            "79/79 - 15s - loss: 0.2368 - auroc: 0.9632 - auprc: 0.9706 - val_loss: 0.0819 - val_auroc: 0.9912 - val_auprc: 0.7595\n",
            "Epoch 28/200\n",
            "79/79 - 15s - loss: 0.2427 - auroc: 0.9620 - auprc: 0.9674 - val_loss: 0.0821 - val_auroc: 0.9914 - val_auprc: 0.7681\n",
            "Epoch 29/200\n",
            "79/79 - 15s - loss: 0.2173 - auroc: 0.9682 - auprc: 0.9746 - val_loss: 0.0862 - val_auroc: 0.9910 - val_auprc: 0.7486\n",
            "Epoch 30/200\n",
            "79/79 - 15s - loss: 0.2623 - auroc: 0.9536 - auprc: 0.9624 - val_loss: 0.0913 - val_auroc: 0.9907 - val_auprc: 0.7525\n",
            "Epoch 31/200\n",
            "79/79 - 15s - loss: 0.2390 - auroc: 0.9591 - auprc: 0.9697 - val_loss: 0.1085 - val_auroc: 0.9918 - val_auprc: 0.6792\n",
            "Epoch 32/200\n",
            "79/79 - 15s - loss: 0.2550 - auroc: 0.9554 - auprc: 0.9642 - val_loss: 0.0959 - val_auroc: 0.9913 - val_auprc: 0.7402\n",
            "Epoch 33/200\n",
            "79/79 - 15s - loss: 0.2826 - auroc: 0.9472 - auprc: 0.9574 - val_loss: 0.1041 - val_auroc: 0.9916 - val_auprc: 0.7422\n",
            "Epoch 34/200\n",
            "79/79 - 15s - loss: 0.2203 - auroc: 0.9661 - auprc: 0.9747 - val_loss: 0.0631 - val_auroc: 0.9911 - val_auprc: 0.7792\n",
            "Epoch 35/200\n",
            "79/79 - 15s - loss: 0.2237 - auroc: 0.9657 - auprc: 0.9736 - val_loss: 0.0838 - val_auroc: 0.9918 - val_auprc: 0.7571\n",
            "Epoch 36/200\n",
            "79/79 - 15s - loss: 0.2845 - auroc: 0.9516 - auprc: 0.9425 - val_loss: 0.0967 - val_auroc: 0.9913 - val_auprc: 0.7519\n",
            "Epoch 37/200\n",
            "79/79 - 15s - loss: 0.2179 - auroc: 0.9684 - auprc: 0.9741 - val_loss: 0.0608 - val_auroc: 0.9901 - val_auprc: 0.7791\n",
            "Epoch 38/200\n",
            "79/79 - 15s - loss: 0.2252 - auroc: 0.9646 - auprc: 0.9725 - val_loss: 0.0814 - val_auroc: 0.9914 - val_auprc: 0.7543\n",
            "Epoch 39/200\n",
            "79/79 - 15s - loss: 0.2371 - auroc: 0.9623 - auprc: 0.9695 - val_loss: 0.0914 - val_auroc: 0.9915 - val_auprc: 0.7726\n",
            "Epoch 40/200\n",
            "79/79 - 15s - loss: 0.2200 - auroc: 0.9651 - auprc: 0.9730 - val_loss: 0.0880 - val_auroc: 0.9919 - val_auprc: 0.7772\n",
            "Epoch 41/200\n",
            "79/79 - 15s - loss: 0.2384 - auroc: 0.9599 - auprc: 0.9684 - val_loss: 0.1152 - val_auroc: 0.9915 - val_auprc: 0.7567\n",
            "Epoch 42/200\n",
            "79/79 - 15s - loss: 0.2145 - auroc: 0.9678 - auprc: 0.9748 - val_loss: 0.0860 - val_auroc: 0.9911 - val_auprc: 0.7835\n",
            "Epoch 43/200\n",
            "79/79 - 15s - loss: 0.2757 - auroc: 0.9496 - auprc: 0.9553 - val_loss: 0.1141 - val_auroc: 0.9904 - val_auprc: 0.7801\n",
            "Epoch 44/200\n",
            "79/79 - 15s - loss: 0.2306 - auroc: 0.9657 - auprc: 0.9707 - val_loss: 0.0970 - val_auroc: 0.9909 - val_auprc: 0.7762\n",
            "Epoch 45/200\n",
            "79/79 - 15s - loss: 0.2563 - auroc: 0.9567 - auprc: 0.9615 - val_loss: 0.0945 - val_auroc: 0.9901 - val_auprc: 0.7672\n",
            "Epoch 46/200\n",
            "79/79 - 15s - loss: 0.2646 - auroc: 0.9518 - auprc: 0.9609 - val_loss: 0.1175 - val_auroc: 0.9916 - val_auprc: 0.7457\n",
            "Epoch 47/200\n",
            "79/79 - 15s - loss: 0.2538 - auroc: 0.9569 - auprc: 0.9587 - val_loss: 0.1060 - val_auroc: 0.9915 - val_auprc: 0.6678\n",
            "Epoch 48/200\n",
            "79/79 - 15s - loss: 0.2537 - auroc: 0.9583 - auprc: 0.9513 - val_loss: 0.0973 - val_auroc: 0.9911 - val_auprc: 0.7566\n",
            "Epoch 49/200\n",
            "79/79 - 15s - loss: 0.2337 - auroc: 0.9657 - auprc: 0.9692 - val_loss: 0.0805 - val_auroc: 0.9912 - val_auprc: 0.7578\n",
            "Epoch 50/200\n",
            "79/79 - 15s - loss: 0.2284 - auroc: 0.9653 - auprc: 0.9698 - val_loss: 0.0771 - val_auroc: 0.9905 - val_auprc: 0.7571\n",
            "Epoch 51/200\n",
            "79/79 - 15s - loss: 0.2257 - auroc: 0.9658 - auprc: 0.9729 - val_loss: 0.0807 - val_auroc: 0.9895 - val_auprc: 0.7781\n",
            "Epoch 52/200\n",
            "79/79 - 15s - loss: 0.2281 - auroc: 0.9634 - auprc: 0.9722 - val_loss: 0.0842 - val_auroc: 0.9906 - val_auprc: 0.7670\n",
            "Epoch 53/200\n",
            "79/79 - 15s - loss: 0.2507 - auroc: 0.9591 - auprc: 0.9659 - val_loss: 0.0893 - val_auroc: 0.9911 - val_auprc: 0.7717\n",
            "Epoch 54/200\n",
            "79/79 - 15s - loss: 0.2174 - auroc: 0.9693 - auprc: 0.9744 - val_loss: 0.0957 - val_auroc: 0.9913 - val_auprc: 0.7570\n",
            "Epoch 55/200\n",
            "79/79 - 15s - loss: 0.2337 - auroc: 0.9655 - auprc: 0.9703 - val_loss: 0.0683 - val_auroc: 0.9916 - val_auprc: 0.7686\n",
            "Epoch 56/200\n",
            "79/79 - 15s - loss: 0.2391 - auroc: 0.9628 - auprc: 0.9644 - val_loss: 0.0941 - val_auroc: 0.9912 - val_auprc: 0.7506\n",
            "Epoch 57/200\n",
            "79/79 - 15s - loss: 0.2682 - auroc: 0.9519 - auprc: 0.9579 - val_loss: 0.1117 - val_auroc: 0.9909 - val_auprc: 0.7553\n",
            "Epoch 58/200\n",
            "79/79 - 15s - loss: 0.2161 - auroc: 0.9682 - auprc: 0.9731 - val_loss: 0.0858 - val_auroc: 0.9902 - val_auprc: 0.7524\n",
            "Epoch 59/200\n",
            "79/79 - 15s - loss: 0.2230 - auroc: 0.9655 - auprc: 0.9722 - val_loss: 0.1042 - val_auroc: 0.9896 - val_auprc: 0.7766\n",
            "Epoch 60/200\n",
            "79/79 - 15s - loss: 0.2494 - auroc: 0.9601 - auprc: 0.9619 - val_loss: 0.1046 - val_auroc: 0.9906 - val_auprc: 0.7540\n",
            "Epoch 61/200\n",
            "79/79 - 15s - loss: 0.2356 - auroc: 0.9606 - auprc: 0.9651 - val_loss: 0.1241 - val_auroc: 0.9909 - val_auprc: 0.7488\n",
            "Epoch 62/200\n",
            "79/79 - 15s - loss: 0.2190 - auroc: 0.9673 - auprc: 0.9741 - val_loss: 0.0620 - val_auroc: 0.9902 - val_auprc: 0.7850\n",
            "Epoch 63/200\n",
            "79/79 - 15s - loss: 0.2358 - auroc: 0.9606 - auprc: 0.9703 - val_loss: 0.1151 - val_auroc: 0.9904 - val_auprc: 0.7736\n",
            "Epoch 64/200\n",
            "79/79 - 15s - loss: 0.2440 - auroc: 0.9617 - auprc: 0.9624 - val_loss: 0.1169 - val_auroc: 0.9914 - val_auprc: 0.7608\n",
            "Epoch 65/200\n",
            "79/79 - 15s - loss: 0.2258 - auroc: 0.9655 - auprc: 0.9668 - val_loss: 0.0876 - val_auroc: 0.9911 - val_auprc: 0.7650\n",
            "Epoch 66/200\n",
            "79/79 - 15s - loss: 0.2213 - auroc: 0.9671 - auprc: 0.9723 - val_loss: 0.1033 - val_auroc: 0.9909 - val_auprc: 0.7736\n",
            "Epoch 67/200\n",
            "79/79 - 15s - loss: 0.2235 - auroc: 0.9662 - auprc: 0.9693 - val_loss: 0.0761 - val_auroc: 0.9903 - val_auprc: 0.7632\n",
            "Epoch 68/200\n",
            "79/79 - 15s - loss: 0.2243 - auroc: 0.9655 - auprc: 0.9727 - val_loss: 0.0881 - val_auroc: 0.9904 - val_auprc: 0.7573\n",
            "Epoch 69/200\n",
            "79/79 - 15s - loss: 0.2260 - auroc: 0.9653 - auprc: 0.9705 - val_loss: 0.1143 - val_auroc: 0.9910 - val_auprc: 0.5842\n",
            "Epoch 70/200\n",
            "79/79 - 15s - loss: 0.2290 - auroc: 0.9653 - auprc: 0.9725 - val_loss: 0.0883 - val_auroc: 0.9907 - val_auprc: 0.7433\n",
            "Epoch 71/200\n",
            "79/79 - 15s - loss: 0.2227 - auroc: 0.9651 - auprc: 0.9732 - val_loss: 0.0805 - val_auroc: 0.9906 - val_auprc: 0.7819\n",
            "Epoch 72/200\n",
            "79/79 - 15s - loss: 0.2082 - auroc: 0.9699 - auprc: 0.9768 - val_loss: 0.0763 - val_auroc: 0.9908 - val_auprc: 0.7820\n",
            "Epoch 73/200\n",
            "79/79 - 15s - loss: 0.2193 - auroc: 0.9685 - auprc: 0.9698 - val_loss: 0.0909 - val_auroc: 0.9908 - val_auprc: 0.7863\n",
            "Epoch 74/200\n",
            "79/79 - 15s - loss: 0.2178 - auroc: 0.9656 - auprc: 0.9743 - val_loss: 0.0918 - val_auroc: 0.9906 - val_auprc: 0.7890\n",
            "Epoch 75/200\n",
            "79/79 - 15s - loss: 0.2218 - auroc: 0.9673 - auprc: 0.9686 - val_loss: 0.1039 - val_auroc: 0.9917 - val_auprc: 0.7679\n",
            "Epoch 76/200\n",
            "79/79 - 15s - loss: 0.1804 - auroc: 0.9770 - auprc: 0.9816 - val_loss: 0.0835 - val_auroc: 0.9913 - val_auprc: 0.7955\n",
            "Epoch 77/200\n",
            "79/79 - 15s - loss: 0.2788 - auroc: 0.9473 - auprc: 0.9539 - val_loss: 0.1010 - val_auroc: 0.9909 - val_auprc: 0.7886\n",
            "Epoch 78/200\n",
            "79/79 - 15s - loss: 0.2083 - auroc: 0.9696 - auprc: 0.9759 - val_loss: 0.1376 - val_auroc: 0.9911 - val_auprc: 0.7522\n",
            "Epoch 79/200\n",
            "79/79 - 15s - loss: 0.2320 - auroc: 0.9651 - auprc: 0.9678 - val_loss: 0.0968 - val_auroc: 0.9915 - val_auprc: 0.7805\n",
            "Epoch 80/200\n",
            "79/79 - 15s - loss: 0.2294 - auroc: 0.9625 - auprc: 0.9717 - val_loss: 0.0930 - val_auroc: 0.9915 - val_auprc: 0.7496\n",
            "Epoch 81/200\n",
            "79/79 - 15s - loss: 0.2021 - auroc: 0.9733 - auprc: 0.9781 - val_loss: 0.0859 - val_auroc: 0.9905 - val_auprc: 0.7769\n",
            "Epoch 82/200\n",
            "79/79 - 15s - loss: 0.2232 - auroc: 0.9687 - auprc: 0.9718 - val_loss: 0.1013 - val_auroc: 0.9902 - val_auprc: 0.7675\n",
            "Epoch 83/200\n",
            "79/79 - 15s - loss: 0.2101 - auroc: 0.9706 - auprc: 0.9708 - val_loss: 0.0976 - val_auroc: 0.9908 - val_auprc: 0.7805\n",
            "Epoch 84/200\n",
            "79/79 - 15s - loss: 0.2331 - auroc: 0.9647 - auprc: 0.9690 - val_loss: 0.1148 - val_auroc: 0.9919 - val_auprc: 0.7630\n",
            "Epoch 85/200\n",
            "79/79 - 15s - loss: 0.2536 - auroc: 0.9572 - auprc: 0.9674 - val_loss: 0.0808 - val_auroc: 0.9913 - val_auprc: 0.7458\n",
            "Epoch 86/200\n",
            "79/79 - 15s - loss: 0.2170 - auroc: 0.9685 - auprc: 0.9742 - val_loss: 0.0821 - val_auroc: 0.9900 - val_auprc: 0.7724\n",
            "Epoch 87/200\n",
            "79/79 - 15s - loss: 0.2157 - auroc: 0.9710 - auprc: 0.9744 - val_loss: 0.1019 - val_auroc: 0.9906 - val_auprc: 0.7558\n",
            "Epoch 88/200\n",
            "79/79 - 15s - loss: 0.2200 - auroc: 0.9669 - auprc: 0.9738 - val_loss: 0.0874 - val_auroc: 0.9909 - val_auprc: 0.7815\n",
            "Epoch 89/200\n",
            "79/79 - 15s - loss: 0.2108 - auroc: 0.9676 - auprc: 0.9758 - val_loss: 0.0746 - val_auroc: 0.9921 - val_auprc: 0.7745\n",
            "Epoch 90/200\n",
            "79/79 - 15s - loss: 0.2103 - auroc: 0.9685 - auprc: 0.9756 - val_loss: 0.0927 - val_auroc: 0.9919 - val_auprc: 0.7748\n",
            "Epoch 91/200\n",
            "79/79 - 15s - loss: 0.2000 - auroc: 0.9746 - auprc: 0.9744 - val_loss: 0.0860 - val_auroc: 0.9914 - val_auprc: 0.7842\n",
            "Epoch 92/200\n",
            "79/79 - 15s - loss: 0.2093 - auroc: 0.9693 - auprc: 0.9762 - val_loss: 0.1010 - val_auroc: 0.9925 - val_auprc: 0.7434\n",
            "Epoch 93/200\n",
            "79/79 - 15s - loss: 0.2143 - auroc: 0.9674 - auprc: 0.9754 - val_loss: 0.1089 - val_auroc: 0.9920 - val_auprc: 0.7483\n",
            "Epoch 94/200\n",
            "79/79 - 15s - loss: 0.2021 - auroc: 0.9687 - auprc: 0.9724 - val_loss: 0.1131 - val_auroc: 0.9914 - val_auprc: 0.7605\n",
            "Epoch 95/200\n",
            "79/79 - 15s - loss: 0.1885 - auroc: 0.9765 - auprc: 0.9806 - val_loss: 0.0903 - val_auroc: 0.9924 - val_auprc: 0.7269\n",
            "Epoch 96/200\n",
            "79/79 - 15s - loss: 0.2093 - auroc: 0.9670 - auprc: 0.9728 - val_loss: 0.0921 - val_auroc: 0.9921 - val_auprc: 0.7176\n",
            "Epoch 97/200\n",
            "79/79 - 15s - loss: 0.2150 - auroc: 0.9669 - auprc: 0.9734 - val_loss: 0.1019 - val_auroc: 0.9919 - val_auprc: 0.7463\n",
            "Epoch 98/200\n",
            "79/79 - 15s - loss: 0.2129 - auroc: 0.9703 - auprc: 0.9714 - val_loss: 0.0950 - val_auroc: 0.9913 - val_auprc: 0.7590\n",
            "Epoch 99/200\n",
            "79/79 - 15s - loss: 0.1801 - auroc: 0.9788 - auprc: 0.9813 - val_loss: 0.0912 - val_auroc: 0.9916 - val_auprc: 0.8022\n",
            "Epoch 100/200\n",
            "79/79 - 15s - loss: 0.2041 - auroc: 0.9722 - auprc: 0.9780 - val_loss: 0.0799 - val_auroc: 0.9917 - val_auprc: 0.7897\n",
            "Epoch 101/200\n",
            "79/79 - 15s - loss: 0.1875 - auroc: 0.9750 - auprc: 0.9775 - val_loss: 0.0930 - val_auroc: 0.9907 - val_auprc: 0.7905\n",
            "Epoch 102/200\n",
            "79/79 - 15s - loss: 0.2229 - auroc: 0.9621 - auprc: 0.9724 - val_loss: 0.1402 - val_auroc: 0.9906 - val_auprc: 0.7767\n",
            "Epoch 103/200\n",
            "79/79 - 15s - loss: 0.1880 - auroc: 0.9773 - auprc: 0.9812 - val_loss: 0.0925 - val_auroc: 0.9920 - val_auprc: 0.7683\n",
            "Epoch 104/200\n",
            "79/79 - 15s - loss: 0.2041 - auroc: 0.9714 - auprc: 0.9739 - val_loss: 0.0922 - val_auroc: 0.9922 - val_auprc: 0.7582\n",
            "Epoch 105/200\n",
            "79/79 - 15s - loss: 0.2466 - auroc: 0.9562 - auprc: 0.9678 - val_loss: 0.0992 - val_auroc: 0.9919 - val_auprc: 0.7542\n",
            "Epoch 106/200\n",
            "79/79 - 15s - loss: 0.2419 - auroc: 0.9608 - auprc: 0.9561 - val_loss: 0.1213 - val_auroc: 0.9923 - val_auprc: 0.7533\n",
            "Epoch 107/200\n",
            "79/79 - 15s - loss: 0.1993 - auroc: 0.9717 - auprc: 0.9779 - val_loss: 0.1219 - val_auroc: 0.9921 - val_auprc: 0.7389\n",
            "Epoch 108/200\n",
            "79/79 - 15s - loss: 0.1921 - auroc: 0.9727 - auprc: 0.9800 - val_loss: 0.0990 - val_auroc: 0.9930 - val_auprc: 0.7571\n",
            "Epoch 109/200\n",
            "79/79 - 15s - loss: 0.1993 - auroc: 0.9704 - auprc: 0.9781 - val_loss: 0.0961 - val_auroc: 0.9929 - val_auprc: 0.7482\n",
            "Epoch 110/200\n",
            "79/79 - 15s - loss: 0.1914 - auroc: 0.9733 - auprc: 0.9752 - val_loss: 0.1228 - val_auroc: 0.9926 - val_auprc: 0.7705\n",
            "Epoch 111/200\n",
            "79/79 - 15s - loss: 0.1931 - auroc: 0.9755 - auprc: 0.9794 - val_loss: 0.0638 - val_auroc: 0.9923 - val_auprc: 0.7737\n",
            "Epoch 112/200\n",
            "79/79 - 15s - loss: 0.2430 - auroc: 0.9626 - auprc: 0.9653 - val_loss: 0.0851 - val_auroc: 0.9922 - val_auprc: 0.7728\n",
            "Epoch 113/200\n",
            "79/79 - 15s - loss: 0.2002 - auroc: 0.9694 - auprc: 0.9778 - val_loss: 0.0864 - val_auroc: 0.9923 - val_auprc: 0.7889\n",
            "Epoch 114/200\n",
            "79/79 - 15s - loss: 0.1977 - auroc: 0.9726 - auprc: 0.9771 - val_loss: 0.1003 - val_auroc: 0.9912 - val_auprc: 0.7868\n",
            "Epoch 115/200\n",
            "79/79 - 15s - loss: 0.1798 - auroc: 0.9749 - auprc: 0.9815 - val_loss: 0.1140 - val_auroc: 0.9916 - val_auprc: 0.7196\n",
            "Epoch 116/200\n",
            "79/79 - 15s - loss: 0.1995 - auroc: 0.9735 - auprc: 0.9771 - val_loss: 0.0906 - val_auroc: 0.9908 - val_auprc: 0.7219\n",
            "Epoch 117/200\n",
            "79/79 - 15s - loss: 0.2118 - auroc: 0.9698 - auprc: 0.9719 - val_loss: 0.0896 - val_auroc: 0.9907 - val_auprc: 0.7122\n",
            "Epoch 118/200\n",
            "79/79 - 15s - loss: 0.2074 - auroc: 0.9718 - auprc: 0.9729 - val_loss: 0.0809 - val_auroc: 0.9912 - val_auprc: 0.7428\n",
            "Epoch 119/200\n",
            "79/79 - 15s - loss: 0.2279 - auroc: 0.9676 - auprc: 0.9692 - val_loss: 0.1040 - val_auroc: 0.9916 - val_auprc: 0.6892\n",
            "Epoch 120/200\n",
            "79/79 - 15s - loss: 0.1621 - auroc: 0.9842 - auprc: 0.9859 - val_loss: 0.0778 - val_auroc: 0.9918 - val_auprc: 0.7033\n",
            "Epoch 121/200\n",
            "79/79 - 15s - loss: 0.2101 - auroc: 0.9692 - auprc: 0.9688 - val_loss: 0.0945 - val_auroc: 0.9925 - val_auprc: 0.7165\n",
            "Epoch 122/200\n",
            "79/79 - 15s - loss: 0.1722 - auroc: 0.9823 - auprc: 0.9843 - val_loss: 0.0805 - val_auroc: 0.9923 - val_auprc: 0.7058\n",
            "Epoch 123/200\n",
            "79/79 - 15s - loss: 0.2029 - auroc: 0.9698 - auprc: 0.9768 - val_loss: 0.0914 - val_auroc: 0.9926 - val_auprc: 0.7145\n",
            "Epoch 124/200\n",
            "79/79 - 15s - loss: 0.1965 - auroc: 0.9754 - auprc: 0.9784 - val_loss: 0.1070 - val_auroc: 0.9931 - val_auprc: 0.7167\n",
            "Epoch 125/200\n",
            "79/79 - 15s - loss: 0.2423 - auroc: 0.9618 - auprc: 0.9600 - val_loss: 0.0799 - val_auroc: 0.9930 - val_auprc: 0.7198\n",
            "Epoch 126/200\n",
            "79/79 - 15s - loss: 0.2059 - auroc: 0.9706 - auprc: 0.9762 - val_loss: 0.1032 - val_auroc: 0.9934 - val_auprc: 0.7049\n",
            "Epoch 127/200\n",
            "79/79 - 15s - loss: 0.2304 - auroc: 0.9667 - auprc: 0.9720 - val_loss: 0.1183 - val_auroc: 0.9932 - val_auprc: 0.7152\n",
            "Epoch 128/200\n",
            "79/79 - 15s - loss: 0.1686 - auroc: 0.9810 - auprc: 0.9838 - val_loss: 0.0880 - val_auroc: 0.9923 - val_auprc: 0.6964\n",
            "Epoch 129/200\n",
            "79/79 - 15s - loss: 0.1902 - auroc: 0.9742 - auprc: 0.9798 - val_loss: 0.0946 - val_auroc: 0.9931 - val_auprc: 0.7214\n",
            "Epoch 00129: early stopping\n"
          ],
          "name": "stdout"
        }
      ]
    },
    {
      "cell_type": "code",
      "metadata": {
        "id": "6dQH-LjBDVAd",
        "colab_type": "code",
        "colab": {
          "base_uri": "https://localhost:8080/",
          "height": 51
        },
        "outputId": "5f178773-c36c-4805-ac53-64007c2e2c1b"
      },
      "source": [
        "model.load_weights(checkpoint_filepath)\n",
        "model.evaluate(x_test, y_test)"
      ],
      "execution_count": 55,
      "outputs": [
        {
          "output_type": "stream",
          "text": [
            "1781/1781 [==============================] - 5s 3ms/step - loss: 0.0925 - auroc: 0.9689 - auprc: 0.7342\n"
          ],
          "name": "stdout"
        },
        {
          "output_type": "execute_result",
          "data": {
            "text/plain": [
              "[0.09253675490617752, 0.9689362049102783, 0.7342178225517273]"
            ]
          },
          "metadata": {
            "tags": []
          },
          "execution_count": 55
        }
      ]
    },
    {
      "cell_type": "code",
      "metadata": {
        "id": "VsV8lzN6DZTq",
        "colab_type": "code",
        "colab": {
          "base_uri": "https://localhost:8080/",
          "height": 738
        },
        "outputId": "64bda057-bb1e-4c95-bda1-5930e14e4901"
      },
      "source": [
        "import matplotlib.pyplot as plt\n",
        "import seaborn as sns\n",
        "\n",
        "history = history.history\n",
        "\n",
        "fig, (ax1, ax2) = plt.subplots(2, 1, sharex='col', figsize=(20, 14))\n",
        "\n",
        "ax1.plot(history['loss'], label='Train loss')\n",
        "ax1.plot(history['val_loss'], label='Validation loss')\n",
        "ax1.legend(loc='best')\n",
        "ax1.set_title('Loss')\n",
        "\n",
        "ax2.plot(history['auprc'], label='Train accuracy')\n",
        "ax2.plot(history['val_auprc'], label='Validation accuracy')\n",
        "ax2.legend(loc='best')\n",
        "ax2.set_title('AUPRC')\n",
        "\n",
        "plt.xlabel('Epochs')\n",
        "sns.despine()\n",
        "plt.show()"
      ],
      "execution_count": 56,
      "outputs": [
        {
          "output_type": "display_data",
          "data": {
            "image/png": "[encoded data removed]",
            "text/plain": [
              "<Figure size 1440x1008 with 2 Axes>"
            ]
          },
          "metadata": {
            "tags": [],
            "needs_background": "light"
          }
        }
      ]
    },
    {
      "cell_type": "code",
      "metadata": {
        "id": "7WuUFE1zDhMa",
        "colab_type": "code",
        "colab": {
          "base_uri": "https://localhost:8080/",
          "height": 34
        },
        "outputId": "842bbb75-aa8e-4e19-ab66-20b4c161696e"
      },
      "source": [
        "y_pred = model.predict(x_test)\n",
        "auprc = tf.keras.metrics.AUC(curve='PR')\n",
        "auprc.update_state(y_test, y_pred)\n",
        "TF_Model_AUPRC = auprc.result().numpy()\n",
        "TF_Model_AUPRC"
      ],
      "execution_count": 57,
      "outputs": [
        {
          "output_type": "execute_result",
          "data": {
            "text/plain": [
              "0.7342178"
            ]
          },
          "metadata": {
            "tags": []
          },
          "execution_count": 57
        }
      ]
    },
    {
      "cell_type": "code",
      "metadata": {
        "id": "TDxmzv_mDn_s",
        "colab_type": "code",
        "colab": {
          "base_uri": "https://localhost:8080/",
          "height": 85
        },
        "outputId": "5841ff8e-a707-4fdb-bbbf-762655d51961"
      },
      "source": [
        "TF_Model_metrics = compute_metrics(y_test, y_pred)\n",
        "print_metrics(TF_Model_metrics)"
      ],
      "execution_count": 58,
      "outputs": [
        {
          "output_type": "stream",
          "text": [
            "Fraudulent Transactions Detected (True Positives): 90\n",
            "Fraudulent Transactions Missed (False Negatives): 8\n",
            "Legitimate Transactions Incorrectly Detected (False Positives): 1241\n",
            "Legitimate Transactions Detected (True Negatives): 55623\n"
          ],
          "name": "stdout"
        }
      ]
    },
    {
      "cell_type": "code",
      "metadata": {
        "id": "PFy_iMruDuZW",
        "colab_type": "code",
        "colab": {
          "base_uri": "https://localhost:8080/",
          "height": 68
        },
        "outputId": "999aaabe-9a8d-44d5-82dc-fbcde1d5102c"
      },
      "source": [
        "print('RF_AUPRC: ' + str(RF_AUPRC))\n",
        "print('XGB_AUPRC: ' + str(XGB_AUPRC))\n",
        "print('TF_Model_AUPRC: ' + str(TF_Model_AUPRC))"
      ],
      "execution_count": 59,
      "outputs": [
        {
          "output_type": "stream",
          "text": [
            "RF_AUPRC: 0.047769353\n",
            "XGB_AUPRC: 0.04445454\n",
            "TF_Model_AUPRC: 0.7342178\n"
          ],
          "name": "stdout"
        }
      ]
    },
    {
      "cell_type": "code",
      "metadata": {
        "id": "kpJbb5xLD8NR",
        "colab_type": "code",
        "colab": {
          "base_uri": "https://localhost:8080/",
          "height": 272
        },
        "outputId": "344382ac-6792-4f32-cbfa-7fad7ba1cc85"
      },
      "source": [
        "print('Random Forest ********************')\n",
        "print_metrics(RF_metrics)\n",
        "print('XGBoost **************************')\n",
        "print_metrics(XGB_metrics)\n",
        "print('TensorFlow DNN Model1 ************')\n",
        "print_metrics(TF_Model_metrics)"
      ],
      "execution_count": 60,
      "outputs": [
        {
          "output_type": "stream",
          "text": [
            "Random Forest ********************\n",
            "Fraudulent Transactions Detected (True Positives): 87\n",
            "Fraudulent Transactions Missed (False Negatives): 11\n",
            "Legitimate Transactions Incorrectly Detected (False Positives): 1552\n",
            "Legitimate Transactions Detected (True Negatives): 55312\n",
            "XGBoost **************************\n",
            "Fraudulent Transactions Detected (True Positives): 88\n",
            "Fraudulent Transactions Missed (False Negatives): 10\n",
            "Legitimate Transactions Incorrectly Detected (False Positives): 1713\n",
            "Legitimate Transactions Detected (True Negatives): 55151\n",
            "TensorFlow DNN Model1 ************\n",
            "Fraudulent Transactions Detected (True Positives): 90\n",
            "Fraudulent Transactions Missed (False Negatives): 8\n",
            "Legitimate Transactions Incorrectly Detected (False Positives): 1241\n",
            "Legitimate Transactions Detected (True Negatives): 55623\n"
          ],
          "name": "stdout"
        }
      ]
    },
    {
      "cell_type": "code",
      "metadata": {
        "id": "pLr8pMHLEBkc",
        "colab_type": "code",
        "colab": {}
      },
      "source": [
        "tp_df['Model'] = models\n",
        "results = [RF_metrics[0], XGB_metrics[0], TF_Model_metrics[0]]\n",
        "tp_df['Undersampling (Random)'] = results\n",
        "fn_df['Model'] = models\n",
        "results = [RF_metrics[1], XGB_metrics[1], TF_Model_metrics[1]]\n",
        "fn_df['Undersampling (Random)'] = results\n",
        "fp_df['Model'] = models\n",
        "results = [RF_metrics[2], XGB_metrics[2], TF_Model_metrics[2]]\n",
        "fp_df['Undersampling (Random)'] = results\n",
        "tn_df['Model'] = models\n",
        "results = [RF_metrics[3], XGB_metrics[3], TF_Model_metrics[3]]\n",
        "tn_df['Undersampling (Random)'] = results"
      ],
      "execution_count": 61,
      "outputs": []
    },
    {
      "cell_type": "code",
      "metadata": {
        "id": "2yuOXgCnEBvG",
        "colab_type": "code",
        "colab": {}
      },
      "source": [
        "results = [RF_AUPRC, XGB_AUPRC, TF_Model_AUPRC]\n",
        "auprc_df['Undersampling (Random)'] = results"
      ],
      "execution_count": 62,
      "outputs": []
    },
    {
      "cell_type": "markdown",
      "metadata": {
        "id": "AY2nwevjD9OI",
        "colab_type": "text"
      },
      "source": [
        "# Undersampling (NearMiss)"
      ]
    },
    {
      "cell_type": "code",
      "metadata": {
        "id": "ED8Gmhpo79yw",
        "colab_type": "code",
        "colab": {
          "base_uri": "https://localhost:8080/",
          "height": 51
        },
        "outputId": "693fc29f-7e0b-48be-9954-89b78168e9bc"
      },
      "source": [
        "y_train = train_df['Class'].values\n",
        "x_train = train_df.drop(['Class'], axis='columns')\n",
        "x_train = x_train.values\n",
        "\n",
        "from numpy import bincount\n",
        "neg, pos = bincount(y_train)\n",
        "print('Original balance: ' + str(neg) + ' non-fraud, ' + str(pos) + ' fraud')\n",
        "\n",
        "from imblearn.under_sampling import NearMiss\n",
        "nm1 = NearMiss(version=1)\n",
        "x_train, y_train = nm1.fit_resample(x_train, y_train)\n",
        "\n",
        "neg, pos = bincount(y_train)\n",
        "print('New balance: ' + str(neg) + ' non-fraud, ' + str(pos) + ' fraud')"
      ],
      "execution_count": 63,
      "outputs": [
        {
          "output_type": "stream",
          "text": [
            "Original balance: 181961 non-fraud, 315 fraud\n",
            "New balance: 315 non-fraud, 315 fraud\n"
          ],
          "name": "stdout"
        }
      ]
    },
    {
      "cell_type": "code",
      "metadata": {
        "id": "8cBHCvWqEKIF",
        "colab_type": "code",
        "colab": {}
      },
      "source": [
        "# fraud_df = train_df.loc[df['Class'] == 1]\n",
        "# non_fraud_df = train_df.loc[df['Class'] == 0][:len(fraud_df)]\n",
        "\n",
        "# balanced_df = pd.concat([fraud_df, non_fraud_df])\n",
        "\n",
        "# # Shuffle\n",
        "# balanced_df = balanced_df.sample(frac=1, random_state=seed).reset_index(drop=True)\n",
        "\n",
        "# balanced_df.head()"
      ],
      "execution_count": 64,
      "outputs": []
    },
    {
      "cell_type": "code",
      "metadata": {
        "id": "QHfN06l5bitC",
        "colab_type": "code",
        "colab": {}
      },
      "source": [
        "# y_train = balanced_df['Class'].values\n",
        "# x_train = balanced_df.drop(['Class'], axis='columns')\n",
        "# x_train = x_train.values"
      ],
      "execution_count": 65,
      "outputs": []
    },
    {
      "cell_type": "code",
      "metadata": {
        "id": "oJqgVritb5zU",
        "colab_type": "code",
        "colab": {
          "base_uri": "https://localhost:8080/",
          "height": 153
        },
        "outputId": "28f4aa20-924a-49bb-eea4-a821359ec362"
      },
      "source": [
        "classifier = RandomForestClassifier(n_estimators=100, n_jobs=-1, random_state=seed)\n",
        "classifier.fit(x_train, y_train)"
      ],
      "execution_count": 66,
      "outputs": [
        {
          "output_type": "execute_result",
          "data": {
            "text/plain": [
              "RandomForestClassifier(bootstrap=True, ccp_alpha=0.0, class_weight=None,\n",
              "                       criterion='gini', max_depth=None, max_features='auto',\n",
              "                       max_leaf_nodes=None, max_samples=None,\n",
              "                       min_impurity_decrease=0.0, min_impurity_split=None,\n",
              "                       min_samples_leaf=1, min_samples_split=2,\n",
              "                       min_weight_fraction_leaf=0.0, n_estimators=100,\n",
              "                       n_jobs=-1, oob_score=False, random_state=51, verbose=0,\n",
              "                       warm_start=False)"
            ]
          },
          "metadata": {
            "tags": []
          },
          "execution_count": 66
        }
      ]
    },
    {
      "cell_type": "code",
      "metadata": {
        "id": "gfw-jhPnb9jy",
        "colab_type": "code",
        "colab": {
          "base_uri": "https://localhost:8080/",
          "height": 34
        },
        "outputId": "1090838a-248c-42f0-ed57-959aa770ab18"
      },
      "source": [
        "y_pred = classifier.predict(x_test)\n",
        "auprc = tf.keras.metrics.AUC(curve='PR')\n",
        "auprc.update_state(y_test, y_pred)\n",
        "RF_AUPRC = auprc.result().numpy()\n",
        "RF_AUPRC"
      ],
      "execution_count": 67,
      "outputs": [
        {
          "output_type": "execute_result",
          "data": {
            "text/plain": [
              "0.0021636141"
            ]
          },
          "metadata": {
            "tags": []
          },
          "execution_count": 67
        }
      ]
    },
    {
      "cell_type": "code",
      "metadata": {
        "id": "Dw4n6GnFcUUs",
        "colab_type": "code",
        "colab": {
          "base_uri": "https://localhost:8080/",
          "height": 85
        },
        "outputId": "848bd3ba-84fd-42df-fc45-3b07ccadcf09"
      },
      "source": [
        "RF_metrics = compute_metrics(y_test, y_pred)\n",
        "print_metrics(RF_metrics)"
      ],
      "execution_count": 68,
      "outputs": [
        {
          "output_type": "stream",
          "text": [
            "Fraudulent Transactions Detected (True Positives): 94\n",
            "Fraudulent Transactions Missed (False Negatives): 4\n",
            "Legitimate Transactions Incorrectly Detected (False Positives): 43150\n",
            "Legitimate Transactions Detected (True Negatives): 13714\n"
          ],
          "name": "stdout"
        }
      ]
    },
    {
      "cell_type": "code",
      "metadata": {
        "id": "L7D_oCmW1Z4w",
        "colab_type": "code",
        "colab": {
          "base_uri": "https://localhost:8080/",
          "height": 136
        },
        "outputId": "789964f8-b16f-48bb-e688-9d68058cfa5a"
      },
      "source": [
        "xgbc = XGBClassifier(objective='binary:logistic', seed=seed)\n",
        "xgbc.fit(x_train, y_train)"
      ],
      "execution_count": 69,
      "outputs": [
        {
          "output_type": "execute_result",
          "data": {
            "text/plain": [
              "XGBClassifier(base_score=0.5, booster='gbtree', colsample_bylevel=1,\n",
              "              colsample_bynode=1, colsample_bytree=1, gamma=0,\n",
              "              learning_rate=0.1, max_delta_step=0, max_depth=3,\n",
              "              min_child_weight=1, missing=None, n_estimators=100, n_jobs=1,\n",
              "              nthread=None, objective='binary:logistic', random_state=0,\n",
              "              reg_alpha=0, reg_lambda=1, scale_pos_weight=1, seed=51,\n",
              "              silent=None, subsample=1, verbosity=1)"
            ]
          },
          "metadata": {
            "tags": []
          },
          "execution_count": 69
        }
      ]
    },
    {
      "cell_type": "code",
      "metadata": {
        "id": "GUGhxaXA13iS",
        "colab_type": "code",
        "colab": {
          "base_uri": "https://localhost:8080/",
          "height": 34
        },
        "outputId": "959b9f25-f0cc-4a02-959f-2853c81d47ab"
      },
      "source": [
        "y_pred = xgbc.predict(x_test)\n",
        "auprc = tf.keras.metrics.AUC(curve='PR')\n",
        "auprc.update_state(y_test, y_pred)\n",
        "XGB_AUPRC = auprc.result().numpy()\n",
        "XGB_AUPRC"
      ],
      "execution_count": 70,
      "outputs": [
        {
          "output_type": "execute_result",
          "data": {
            "text/plain": [
              "0.0025975434"
            ]
          },
          "metadata": {
            "tags": []
          },
          "execution_count": 70
        }
      ]
    },
    {
      "cell_type": "code",
      "metadata": {
        "id": "qN8dpvU414MS",
        "colab_type": "code",
        "colab": {
          "base_uri": "https://localhost:8080/",
          "height": 85
        },
        "outputId": "55bea45c-04c8-424e-c796-ee42487d445e"
      },
      "source": [
        "XGB_metrics = compute_metrics(y_test, y_pred)\n",
        "print_metrics(XGB_metrics)"
      ],
      "execution_count": 71,
      "outputs": [
        {
          "output_type": "stream",
          "text": [
            "Fraudulent Transactions Detected (True Positives): 94\n",
            "Fraudulent Transactions Missed (False Negatives): 4\n",
            "Legitimate Transactions Incorrectly Detected (False Positives): 35802\n",
            "Legitimate Transactions Detected (True Negatives): 21062\n"
          ],
          "name": "stdout"
        }
      ]
    },
    {
      "cell_type": "code",
      "metadata": {
        "id": "3RNbt26P2YgN",
        "colab_type": "code",
        "colab": {
          "base_uri": "https://localhost:8080/",
          "height": 629
        },
        "outputId": "406f9cec-3d3a-4e61-fb78-d8b13a18d072"
      },
      "source": [
        "model = create_model()"
      ],
      "execution_count": 72,
      "outputs": [
        {
          "output_type": "stream",
          "text": [
            "Model: \"functional_1\"\n",
            "_________________________________________________________________\n",
            "Layer (type)                 Output Shape              Param #   \n",
            "=================================================================\n",
            "input1 (InputLayer)          [(None, 30)]              0         \n",
            "_________________________________________________________________\n",
            "dense (Dense)                (None, 96)                2976      \n",
            "_________________________________________________________________\n",
            "batch_normalization (BatchNo (None, 96)                384       \n",
            "_________________________________________________________________\n",
            "elu (ELU)                    (None, 96)                0         \n",
            "_________________________________________________________________\n",
            "dropout (Dropout)            (None, 96)                0         \n",
            "_________________________________________________________________\n",
            "dense_1 (Dense)              (None, 96)                9312      \n",
            "_________________________________________________________________\n",
            "batch_normalization_1 (Batch (None, 96)                384       \n",
            "_________________________________________________________________\n",
            "elu_1 (ELU)                  (None, 96)                0         \n",
            "_________________________________________________________________\n",
            "dropout_1 (Dropout)          (None, 96)                0         \n",
            "_________________________________________________________________\n",
            "dense_2 (Dense)              (None, 96)                9312      \n",
            "_________________________________________________________________\n",
            "batch_normalization_2 (Batch (None, 96)                384       \n",
            "_________________________________________________________________\n",
            "elu_2 (ELU)                  (None, 96)                0         \n",
            "_________________________________________________________________\n",
            "dropout_2 (Dropout)          (None, 96)                0         \n",
            "_________________________________________________________________\n",
            "out (Dense)                  (None, 1)                 97        \n",
            "=================================================================\n",
            "Total params: 22,849\n",
            "Trainable params: 22,273\n",
            "Non-trainable params: 576\n",
            "_________________________________________________________________\n"
          ],
          "name": "stdout"
        }
      ]
    },
    {
      "cell_type": "code",
      "metadata": {
        "id": "yovLE0lw2het",
        "colab_type": "code",
        "colab": {
          "base_uri": "https://localhost:8080/",
          "height": 1000
        },
        "outputId": "cd957675-891d-4d90-8c60-4e3ce03585ce"
      },
      "source": [
        "checkpoint_filepath = 'model.h5'\n",
        "mc = ModelCheckpoint(checkpoint_filepath, verbose=0, save_weights_only=True, \n",
        "                     monitor='val_auprc', mode='max', save_best_only=True)\n",
        "\n",
        "es = EarlyStopping(monitor='val_auprc', patience=30, verbose=1, mode='max')\n",
        "history = model.fit(x_train, y_train, epochs=200, verbose=2, callbacks=[es, mc], \n",
        "                    validation_data=(x_val, y_val), batch_size=8)"
      ],
      "execution_count": 73,
      "outputs": [
        {
          "output_type": "stream",
          "text": [
            "Epoch 1/200\n",
            "79/79 - 15s - loss: 0.4004 - auroc: 0.8988 - auprc: 0.9152 - val_loss: 0.2413 - val_auroc: 0.9843 - val_auprc: 0.2116\n",
            "Epoch 2/200\n",
            "79/79 - 15s - loss: 0.3426 - auroc: 0.9204 - auprc: 0.9409 - val_loss: 0.1739 - val_auroc: 0.9809 - val_auprc: 0.1512\n",
            "Epoch 3/200\n",
            "79/79 - 15s - loss: 0.3174 - auroc: 0.9317 - auprc: 0.9498 - val_loss: 0.1408 - val_auroc: 0.9784 - val_auprc: 0.2143\n",
            "Epoch 4/200\n",
            "79/79 - 15s - loss: 0.3028 - auroc: 0.9341 - auprc: 0.9540 - val_loss: 0.1999 - val_auroc: 0.9760 - val_auprc: 0.0848\n",
            "Epoch 5/200\n",
            "79/79 - 16s - loss: 0.2616 - auroc: 0.9486 - auprc: 0.9629 - val_loss: 0.1547 - val_auroc: 0.9775 - val_auprc: 0.1387\n",
            "Epoch 6/200\n",
            "79/79 - 15s - loss: 0.2752 - auroc: 0.9465 - auprc: 0.9586 - val_loss: 0.3220 - val_auroc: 0.9627 - val_auprc: 0.0651\n",
            "Epoch 7/200\n",
            "79/79 - 15s - loss: 0.2456 - auroc: 0.9577 - auprc: 0.9666 - val_loss: 0.1772 - val_auroc: 0.9774 - val_auprc: 0.1424\n",
            "Epoch 8/200\n",
            "79/79 - 15s - loss: 0.2691 - auroc: 0.9478 - auprc: 0.9556 - val_loss: 0.3124 - val_auroc: 0.9690 - val_auprc: 0.0763\n",
            "Epoch 9/200\n",
            "79/79 - 15s - loss: 0.2635 - auroc: 0.9501 - auprc: 0.9623 - val_loss: 0.2917 - val_auroc: 0.9709 - val_auprc: 0.0951\n",
            "Epoch 10/200\n",
            "79/79 - 15s - loss: 0.3108 - auroc: 0.9346 - auprc: 0.9484 - val_loss: 0.3148 - val_auroc: 0.9690 - val_auprc: 0.1111\n",
            "Epoch 11/200\n",
            "79/79 - 15s - loss: 0.2597 - auroc: 0.9490 - auprc: 0.9582 - val_loss: 0.2035 - val_auroc: 0.9770 - val_auprc: 0.1279\n",
            "Epoch 12/200\n",
            "79/79 - 15s - loss: 0.2412 - auroc: 0.9561 - auprc: 0.9677 - val_loss: 0.3173 - val_auroc: 0.9675 - val_auprc: 0.0746\n",
            "Epoch 13/200\n",
            "79/79 - 15s - loss: 0.2647 - auroc: 0.9472 - auprc: 0.9628 - val_loss: 0.3348 - val_auroc: 0.9647 - val_auprc: 0.0513\n",
            "Epoch 14/200\n",
            "79/79 - 15s - loss: 0.2482 - auroc: 0.9541 - auprc: 0.9672 - val_loss: 0.2779 - val_auroc: 0.9762 - val_auprc: 0.1016\n",
            "Epoch 15/200\n",
            "79/79 - 15s - loss: 0.2627 - auroc: 0.9473 - auprc: 0.9634 - val_loss: 0.3641 - val_auroc: 0.9678 - val_auprc: 0.0595\n",
            "Epoch 16/200\n",
            "79/79 - 15s - loss: 0.2605 - auroc: 0.9502 - auprc: 0.9626 - val_loss: 0.2986 - val_auroc: 0.9723 - val_auprc: 0.0985\n",
            "Epoch 17/200\n",
            "79/79 - 15s - loss: 0.2785 - auroc: 0.9436 - auprc: 0.9587 - val_loss: 0.3043 - val_auroc: 0.9756 - val_auprc: 0.1064\n",
            "Epoch 18/200\n",
            "79/79 - 15s - loss: 0.2169 - auroc: 0.9647 - auprc: 0.9730 - val_loss: 0.3146 - val_auroc: 0.9733 - val_auprc: 0.0774\n",
            "Epoch 19/200\n",
            "79/79 - 15s - loss: 0.2693 - auroc: 0.9480 - auprc: 0.9614 - val_loss: 0.3420 - val_auroc: 0.9699 - val_auprc: 0.0737\n",
            "Epoch 20/200\n",
            "79/79 - 15s - loss: 0.2040 - auroc: 0.9709 - auprc: 0.9774 - val_loss: 0.3945 - val_auroc: 0.9689 - val_auprc: 0.0576\n",
            "Epoch 21/200\n",
            "79/79 - 15s - loss: 0.2524 - auroc: 0.9543 - auprc: 0.9679 - val_loss: 0.3910 - val_auroc: 0.9698 - val_auprc: 0.0586\n",
            "Epoch 22/200\n",
            "79/79 - 15s - loss: 0.2632 - auroc: 0.9481 - auprc: 0.9628 - val_loss: 0.3536 - val_auroc: 0.9721 - val_auprc: 0.0818\n",
            "Epoch 23/200\n",
            "79/79 - 15s - loss: 0.2763 - auroc: 0.9450 - auprc: 0.9532 - val_loss: 0.3685 - val_auroc: 0.9697 - val_auprc: 0.0702\n",
            "Epoch 24/200\n",
            "79/79 - 15s - loss: 0.2428 - auroc: 0.9579 - auprc: 0.9658 - val_loss: 0.3201 - val_auroc: 0.9742 - val_auprc: 0.0806\n",
            "Epoch 25/200\n",
            "79/79 - 15s - loss: 0.2253 - auroc: 0.9611 - auprc: 0.9691 - val_loss: 0.3763 - val_auroc: 0.9682 - val_auprc: 0.0515\n",
            "Epoch 26/200\n",
            "79/79 - 15s - loss: 0.2324 - auroc: 0.9556 - auprc: 0.9642 - val_loss: 0.3872 - val_auroc: 0.9711 - val_auprc: 0.0575\n",
            "Epoch 27/200\n",
            "79/79 - 15s - loss: 0.2374 - auroc: 0.9565 - auprc: 0.9685 - val_loss: 0.3291 - val_auroc: 0.9732 - val_auprc: 0.0801\n",
            "Epoch 28/200\n",
            "79/79 - 15s - loss: 0.2232 - auroc: 0.9665 - auprc: 0.9713 - val_loss: 0.4487 - val_auroc: 0.9596 - val_auprc: 0.0449\n",
            "Epoch 29/200\n",
            "79/79 - 15s - loss: 0.2206 - auroc: 0.9618 - auprc: 0.9733 - val_loss: 0.4062 - val_auroc: 0.9681 - val_auprc: 0.0550\n",
            "Epoch 30/200\n",
            "79/79 - 15s - loss: 0.2290 - auroc: 0.9595 - auprc: 0.9714 - val_loss: 0.4578 - val_auroc: 0.9621 - val_auprc: 0.0442\n",
            "Epoch 31/200\n",
            "79/79 - 15s - loss: 0.2303 - auroc: 0.9577 - auprc: 0.9700 - val_loss: 0.4819 - val_auroc: 0.9633 - val_auprc: 0.0432\n",
            "Epoch 32/200\n",
            "79/79 - 15s - loss: 0.2464 - auroc: 0.9572 - auprc: 0.9591 - val_loss: 0.4218 - val_auroc: 0.9654 - val_auprc: 0.0579\n",
            "Epoch 33/200\n",
            "79/79 - 15s - loss: 0.2717 - auroc: 0.9451 - auprc: 0.9597 - val_loss: 0.4493 - val_auroc: 0.9642 - val_auprc: 0.0515\n",
            "Epoch 00033: early stopping\n"
          ],
          "name": "stdout"
        }
      ]
    },
    {
      "cell_type": "code",
      "metadata": {
        "id": "yZG9_iie2n7a",
        "colab_type": "code",
        "colab": {
          "base_uri": "https://localhost:8080/",
          "height": 51
        },
        "outputId": "9e90385e-3dc6-44dc-f16f-08bb1228cfe1"
      },
      "source": [
        "model.load_weights(checkpoint_filepath)\n",
        "model.evaluate(x_test, y_test)"
      ],
      "execution_count": 74,
      "outputs": [
        {
          "output_type": "stream",
          "text": [
            "1781/1781 [==============================] - 5s 3ms/step - loss: 0.1414 - auroc: 0.9569 - auprc: 0.2012\n"
          ],
          "name": "stdout"
        },
        {
          "output_type": "execute_result",
          "data": {
            "text/plain": [
              "[0.14139653742313385, 0.956933856010437, 0.20121556520462036]"
            ]
          },
          "metadata": {
            "tags": []
          },
          "execution_count": 74
        }
      ]
    },
    {
      "cell_type": "code",
      "metadata": {
        "id": "aWTtRqSD2sGH",
        "colab_type": "code",
        "colab": {
          "base_uri": "https://localhost:8080/",
          "height": 738
        },
        "outputId": "6ed372f1-53b0-4e36-8c1c-05d97174be7b"
      },
      "source": [
        "import matplotlib.pyplot as plt\n",
        "import seaborn as sns\n",
        "\n",
        "history = history.history\n",
        "\n",
        "fig, (ax1, ax2) = plt.subplots(2, 1, sharex='col', figsize=(20, 14))\n",
        "\n",
        "ax1.plot(history['loss'], label='Train loss')\n",
        "ax1.plot(history['val_loss'], label='Validation loss')\n",
        "ax1.legend(loc='best')\n",
        "ax1.set_title('Loss')\n",
        "\n",
        "ax2.plot(history['auprc'], label='Train accuracy')\n",
        "ax2.plot(history['val_auprc'], label='Validation accuracy')\n",
        "ax2.legend(loc='best')\n",
        "ax2.set_title('AUPRC')\n",
        "\n",
        "plt.xlabel('Epochs')\n",
        "sns.despine()\n",
        "plt.show()"
      ],
      "execution_count": 75,
      "outputs": [
        {
          "output_type": "display_data",
          "data": {
            "image/png": "[encoded data removed]",
            "text/plain": [
              "<Figure size 1440x1008 with 2 Axes>"
            ]
          },
          "metadata": {
            "tags": [],
            "needs_background": "light"
          }
        }
      ]
    },
    {
      "cell_type": "code",
      "metadata": {
        "id": "0Uo1Aptt2svJ",
        "colab_type": "code",
        "colab": {
          "base_uri": "https://localhost:8080/",
          "height": 34
        },
        "outputId": "a58ff2a9-f2f1-4f2f-ec00-768b6bd67241"
      },
      "source": [
        "y_pred = model.predict(x_test)\n",
        "auprc = tf.keras.metrics.AUC(curve='PR')\n",
        "auprc.update_state(y_test, y_pred)\n",
        "TF_Model_AUPRC = auprc.result().numpy()\n",
        "TF_Model_AUPRC"
      ],
      "execution_count": 76,
      "outputs": [
        {
          "output_type": "execute_result",
          "data": {
            "text/plain": [
              "0.20121557"
            ]
          },
          "metadata": {
            "tags": []
          },
          "execution_count": 76
        }
      ]
    },
    {
      "cell_type": "code",
      "metadata": {
        "id": "KhG2VqJg288f",
        "colab_type": "code",
        "colab": {
          "base_uri": "https://localhost:8080/",
          "height": 85
        },
        "outputId": "7b55ad86-24c8-43e0-f476-e8dc77622079"
      },
      "source": [
        "TF_Model_metrics = compute_metrics(y_test, y_pred)\n",
        "print_metrics(TF_Model_metrics)"
      ],
      "execution_count": 77,
      "outputs": [
        {
          "output_type": "stream",
          "text": [
            "Fraudulent Transactions Detected (True Positives): 80\n",
            "Fraudulent Transactions Missed (False Negatives): 18\n",
            "Legitimate Transactions Incorrectly Detected (False Positives): 1703\n",
            "Legitimate Transactions Detected (True Negatives): 55161\n"
          ],
          "name": "stdout"
        }
      ]
    },
    {
      "cell_type": "code",
      "metadata": {
        "id": "_ND7eYNf3FKq",
        "colab_type": "code",
        "colab": {
          "base_uri": "https://localhost:8080/",
          "height": 68
        },
        "outputId": "53fe11da-bcda-4a52-c2d9-2e6fcb0dfbce"
      },
      "source": [
        "print('RF_AUPRC: ' + str(RF_AUPRC))\n",
        "print('XGB_AUPRC: ' + str(XGB_AUPRC))\n",
        "print('TF_Model_AUPRC: ' + str(TF_Model_AUPRC))"
      ],
      "execution_count": 78,
      "outputs": [
        {
          "output_type": "stream",
          "text": [
            "RF_AUPRC: 0.0021636141\n",
            "XGB_AUPRC: 0.0025975434\n",
            "TF_Model_AUPRC: 0.20121557\n"
          ],
          "name": "stdout"
        }
      ]
    },
    {
      "cell_type": "code",
      "metadata": {
        "id": "9zuJQXcP3MR3",
        "colab_type": "code",
        "colab": {
          "base_uri": "https://localhost:8080/",
          "height": 272
        },
        "outputId": "327e07bf-a84c-4ea7-a809-3a043492b01a"
      },
      "source": [
        "print('Random Forest ********************')\n",
        "print_metrics(RF_metrics)\n",
        "print('XGBoost **************************')\n",
        "print_metrics(XGB_metrics)\n",
        "print('TensorFlow DNN Model1 ************')\n",
        "print_metrics(TF_Model_metrics)"
      ],
      "execution_count": 79,
      "outputs": [
        {
          "output_type": "stream",
          "text": [
            "Random Forest ********************\n",
            "Fraudulent Transactions Detected (True Positives): 94\n",
            "Fraudulent Transactions Missed (False Negatives): 4\n",
            "Legitimate Transactions Incorrectly Detected (False Positives): 43150\n",
            "Legitimate Transactions Detected (True Negatives): 13714\n",
            "XGBoost **************************\n",
            "Fraudulent Transactions Detected (True Positives): 94\n",
            "Fraudulent Transactions Missed (False Negatives): 4\n",
            "Legitimate Transactions Incorrectly Detected (False Positives): 35802\n",
            "Legitimate Transactions Detected (True Negatives): 21062\n",
            "TensorFlow DNN Model1 ************\n",
            "Fraudulent Transactions Detected (True Positives): 80\n",
            "Fraudulent Transactions Missed (False Negatives): 18\n",
            "Legitimate Transactions Incorrectly Detected (False Positives): 1703\n",
            "Legitimate Transactions Detected (True Negatives): 55161\n"
          ],
          "name": "stdout"
        }
      ]
    },
    {
      "cell_type": "code",
      "metadata": {
        "id": "Yz-Mi8Dp-UQz",
        "colab_type": "code",
        "colab": {}
      },
      "source": [
        "tp_df['Model'] = models\n",
        "results = [RF_metrics[0], XGB_metrics[0], TF_Model_metrics[0]]\n",
        "tp_df['Undersampling (NearMiss)'] = results\n",
        "fn_df['Model'] = models\n",
        "results = [RF_metrics[1], XGB_metrics[1], TF_Model_metrics[1]]\n",
        "fn_df['Undersampling (NearMiss)'] = results\n",
        "fp_df['Model'] = models\n",
        "results = [RF_metrics[2], XGB_metrics[2], TF_Model_metrics[2]]\n",
        "fp_df['Undersampling (NearMiss)'] = results\n",
        "tn_df['Model'] = models\n",
        "results = [RF_metrics[3], XGB_metrics[3], TF_Model_metrics[3]]\n",
        "tn_df['Undersampling (NearMiss)'] = results"
      ],
      "execution_count": 80,
      "outputs": []
    },
    {
      "cell_type": "code",
      "metadata": {
        "id": "hawpcF_vjfGm",
        "colab_type": "code",
        "colab": {}
      },
      "source": [
        "results = [RF_AUPRC, XGB_AUPRC, TF_Model_AUPRC]\n",
        "auprc_df['Undersampling (NearMiss)'] = results"
      ],
      "execution_count": 81,
      "outputs": []
    },
    {
      "cell_type": "markdown",
      "metadata": {
        "id": "3JCCifUOjU9a",
        "colab_type": "text"
      },
      "source": [
        "# Oversampling (ADASYN)"
      ]
    },
    {
      "cell_type": "code",
      "metadata": {
        "id": "cHyMelhwR3u1",
        "colab_type": "code",
        "colab": {}
      },
      "source": [
        "y_train = train_df['Class'].values\n",
        "x_train = train_df.drop(['Class'], axis='columns')\n",
        "x_train = x_train.values"
      ],
      "execution_count": 82,
      "outputs": []
    },
    {
      "cell_type": "code",
      "metadata": {
        "id": "W2Fm0q8WZR7d",
        "colab_type": "code",
        "colab": {
          "base_uri": "https://localhost:8080/",
          "height": 51
        },
        "outputId": "bd4605f6-7083-4f69-d862-123bb2a2760f"
      },
      "source": [
        "neg, pos = bincount(y_train)\n",
        "print('Original balance: ' + str(neg) + ' non-fraud, ' + str(pos) + ' fraud')\n",
        "\n",
        "from imblearn.over_sampling import ADASYN\n",
        "ada = ADASYN(random_state=seed)\n",
        "x_train, y_train = ada.fit_resample(x_train, y_train)\n",
        "\n",
        "neg, pos = bincount(y_train)\n",
        "print('New balance: ' + str(neg) + ' non-fraud, ' + str(pos) + ' fraud')"
      ],
      "execution_count": 83,
      "outputs": [
        {
          "output_type": "stream",
          "text": [
            "Original balance: 181961 non-fraud, 315 fraud\n",
            "New balance: 181961 non-fraud, 181957 fraud\n"
          ],
          "name": "stdout"
        }
      ]
    },
    {
      "cell_type": "code",
      "metadata": {
        "id": "k0cGp4iPZhSL",
        "colab_type": "code",
        "colab": {
          "base_uri": "https://localhost:8080/",
          "height": 153
        },
        "outputId": "a1a41345-e9d5-42b3-c924-af6406cef27e"
      },
      "source": [
        "classifier = RandomForestClassifier(n_estimators=100, n_jobs=-1, random_state=seed)\n",
        "classifier.fit(x_train, y_train)"
      ],
      "execution_count": 84,
      "outputs": [
        {
          "output_type": "execute_result",
          "data": {
            "text/plain": [
              "RandomForestClassifier(bootstrap=True, ccp_alpha=0.0, class_weight=None,\n",
              "                       criterion='gini', max_depth=None, max_features='auto',\n",
              "                       max_leaf_nodes=None, max_samples=None,\n",
              "                       min_impurity_decrease=0.0, min_impurity_split=None,\n",
              "                       min_samples_leaf=1, min_samples_split=2,\n",
              "                       min_weight_fraction_leaf=0.0, n_estimators=100,\n",
              "                       n_jobs=-1, oob_score=False, random_state=51, verbose=0,\n",
              "                       warm_start=False)"
            ]
          },
          "metadata": {
            "tags": []
          },
          "execution_count": 84
        }
      ]
    },
    {
      "cell_type": "code",
      "metadata": {
        "id": "OoYoYxmmZhZX",
        "colab_type": "code",
        "colab": {
          "base_uri": "https://localhost:8080/",
          "height": 34
        },
        "outputId": "e7e5a0fe-43bd-4ec7-9883-202c247398ef"
      },
      "source": [
        "y_pred = classifier.predict(x_test)\n",
        "auprc = tf.keras.metrics.AUC(curve='PR')\n",
        "auprc.update_state(y_test, y_pred)\n",
        "RF_AUPRC = auprc.result().numpy()\n",
        "RF_AUPRC"
      ],
      "execution_count": 85,
      "outputs": [
        {
          "output_type": "execute_result",
          "data": {
            "text/plain": [
              "0.7073558"
            ]
          },
          "metadata": {
            "tags": []
          },
          "execution_count": 85
        }
      ]
    },
    {
      "cell_type": "code",
      "metadata": {
        "id": "swhCWRrLZms8",
        "colab_type": "code",
        "colab": {
          "base_uri": "https://localhost:8080/",
          "height": 85
        },
        "outputId": "799987b9-81ee-416c-b8d4-ed654d7bd77b"
      },
      "source": [
        "RF_metrics = compute_metrics(y_test, y_pred)\n",
        "print_metrics(RF_metrics)"
      ],
      "execution_count": 86,
      "outputs": [
        {
          "output_type": "stream",
          "text": [
            "Fraudulent Transactions Detected (True Positives): 78\n",
            "Fraudulent Transactions Missed (False Negatives): 20\n",
            "Legitimate Transactions Incorrectly Detected (False Positives): 10\n",
            "Legitimate Transactions Detected (True Negatives): 56854\n"
          ],
          "name": "stdout"
        }
      ]
    },
    {
      "cell_type": "code",
      "metadata": {
        "id": "Kr4xfPShZrFT",
        "colab_type": "code",
        "colab": {
          "base_uri": "https://localhost:8080/",
          "height": 136
        },
        "outputId": "9ca1ebf8-44dd-4ecf-96f0-4fb10806dc95"
      },
      "source": [
        "xgbc = XGBClassifier(objective='binary:logistic', seed=seed)\n",
        "xgbc.fit(x_train, y_train)"
      ],
      "execution_count": 87,
      "outputs": [
        {
          "output_type": "execute_result",
          "data": {
            "text/plain": [
              "XGBClassifier(base_score=0.5, booster='gbtree', colsample_bylevel=1,\n",
              "              colsample_bynode=1, colsample_bytree=1, gamma=0,\n",
              "              learning_rate=0.1, max_delta_step=0, max_depth=3,\n",
              "              min_child_weight=1, missing=None, n_estimators=100, n_jobs=1,\n",
              "              nthread=None, objective='binary:logistic', random_state=0,\n",
              "              reg_alpha=0, reg_lambda=1, scale_pos_weight=1, seed=51,\n",
              "              silent=None, subsample=1, verbosity=1)"
            ]
          },
          "metadata": {
            "tags": []
          },
          "execution_count": 87
        }
      ]
    },
    {
      "cell_type": "code",
      "metadata": {
        "id": "WIFacEvVZrMN",
        "colab_type": "code",
        "colab": {
          "base_uri": "https://localhost:8080/",
          "height": 34
        },
        "outputId": "08b85b63-b94f-4458-c2aa-8c45240f86da"
      },
      "source": [
        "y_pred = xgbc.predict(x_test)\n",
        "auprc = tf.keras.metrics.AUC(curve='PR')\n",
        "auprc.update_state(y_test, y_pred)\n",
        "XGB_AUPRC = auprc.result().numpy()\n",
        "XGB_AUPRC"
      ],
      "execution_count": 88,
      "outputs": [
        {
          "output_type": "execute_result",
          "data": {
            "text/plain": [
              "0.041236956"
            ]
          },
          "metadata": {
            "tags": []
          },
          "execution_count": 88
        }
      ]
    },
    {
      "cell_type": "code",
      "metadata": {
        "id": "2cEyhokJZv1b",
        "colab_type": "code",
        "colab": {
          "base_uri": "https://localhost:8080/",
          "height": 85
        },
        "outputId": "11468dc7-c167-4c5e-d5d9-b21921daa344"
      },
      "source": [
        "XGB_metrics = compute_metrics(y_test, y_pred)\n",
        "print_metrics(XGB_metrics)"
      ],
      "execution_count": 89,
      "outputs": [
        {
          "output_type": "stream",
          "text": [
            "Fraudulent Transactions Detected (True Positives): 88\n",
            "Fraudulent Transactions Missed (False Negatives): 10\n",
            "Legitimate Transactions Incorrectly Detected (False Positives): 1855\n",
            "Legitimate Transactions Detected (True Negatives): 55009\n"
          ],
          "name": "stdout"
        }
      ]
    },
    {
      "cell_type": "code",
      "metadata": {
        "id": "qr7b5JVEZv8m",
        "colab_type": "code",
        "colab": {
          "base_uri": "https://localhost:8080/",
          "height": 629
        },
        "outputId": "64a9938d-9fc8-4021-f123-ba70c501e866"
      },
      "source": [
        "model = create_model()"
      ],
      "execution_count": 90,
      "outputs": [
        {
          "output_type": "stream",
          "text": [
            "Model: \"functional_1\"\n",
            "_________________________________________________________________\n",
            "Layer (type)                 Output Shape              Param #   \n",
            "=================================================================\n",
            "input1 (InputLayer)          [(None, 30)]              0         \n",
            "_________________________________________________________________\n",
            "dense (Dense)                (None, 96)                2976      \n",
            "_________________________________________________________________\n",
            "batch_normalization (BatchNo (None, 96)                384       \n",
            "_________________________________________________________________\n",
            "elu (ELU)                    (None, 96)                0         \n",
            "_________________________________________________________________\n",
            "dropout (Dropout)            (None, 96)                0         \n",
            "_________________________________________________________________\n",
            "dense_1 (Dense)              (None, 96)                9312      \n",
            "_________________________________________________________________\n",
            "batch_normalization_1 (Batch (None, 96)                384       \n",
            "_________________________________________________________________\n",
            "elu_1 (ELU)                  (None, 96)                0         \n",
            "_________________________________________________________________\n",
            "dropout_1 (Dropout)          (None, 96)                0         \n",
            "_________________________________________________________________\n",
            "dense_2 (Dense)              (None, 96)                9312      \n",
            "_________________________________________________________________\n",
            "batch_normalization_2 (Batch (None, 96)                384       \n",
            "_________________________________________________________________\n",
            "elu_2 (ELU)                  (None, 96)                0         \n",
            "_________________________________________________________________\n",
            "dropout_2 (Dropout)          (None, 96)                0         \n",
            "_________________________________________________________________\n",
            "out (Dense)                  (None, 1)                 97        \n",
            "=================================================================\n",
            "Total params: 22,849\n",
            "Trainable params: 22,273\n",
            "Non-trainable params: 576\n",
            "_________________________________________________________________\n"
          ],
          "name": "stdout"
        }
      ]
    },
    {
      "cell_type": "code",
      "metadata": {
        "id": "_zC05CsGZmya",
        "colab_type": "code",
        "colab": {
          "base_uri": "https://localhost:8080/",
          "height": 1000
        },
        "outputId": "3ee634a2-2485-4d79-ea45-4837a2101a6d"
      },
      "source": [
        "checkpoint_filepath = 'model.h5'\n",
        "mc = ModelCheckpoint(checkpoint_filepath, verbose=0, save_weights_only=True, \n",
        "                     monitor='val_auprc', mode='max', save_best_only=True)\n",
        "\n",
        "es = EarlyStopping(monitor='val_auprc', patience=30, verbose=1, mode='max')\n",
        "history = model.fit(x_train, y_train, epochs=200, verbose=2, callbacks=[es, mc], \n",
        "                    validation_data=(x_val, y_val), batch_size=BATCH_SIZE)"
      ],
      "execution_count": 91,
      "outputs": [
        {
          "output_type": "stream",
          "text": [
            "Epoch 1/200\n",
            "1422/1422 - 8s - loss: 0.1642 - auroc: 0.9831 - auprc: 0.9808 - val_loss: 0.0926 - val_auroc: 0.9871 - val_auprc: 0.6110\n",
            "Epoch 2/200\n",
            "1422/1422 - 8s - loss: 0.0700 - auroc: 0.9958 - auprc: 0.9942 - val_loss: 0.0531 - val_auroc: 0.9707 - val_auprc: 0.5776\n",
            "Epoch 3/200\n",
            "1422/1422 - 8s - loss: 0.0486 - auroc: 0.9975 - auprc: 0.9962 - val_loss: 0.0459 - val_auroc: 0.9715 - val_auprc: 0.5055\n",
            "Epoch 4/200\n",
            "1422/1422 - 8s - loss: 0.0379 - auroc: 0.9982 - auprc: 0.9972 - val_loss: 0.0444 - val_auroc: 0.9717 - val_auprc: 0.4804\n",
            "Epoch 5/200\n",
            "1422/1422 - 8s - loss: 0.0325 - auroc: 0.9985 - auprc: 0.9976 - val_loss: 0.0350 - val_auroc: 0.9657 - val_auprc: 0.5296\n",
            "Epoch 6/200\n",
            "1422/1422 - 8s - loss: 0.0286 - auroc: 0.9987 - auprc: 0.9979 - val_loss: 0.0309 - val_auroc: 0.9661 - val_auprc: 0.5266\n",
            "Epoch 7/200\n",
            "1422/1422 - 8s - loss: 0.0258 - auroc: 0.9989 - auprc: 0.9981 - val_loss: 0.0295 - val_auroc: 0.9664 - val_auprc: 0.5330\n",
            "Epoch 8/200\n",
            "1422/1422 - 8s - loss: 0.0228 - auroc: 0.9990 - auprc: 0.9984 - val_loss: 0.0320 - val_auroc: 0.9597 - val_auprc: 0.4835\n",
            "Epoch 9/200\n",
            "1422/1422 - 8s - loss: 0.0210 - auroc: 0.9991 - auprc: 0.9984 - val_loss: 0.0255 - val_auroc: 0.9604 - val_auprc: 0.5871\n",
            "Epoch 10/200\n",
            "1422/1422 - 8s - loss: 0.0196 - auroc: 0.9992 - auprc: 0.9986 - val_loss: 0.0246 - val_auroc: 0.9603 - val_auprc: 0.5660\n",
            "Epoch 11/200\n",
            "1422/1422 - 8s - loss: 0.0179 - auroc: 0.9992 - auprc: 0.9987 - val_loss: 0.0232 - val_auroc: 0.9542 - val_auprc: 0.5703\n",
            "Epoch 12/200\n",
            "1422/1422 - 8s - loss: 0.0177 - auroc: 0.9993 - auprc: 0.9987 - val_loss: 0.0183 - val_auroc: 0.9607 - val_auprc: 0.6251\n",
            "Epoch 13/200\n",
            "1422/1422 - 8s - loss: 0.0157 - auroc: 0.9994 - auprc: 0.9989 - val_loss: 0.0222 - val_auroc: 0.9607 - val_auprc: 0.5883\n",
            "Epoch 14/200\n",
            "1422/1422 - 8s - loss: 0.0152 - auroc: 0.9994 - auprc: 0.9989 - val_loss: 0.0215 - val_auroc: 0.9606 - val_auprc: 0.5875\n",
            "Epoch 15/200\n",
            "1422/1422 - 8s - loss: 0.0149 - auroc: 0.9994 - auprc: 0.9989 - val_loss: 0.0231 - val_auroc: 0.9606 - val_auprc: 0.5646\n",
            "Epoch 16/200\n",
            "1422/1422 - 8s - loss: 0.0137 - auroc: 0.9994 - auprc: 0.9990 - val_loss: 0.0182 - val_auroc: 0.9609 - val_auprc: 0.6248\n",
            "Epoch 17/200\n",
            "1422/1422 - 8s - loss: 0.0135 - auroc: 0.9994 - auprc: 0.9990 - val_loss: 0.0157 - val_auroc: 0.9548 - val_auprc: 0.6641\n",
            "Epoch 18/200\n",
            "1422/1422 - 8s - loss: 0.0128 - auroc: 0.9995 - auprc: 0.9991 - val_loss: 0.0162 - val_auroc: 0.9610 - val_auprc: 0.6331\n",
            "Epoch 19/200\n",
            "1422/1422 - 8s - loss: 0.0123 - auroc: 0.9995 - auprc: 0.9991 - val_loss: 0.0179 - val_auroc: 0.9610 - val_auprc: 0.6206\n",
            "Epoch 20/200\n",
            "1422/1422 - 8s - loss: 0.0117 - auroc: 0.9995 - auprc: 0.9991 - val_loss: 0.0176 - val_auroc: 0.9608 - val_auprc: 0.6093\n",
            "Epoch 21/200\n",
            "1422/1422 - 8s - loss: 0.0113 - auroc: 0.9995 - auprc: 0.9992 - val_loss: 0.0163 - val_auroc: 0.9547 - val_auprc: 0.6260\n",
            "Epoch 22/200\n",
            "1422/1422 - 8s - loss: 0.0109 - auroc: 0.9996 - auprc: 0.9992 - val_loss: 0.0147 - val_auroc: 0.9612 - val_auprc: 0.6693\n",
            "Epoch 23/200\n",
            "1422/1422 - 8s - loss: 0.0105 - auroc: 0.9996 - auprc: 0.9992 - val_loss: 0.0155 - val_auroc: 0.9546 - val_auprc: 0.6324\n",
            "Epoch 24/200\n",
            "1422/1422 - 8s - loss: 0.0106 - auroc: 0.9995 - auprc: 0.9992 - val_loss: 0.0149 - val_auroc: 0.9486 - val_auprc: 0.6647\n",
            "Epoch 25/200\n",
            "1422/1422 - 8s - loss: 0.0097 - auroc: 0.9996 - auprc: 0.9993 - val_loss: 0.0138 - val_auroc: 0.9675 - val_auprc: 0.6859\n",
            "Epoch 26/200\n",
            "1422/1422 - 8s - loss: 0.0095 - auroc: 0.9996 - auprc: 0.9993 - val_loss: 0.0140 - val_auroc: 0.9486 - val_auprc: 0.6721\n",
            "Epoch 27/200\n",
            "1422/1422 - 8s - loss: 0.0091 - auroc: 0.9996 - auprc: 0.9993 - val_loss: 0.0141 - val_auroc: 0.9550 - val_auprc: 0.6803\n",
            "Epoch 28/200\n",
            "1422/1422 - 8s - loss: 0.0095 - auroc: 0.9996 - auprc: 0.9993 - val_loss: 0.0144 - val_auroc: 0.9423 - val_auprc: 0.6528\n",
            "Epoch 29/200\n",
            "1422/1422 - 8s - loss: 0.0094 - auroc: 0.9996 - auprc: 0.9993 - val_loss: 0.0131 - val_auroc: 0.9549 - val_auprc: 0.6537\n",
            "Epoch 30/200\n",
            "1422/1422 - 8s - loss: 0.0089 - auroc: 0.9996 - auprc: 0.9993 - val_loss: 0.0144 - val_auroc: 0.9613 - val_auprc: 0.6401\n",
            "Epoch 31/200\n",
            "1422/1422 - 8s - loss: 0.0082 - auroc: 0.9997 - auprc: 0.9994 - val_loss: 0.0172 - val_auroc: 0.9548 - val_auprc: 0.6196\n",
            "Epoch 32/200\n",
            "1422/1422 - 8s - loss: 0.0081 - auroc: 0.9997 - auprc: 0.9994 - val_loss: 0.0142 - val_auroc: 0.9550 - val_auprc: 0.6350\n",
            "Epoch 33/200\n",
            "1422/1422 - 8s - loss: 0.0083 - auroc: 0.9997 - auprc: 0.9994 - val_loss: 0.0139 - val_auroc: 0.9423 - val_auprc: 0.6470\n",
            "Epoch 34/200\n",
            "1422/1422 - 8s - loss: 0.0075 - auroc: 0.9997 - auprc: 0.9995 - val_loss: 0.0131 - val_auroc: 0.9488 - val_auprc: 0.6763\n",
            "Epoch 35/200\n",
            "1422/1422 - 8s - loss: 0.0078 - auroc: 0.9997 - auprc: 0.9994 - val_loss: 0.0129 - val_auroc: 0.9487 - val_auprc: 0.6671\n",
            "Epoch 36/200\n",
            "1422/1422 - 8s - loss: 0.0073 - auroc: 0.9997 - auprc: 0.9995 - val_loss: 0.0116 - val_auroc: 0.9488 - val_auprc: 0.6896\n",
            "Epoch 37/200\n",
            "1422/1422 - 8s - loss: 0.0076 - auroc: 0.9997 - auprc: 0.9994 - val_loss: 0.0122 - val_auroc: 0.9550 - val_auprc: 0.6694\n",
            "Epoch 38/200\n",
            "1422/1422 - 8s - loss: 0.0075 - auroc: 0.9997 - auprc: 0.9994 - val_loss: 0.0147 - val_auroc: 0.9423 - val_auprc: 0.6360\n",
            "Epoch 39/200\n",
            "1422/1422 - 8s - loss: 0.0072 - auroc: 0.9997 - auprc: 0.9994 - val_loss: 0.0140 - val_auroc: 0.9486 - val_auprc: 0.6294\n",
            "Epoch 40/200\n",
            "1422/1422 - 8s - loss: 0.0071 - auroc: 0.9997 - auprc: 0.9994 - val_loss: 0.0117 - val_auroc: 0.9551 - val_auprc: 0.6871\n",
            "Epoch 41/200\n",
            "1422/1422 - 8s - loss: 0.0069 - auroc: 0.9997 - auprc: 0.9994 - val_loss: 0.0135 - val_auroc: 0.9487 - val_auprc: 0.6411\n",
            "Epoch 42/200\n",
            "1422/1422 - 8s - loss: 0.0070 - auroc: 0.9997 - auprc: 0.9995 - val_loss: 0.0123 - val_auroc: 0.9551 - val_auprc: 0.6836\n",
            "Epoch 43/200\n",
            "1422/1422 - 8s - loss: 0.0069 - auroc: 0.9997 - auprc: 0.9994 - val_loss: 0.0122 - val_auroc: 0.9551 - val_auprc: 0.6836\n",
            "Epoch 44/200\n",
            "1422/1422 - 8s - loss: 0.0064 - auroc: 0.9998 - auprc: 0.9995 - val_loss: 0.0155 - val_auroc: 0.9358 - val_auprc: 0.6011\n",
            "Epoch 45/200\n",
            "1422/1422 - 8s - loss: 0.0065 - auroc: 0.9997 - auprc: 0.9995 - val_loss: 0.0126 - val_auroc: 0.9425 - val_auprc: 0.6823\n",
            "Epoch 46/200\n",
            "1422/1422 - 8s - loss: 0.0066 - auroc: 0.9997 - auprc: 0.9994 - val_loss: 0.0132 - val_auroc: 0.9488 - val_auprc: 0.6765\n",
            "Epoch 47/200\n",
            "1422/1422 - 8s - loss: 0.0068 - auroc: 0.9997 - auprc: 0.9994 - val_loss: 0.0128 - val_auroc: 0.9488 - val_auprc: 0.6704\n",
            "Epoch 48/200\n",
            "1422/1422 - 8s - loss: 0.0059 - auroc: 0.9998 - auprc: 0.9996 - val_loss: 0.0129 - val_auroc: 0.9488 - val_auprc: 0.6668\n",
            "Epoch 49/200\n",
            "1422/1422 - 8s - loss: 0.0063 - auroc: 0.9997 - auprc: 0.9995 - val_loss: 0.0126 - val_auroc: 0.9552 - val_auprc: 0.6773\n",
            "Epoch 50/200\n",
            "1422/1422 - 8s - loss: 0.0060 - auroc: 0.9997 - auprc: 0.9995 - val_loss: 0.0121 - val_auroc: 0.9488 - val_auprc: 0.6721\n",
            "Epoch 51/200\n",
            "1422/1422 - 8s - loss: 0.0060 - auroc: 0.9997 - auprc: 0.9995 - val_loss: 0.0128 - val_auroc: 0.9552 - val_auprc: 0.6716\n",
            "Epoch 52/200\n",
            "1422/1422 - 8s - loss: 0.0059 - auroc: 0.9997 - auprc: 0.9995 - val_loss: 0.0144 - val_auroc: 0.9488 - val_auprc: 0.6503\n",
            "Epoch 53/200\n",
            "1422/1422 - 8s - loss: 0.0061 - auroc: 0.9997 - auprc: 0.9995 - val_loss: 0.0125 - val_auroc: 0.9489 - val_auprc: 0.6863\n",
            "Epoch 54/200\n",
            "1422/1422 - 8s - loss: 0.0061 - auroc: 0.9997 - auprc: 0.9995 - val_loss: 0.0119 - val_auroc: 0.9488 - val_auprc: 0.6793\n",
            "Epoch 55/200\n",
            "1422/1422 - 8s - loss: 0.0058 - auroc: 0.9997 - auprc: 0.9995 - val_loss: 0.0120 - val_auroc: 0.9488 - val_auprc: 0.6638\n",
            "Epoch 56/200\n",
            "1422/1422 - 8s - loss: 0.0054 - auroc: 0.9998 - auprc: 0.9996 - val_loss: 0.0115 - val_auroc: 0.9489 - val_auprc: 0.7065\n",
            "Epoch 57/200\n",
            "1422/1422 - 8s - loss: 0.0055 - auroc: 0.9998 - auprc: 0.9996 - val_loss: 0.0142 - val_auroc: 0.9488 - val_auprc: 0.6252\n",
            "Epoch 58/200\n",
            "1422/1422 - 8s - loss: 0.0058 - auroc: 0.9998 - auprc: 0.9996 - val_loss: 0.0126 - val_auroc: 0.9488 - val_auprc: 0.6894\n",
            "Epoch 59/200\n",
            "1422/1422 - 8s - loss: 0.0056 - auroc: 0.9998 - auprc: 0.9996 - val_loss: 0.0120 - val_auroc: 0.9489 - val_auprc: 0.7180\n",
            "Epoch 60/200\n",
            "1422/1422 - 8s - loss: 0.0056 - auroc: 0.9998 - auprc: 0.9996 - val_loss: 0.0124 - val_auroc: 0.9489 - val_auprc: 0.6750\n",
            "Epoch 61/200\n",
            "1422/1422 - 8s - loss: 0.0056 - auroc: 0.9998 - auprc: 0.9996 - val_loss: 0.0120 - val_auroc: 0.9489 - val_auprc: 0.7129\n",
            "Epoch 62/200\n",
            "1422/1422 - 8s - loss: 0.0053 - auroc: 0.9997 - auprc: 0.9995 - val_loss: 0.0120 - val_auroc: 0.9489 - val_auprc: 0.6935\n",
            "Epoch 63/200\n",
            "1422/1422 - 8s - loss: 0.0055 - auroc: 0.9998 - auprc: 0.9996 - val_loss: 0.0118 - val_auroc: 0.9489 - val_auprc: 0.6700\n",
            "Epoch 64/200\n",
            "1422/1422 - 8s - loss: 0.0055 - auroc: 0.9998 - auprc: 0.9996 - val_loss: 0.0109 - val_auroc: 0.9490 - val_auprc: 0.7130\n",
            "Epoch 65/200\n",
            "1422/1422 - 8s - loss: 0.0053 - auroc: 0.9997 - auprc: 0.9995 - val_loss: 0.0121 - val_auroc: 0.9489 - val_auprc: 0.7129\n",
            "Epoch 66/200\n",
            "1422/1422 - 8s - loss: 0.0052 - auroc: 0.9998 - auprc: 0.9996 - val_loss: 0.0140 - val_auroc: 0.9488 - val_auprc: 0.6649\n",
            "Epoch 67/200\n",
            "1422/1422 - 8s - loss: 0.0052 - auroc: 0.9998 - auprc: 0.9996 - val_loss: 0.0120 - val_auroc: 0.9426 - val_auprc: 0.6882\n",
            "Epoch 68/200\n",
            "1422/1422 - 8s - loss: 0.0055 - auroc: 0.9998 - auprc: 0.9995 - val_loss: 0.0120 - val_auroc: 0.9426 - val_auprc: 0.6952\n",
            "Epoch 69/200\n",
            "1422/1422 - 8s - loss: 0.0049 - auroc: 0.9998 - auprc: 0.9996 - val_loss: 0.0132 - val_auroc: 0.9488 - val_auprc: 0.6568\n",
            "Epoch 70/200\n",
            "1422/1422 - 8s - loss: 0.0052 - auroc: 0.9998 - auprc: 0.9996 - val_loss: 0.0122 - val_auroc: 0.9489 - val_auprc: 0.6959\n",
            "Epoch 71/200\n",
            "1422/1422 - 8s - loss: 0.0049 - auroc: 0.9998 - auprc: 0.9996 - val_loss: 0.0124 - val_auroc: 0.9363 - val_auprc: 0.6836\n",
            "Epoch 72/200\n",
            "1422/1422 - 8s - loss: 0.0052 - auroc: 0.9998 - auprc: 0.9996 - val_loss: 0.0131 - val_auroc: 0.9426 - val_auprc: 0.6826\n",
            "Epoch 73/200\n",
            "1422/1422 - 8s - loss: 0.0050 - auroc: 0.9998 - auprc: 0.9996 - val_loss: 0.0124 - val_auroc: 0.9489 - val_auprc: 0.6817\n",
            "Epoch 74/200\n",
            "1422/1422 - 8s - loss: 0.0048 - auroc: 0.9998 - auprc: 0.9996 - val_loss: 0.0118 - val_auroc: 0.9490 - val_auprc: 0.7365\n",
            "Epoch 75/200\n",
            "1422/1422 - 8s - loss: 0.0055 - auroc: 0.9998 - auprc: 0.9996 - val_loss: 0.0123 - val_auroc: 0.9489 - val_auprc: 0.7003\n",
            "Epoch 76/200\n",
            "1422/1422 - 8s - loss: 0.0049 - auroc: 0.9998 - auprc: 0.9997 - val_loss: 0.0111 - val_auroc: 0.9490 - val_auprc: 0.7492\n",
            "Epoch 77/200\n",
            "1422/1422 - 8s - loss: 0.0047 - auroc: 0.9998 - auprc: 0.9996 - val_loss: 0.0128 - val_auroc: 0.9426 - val_auprc: 0.6814\n",
            "Epoch 78/200\n",
            "1422/1422 - 8s - loss: 0.0050 - auroc: 0.9998 - auprc: 0.9996 - val_loss: 0.0139 - val_auroc: 0.9488 - val_auprc: 0.6500\n",
            "Epoch 79/200\n",
            "1422/1422 - 8s - loss: 0.0049 - auroc: 0.9998 - auprc: 0.9996 - val_loss: 0.0115 - val_auroc: 0.9490 - val_auprc: 0.7003\n",
            "Epoch 80/200\n",
            "1422/1422 - 8s - loss: 0.0047 - auroc: 0.9998 - auprc: 0.9996 - val_loss: 0.0112 - val_auroc: 0.9490 - val_auprc: 0.7121\n",
            "Epoch 81/200\n",
            "1422/1422 - 8s - loss: 0.0044 - auroc: 0.9998 - auprc: 0.9997 - val_loss: 0.0126 - val_auroc: 0.9363 - val_auprc: 0.6782\n",
            "Epoch 82/200\n",
            "1422/1422 - 8s - loss: 0.0048 - auroc: 0.9998 - auprc: 0.9997 - val_loss: 0.0117 - val_auroc: 0.9426 - val_auprc: 0.7074\n",
            "Epoch 83/200\n",
            "1422/1422 - 8s - loss: 0.0045 - auroc: 0.9998 - auprc: 0.9996 - val_loss: 0.0115 - val_auroc: 0.9426 - val_auprc: 0.7225\n",
            "Epoch 84/200\n",
            "1422/1422 - 8s - loss: 0.0046 - auroc: 0.9998 - auprc: 0.9996 - val_loss: 0.0123 - val_auroc: 0.9426 - val_auprc: 0.6878\n",
            "Epoch 85/200\n",
            "1422/1422 - 8s - loss: 0.0047 - auroc: 0.9998 - auprc: 0.9997 - val_loss: 0.0118 - val_auroc: 0.9489 - val_auprc: 0.7001\n",
            "Epoch 86/200\n",
            "1422/1422 - 8s - loss: 0.0044 - auroc: 0.9998 - auprc: 0.9996 - val_loss: 0.0115 - val_auroc: 0.9490 - val_auprc: 0.7517\n",
            "Epoch 87/200\n",
            "1422/1422 - 8s - loss: 0.0043 - auroc: 0.9998 - auprc: 0.9997 - val_loss: 0.0128 - val_auroc: 0.9426 - val_auprc: 0.6791\n",
            "Epoch 88/200\n",
            "1422/1422 - 8s - loss: 0.0042 - auroc: 0.9998 - auprc: 0.9997 - val_loss: 0.0130 - val_auroc: 0.9426 - val_auprc: 0.6676\n",
            "Epoch 89/200\n",
            "1422/1422 - 8s - loss: 0.0043 - auroc: 0.9998 - auprc: 0.9996 - val_loss: 0.0121 - val_auroc: 0.9426 - val_auprc: 0.7269\n",
            "Epoch 90/200\n",
            "1422/1422 - 8s - loss: 0.0045 - auroc: 0.9998 - auprc: 0.9996 - val_loss: 0.0121 - val_auroc: 0.9490 - val_auprc: 0.7265\n",
            "Epoch 91/200\n",
            "1422/1422 - 8s - loss: 0.0041 - auroc: 0.9998 - auprc: 0.9997 - val_loss: 0.0128 - val_auroc: 0.9489 - val_auprc: 0.6946\n",
            "Epoch 92/200\n",
            "1422/1422 - 8s - loss: 0.0042 - auroc: 0.9998 - auprc: 0.9996 - val_loss: 0.0121 - val_auroc: 0.9489 - val_auprc: 0.6895\n",
            "Epoch 93/200\n",
            "1422/1422 - 8s - loss: 0.0040 - auroc: 0.9998 - auprc: 0.9997 - val_loss: 0.0129 - val_auroc: 0.9426 - val_auprc: 0.6977\n",
            "Epoch 94/200\n",
            "1422/1422 - 8s - loss: 0.0045 - auroc: 0.9998 - auprc: 0.9996 - val_loss: 0.0126 - val_auroc: 0.9490 - val_auprc: 0.7315\n",
            "Epoch 95/200\n",
            "1422/1422 - 8s - loss: 0.0043 - auroc: 0.9998 - auprc: 0.9997 - val_loss: 0.0115 - val_auroc: 0.9490 - val_auprc: 0.7221\n",
            "Epoch 96/200\n",
            "1422/1422 - 8s - loss: 0.0042 - auroc: 0.9998 - auprc: 0.9997 - val_loss: 0.0115 - val_auroc: 0.9490 - val_auprc: 0.7485\n",
            "Epoch 97/200\n",
            "1422/1422 - 8s - loss: 0.0041 - auroc: 0.9998 - auprc: 0.9997 - val_loss: 0.0114 - val_auroc: 0.9490 - val_auprc: 0.7458\n",
            "Epoch 98/200\n",
            "1422/1422 - 8s - loss: 0.0037 - auroc: 0.9999 - auprc: 0.9997 - val_loss: 0.0127 - val_auroc: 0.9489 - val_auprc: 0.7108\n",
            "Epoch 99/200\n",
            "1422/1422 - 8s - loss: 0.0039 - auroc: 0.9998 - auprc: 0.9996 - val_loss: 0.0123 - val_auroc: 0.9490 - val_auprc: 0.7270\n",
            "Epoch 100/200\n",
            "1422/1422 - 8s - loss: 0.0043 - auroc: 0.9998 - auprc: 0.9997 - val_loss: 0.0121 - val_auroc: 0.9490 - val_auprc: 0.7493\n",
            "Epoch 101/200\n",
            "1422/1422 - 8s - loss: 0.0040 - auroc: 0.9998 - auprc: 0.9997 - val_loss: 0.0123 - val_auroc: 0.9490 - val_auprc: 0.7203\n",
            "Epoch 102/200\n",
            "1422/1422 - 8s - loss: 0.0038 - auroc: 0.9998 - auprc: 0.9997 - val_loss: 0.0122 - val_auroc: 0.9490 - val_auprc: 0.7272\n",
            "Epoch 103/200\n",
            "1422/1422 - 8s - loss: 0.0041 - auroc: 0.9998 - auprc: 0.9997 - val_loss: 0.0122 - val_auroc: 0.9427 - val_auprc: 0.7171\n",
            "Epoch 104/200\n",
            "1422/1422 - 8s - loss: 0.0039 - auroc: 0.9999 - auprc: 0.9997 - val_loss: 0.0120 - val_auroc: 0.9490 - val_auprc: 0.7435\n",
            "Epoch 105/200\n",
            "1422/1422 - 8s - loss: 0.0041 - auroc: 0.9998 - auprc: 0.9997 - val_loss: 0.0120 - val_auroc: 0.9490 - val_auprc: 0.6902\n",
            "Epoch 106/200\n",
            "1422/1422 - 8s - loss: 0.0040 - auroc: 0.9998 - auprc: 0.9997 - val_loss: 0.0116 - val_auroc: 0.9490 - val_auprc: 0.7207\n",
            "Epoch 107/200\n",
            "1422/1422 - 8s - loss: 0.0040 - auroc: 0.9999 - auprc: 0.9997 - val_loss: 0.0126 - val_auroc: 0.9490 - val_auprc: 0.6817\n",
            "Epoch 108/200\n",
            "1422/1422 - 8s - loss: 0.0035 - auroc: 0.9998 - auprc: 0.9997 - val_loss: 0.0117 - val_auroc: 0.9491 - val_auprc: 0.7486\n",
            "Epoch 109/200\n",
            "1422/1422 - 8s - loss: 0.0038 - auroc: 0.9998 - auprc: 0.9997 - val_loss: 0.0119 - val_auroc: 0.9490 - val_auprc: 0.7284\n",
            "Epoch 110/200\n",
            "1422/1422 - 8s - loss: 0.0042 - auroc: 0.9998 - auprc: 0.9997 - val_loss: 0.0117 - val_auroc: 0.9490 - val_auprc: 0.7228\n",
            "Epoch 111/200\n",
            "1422/1422 - 8s - loss: 0.0038 - auroc: 0.9998 - auprc: 0.9997 - val_loss: 0.0114 - val_auroc: 0.9554 - val_auprc: 0.7501\n",
            "Epoch 112/200\n",
            "1422/1422 - 8s - loss: 0.0038 - auroc: 0.9998 - auprc: 0.9997 - val_loss: 0.0123 - val_auroc: 0.9490 - val_auprc: 0.7076\n",
            "Epoch 113/200\n",
            "1422/1422 - 8s - loss: 0.0042 - auroc: 0.9998 - auprc: 0.9997 - val_loss: 0.0116 - val_auroc: 0.9427 - val_auprc: 0.7334\n",
            "Epoch 114/200\n",
            "1422/1422 - 8s - loss: 0.0037 - auroc: 0.9998 - auprc: 0.9997 - val_loss: 0.0122 - val_auroc: 0.9427 - val_auprc: 0.7083\n",
            "Epoch 115/200\n",
            "1422/1422 - 8s - loss: 0.0039 - auroc: 0.9998 - auprc: 0.9997 - val_loss: 0.0121 - val_auroc: 0.9427 - val_auprc: 0.7134\n",
            "Epoch 116/200\n",
            "1422/1422 - 8s - loss: 0.0039 - auroc: 0.9998 - auprc: 0.9997 - val_loss: 0.0116 - val_auroc: 0.9553 - val_auprc: 0.7152\n",
            "Epoch 00116: early stopping\n"
          ],
          "name": "stdout"
        }
      ]
    },
    {
      "cell_type": "code",
      "metadata": {
        "id": "5c3tl3mYZ_6s",
        "colab_type": "code",
        "colab": {
          "base_uri": "https://localhost:8080/",
          "height": 51
        },
        "outputId": "b607dbb2-0c7e-469d-a3f6-952d48ddbecd"
      },
      "source": [
        "model.load_weights(checkpoint_filepath)\n",
        "model.evaluate(x_test, y_test)"
      ],
      "execution_count": 92,
      "outputs": [
        {
          "output_type": "stream",
          "text": [
            "1781/1781 [==============================] - 5s 3ms/step - loss: 0.0183 - auroc: 0.9077 - auprc: 0.6530\n"
          ],
          "name": "stdout"
        },
        {
          "output_type": "execute_result",
          "data": {
            "text/plain": [
              "[0.0183380339294672, 0.9076786041259766, 0.6529712080955505]"
            ]
          },
          "metadata": {
            "tags": []
          },
          "execution_count": 92
        }
      ]
    },
    {
      "cell_type": "code",
      "metadata": {
        "id": "KEKqURQ0aALJ",
        "colab_type": "code",
        "colab": {
          "base_uri": "https://localhost:8080/",
          "height": 736
        },
        "outputId": "d711298b-1024-49bf-cc4a-ab8d0a0df99b"
      },
      "source": [
        "import matplotlib.pyplot as plt\n",
        "import seaborn as sns\n",
        "\n",
        "history = history.history\n",
        "\n",
        "fig, (ax1, ax2) = plt.subplots(2, 1, sharex='col', figsize=(20, 14))\n",
        "\n",
        "ax1.plot(history['loss'], label='Train loss')\n",
        "ax1.plot(history['val_loss'], label='Validation loss')\n",
        "ax1.legend(loc='best')\n",
        "ax1.set_title('Loss')\n",
        "\n",
        "ax2.plot(history['auprc'], label='Train accuracy')\n",
        "ax2.plot(history['val_auprc'], label='Validation accuracy')\n",
        "ax2.legend(loc='best')\n",
        "ax2.set_title('AUPRC')\n",
        "\n",
        "plt.xlabel('Epochs')\n",
        "sns.despine()\n",
        "plt.show()"
      ],
      "execution_count": 93,
      "outputs": [
        {
          "output_type": "display_data",
          "data": {
            "image/png": "[encoded data removed]",
            "text/plain": [
              "<Figure size 1440x1008 with 2 Axes>"
            ]
          },
          "metadata": {
            "tags": [],
            "needs_background": "light"
          }
        }
      ]
    },
    {
      "cell_type": "code",
      "metadata": {
        "id": "5n2zYYwvZ6pe",
        "colab_type": "code",
        "colab": {
          "base_uri": "https://localhost:8080/",
          "height": 34
        },
        "outputId": "a44732d8-f4fa-457a-cc8b-2c07b247f6e7"
      },
      "source": [
        "y_pred = model.predict(x_test)\n",
        "auprc = tf.keras.metrics.AUC(curve='PR')\n",
        "auprc.update_state(y_test, y_pred)\n",
        "TF_Model_AUPRC = auprc.result().numpy()\n",
        "TF_Model_AUPRC"
      ],
      "execution_count": 94,
      "outputs": [
        {
          "output_type": "execute_result",
          "data": {
            "text/plain": [
              "0.6529712"
            ]
          },
          "metadata": {
            "tags": []
          },
          "execution_count": 94
        }
      ]
    },
    {
      "cell_type": "code",
      "metadata": {
        "id": "x1HkR52_aK7q",
        "colab_type": "code",
        "colab": {
          "base_uri": "https://localhost:8080/",
          "height": 85
        },
        "outputId": "7230c755-2f43-4902-e253-e15cac4844bf"
      },
      "source": [
        "TF_Model_metrics = compute_metrics(y_test, y_pred)\n",
        "print_metrics(TF_Model_metrics)"
      ],
      "execution_count": 95,
      "outputs": [
        {
          "output_type": "stream",
          "text": [
            "Fraudulent Transactions Detected (True Positives): 78\n",
            "Fraudulent Transactions Missed (False Negatives): 20\n",
            "Legitimate Transactions Incorrectly Detected (False Positives): 76\n",
            "Legitimate Transactions Detected (True Negatives): 56788\n"
          ],
          "name": "stdout"
        }
      ]
    },
    {
      "cell_type": "code",
      "metadata": {
        "id": "Wr9D6l2oaSrl",
        "colab_type": "code",
        "colab": {
          "base_uri": "https://localhost:8080/",
          "height": 68
        },
        "outputId": "77e88804-03a6-4b41-f70d-c51f8008d8fb"
      },
      "source": [
        "print('RF_AUPRC: ' + str(RF_AUPRC))\n",
        "print('XGB_AUPRC: ' + str(XGB_AUPRC))\n",
        "print('TF_Model_AUPRC: ' + str(TF_Model_AUPRC))"
      ],
      "execution_count": 96,
      "outputs": [
        {
          "output_type": "stream",
          "text": [
            "RF_AUPRC: 0.7073558\n",
            "XGB_AUPRC: 0.041236956\n",
            "TF_Model_AUPRC: 0.6529712\n"
          ],
          "name": "stdout"
        }
      ]
    },
    {
      "cell_type": "code",
      "metadata": {
        "id": "Tnqq5OQdaWw9",
        "colab_type": "code",
        "colab": {
          "base_uri": "https://localhost:8080/",
          "height": 272
        },
        "outputId": "6d03e115-01c6-4da6-9ef7-ebd8ae06566a"
      },
      "source": [
        "print('Random Forest ********************')\n",
        "print_metrics(RF_metrics)\n",
        "print('XGBoost **************************')\n",
        "print_metrics(XGB_metrics)\n",
        "print('TensorFlow DNN Model ************')\n",
        "print_metrics(TF_Model_metrics)"
      ],
      "execution_count": 97,
      "outputs": [
        {
          "output_type": "stream",
          "text": [
            "Random Forest ********************\n",
            "Fraudulent Transactions Detected (True Positives): 78\n",
            "Fraudulent Transactions Missed (False Negatives): 20\n",
            "Legitimate Transactions Incorrectly Detected (False Positives): 10\n",
            "Legitimate Transactions Detected (True Negatives): 56854\n",
            "XGBoost **************************\n",
            "Fraudulent Transactions Detected (True Positives): 88\n",
            "Fraudulent Transactions Missed (False Negatives): 10\n",
            "Legitimate Transactions Incorrectly Detected (False Positives): 1855\n",
            "Legitimate Transactions Detected (True Negatives): 55009\n",
            "TensorFlow DNN Model ************\n",
            "Fraudulent Transactions Detected (True Positives): 78\n",
            "Fraudulent Transactions Missed (False Negatives): 20\n",
            "Legitimate Transactions Incorrectly Detected (False Positives): 76\n",
            "Legitimate Transactions Detected (True Negatives): 56788\n"
          ],
          "name": "stdout"
        }
      ]
    },
    {
      "cell_type": "code",
      "metadata": {
        "id": "ZpsMl0T2-31r",
        "colab_type": "code",
        "colab": {}
      },
      "source": [
        "tp_df['Model'] = models\n",
        "results = [RF_metrics[0], XGB_metrics[0], TF_Model_metrics[0]]\n",
        "tp_df['ADASYN'] = results\n",
        "fn_df['Model'] = models\n",
        "results = [RF_metrics[1], XGB_metrics[1], TF_Model_metrics[1]]\n",
        "fn_df['ADASYN'] = results\n",
        "fp_df['Model'] = models\n",
        "results = [RF_metrics[2], XGB_metrics[2], TF_Model_metrics[2]]\n",
        "fp_df['ADASYN'] = results\n",
        "tn_df['Model'] = models\n",
        "results = [RF_metrics[3], XGB_metrics[3], TF_Model_metrics[3]]\n",
        "tn_df['ADASYN'] = results"
      ],
      "execution_count": 98,
      "outputs": []
    },
    {
      "cell_type": "code",
      "metadata": {
        "id": "M2KgL09Cc_HA",
        "colab_type": "code",
        "colab": {}
      },
      "source": [
        "results = [RF_AUPRC, XGB_AUPRC, TF_Model_AUPRC]\n",
        "auprc_df['Oversampling ADASYN'] = results"
      ],
      "execution_count": 99,
      "outputs": []
    },
    {
      "cell_type": "markdown",
      "metadata": {
        "id": "RpzINGbmEBp-",
        "colab_type": "text"
      },
      "source": [
        "# Combo (SMOTEENN)\n",
        " over-sampling using SMOTE (Synthetic Minority Over-sampling Technique) and cleaning using ENN (EditedNearestNeighbours) "
      ]
    },
    {
      "cell_type": "code",
      "metadata": {
        "id": "cdJdZt8zerIf",
        "colab_type": "code",
        "colab": {}
      },
      "source": [
        "y_train = train_df['Class'].values\n",
        "x_train = train_df.drop(['Class'], axis='columns')\n",
        "x_train = x_train.values"
      ],
      "execution_count": 100,
      "outputs": []
    },
    {
      "cell_type": "code",
      "metadata": {
        "id": "jehcOgnecD0d",
        "colab_type": "code",
        "colab": {
          "base_uri": "https://localhost:8080/",
          "height": 85
        },
        "outputId": "688b5f49-0dd3-4f87-cc6f-1f499204ba03"
      },
      "source": [
        "%%time \n",
        "neg, pos = bincount(y_train)\n",
        "print('Original balance: ' + str(neg) + ' non-fraud, ' + str(pos) + ' fraud')\n",
        "\n",
        "from imblearn.combine import SMOTEENN\n",
        "smote_enn = SMOTEENN(random_state=seed)\n",
        "x_train, y_train = smote_enn.fit_resample(x_train, y_train)\n",
        "\n",
        "neg, pos = bincount(y_train)\n",
        "print('New balance: ' + str(neg) + ' non-fraud, ' + str(pos) + ' fraud')\n"
      ],
      "execution_count": 101,
      "outputs": [
        {
          "output_type": "stream",
          "text": [
            "Original balance: 181961 non-fraud, 315 fraud\n",
            "New balance: 181644 non-fraud, 181961 fraud\n",
            "CPU times: user 6min 8s, sys: 0 ns, total: 6min 8s\n",
            "Wall time: 6min 8s\n"
          ],
          "name": "stdout"
        }
      ]
    },
    {
      "cell_type": "code",
      "metadata": {
        "id": "y1gicfv0feIC",
        "colab_type": "code",
        "colab": {
          "base_uri": "https://localhost:8080/",
          "height": 153
        },
        "outputId": "f88ff914-29cd-407c-9029-cb66e6b2fb41"
      },
      "source": [
        "classifier = RandomForestClassifier(n_estimators=100, n_jobs=-1, random_state=seed)\n",
        "classifier.fit(x_train, y_train)"
      ],
      "execution_count": 102,
      "outputs": [
        {
          "output_type": "execute_result",
          "data": {
            "text/plain": [
              "RandomForestClassifier(bootstrap=True, ccp_alpha=0.0, class_weight=None,\n",
              "                       criterion='gini', max_depth=None, max_features='auto',\n",
              "                       max_leaf_nodes=None, max_samples=None,\n",
              "                       min_impurity_decrease=0.0, min_impurity_split=None,\n",
              "                       min_samples_leaf=1, min_samples_split=2,\n",
              "                       min_weight_fraction_leaf=0.0, n_estimators=100,\n",
              "                       n_jobs=-1, oob_score=False, random_state=51, verbose=0,\n",
              "                       warm_start=False)"
            ]
          },
          "metadata": {
            "tags": []
          },
          "execution_count": 102
        }
      ]
    },
    {
      "cell_type": "code",
      "metadata": {
        "id": "nYLErCE-feTR",
        "colab_type": "code",
        "colab": {
          "base_uri": "https://localhost:8080/",
          "height": 34
        },
        "outputId": "5f63e83d-5c3a-4578-a48f-a54d93c5ec84"
      },
      "source": [
        "y_pred = classifier.predict(x_test)\n",
        "auprc = tf.keras.metrics.AUC(curve='PR')\n",
        "auprc.update_state(y_test, y_pred)\n",
        "RF_AUPRC = auprc.result().numpy()\n",
        "RF_AUPRC"
      ],
      "execution_count": 103,
      "outputs": [
        {
          "output_type": "execute_result",
          "data": {
            "text/plain": [
              "0.658314"
            ]
          },
          "metadata": {
            "tags": []
          },
          "execution_count": 103
        }
      ]
    },
    {
      "cell_type": "code",
      "metadata": {
        "id": "rTxcJnP-fsut",
        "colab_type": "code",
        "colab": {
          "base_uri": "https://localhost:8080/",
          "height": 85
        },
        "outputId": "1f4574a6-8c59-4a11-b494-9610feea53e2"
      },
      "source": [
        "RF_metrics = compute_metrics(y_test, y_pred)\n",
        "print_metrics(RF_metrics)"
      ],
      "execution_count": 104,
      "outputs": [
        {
          "output_type": "stream",
          "text": [
            "Fraudulent Transactions Detected (True Positives): 79\n",
            "Fraudulent Transactions Missed (False Negatives): 19\n",
            "Legitimate Transactions Incorrectly Detected (False Positives): 18\n",
            "Legitimate Transactions Detected (True Negatives): 56846\n"
          ],
          "name": "stdout"
        }
      ]
    },
    {
      "cell_type": "code",
      "metadata": {
        "id": "eh6e09xhfxWP",
        "colab_type": "code",
        "colab": {
          "base_uri": "https://localhost:8080/",
          "height": 51
        },
        "outputId": "b9916d96-a0e8-406b-b61d-4e70366b26fa"
      },
      "source": [
        "%%time\n",
        "xgbc = XGBClassifier(objective='binary:logistic', seed=seed)\n",
        "xgbc.fit(x_train, y_train)"
      ],
      "execution_count": 105,
      "outputs": [
        {
          "output_type": "stream",
          "text": [
            "CPU times: user 1min 19s, sys: 0 ns, total: 1min 19s\n",
            "Wall time: 1min 19s\n"
          ],
          "name": "stdout"
        }
      ]
    },
    {
      "cell_type": "code",
      "metadata": {
        "id": "e0SwYbshfs5h",
        "colab_type": "code",
        "colab": {
          "base_uri": "https://localhost:8080/",
          "height": 34
        },
        "outputId": "2b870699-92a1-4a18-b9eb-8a0901a10a89"
      },
      "source": [
        "y_pred = xgbc.predict(x_test)\n",
        "auprc = tf.keras.metrics.AUC(curve='PR')\n",
        "auprc.update_state(y_test, y_pred)\n",
        "XGB_AUPRC = auprc.result().numpy()\n",
        "XGB_AUPRC"
      ],
      "execution_count": 106,
      "outputs": [
        {
          "output_type": "execute_result",
          "data": {
            "text/plain": [
              "0.09770891"
            ]
          },
          "metadata": {
            "tags": []
          },
          "execution_count": 106
        }
      ]
    },
    {
      "cell_type": "code",
      "metadata": {
        "id": "dR7oA_gwf4o3",
        "colab_type": "code",
        "colab": {
          "base_uri": "https://localhost:8080/",
          "height": 85
        },
        "outputId": "165d9860-e51c-4c48-8a8d-5854f87d475b"
      },
      "source": [
        "XGB_metrics = compute_metrics(y_test, y_pred)\n",
        "print_metrics(XGB_metrics)"
      ],
      "execution_count": 107,
      "outputs": [
        {
          "output_type": "stream",
          "text": [
            "Fraudulent Transactions Detected (True Positives): 86\n",
            "Fraudulent Transactions Missed (False Negatives): 12\n",
            "Legitimate Transactions Incorrectly Detected (False Positives): 693\n",
            "Legitimate Transactions Detected (True Negatives): 56171\n"
          ],
          "name": "stdout"
        }
      ]
    },
    {
      "cell_type": "code",
      "metadata": {
        "id": "SI111Yi_f9HI",
        "colab_type": "code",
        "colab": {
          "base_uri": "https://localhost:8080/",
          "height": 629
        },
        "outputId": "871d7a62-bd6d-4c52-a2e2-d5ee9cc9a83c"
      },
      "source": [
        "model = create_model()"
      ],
      "execution_count": 108,
      "outputs": [
        {
          "output_type": "stream",
          "text": [
            "Model: \"functional_1\"\n",
            "_________________________________________________________________\n",
            "Layer (type)                 Output Shape              Param #   \n",
            "=================================================================\n",
            "input1 (InputLayer)          [(None, 30)]              0         \n",
            "_________________________________________________________________\n",
            "dense (Dense)                (None, 96)                2976      \n",
            "_________________________________________________________________\n",
            "batch_normalization (BatchNo (None, 96)                384       \n",
            "_________________________________________________________________\n",
            "elu (ELU)                    (None, 96)                0         \n",
            "_________________________________________________________________\n",
            "dropout (Dropout)            (None, 96)                0         \n",
            "_________________________________________________________________\n",
            "dense_1 (Dense)              (None, 96)                9312      \n",
            "_________________________________________________________________\n",
            "batch_normalization_1 (Batch (None, 96)                384       \n",
            "_________________________________________________________________\n",
            "elu_1 (ELU)                  (None, 96)                0         \n",
            "_________________________________________________________________\n",
            "dropout_1 (Dropout)          (None, 96)                0         \n",
            "_________________________________________________________________\n",
            "dense_2 (Dense)              (None, 96)                9312      \n",
            "_________________________________________________________________\n",
            "batch_normalization_2 (Batch (None, 96)                384       \n",
            "_________________________________________________________________\n",
            "elu_2 (ELU)                  (None, 96)                0         \n",
            "_________________________________________________________________\n",
            "dropout_2 (Dropout)          (None, 96)                0         \n",
            "_________________________________________________________________\n",
            "out (Dense)                  (None, 1)                 97        \n",
            "=================================================================\n",
            "Total params: 22,849\n",
            "Trainable params: 22,273\n",
            "Non-trainable params: 576\n",
            "_________________________________________________________________\n"
          ],
          "name": "stdout"
        }
      ]
    },
    {
      "cell_type": "code",
      "metadata": {
        "id": "8NAGdJ7jftBu",
        "colab_type": "code",
        "colab": {
          "base_uri": "https://localhost:8080/",
          "height": 1000
        },
        "outputId": "9949cd6e-c67c-42d7-c0a2-8ce5c32fb798"
      },
      "source": [
        "checkpoint_filepath = 'model.h5'\n",
        "mc = ModelCheckpoint(checkpoint_filepath, verbose=0, save_weights_only=True, \n",
        "                     monitor='val_auprc', mode='max', save_best_only=True)\n",
        "\n",
        "es = EarlyStopping(monitor='val_auprc', patience=30, verbose=1, mode='max')\n",
        "history = model.fit(x_train, y_train, epochs=200, verbose=2, callbacks=[es, mc], \n",
        "                    validation_data=(x_val, y_val), batch_size=BATCH_SIZE)"
      ],
      "execution_count": 109,
      "outputs": [
        {
          "output_type": "stream",
          "text": [
            "Epoch 1/200\n",
            "1421/1421 - 8s - loss: 0.1298 - auroc: 0.9892 - auprc: 0.9903 - val_loss: 0.0782 - val_auroc: 0.9913 - val_auprc: 0.8049\n",
            "Epoch 2/200\n",
            "1421/1421 - 8s - loss: 0.0745 - auroc: 0.9966 - auprc: 0.9965 - val_loss: 0.0469 - val_auroc: 0.9882 - val_auprc: 0.7928\n",
            "Epoch 3/200\n",
            "1421/1421 - 8s - loss: 0.0529 - auroc: 0.9981 - auprc: 0.9978 - val_loss: 0.0392 - val_auroc: 0.9871 - val_auprc: 0.7714\n",
            "Epoch 4/200\n",
            "1421/1421 - 8s - loss: 0.0419 - auroc: 0.9987 - auprc: 0.9984 - val_loss: 0.0339 - val_auroc: 0.9716 - val_auprc: 0.7426\n",
            "Epoch 5/200\n",
            "1421/1421 - 8s - loss: 0.0357 - auroc: 0.9990 - auprc: 0.9987 - val_loss: 0.0291 - val_auroc: 0.9721 - val_auprc: 0.7128\n",
            "Epoch 6/200\n",
            "1421/1421 - 8s - loss: 0.0306 - auroc: 0.9992 - auprc: 0.9989 - val_loss: 0.0267 - val_auroc: 0.9722 - val_auprc: 0.6911\n",
            "Epoch 7/200\n",
            "1421/1421 - 8s - loss: 0.0278 - auroc: 0.9993 - auprc: 0.9990 - val_loss: 0.0263 - val_auroc: 0.9725 - val_auprc: 0.7079\n",
            "Epoch 8/200\n",
            "1421/1421 - 8s - loss: 0.0253 - auroc: 0.9993 - auprc: 0.9990 - val_loss: 0.0214 - val_auroc: 0.9727 - val_auprc: 0.7405\n",
            "Epoch 9/200\n",
            "1421/1421 - 8s - loss: 0.0233 - auroc: 0.9994 - auprc: 0.9991 - val_loss: 0.0226 - val_auroc: 0.9729 - val_auprc: 0.7142\n",
            "Epoch 10/200\n",
            "1421/1421 - 8s - loss: 0.0208 - auroc: 0.9995 - auprc: 0.9993 - val_loss: 0.0183 - val_auroc: 0.9732 - val_auprc: 0.7282\n",
            "Epoch 11/200\n",
            "1421/1421 - 8s - loss: 0.0199 - auroc: 0.9995 - auprc: 0.9992 - val_loss: 0.0187 - val_auroc: 0.9667 - val_auprc: 0.7187\n",
            "Epoch 12/200\n",
            "1421/1421 - 8s - loss: 0.0181 - auroc: 0.9995 - auprc: 0.9993 - val_loss: 0.0183 - val_auroc: 0.9731 - val_auprc: 0.6971\n",
            "Epoch 13/200\n",
            "1421/1421 - 8s - loss: 0.0170 - auroc: 0.9996 - auprc: 0.9994 - val_loss: 0.0147 - val_auroc: 0.9732 - val_auprc: 0.7304\n",
            "Epoch 14/200\n",
            "1421/1421 - 8s - loss: 0.0158 - auroc: 0.9996 - auprc: 0.9994 - val_loss: 0.0148 - val_auroc: 0.9671 - val_auprc: 0.7171\n",
            "Epoch 15/200\n",
            "1421/1421 - 8s - loss: 0.0153 - auroc: 0.9996 - auprc: 0.9994 - val_loss: 0.0156 - val_auroc: 0.9672 - val_auprc: 0.7113\n",
            "Epoch 16/200\n",
            "1421/1421 - 8s - loss: 0.0150 - auroc: 0.9996 - auprc: 0.9994 - val_loss: 0.0178 - val_auroc: 0.9671 - val_auprc: 0.6976\n",
            "Epoch 17/200\n",
            "1421/1421 - 8s - loss: 0.0141 - auroc: 0.9996 - auprc: 0.9994 - val_loss: 0.0177 - val_auroc: 0.9671 - val_auprc: 0.7001\n",
            "Epoch 18/200\n",
            "1421/1421 - 8s - loss: 0.0140 - auroc: 0.9997 - auprc: 0.9995 - val_loss: 0.0140 - val_auroc: 0.9736 - val_auprc: 0.7411\n",
            "Epoch 19/200\n",
            "1421/1421 - 8s - loss: 0.0133 - auroc: 0.9997 - auprc: 0.9995 - val_loss: 0.0144 - val_auroc: 0.9737 - val_auprc: 0.6995\n",
            "Epoch 20/200\n",
            "1421/1421 - 8s - loss: 0.0122 - auroc: 0.9997 - auprc: 0.9995 - val_loss: 0.0145 - val_auroc: 0.9736 - val_auprc: 0.7028\n",
            "Epoch 21/200\n",
            "1421/1421 - 8s - loss: 0.0120 - auroc: 0.9997 - auprc: 0.9995 - val_loss: 0.0133 - val_auroc: 0.9674 - val_auprc: 0.7446\n",
            "Epoch 22/200\n",
            "1421/1421 - 8s - loss: 0.0112 - auroc: 0.9997 - auprc: 0.9996 - val_loss: 0.0157 - val_auroc: 0.9736 - val_auprc: 0.7082\n",
            "Epoch 23/200\n",
            "1421/1421 - 8s - loss: 0.0112 - auroc: 0.9997 - auprc: 0.9995 - val_loss: 0.0146 - val_auroc: 0.9673 - val_auprc: 0.7209\n",
            "Epoch 24/200\n",
            "1421/1421 - 8s - loss: 0.0111 - auroc: 0.9997 - auprc: 0.9995 - val_loss: 0.0136 - val_auroc: 0.9674 - val_auprc: 0.7369\n",
            "Epoch 25/200\n",
            "1421/1421 - 8s - loss: 0.0108 - auroc: 0.9997 - auprc: 0.9996 - val_loss: 0.0138 - val_auroc: 0.9673 - val_auprc: 0.7266\n",
            "Epoch 26/200\n",
            "1421/1421 - 8s - loss: 0.0102 - auroc: 0.9997 - auprc: 0.9996 - val_loss: 0.0136 - val_auroc: 0.9674 - val_auprc: 0.7198\n",
            "Epoch 27/200\n",
            "1421/1421 - 8s - loss: 0.0098 - auroc: 0.9998 - auprc: 0.9996 - val_loss: 0.0128 - val_auroc: 0.9612 - val_auprc: 0.7212\n",
            "Epoch 28/200\n",
            "1421/1421 - 8s - loss: 0.0096 - auroc: 0.9998 - auprc: 0.9996 - val_loss: 0.0141 - val_auroc: 0.9611 - val_auprc: 0.7206\n",
            "Epoch 29/200\n",
            "1421/1421 - 8s - loss: 0.0095 - auroc: 0.9998 - auprc: 0.9996 - val_loss: 0.0128 - val_auroc: 0.9612 - val_auprc: 0.7245\n",
            "Epoch 30/200\n",
            "1421/1421 - 8s - loss: 0.0091 - auroc: 0.9998 - auprc: 0.9996 - val_loss: 0.0143 - val_auroc: 0.9549 - val_auprc: 0.6755\n",
            "Epoch 31/200\n",
            "1421/1421 - 8s - loss: 0.0088 - auroc: 0.9997 - auprc: 0.9995 - val_loss: 0.0126 - val_auroc: 0.9550 - val_auprc: 0.7476\n",
            "Epoch 00031: early stopping\n"
          ],
          "name": "stdout"
        }
      ]
    },
    {
      "cell_type": "code",
      "metadata": {
        "id": "yNAX0IhUgFrk",
        "colab_type": "code",
        "colab": {
          "base_uri": "https://localhost:8080/",
          "height": 51
        },
        "outputId": "eac9a63c-b3eb-491d-9749-727ce9527b4e"
      },
      "source": [
        "model.load_weights(checkpoint_filepath)\n",
        "model.evaluate(x_test, y_test)"
      ],
      "execution_count": 110,
      "outputs": [
        {
          "output_type": "stream",
          "text": [
            "1781/1781 [==============================] - 5s 3ms/step - loss: 0.0798 - auroc: 0.9640 - auprc: 0.7505\n"
          ],
          "name": "stdout"
        },
        {
          "output_type": "execute_result",
          "data": {
            "text/plain": [
              "[0.07979761809110641, 0.9639756679534912, 0.7505356669425964]"
            ]
          },
          "metadata": {
            "tags": []
          },
          "execution_count": 110
        }
      ]
    },
    {
      "cell_type": "code",
      "metadata": {
        "id": "84vLiZiMfecn",
        "colab_type": "code",
        "colab": {
          "base_uri": "https://localhost:8080/",
          "height": 738
        },
        "outputId": "823f508e-9218-47ae-f046-88fdd9a90056"
      },
      "source": [
        "import matplotlib.pyplot as plt\n",
        "import seaborn as sns\n",
        "\n",
        "history = history.history\n",
        "\n",
        "fig, (ax1, ax2) = plt.subplots(2, 1, sharex='col', figsize=(20, 14))\n",
        "\n",
        "ax1.plot(history['loss'], label='Train loss')\n",
        "ax1.plot(history['val_loss'], label='Validation loss')\n",
        "ax1.legend(loc='best')\n",
        "ax1.set_title('Loss')\n",
        "\n",
        "ax2.plot(history['auprc'], label='Train accuracy')\n",
        "ax2.plot(history['val_auprc'], label='Validation accuracy')\n",
        "ax2.legend(loc='best')\n",
        "ax2.set_title('AUPRC')\n",
        "\n",
        "plt.xlabel('Epochs')\n",
        "sns.despine()\n",
        "plt.show()"
      ],
      "execution_count": 111,
      "outputs": [
        {
          "output_type": "display_data",
          "data": {
            "image/png": "[encoded data removed]",
            "text/plain": [
              "<Figure size 1440x1008 with 2 Axes>"
            ]
          },
          "metadata": {
            "tags": [],
            "needs_background": "light"
          }
        }
      ]
    },
    {
      "cell_type": "code",
      "metadata": {
        "id": "_7ZaAsEhgQ_3",
        "colab_type": "code",
        "colab": {
          "base_uri": "https://localhost:8080/",
          "height": 34
        },
        "outputId": "f9adb358-ab15-4502-b357-222feca26656"
      },
      "source": [
        "y_pred = model.predict(x_test)\n",
        "auprc = tf.keras.metrics.AUC(curve='PR')\n",
        "auprc.update_state(y_test, y_pred)\n",
        "TF_Model_AUPRC = auprc.result().numpy()\n",
        "TF_Model_AUPRC"
      ],
      "execution_count": 112,
      "outputs": [
        {
          "output_type": "execute_result",
          "data": {
            "text/plain": [
              "0.75053567"
            ]
          },
          "metadata": {
            "tags": []
          },
          "execution_count": 112
        }
      ]
    },
    {
      "cell_type": "code",
      "metadata": {
        "id": "xoj3aYtogYMI",
        "colab_type": "code",
        "colab": {
          "base_uri": "https://localhost:8080/",
          "height": 85
        },
        "outputId": "da5f2bc7-0dec-4f9f-f867-50ca34d4fc14"
      },
      "source": [
        "TF_Model_metrics = compute_metrics(y_test, y_pred)\n",
        "print_metrics(TF_Model_metrics)"
      ],
      "execution_count": 113,
      "outputs": [
        {
          "output_type": "stream",
          "text": [
            "Fraudulent Transactions Detected (True Positives): 88\n",
            "Fraudulent Transactions Missed (False Negatives): 10\n",
            "Legitimate Transactions Incorrectly Detected (False Positives): 1682\n",
            "Legitimate Transactions Detected (True Negatives): 55182\n"
          ],
          "name": "stdout"
        }
      ]
    },
    {
      "cell_type": "code",
      "metadata": {
        "id": "LKxnMvhigY2K",
        "colab_type": "code",
        "colab": {
          "base_uri": "https://localhost:8080/",
          "height": 68
        },
        "outputId": "9d207d51-4dae-4d07-b0c1-36c4faae5bd0"
      },
      "source": [
        "print('RF_AUPRC: ' + str(RF_AUPRC))\n",
        "print('XGB_AUPRC: ' + str(XGB_AUPRC))\n",
        "print('TF_Model_AUPRC: ' + str(TF_Model_AUPRC))"
      ],
      "execution_count": 114,
      "outputs": [
        {
          "output_type": "stream",
          "text": [
            "RF_AUPRC: 0.658314\n",
            "XGB_AUPRC: 0.09770891\n",
            "TF_Model_AUPRC: 0.75053567\n"
          ],
          "name": "stdout"
        }
      ]
    },
    {
      "cell_type": "code",
      "metadata": {
        "id": "vIlo0rIjgbn-",
        "colab_type": "code",
        "colab": {
          "base_uri": "https://localhost:8080/",
          "height": 272
        },
        "outputId": "42787f64-cca6-48a1-9f85-8a7c38d8c319"
      },
      "source": [
        "print('Random Forest ********************')\n",
        "print_metrics(RF_metrics)\n",
        "print('XGBoost **************************')\n",
        "print_metrics(XGB_metrics)\n",
        "print('TensorFlow DNN Model ************')\n",
        "print_metrics(TF_Model_metrics)"
      ],
      "execution_count": 115,
      "outputs": [
        {
          "output_type": "stream",
          "text": [
            "Random Forest ********************\n",
            "Fraudulent Transactions Detected (True Positives): 79\n",
            "Fraudulent Transactions Missed (False Negatives): 19\n",
            "Legitimate Transactions Incorrectly Detected (False Positives): 18\n",
            "Legitimate Transactions Detected (True Negatives): 56846\n",
            "XGBoost **************************\n",
            "Fraudulent Transactions Detected (True Positives): 86\n",
            "Fraudulent Transactions Missed (False Negatives): 12\n",
            "Legitimate Transactions Incorrectly Detected (False Positives): 693\n",
            "Legitimate Transactions Detected (True Negatives): 56171\n",
            "TensorFlow DNN Model ************\n",
            "Fraudulent Transactions Detected (True Positives): 88\n",
            "Fraudulent Transactions Missed (False Negatives): 10\n",
            "Legitimate Transactions Incorrectly Detected (False Positives): 1682\n",
            "Legitimate Transactions Detected (True Negatives): 55182\n"
          ],
          "name": "stdout"
        }
      ]
    },
    {
      "cell_type": "code",
      "metadata": {
        "id": "wKcxL0uJ-pNb",
        "colab_type": "code",
        "colab": {}
      },
      "source": [
        "tp_df['Model'] = models\n",
        "results = [RF_metrics[0], XGB_metrics[0], TF_Model_metrics[0]]\n",
        "tp_df['SMOTEENN'] = results\n",
        "fn_df['Model'] = models\n",
        "results = [RF_metrics[1], XGB_metrics[1], TF_Model_metrics[1]]\n",
        "fn_df['SMOTEENN'] = results\n",
        "fp_df['Model'] = models\n",
        "results = [RF_metrics[2], XGB_metrics[2], TF_Model_metrics[2]]\n",
        "fp_df['SMOTEENN'] = results\n",
        "tn_df['Model'] = models\n",
        "results = [RF_metrics[3], XGB_metrics[3], TF_Model_metrics[3]]\n",
        "tn_df['SMOTEENN'] = results"
      ],
      "execution_count": 116,
      "outputs": []
    },
    {
      "cell_type": "code",
      "metadata": {
        "id": "D3xooSZdjmzJ",
        "colab_type": "code",
        "colab": {}
      },
      "source": [
        "results = [RF_AUPRC, XGB_AUPRC, TF_Model_AUPRC]\n",
        "auprc_df['Combo (SMOTEENN)'] = results"
      ],
      "execution_count": 117,
      "outputs": []
    },
    {
      "cell_type": "markdown",
      "metadata": {
        "id": "enP2kva7vQZP",
        "colab_type": "text"
      },
      "source": [
        "# Results Summary"
      ]
    },
    {
      "cell_type": "markdown",
      "metadata": {
        "id": "qoAyT6wNnBvn",
        "colab_type": "text"
      },
      "source": [
        "Best resulting AUPRC was our baseline DNN model. However, the best Recall was when undersampling at the expense of Precision.\n",
        "\n"
      ]
    },
    {
      "cell_type": "code",
      "metadata": {
        "id": "IERE9JxF0ukk",
        "colab_type": "code",
        "colab": {
          "base_uri": "https://localhost:8080/",
          "height": 34
        },
        "outputId": "06b66a25-4658-493f-b5b1-4f8b29aca915"
      },
      "source": [
        "neg, pos = bincount(y_test)\n",
        "print(str(neg) + ' non-fraud, ' + str(pos) + ' fraud')"
      ],
      "execution_count": 118,
      "outputs": [
        {
          "output_type": "stream",
          "text": [
            "56864 non-fraud, 98 fraud\n"
          ],
          "name": "stdout"
        }
      ]
    },
    {
      "cell_type": "code",
      "metadata": {
        "id": "YRpU6JbIuPsa",
        "colab_type": "code",
        "colab": {
          "base_uri": "https://localhost:8080/",
          "height": 716
        },
        "outputId": "3d434729-9af8-4c63-bbc0-8cb5c2cae76c"
      },
      "source": [
        "a = auprc_df.copy(deep=True)\n",
        "a.index = a.Model\n",
        "a.drop(['Model'], axis='columns', inplace=True)\n",
        "a = a.T\n",
        "a['RandomForest'] = a['RandomForest']*100\n",
        "a['XGBoost'] = a['XGBoost']*100\n",
        "a['TensorFlow DNN'] = a['TensorFlow DNN']*100\n",
        "ax = a.plot.bar(rot=90, figsize=(18, 10), title='AUPRC')"
      ],
      "execution_count": 119,
      "outputs": [
        {
          "output_type": "display_data",
          "data": {
            "image/png": "[encoded data removed]",
            "text/plain": [
              "<Figure size 1296x720 with 1 Axes>"
            ]
          },
          "metadata": {
            "tags": [],
            "needs_background": "light"
          }
        }
      ]
    },
    {
      "cell_type": "code",
      "metadata": {
        "id": "QINVVMCd-_ti",
        "colab_type": "code",
        "colab": {
          "base_uri": "https://localhost:8080/",
          "height": 716
        },
        "outputId": "c920b73e-b7cf-48cd-9a3b-2e3ddf293575"
      },
      "source": [
        "a = tp_df.copy(deep=True)\n",
        "a.index = a.Model\n",
        "a.drop(['Model'], axis='columns', inplace=True)\n",
        "a = a.T\n",
        "a['RandomForest'] = a['RandomForest']\n",
        "a['XGBoost'] = a['XGBoost']\n",
        "a['TensorFlow DNN'] = a['TensorFlow DNN']\n",
        "ax = a.plot.bar(rot=90, figsize=(18, 10), title='Fraudulent Transactions Detected (True Positives)  98')"
      ],
      "execution_count": 120,
      "outputs": [
        {
          "output_type": "display_data",
          "data": {
            "image/png": "[encoded data removed]",
            "text/plain": [
              "<Figure size 1296x720 with 1 Axes>"
            ]
          },
          "metadata": {
            "tags": [],
            "needs_background": "light"
          }
        }
      ]
    },
    {
      "cell_type": "code",
      "metadata": {
        "id": "pZ5BSTof_Kqc",
        "colab_type": "code",
        "colab": {
          "base_uri": "https://localhost:8080/",
          "height": 716
        },
        "outputId": "d745e957-2912-4bdb-f6b8-44fbf25c498c"
      },
      "source": [
        "a = fn_df.copy(deep=True)\n",
        "a.index = a.Model\n",
        "a.drop(['Model'], axis='columns', inplace=True)\n",
        "a = a.T\n",
        "a['RandomForest'] = a['RandomForest']\n",
        "a['XGBoost'] = a['XGBoost']\n",
        "a['TensorFlow DNN'] = a['TensorFlow DNN']\n",
        "ax = a.plot.bar(rot=90, figsize=(18, 10), title='Fraudulent Transactions Missed (False Negatives)   0')"
      ],
      "execution_count": 121,
      "outputs": [
        {
          "output_type": "display_data",
          "data": {
            "image/png": "[encoded data removed]",
            "text/plain": [
              "<Figure size 1296x720 with 1 Axes>"
            ]
          },
          "metadata": {
            "tags": [],
            "needs_background": "light"
          }
        }
      ]
    },
    {
      "cell_type": "code",
      "metadata": {
        "id": "qI7HS1gJ_LmR",
        "colab_type": "code",
        "colab": {
          "base_uri": "https://localhost:8080/",
          "height": 703
        },
        "outputId": "28cf978a-38d9-4f41-b16b-73023c1cc2e8"
      },
      "source": [
        "a = fp_df.copy(deep=True)\n",
        "a.index = a.Model\n",
        "a.drop(['Model'], axis='columns', inplace=True)\n",
        "a = a.T\n",
        "a['RandomForest'] = a['RandomForest']\n",
        "a['XGBoost'] = a['XGBoost']\n",
        "a['TensorFlow DNN'] = a['TensorFlow DNN']\n",
        "ax = a.plot.bar(rot=90, figsize=(18, 10), title='Legitimate Transactions Incorrectly Detected (False Positives)   0')"
      ],
      "execution_count": 122,
      "outputs": [
        {
          "output_type": "display_data",
          "data": {
            "image/png": "[encoded data removed]",
            "text/plain": [
              "<Figure size 1296x720 with 1 Axes>"
            ]
          },
          "metadata": {
            "tags": [],
            "needs_background": "light"
          }
        }
      ]
    },
    {
      "cell_type": "code",
      "metadata": {
        "id": "dfNZ5dbY_Mt7",
        "colab_type": "code",
        "colab": {
          "base_uri": "https://localhost:8080/",
          "height": 703
        },
        "outputId": "0f2fbc37-7ea9-4154-8c36-d0c67c7f981a"
      },
      "source": [
        "a = tn_df.copy(deep=True)\n",
        "a.index = a.Model\n",
        "a.drop(['Model'], axis='columns', inplace=True)\n",
        "a = a.T\n",
        "a['RandomForest'] = a['RandomForest']\n",
        "a['XGBoost'] = a['XGBoost']\n",
        "a['TensorFlow DNN'] = a['TensorFlow DNN']\n",
        "ax = a.plot.bar(rot=90, figsize=(18, 10), title='Legitimate Transactions Detected (True Negatives)    56864')"
      ],
      "execution_count": 123,
      "outputs": [
        {
          "output_type": "display_data",
          "data": {
            "image/png": "[encoded data removed]",
            "text/plain": [
              "<Figure size 1296x720 with 1 Axes>"
            ]
          },
          "metadata": {
            "tags": [],
            "needs_background": "light"
          }
        }
      ]
    }
  ]
}
